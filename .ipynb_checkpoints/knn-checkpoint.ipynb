{
 "cells": [
  {
   "cell_type": "code",
   "execution_count": 153,
   "metadata": {},
   "outputs": [],
   "source": [
    "import torch\n",
    "import torchvision.datasets as dset\n",
    "import torchvision.transforms as transforms\n",
    "import torchvision as tv\n",
    "from PIL import Image\n",
    "import numpy as np\n",
    "import math\n",
    "from matplotlib import pyplot as plt\n",
    "\n",
    "\n",
    "import utils\n",
    "import evaluate as eva"
   ]
  },
  {
   "cell_type": "code",
   "execution_count": 8,
   "metadata": {
    "scrolled": true
   },
   "outputs": [
    {
     "name": "stdout",
     "output_type": "stream",
     "text": [
      "Files already downloaded and verified\n",
      "Files already downloaded and verified\n",
      "Files already downloaded and verified\n",
      "Files already downloaded and verified\n"
     ]
    }
   ],
   "source": [
    "train_data, train_labels, test_data, test_labels, labels = utils.data_load('./data')"
   ]
  },
  {
   "cell_type": "code",
   "execution_count": 223,
   "metadata": {},
   "outputs": [],
   "source": [
    "class KNN():\n",
    "    def __init__(self):\n",
    "        self.model_name = \"KNN\"\n",
    "    def train(self, train_data, train_labels):\n",
    "        self.X_train = train_data\n",
    "        self.Y_train = train_labels\n",
    "    def predict(self, X, k, vec=True):\n",
    "        \"\"\"\n",
    "        功能: 预测输入图片的标签\n",
    "        输入: \n",
    "            X(tensor), (M, 3*32*32): 输入的图片\n",
    "            k(int), (1): 按k个邻居结点判断类别\n",
    "            vec(bool), (1): 是否使用向量化距离计算方式\n",
    "        输出:\n",
    "            label(tensor), (M): 所有输入图片的预测类别\n",
    "        \"\"\"\n",
    "        if vec:\n",
    "            dist = self.cal_dist_with_vec(X)\n",
    "        else:\n",
    "            dist = self.cal_dist_with_loop(X)\n",
    "            \n",
    "        topk = self.Y_train[torch.argsort(dist, 1)[:,:k]]\n",
    "        labels = []\n",
    "        for each in topk:\n",
    "            bin_count = torch.bincount(each)\n",
    "            label = torch.argmax(bin_count)\n",
    "            labels.append(label.item())\n",
    "        return torch.LongTensor(labels)\n",
    "    def cal_dist_with_vec(self, X):\n",
    "        \"\"\"\n",
    "        功能：对于测试数据X, 计算其对于训练数据的L2距离。\n",
    "        输入:\n",
    "            X(tensor), (M,3*32*32): 需要预测的图片。\n",
    "        输出:\n",
    "            dist(tensor), (M, N): 每一行为每一个测试用例与所有训练集的L2距离。\n",
    "        \"\"\"\n",
    "        d1 = torch.sum(torch.pow(X,2),1).unsqueeze(1)\n",
    "        d2 = X.matmul(self.X_train.t())\n",
    "        d3 = torch.sum(torch.pow(self.X_train, 2),1).unsqueeze(0)\n",
    "        return torch.sqrt(d1 -2*d2 + d3)\n",
    "    def cal_dist_with_loop(self, X):\n",
    "        \"\"\"\n",
    "        功能：对于测试数据X, 计算其对于训练数据的L2距离。\n",
    "        输入:\n",
    "            X(tensor), (M,3*32*32): 需要预测的图片。\n",
    "        输出:\n",
    "            dist(tensor), (M, N): 每一行为每一个测试用例与所有训练集的L2距离。\n",
    "        \"\"\"\n",
    "        M, N = X.size(0), self.X_train.size(0)\n",
    "        dist = torch.ones(M, N)\n",
    "        for i in range(M):\n",
    "            for j in range(N):\n",
    "                delta_x = X[i] - self.X_train[j]\n",
    "                dist[i][j] = torch.sqrt(torch.sum(pow(delta_x,2)))\n",
    "        return dist"
   ]
  },
  {
   "cell_type": "code",
   "execution_count": 224,
   "metadata": {},
   "outputs": [],
   "source": [
    "train_data_num = 500\n",
    "test_data_num = 100\n",
    "X_train = train_data[:train_data_num].view(train_data_num, -1)\n",
    "Y_train = train_labels[:train_data_num]\n",
    "X_test = test_data[:test_data_num].view(test_data_num,-1)\n",
    "Y_test = test_labels[:test_data_num]"
   ]
  },
  {
   "cell_type": "code",
   "execution_count": 225,
   "metadata": {},
   "outputs": [],
   "source": [
    "knnEr = KNN()"
   ]
  },
  {
   "cell_type": "code",
   "execution_count": 226,
   "metadata": {},
   "outputs": [],
   "source": [
    "knnEr.train(X_train, Y_train)"
   ]
  },
  {
   "cell_type": "code",
   "execution_count": null,
   "metadata": {},
   "outputs": [
    {
     "name": "stdout",
     "output_type": "stream",
     "text": [
      "0.244\n"
     ]
    }
   ],
   "source": [
    "Y_predict = knnEr.predict(X_test,k=10,vec=True)\n",
    "print(torch.sum(Y_test == Y_predict).item() / len(Y_test))\n",
    "Y_predict = knnEr.predict(X_test,k=10,vec=False)\n",
    "print(torch.sum(Y_test == Y_predict).item() / len(Y_test))"
   ]
  },
  {
   "cell_type": "code",
   "execution_count": null,
   "metadata": {},
   "outputs": [],
   "source": [
    "print(\"向量化花费时间:{}\".format(eva.cal_time(knnEr.predict,X_test,10,True)))\n",
    "print(\"非向量化花费时间:{}\".format(eva.cal_time(knnEr.predict,X_test,10,False)))"
   ]
  },
  {
   "cell_type": "code",
   "execution_count": null,
   "metadata": {},
   "outputs": [],
   "source": [
    "torch.pow(torch.LongTensor([2,3]),2)"
   ]
  },
  {
   "cell_type": "code",
   "execution_count": null,
   "metadata": {},
   "outputs": [],
   "source": []
  },
  {
   "cell_type": "code",
   "execution_count": null,
   "metadata": {},
   "outputs": [],
   "source": [
    "向量化花费时间:0.008830547332763672\n",
    "非向量化花费时间:1.8023102283477783"
   ]
  }
 ],
 "metadata": {
  "kernelspec": {
   "display_name": "Python 3",
   "language": "python",
   "name": "python3"
  },
  "language_info": {
   "codemirror_mode": {
    "name": "ipython",
    "version": 3
   },
   "file_extension": ".py",
   "mimetype": "text/x-python",
   "name": "python",
   "nbconvert_exporter": "python",
   "pygments_lexer": "ipython3",
   "version": "3.6.8"
  }
 },
 "nbformat": 4,
 "nbformat_minor": 2
}
