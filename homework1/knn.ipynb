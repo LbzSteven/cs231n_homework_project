{
 "cells": [
  {
   "cell_type": "code",
   "execution_count": 2,
   "metadata": {},
   "outputs": [],
   "source": [
    "import torch\n",
    "import torchvision.datasets as dset\n",
    "import torchvision.transforms as transforms\n",
    "import torchvision as tv\n",
    "from PIL import Image\n",
    "import numpy as np\n",
    "import math\n",
    "from matplotlib import pyplot as plt\n",
    "\n",
    "\n",
    "import utils \n",
    "import evaluate as eva"
   ]
  },
  {
   "cell_type": "code",
   "execution_count": 3,
   "metadata": {
    "scrolled": true
   },
   "outputs": [
    {
     "name": "stdout",
     "output_type": "stream",
     "text": [
      "Files already downloaded and verified\n",
      "Files already downloaded and verified\n",
      "Files already downloaded and verified\n",
      "Files already downloaded and verified\n"
     ]
    }
   ],
   "source": [
    "train_set, test_set = utils.data_load('./data')\n",
    "train_loader = torch.utils.data.DataLoader(train_set, batch_size=50000, shuffle=True, num_workers=0)\n",
    "test_loader = torch.utils.data.DataLoader(test_set, batch_size=10000, shuffle=False, num_workers=0)\n",
    "train_data_interator = enumerate(train_loader)\n",
    "test_data_interator = enumerate(test_loader)\n",
    "train_data = next(train_data_interator)\n",
    "test_data = next(test_data_interator)\n",
    "train_data, train_labels, test_data, test_labels = train_data[1][0], train_data[1][1], test_data[1][0], test_data[1][1]"
   ]
  },
  {
   "cell_type": "code",
   "execution_count": 4,
   "metadata": {},
   "outputs": [],
   "source": [
    "class KNN():\n",
    "    def __init__(self):\n",
    "        self.model_name = \"KNN\"\n",
    "    def train(self, train_data, train_labels):\n",
    "        self.X_train = train_data\n",
    "        self.Y_train = train_labels\n",
    "    def predict(self, X, k, vec=True):\n",
    "        \"\"\"\n",
    "        功能: 预测输入图片的标签\n",
    "        输入: \n",
    "            X(tensor), (M, 3*32*32): 输入的图片\n",
    "            k(int), (1): 按k个邻居结点判断类别\n",
    "            vec(bool), (1): 是否使用向量化距离计算方式\n",
    "        输出:\n",
    "            label(tensor), (M): 所有输入图片的预测类别\n",
    "        \"\"\"\n",
    "        if vec:\n",
    "            dist = self.cal_dist_with_vec(X)\n",
    "        else:\n",
    "            dist = self.cal_dist_with_loop(X)\n",
    "            \n",
    "        topk = self.Y_train[torch.argsort(dist, 1)[:,:k]]\n",
    "        labels = []\n",
    "        for each in topk:\n",
    "            bin_count = torch.bincount(each)\n",
    "            label = torch.argmax(bin_count)\n",
    "            labels.append(label.item())\n",
    "        return torch.LongTensor(labels)\n",
    "    def cal_dist_with_vec(self, X):\n",
    "        \"\"\"\n",
    "        功能：对于测试数据X, 计算其对于训练数据的L2距离。\n",
    "        输入:\n",
    "            X(tensor), (M,3*32*32): 需要预测的图片。\n",
    "        输出:\n",
    "            dist(tensor), (M, N): 每一行为每一个测试用例与所有训练集的L2距离。\n",
    "        \"\"\"\n",
    "        d1 = torch.sum(torch.pow(X,2),1).unsqueeze(1)\n",
    "        d2 = X.matmul(self.X_train.t())\n",
    "        d3 = torch.sum(torch.pow(self.X_train, 2),1).unsqueeze(0)\n",
    "        return torch.sqrt(d1 -2*d2 + d3)\n",
    "    def cal_dist_with_loop(self, X):\n",
    "        \"\"\"\n",
    "        功能：对于测试数据X, 计算其对于训练数据的L2距离。\n",
    "        输入:\n",
    "            X(tensor), (M,3*32*32): 需要预测的图片。\n",
    "        输出:\n",
    "            dist(tensor), (M, N): 每一行为每一个测试用例与所有训练集的L2距离。\n",
    "        \"\"\"\n",
    "        M, N = X.size(0), self.X_train.size(0)\n",
    "        dist = torch.ones(M, N)\n",
    "        for i in range(M):\n",
    "            for j in range(N):\n",
    "                delta_x = X[i] - self.X_train[j]\n",
    "                dist[i][j] = torch.sqrt(torch.sum(pow(delta_x,2)))\n",
    "        return dist"
   ]
  },
  {
   "cell_type": "code",
   "execution_count": 5,
   "metadata": {},
   "outputs": [
    {
     "name": "stdout",
     "output_type": "stream",
     "text": [
      "向量化Acc:0.25\n"
     ]
    }
   ],
   "source": [
    "train_data_num = 500\n",
    "test_data_num = 100\n",
    "X_train = train_data[:train_data_num].view(train_data_num, -1)\n",
    "Y_train = train_labels[:train_data_num]\n",
    "X_test = test_data[:test_data_num].view(test_data_num,-1)\n",
    "Y_test = test_labels[:test_data_num]\n",
    "\n",
    "knner = KNN()\n",
    "knner.train(X_train, Y_train)\n",
    "Y_predict = knner.predict(X_test,k=5,vec=True)\n",
    "print(\"向量化Acc:{}\".format(torch.sum(Y_test == Y_predict).item() / len(Y_test)))\n",
    "# Y_predict = knnEr.predict(X_test,k=10,vec=False)\n",
    "# print(\"非向量化Acc:{}\".format(torch.sum(Y_test == Y_predict).item() / len(Y_test)))"
   ]
  },
  {
   "cell_type": "code",
   "execution_count": 6,
   "metadata": {},
   "outputs": [
    {
     "ename": "NameError",
     "evalue": "name 'knnEr' is not defined",
     "output_type": "error",
     "traceback": [
      "\u001b[0;31m---------------------------------------------------------------------------\u001b[0m",
      "\u001b[0;31mNameError\u001b[0m                                 Traceback (most recent call last)",
      "\u001b[0;32m<ipython-input-6-be94101a62bc>\u001b[0m in \u001b[0;36m<module>\u001b[0;34m\u001b[0m\n\u001b[0;32m----> 1\u001b[0;31m \u001b[0mprint\u001b[0m\u001b[0;34m(\u001b[0m\u001b[0;34m\"向量化花费时间:{}\"\u001b[0m\u001b[0;34m.\u001b[0m\u001b[0mformat\u001b[0m\u001b[0;34m(\u001b[0m\u001b[0meva\u001b[0m\u001b[0;34m.\u001b[0m\u001b[0mcal_time\u001b[0m\u001b[0;34m(\u001b[0m\u001b[0mknnEr\u001b[0m\u001b[0;34m.\u001b[0m\u001b[0mpredict\u001b[0m\u001b[0;34m,\u001b[0m\u001b[0mX_test\u001b[0m\u001b[0;34m,\u001b[0m\u001b[0;36m10\u001b[0m\u001b[0;34m,\u001b[0m\u001b[0;32mTrue\u001b[0m\u001b[0;34m)\u001b[0m\u001b[0;34m)\u001b[0m\u001b[0;34m)\u001b[0m\u001b[0;34m\u001b[0m\u001b[0;34m\u001b[0m\u001b[0m\n\u001b[0m\u001b[1;32m      2\u001b[0m \u001b[0;31m# print(\"非向量化花费时间:{}\".format(eva.cal_time(knnEr.predict,X_test,10,False)))\u001b[0m\u001b[0;34m\u001b[0m\u001b[0;34m\u001b[0m\u001b[0;34m\u001b[0m\u001b[0m\n",
      "\u001b[0;31mNameError\u001b[0m: name 'knnEr' is not defined"
     ]
    }
   ],
   "source": [
    "print(\"向量化花费时间:{}\".format(eva.cal_time(knnEr.predict,X_test,10,True)))\n",
    "# print(\"非向量化花费时间:{}\".format(eva.cal_time(knnEr.predict,X_test,10,False)))"
   ]
  },
  {
   "cell_type": "code",
   "execution_count": 7,
   "metadata": {},
   "outputs": [],
   "source": [
    "k_fold = 5 # 交叉验证份数\n",
    "k_classes = [1, 3, 5, 8, 10, 12, 15, 20, 50, 100]\n",
    "train_data_num = 500\n",
    "test_data_num = 100\n",
    "fold_sample_num = int(train_data_num / k_fold)\n",
    "X_train = train_data[:train_data_num].view(train_data_num, -1)\n",
    "Y_train = train_labels[:train_data_num]\n",
    "X_test = test_data[:test_data_num].view(test_data_num,-1)\n",
    "Y_test = test_labels[:test_data_num]"
   ]
  },
  {
   "cell_type": "code",
   "execution_count": 8,
   "metadata": {},
   "outputs": [],
   "source": [
    "X_train_folds = torch.split(X_train, fold_sample_num, 0)\n",
    "Y_train_folds = torch.split(Y_train, fold_sample_num, 0)"
   ]
  },
  {
   "cell_type": "code",
   "execution_count": 9,
   "metadata": {},
   "outputs": [],
   "source": [
    "\n",
    "k_acc = {} # 记录准确率\n",
    "for k in k_classes:\n",
    "    acc_list = []\n",
    "    for i in range(0, k_fold):\n",
    "        X_tr = torch.cat(X_train_folds[:i]+X_train_folds[i+1:], 0)\n",
    "        Y_tr = torch.cat(Y_train_folds[:i]+Y_train_folds[i+1:], 0)\n",
    "        X_cv = X_train_folds[i]\n",
    "        Y_cv = Y_train_folds[i]\n",
    "        knner.train(X_tr, Y_tr)\n",
    "        Y_cv_predict = knner.predict(X_cv, k, True)\n",
    "        acc = torch.sum(Y_cv_predict == Y_cv).item() / len(Y_cv)\n",
    "        acc_list.append(acc)\n",
    "    k_acc[k] = acc_list\n",
    "    "
   ]
  },
  {
   "cell_type": "code",
   "execution_count": 10,
   "metadata": {},
   "outputs": [
    {
     "data": {
      "image/png": "[encoded data removed]",
      "text/plain": [
       "<Figure size 432x288 with 1 Axes>"
      ]
     },
     "metadata": {
      "needs_background": "light"
     },
     "output_type": "display_data"
    }
   ],
   "source": [
    "# Plot the cross validation\n",
    "for k in k_classes:\n",
    "    plt.scatter([k] * k_fold, k_acc[k])\n",
    "# plot the trend line with error bars that correspond to standard deviation\n",
    "accuracies_mean = [np.mean(k_acc[k]) for k in k_acc]\n",
    "accuracies_std = [np.std(k_acc[k]) for k in k_acc]\n",
    "plt.errorbar(k_classes, accuracies_mean, yerr=accuracies_std)\n",
    "plt.title('Cross-validation on k')\n",
    "plt.xlabel('k')\n",
    "plt.ylabel('Cross-validation accuracy')\n",
    "plt.show()"
   ]
  },
  {
   "cell_type": "code",
   "execution_count": 317,
   "metadata": {},
   "outputs": [
    {
     "name": "stdout",
     "output_type": "stream",
     "text": [
      "0.24\n"
     ]
    }
   ],
   "source": [
    "knner.train(X_train, Y_train)\n",
    "Y_test_predict = knner.predict(X_test,8,True)\n",
    "print(torch.sum(Y_test_predict == Y_test).item() / len(Y_test))"
   ]
  },
  {
   "cell_type": "code",
   "execution_count": null,
   "metadata": {},
   "outputs": [],
   "source": []
  },
  {
   "cell_type": "code",
   "execution_count": null,
   "metadata": {},
   "outputs": [],
   "source": []
  },
  {
   "cell_type": "code",
   "execution_count": null,
   "metadata": {},
   "outputs": [],
   "source": []
  }
 ],
 "metadata": {
  "kernelspec": {
   "display_name": "Python 3",
   "language": "python",
   "name": "python3"
  },
  "language_info": {
   "codemirror_mode": {
    "name": "ipython",
    "version": 3
   },
   "file_extension": ".py",
   "mimetype": "text/x-python",
   "name": "python",
   "nbconvert_exporter": "python",
   "pygments_lexer": "ipython3",
   "version": "3.6.8"
  }
 },
 "nbformat": 4,
 "nbformat_minor": 2
}
