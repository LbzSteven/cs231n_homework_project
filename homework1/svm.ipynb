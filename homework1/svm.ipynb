{
 "cells": [
  {
   "cell_type": "code",
   "execution_count": 1,
   "metadata": {},
   "outputs": [],
   "source": [
    "import torch\n",
    "from tqdm import trange\n",
    "\n",
    "import utils as ut\n",
    "import evaluate as eva"
   ]
  },
  {
   "cell_type": "code",
   "execution_count": 2,
   "metadata": {},
   "outputs": [],
   "source": [
    "class SVM():\n",
    "    def __init__(self, kwargs):\n",
    "        self.model_name = 'SVM'\n",
    "        self.W = torch.randn(kwargs['feature_dim']+1, kwargs['class_num'])\n",
    "        self.N = kwargs['class_num']\n",
    "        self.init_weight()\n",
    "        \n",
    "    def init_weight(self):\n",
    "        torch.nn.init.xavier_normal_(self.W)\n",
    "        \n",
    "    def train(self, X, Y, alpha=0.01, reg=2.5e4, vec=True):\n",
    "        \"\"\"\n",
    "        功能: 完成训练过程，包括(1)求解损失, 计算梯度. (2) 正则化，计算梯度，(3)更新参数 \n",
    "        输入:\n",
    "            X(Tensor):(N, K:3*32*32+1)\n",
    "            Y(Tensor):(N)\n",
    "            alpha(float):                   # 学习率\n",
    "            reg(float):                     # 正则化系数\n",
    "        输出:\n",
    "            L(int):(1)                      # 损失，范围给主程序以打印显示        \n",
    "        \"\"\"\n",
    "        \n",
    "        # 计算梯度与正则化\n",
    "        if vec:\n",
    "            L, dW = self.cal_dw_with_vec(X, Y, reg)\n",
    "        else:\n",
    "            L, dW = self.cal_dw_with_loop(X, Y, reg)\n",
    "            \n",
    "        # 更新参数\n",
    "        self.W -= alpha * dW\n",
    "        return L\n",
    "    \n",
    "    def cal_dw_with_loop(self, X, Y, reg):\n",
    "        \"\"\"\n",
    "        功能： 计算损失和梯度\n",
    "        输入:\n",
    "            X(Tensor):(N, K:3*32*32+1)\n",
    "            Y(Tensor):(N)\n",
    "            reg(float):                    # 正则化系数\n",
    "        输出:\n",
    "            L(int): 1                      # 损失               \n",
    "            dW(Tensor):(K+1,C)             # 参数梯度       \n",
    "        \"\"\"\n",
    "        L = 0.0\n",
    "        N = X.size(0)\n",
    "        F, C = self.W.size()\n",
    "        dW = torch.zeros(F, C)\n",
    "        \n",
    "        # (1) 求解损失\n",
    "        for idx, Xi in enumerate(X):\n",
    "            yi = Y[idx]\n",
    "            scores = Xi.matmul(self.W)\n",
    "            syi = scores[yi]\n",
    "            for j in range(self.N):\n",
    "                if j == yi:\n",
    "                    continue\n",
    "                sj = scores[j]\n",
    "                if syi - sj - 1 < 0:\n",
    "                    L += (sj - syi + 1).item()\n",
    "                    dW[:,j] += Xi.t()\n",
    "                    dW[:,yi] -= Xi.t()\n",
    "        \n",
    "        # (2) 正则化\n",
    "        L = L / N +  0.5*reg*torch.sum(torch.pow(self.W, 2)).item()\n",
    "        dW = dW / N +  reg*self.W\n",
    "        \n",
    "        return L, dW\n",
    "    \n",
    "    def cal_dw_with_vec(self, X, Y, reg):\n",
    "        \"\"\"\n",
    "        功能： 计算损失和梯度\n",
    "        输入:\n",
    "            X(Tensor):(N, K:3*32*32+1)\n",
    "            Y(Tensor):(N)\n",
    "            reg(float):                    # 正则化系数\n",
    "        输出:\n",
    "            L(int): 1                      # 损失               \n",
    "            dW(Tensor):(K+1,C)             # 参数梯度       \n",
    "        \"\"\"\n",
    "        \n",
    "        N = X.size(0)\n",
    "        F, C = self.W.size()\n",
    "        \n",
    "        score = X.matmul(self.W)                                       # (N, C)\n",
    "        correct = score[range(N), Y.tolist()].unsqueeze(1)             # (N, 1)\n",
    "        score = torch.relu(score-correct+1)                            # (N, C)\n",
    "        score[range(N), Y.tolist()] = 0\n",
    "        \n",
    "        L = torch.sum(score).item()\n",
    "        L = L / N +  0.5*reg*torch.sum(torch.pow(self.W, 2)).item()\n",
    "        \n",
    "        \n",
    "        dW = torch.zeros(F, C)\n",
    "        mask = torch.zeros(N, C)\n",
    "        mask[score>0] = 1                                              # (N,C)\n",
    "        mask[range(N), Y.tolist()] = -torch.sum(mask, 1)               # (N,C)\n",
    "        dW = X.t().matmul(mask)                                        # (F,C)\n",
    "\n",
    "        dW = dW / N + reg*self.W\n",
    "        return L, dW\n",
    "        \n",
    "    def predict(self, X):\n",
    "        \"\"\"\n",
    "        功能: 预测输入数据标签\n",
    "        输入:\n",
    "            X(Tensor): (N, 3*32*32)\n",
    "        输出:\n",
    "            labels(Tensor): (N)\n",
    "        \"\"\"\n",
    "        S = X.matmul(self.W)  # (N, C)\n",
    "        return torch.max(S, 1)[1]\n",
    "        \n",
    "        "
   ]
  },
  {
   "cell_type": "code",
   "execution_count": 3,
   "metadata": {},
   "outputs": [
    {
     "name": "stdout",
     "output_type": "stream",
     "text": [
      "Files already downloaded and verified\n",
      "Files already downloaded and verified\n",
      "Files already downloaded and verified\n",
      "Files already downloaded and verified\n"
     ]
    }
   ],
   "source": [
    "train_set, test_set = ut.data_load('./data')"
   ]
  },
  {
   "cell_type": "code",
   "execution_count": 4,
   "metadata": {},
   "outputs": [],
   "source": [
    "batch_num = 200\n",
    "opt = {\"feature_dim\":3*32*32, \"class_num\":10}\n",
    "train_loader = torch.utils.data.DataLoader(train_set, batch_size=batch_num, shuffle=True, num_workers=4)\n",
    "test_loader = torch.utils.data.DataLoader(test_set, batch_size=batch_num, shuffle=False, num_workers=4)"
   ]
  },
  {
   "cell_type": "code",
   "execution_count": null,
   "metadata": {},
   "outputs": [],
   "source": [
    "def train(alpha, reg, epoches):\n",
    "    \"\"\"\n",
    "    功能：完成训练过程\n",
    "    输入:\n",
    "        alpha(int):(1)     # 学习率\n",
    "        reg(int):(1)       # 正则化系数\n",
    "        epoches(int):(1)   # 迭代次数\n",
    "    输出:\n",
    "        svmEr(class) 训练好的模型\n",
    "        alpha\n",
    "        reg\n",
    "    \"\"\"\n",
    "    svmEr = SVM(opt)\n",
    "    for epoch in range(epoches):\n",
    "        train_data_interator = enumerate(train_loader)\n",
    "        train_steps = test_steps = (len(train_set) + batch_num - 1) // batch_num\n",
    "\n",
    "        t = trange(train_steps)\n",
    "        loss_avg = ut.RunningAverage()\n",
    "        print(\"epoch:{}\".format(epoch))\n",
    "        for i in t:\n",
    "            idx, data = next(train_data_interator)\n",
    "            X_batch, Y_batch = data\n",
    "            X_batch = X_batch.view(X_batch.size(0), -1)\n",
    "            X_batch = torch.cat((torch.ones(X_batch.size(0),1), X_batch), 1)   \n",
    "\n",
    "            loss = svmEr.train(X_batch, Y_batch, alpha=1e-4, reg=1, vec=True)\n",
    "            loss_avg.update(loss)\n",
    "            t.set_postfix(loss='{:05.3f}/{:05.3f}'.format(loss_avg(), loss))\n",
    "        print(loss_avg())\n",
    "    return svmEr\n",
    "\n",
    "def evaluate(svmEr):\n",
    "    \"\"\"\n",
    "    功能：使用训练好的模型进行预测，并评测结果\n",
    "    输入: \n",
    "        svmEr(class) 训练好的模型\n",
    "    输出: \n",
    "        acc(int):(1) 模型准确率\n",
    "    \"\"\"\n",
    "    test_data_interator = enumerate(test_loader)\n",
    "    test_steps = test_steps = (len(test_set) + batch_num - 1) // batch_num\n",
    "\n",
    "    t = trange(test_steps)\n",
    "    Y_predict = []\n",
    "    Y_true = []\n",
    "    for i in t:\n",
    "        idx, data = next(test_data_interator)\n",
    "        X_batch, Y_batch = data\n",
    "        Y_true.extend(Y_batch.tolist())\n",
    "        X_batch = X_batch.view(X_batch.size(0), -1)\n",
    "        X_batch = torch.cat((torch.ones(X_batch.size(0),1), X_batch), 1)   \n",
    "\n",
    "        y = svmEr.predict(X_batch)\n",
    "        Y_predict.extend(y.tolist())\n",
    "        \n",
    "    Y_predict = torch.LongTensor(Y_predict)\n",
    "    Y_true = torch.LongTensor(Y_true)\n",
    "    acc = torch.sum(Y_predict == Y_true).item() /len(Y_predict)\n",
    "    \n",
    "    return acc\n",
    "    "
   ]
  },
  {
   "cell_type": "code",
   "execution_count": null,
   "metadata": {},
   "outputs": [
    {
     "name": "stderr",
     "output_type": "stream",
     "text": [
      "  2%|▏         | 6/250 [00:00<00:04, 59.65it/s, loss=19.626/19.076]"
     ]
    },
    {
     "name": "stdout",
     "output_type": "stream",
     "text": [
      "epoch:0\n"
     ]
    },
    {
     "name": "stderr",
     "output_type": "stream",
     "text": [
      "100%|██████████| 250/250 [00:01<00:00, 128.34it/s, loss=17.916/16.739]"
     ]
    },
    {
     "name": "stdout",
     "output_type": "stream",
     "text": [
      "17.916246122131355\n"
     ]
    },
    {
     "name": "stderr",
     "output_type": "stream",
     "text": [
      "\n",
      "  4%|▎         | 9/250 [00:00<00:02, 87.78it/s, loss=16.962/16.527]"
     ]
    },
    {
     "name": "stdout",
     "output_type": "stream",
     "text": [
      "epoch:1\n"
     ]
    },
    {
     "name": "stderr",
     "output_type": "stream",
     "text": [
      "100%|██████████| 250/250 [00:02<00:00, 121.80it/s, loss=16.359/15.812]"
     ]
    },
    {
     "name": "stdout",
     "output_type": "stream",
     "text": [
      "16.35899254180909\n"
     ]
    },
    {
     "name": "stderr",
     "output_type": "stream",
     "text": [
      "\n",
      "  4%|▍         | 11/250 [00:00<00:02, 107.86it/s, loss=15.887/15.926]"
     ]
    },
    {
     "name": "stdout",
     "output_type": "stream",
     "text": [
      "epoch:2\n"
     ]
    },
    {
     "name": "stderr",
     "output_type": "stream",
     "text": [
      "100%|██████████| 250/250 [00:02<00:00, 122.62it/s, loss=15.422/14.556]"
     ]
    },
    {
     "name": "stdout",
     "output_type": "stream",
     "text": [
      "15.422245274658213\n"
     ]
    },
    {
     "name": "stderr",
     "output_type": "stream",
     "text": [
      "\n",
      "  4%|▍         | 11/250 [00:00<00:02, 107.69it/s, loss=15.068/14.713]"
     ]
    },
    {
     "name": "stdout",
     "output_type": "stream",
     "text": [
      "epoch:3\n"
     ]
    },
    {
     "name": "stderr",
     "output_type": "stream",
     "text": [
      "100%|██████████| 250/250 [00:01<00:00, 126.77it/s, loss=14.724/14.656]\n"
     ]
    },
    {
     "name": "stdout",
     "output_type": "stream",
     "text": [
      "14.72368852920533\n"
     ]
    },
    {
     "name": "stderr",
     "output_type": "stream",
     "text": [
      "  4%|▎         | 9/250 [00:00<00:02, 85.51it/s, loss=14.483/14.247]"
     ]
    },
    {
     "name": "stdout",
     "output_type": "stream",
     "text": [
      "epoch:4\n"
     ]
    },
    {
     "name": "stderr",
     "output_type": "stream",
     "text": [
      "100%|██████████| 250/250 [00:02<00:00, 124.18it/s, loss=14.140/13.464]"
     ]
    },
    {
     "name": "stdout",
     "output_type": "stream",
     "text": [
      "14.140059371109006\n"
     ]
    },
    {
     "name": "stderr",
     "output_type": "stream",
     "text": [
      "\n",
      "  4%|▍         | 11/250 [00:00<00:02, 104.50it/s, loss=13.871/14.231]"
     ]
    },
    {
     "name": "stdout",
     "output_type": "stream",
     "text": [
      "epoch:5\n"
     ]
    },
    {
     "name": "stderr",
     "output_type": "stream",
     "text": [
      "100%|██████████| 250/250 [00:01<00:00, 126.94it/s, loss=13.625/12.891]"
     ]
    },
    {
     "name": "stdout",
     "output_type": "stream",
     "text": [
      "13.62452166725158\n"
     ]
    },
    {
     "name": "stderr",
     "output_type": "stream",
     "text": [
      "\n",
      "  4%|▍         | 11/250 [00:00<00:02, 108.54it/s, loss=13.250/13.248]"
     ]
    },
    {
     "name": "stdout",
     "output_type": "stream",
     "text": [
      "epoch:6\n"
     ]
    },
    {
     "name": "stderr",
     "output_type": "stream",
     "text": [
      "100%|██████████| 250/250 [00:02<00:00, 121.78it/s, loss=13.159/13.136]\n"
     ]
    },
    {
     "name": "stdout",
     "output_type": "stream",
     "text": [
      "13.159336671218869\n"
     ]
    },
    {
     "name": "stderr",
     "output_type": "stream",
     "text": [
      "  4%|▎         | 9/250 [00:00<00:02, 87.76it/s, loss=12.820/12.731]"
     ]
    },
    {
     "name": "stdout",
     "output_type": "stream",
     "text": [
      "epoch:7\n"
     ]
    },
    {
     "name": "stderr",
     "output_type": "stream",
     "text": [
      "100%|██████████| 250/250 [00:02<00:00, 118.04it/s, loss=12.731/12.259]\n"
     ]
    },
    {
     "name": "stdout",
     "output_type": "stream",
     "text": [
      "12.731060939178466\n"
     ]
    },
    {
     "name": "stderr",
     "output_type": "stream",
     "text": [
      "  4%|▍         | 10/250 [00:00<00:02, 99.92it/s, loss=12.546/12.278]"
     ]
    },
    {
     "name": "stdout",
     "output_type": "stream",
     "text": [
      "epoch:8\n"
     ]
    },
    {
     "name": "stderr",
     "output_type": "stream",
     "text": [
      "100%|██████████| 250/250 [00:01<00:00, 126.49it/s, loss=12.335/12.217]\n"
     ]
    },
    {
     "name": "stdout",
     "output_type": "stream",
     "text": [
      "12.335066028442393\n"
     ]
    },
    {
     "name": "stderr",
     "output_type": "stream",
     "text": [
      "  4%|▎         | 9/250 [00:00<00:02, 84.67it/s, loss=12.044/12.404]"
     ]
    },
    {
     "name": "stdout",
     "output_type": "stream",
     "text": [
      "epoch:9\n"
     ]
    },
    {
     "name": "stderr",
     "output_type": "stream",
     "text": [
      "100%|██████████| 250/250 [00:02<00:00, 124.61it/s, loss=11.966/11.266]"
     ]
    },
    {
     "name": "stdout",
     "output_type": "stream",
     "text": [
      "11.965536507186881\n"
     ]
    },
    {
     "name": "stderr",
     "output_type": "stream",
     "text": [
      "\n",
      "  4%|▍         | 10/250 [00:00<00:02, 98.35it/s, loss=11.786/12.106]"
     ]
    },
    {
     "name": "stdout",
     "output_type": "stream",
     "text": [
      "epoch:10\n"
     ]
    },
    {
     "name": "stderr",
     "output_type": "stream",
     "text": [
      "100%|██████████| 250/250 [00:02<00:00, 119.00it/s, loss=11.621/11.060]"
     ]
    },
    {
     "name": "stdout",
     "output_type": "stream",
     "text": [
      "11.62132484992981\n"
     ]
    },
    {
     "name": "stderr",
     "output_type": "stream",
     "text": [
      "\n",
      "  4%|▍         | 10/250 [00:00<00:02, 98.08it/s, loss=11.517/11.710]"
     ]
    },
    {
     "name": "stdout",
     "output_type": "stream",
     "text": [
      "epoch:11\n"
     ]
    },
    {
     "name": "stderr",
     "output_type": "stream",
     "text": [
      "100%|██████████| 250/250 [00:02<00:00, 124.29it/s, loss=11.296/11.574]"
     ]
    },
    {
     "name": "stdout",
     "output_type": "stream",
     "text": [
      "11.296423723754872\n"
     ]
    },
    {
     "name": "stderr",
     "output_type": "stream",
     "text": [
      "\n",
      "  4%|▍         | 10/250 [00:00<00:02, 96.99it/s, loss=11.003/11.242]"
     ]
    },
    {
     "name": "stdout",
     "output_type": "stream",
     "text": [
      "epoch:12\n"
     ]
    },
    {
     "name": "stderr",
     "output_type": "stream",
     "text": [
      "100%|██████████| 250/250 [00:02<00:00, 122.79it/s, loss=10.993/11.024]\n"
     ]
    },
    {
     "name": "stdout",
     "output_type": "stream",
     "text": [
      "10.992526661071778\n"
     ]
    },
    {
     "name": "stderr",
     "output_type": "stream",
     "text": [
      "  4%|▎         | 9/250 [00:00<00:02, 83.33it/s, loss=10.799/10.465]"
     ]
    },
    {
     "name": "stdout",
     "output_type": "stream",
     "text": [
      "epoch:13\n"
     ]
    },
    {
     "name": "stderr",
     "output_type": "stream",
     "text": [
      "100%|██████████| 250/250 [00:01<00:00, 126.51it/s, loss=10.705/11.083]"
     ]
    },
    {
     "name": "stdout",
     "output_type": "stream",
     "text": [
      "10.705010594329833\n"
     ]
    },
    {
     "name": "stderr",
     "output_type": "stream",
     "text": [
      "\n",
      "  4%|▎         | 9/250 [00:00<00:02, 83.94it/s, loss=10.579/10.664]"
     ]
    },
    {
     "name": "stdout",
     "output_type": "stream",
     "text": [
      "epoch:14\n"
     ]
    },
    {
     "name": "stderr",
     "output_type": "stream",
     "text": [
      "100%|██████████| 250/250 [00:01<00:00, 125.87it/s, loss=10.436/9.917]"
     ]
    },
    {
     "name": "stdout",
     "output_type": "stream",
     "text": [
      "10.435513696746824\n"
     ]
    },
    {
     "name": "stderr",
     "output_type": "stream",
     "text": [
      "\n",
      "  4%|▎         | 9/250 [00:00<00:02, 89.82it/s, loss=10.275/10.178]"
     ]
    },
    {
     "name": "stdout",
     "output_type": "stream",
     "text": [
      "epoch:15\n"
     ]
    },
    {
     "name": "stderr",
     "output_type": "stream",
     "text": [
      "100%|██████████| 250/250 [00:02<00:00, 125.10it/s, loss=10.178/10.164]"
     ]
    },
    {
     "name": "stdout",
     "output_type": "stream",
     "text": [
      "10.17831240562439\n"
     ]
    },
    {
     "name": "stderr",
     "output_type": "stream",
     "text": [
      "\n",
      "  4%|▍         | 11/250 [00:00<00:02, 106.64it/s, loss=10.062/10.335]"
     ]
    },
    {
     "name": "stdout",
     "output_type": "stream",
     "text": [
      "epoch:16\n"
     ]
    },
    {
     "name": "stderr",
     "output_type": "stream",
     "text": [
      "100%|██████████| 250/250 [00:02<00:00, 123.30it/s, loss=9.938/9.928]"
     ]
    },
    {
     "name": "stdout",
     "output_type": "stream",
     "text": [
      "9.938086416778564\n"
     ]
    },
    {
     "name": "stderr",
     "output_type": "stream",
     "text": [
      "\n",
      "  4%|▎         | 9/250 [00:00<00:02, 88.91it/s, loss=9.653/9.865]"
     ]
    },
    {
     "name": "stdout",
     "output_type": "stream",
     "text": [
      "epoch:17\n"
     ]
    },
    {
     "name": "stderr",
     "output_type": "stream",
     "text": [
      "100%|██████████| 250/250 [00:02<00:00, 120.55it/s, loss=9.710/9.548]"
     ]
    },
    {
     "name": "stdout",
     "output_type": "stream",
     "text": [
      "9.709956866836546\n"
     ]
    },
    {
     "name": "stderr",
     "output_type": "stream",
     "text": [
      "\n",
      "  4%|▎         | 9/250 [00:00<00:02, 89.13it/s, loss=9.561/10.212]"
     ]
    },
    {
     "name": "stdout",
     "output_type": "stream",
     "text": [
      "epoch:18\n"
     ]
    },
    {
     "name": "stderr",
     "output_type": "stream",
     "text": [
      "100%|██████████| 250/250 [00:02<00:00, 123.01it/s, loss=9.493/9.535]\n"
     ]
    },
    {
     "name": "stdout",
     "output_type": "stream",
     "text": [
      "9.493302478179936\n"
     ]
    },
    {
     "name": "stderr",
     "output_type": "stream",
     "text": [
      "  4%|▍         | 10/250 [00:00<00:02, 98.41it/s, loss=9.395/9.489] "
     ]
    },
    {
     "name": "stdout",
     "output_type": "stream",
     "text": [
      "epoch:19\n"
     ]
    },
    {
     "name": "stderr",
     "output_type": "stream",
     "text": [
      "100%|██████████| 250/250 [00:02<00:00, 123.30it/s, loss=9.288/9.249]"
     ]
    },
    {
     "name": "stdout",
     "output_type": "stream",
     "text": [
      "9.288450702667237\n"
     ]
    },
    {
     "name": "stderr",
     "output_type": "stream",
     "text": [
      "\n",
      "  4%|▍         | 10/250 [00:00<00:02, 86.46it/s, loss=9.192/8.905]"
     ]
    },
    {
     "name": "stdout",
     "output_type": "stream",
     "text": [
      "epoch:20\n"
     ]
    },
    {
     "name": "stderr",
     "output_type": "stream",
     "text": [
      "100%|██████████| 250/250 [00:02<00:00, 123.49it/s, loss=9.095/9.419]\n"
     ]
    },
    {
     "name": "stdout",
     "output_type": "stream",
     "text": [
      "9.094563897895812\n"
     ]
    },
    {
     "name": "stderr",
     "output_type": "stream",
     "text": [
      "  4%|▍         | 11/250 [00:00<00:02, 106.33it/s, loss=9.048/8.729]"
     ]
    },
    {
     "name": "stdout",
     "output_type": "stream",
     "text": [
      "epoch:21\n"
     ]
    },
    {
     "name": "stderr",
     "output_type": "stream",
     "text": [
      "100%|██████████| 250/250 [00:02<00:00, 121.40it/s, loss=8.911/9.272]"
     ]
    },
    {
     "name": "stdout",
     "output_type": "stream",
     "text": [
      "8.910736973114023\n"
     ]
    },
    {
     "name": "stderr",
     "output_type": "stream",
     "text": [
      "\n",
      "  4%|▍         | 10/250 [00:00<00:02, 94.11it/s, loss=8.760/8.737]"
     ]
    },
    {
     "name": "stdout",
     "output_type": "stream",
     "text": [
      "epoch:22\n"
     ]
    },
    {
     "name": "stderr",
     "output_type": "stream",
     "text": [
      "100%|██████████| 250/250 [00:02<00:00, 119.10it/s, loss=8.737/8.125]"
     ]
    },
    {
     "name": "stdout",
     "output_type": "stream",
     "text": [
      "8.73744777889252\n"
     ]
    },
    {
     "name": "stderr",
     "output_type": "stream",
     "text": [
      "\n",
      "  4%|▎         | 9/250 [00:00<00:02, 88.94it/s, loss=8.669/9.182]"
     ]
    },
    {
     "name": "stdout",
     "output_type": "stream",
     "text": [
      "epoch:23\n"
     ]
    },
    {
     "name": "stderr",
     "output_type": "stream",
     "text": [
      "100%|██████████| 250/250 [00:01<00:00, 127.56it/s, loss=8.570/8.196]"
     ]
    },
    {
     "name": "stdout",
     "output_type": "stream",
     "text": [
      "8.570184391937254\n"
     ]
    },
    {
     "name": "stderr",
     "output_type": "stream",
     "text": [
      "\n",
      "  4%|▍         | 10/250 [00:00<00:02, 97.92it/s, loss=8.413/8.295]"
     ]
    },
    {
     "name": "stdout",
     "output_type": "stream",
     "text": [
      "epoch:24\n"
     ]
    },
    {
     "name": "stderr",
     "output_type": "stream",
     "text": [
      "100%|██████████| 250/250 [00:01<00:00, 125.77it/s, loss=8.415/8.484]\n"
     ]
    },
    {
     "name": "stdout",
     "output_type": "stream",
     "text": [
      "8.414628829498287\n"
     ]
    },
    {
     "name": "stderr",
     "output_type": "stream",
     "text": [
      "100%|██████████| 50/50 [00:00<00:00, 124.10it/s]\n"
     ]
    },
    {
     "name": "stdout",
     "output_type": "stream",
     "text": [
      "lr:0.01; reg:0; acc:0.35\n"
     ]
    },
    {
     "name": "stderr",
     "output_type": "stream",
     "text": [
      "  2%|▏         | 6/250 [00:00<00:04, 59.96it/s, loss=19.167/18.455]"
     ]
    },
    {
     "name": "stdout",
     "output_type": "stream",
     "text": [
      "epoch:0\n"
     ]
    },
    {
     "name": "stderr",
     "output_type": "stream",
     "text": [
      "100%|██████████| 250/250 [00:02<00:00, 117.74it/s, loss=17.816/17.050]\n"
     ]
    },
    {
     "name": "stdout",
     "output_type": "stream",
     "text": [
      "17.815554900207513\n"
     ]
    },
    {
     "name": "stderr",
     "output_type": "stream",
     "text": [
      "  5%|▌         | 13/250 [00:00<00:02, 116.09it/s, loss=16.875/16.814]"
     ]
    },
    {
     "name": "stdout",
     "output_type": "stream",
     "text": [
      "epoch:1\n"
     ]
    },
    {
     "name": "stderr",
     "output_type": "stream",
     "text": [
      "100%|██████████| 250/250 [00:02<00:00, 124.62it/s, loss=16.267/15.873]"
     ]
    },
    {
     "name": "stdout",
     "output_type": "stream",
     "text": [
      "16.2671507395935\n"
     ]
    },
    {
     "name": "stderr",
     "output_type": "stream",
     "text": [
      "\n",
      "  4%|▍         | 10/250 [00:00<00:02, 99.22it/s, loss=15.679/15.545]"
     ]
    },
    {
     "name": "stdout",
     "output_type": "stream",
     "text": [
      "epoch:2\n"
     ]
    },
    {
     "name": "stderr",
     "output_type": "stream",
     "text": [
      "100%|██████████| 250/250 [00:02<00:00, 123.49it/s, loss=15.352/14.546]"
     ]
    },
    {
     "name": "stdout",
     "output_type": "stream",
     "text": [
      "15.351803334198003\n"
     ]
    },
    {
     "name": "stderr",
     "output_type": "stream",
     "text": [
      "\n",
      "  4%|▍         | 10/250 [00:00<00:02, 98.55it/s, loss=15.034/14.419]"
     ]
    },
    {
     "name": "stdout",
     "output_type": "stream",
     "text": [
      "epoch:3\n"
     ]
    },
    {
     "name": "stderr",
     "output_type": "stream",
     "text": [
      "100%|██████████| 250/250 [00:02<00:00, 120.65it/s, loss=14.670/14.062]"
     ]
    },
    {
     "name": "stdout",
     "output_type": "stream",
     "text": [
      "14.669615088043209\n"
     ]
    },
    {
     "name": "stderr",
     "output_type": "stream",
     "text": [
      "\n",
      "  5%|▍         | 12/250 [00:00<00:02, 114.68it/s, loss=14.444/14.898]"
     ]
    },
    {
     "name": "stdout",
     "output_type": "stream",
     "text": [
      "epoch:4\n"
     ]
    },
    {
     "name": "stderr",
     "output_type": "stream",
     "text": [
      "100%|██████████| 250/250 [00:02<00:00, 123.14it/s, loss=14.096/13.548]\n"
     ]
    },
    {
     "name": "stdout",
     "output_type": "stream",
     "text": [
      "14.095687815322872\n"
     ]
    },
    {
     "name": "stderr",
     "output_type": "stream",
     "text": [
      "  4%|▍         | 10/250 [00:00<00:02, 97.94it/s, loss=13.866/14.251]"
     ]
    },
    {
     "name": "stdout",
     "output_type": "stream",
     "text": [
      "epoch:5\n"
     ]
    },
    {
     "name": "stderr",
     "output_type": "stream",
     "text": [
      "100%|██████████| 250/250 [00:02<00:00, 121.20it/s, loss=13.585/13.280]"
     ]
    },
    {
     "name": "stdout",
     "output_type": "stream",
     "text": [
      "13.584698061141962\n"
     ]
    },
    {
     "name": "stderr",
     "output_type": "stream",
     "text": [
      "\n",
      "  4%|▎         | 9/250 [00:00<00:02, 88.82it/s, loss=13.429/13.204]"
     ]
    },
    {
     "name": "stdout",
     "output_type": "stream",
     "text": [
      "epoch:6\n"
     ]
    },
    {
     "name": "stderr",
     "output_type": "stream",
     "text": [
      "100%|██████████| 250/250 [00:02<00:00, 122.64it/s, loss=13.121/12.958]"
     ]
    },
    {
     "name": "stdout",
     "output_type": "stream",
     "text": [
      "13.120814876632693\n"
     ]
    },
    {
     "name": "stderr",
     "output_type": "stream",
     "text": [
      "\n",
      "  3%|▎         | 8/250 [00:00<00:03, 78.73it/s, loss=12.975/13.468]"
     ]
    },
    {
     "name": "stdout",
     "output_type": "stream",
     "text": [
      "epoch:7\n"
     ]
    },
    {
     "name": "stderr",
     "output_type": "stream",
     "text": [
      "100%|██████████| 250/250 [00:02<00:00, 124.36it/s, loss=12.695/12.388]\n"
     ]
    },
    {
     "name": "stdout",
     "output_type": "stream",
     "text": [
      "12.695199081573483\n"
     ]
    },
    {
     "name": "stderr",
     "output_type": "stream",
     "text": [
      "  4%|▍         | 11/250 [00:00<00:02, 109.21it/s, loss=12.410/12.669]"
     ]
    },
    {
     "name": "stdout",
     "output_type": "stream",
     "text": [
      "epoch:8\n"
     ]
    },
    {
     "name": "stderr",
     "output_type": "stream",
     "text": [
      "100%|██████████| 250/250 [00:02<00:00, 122.15it/s, loss=12.299/12.102]\n"
     ]
    },
    {
     "name": "stdout",
     "output_type": "stream",
     "text": [
      "12.299339632110602\n"
     ]
    },
    {
     "name": "stderr",
     "output_type": "stream",
     "text": [
      "  4%|▍         | 10/250 [00:00<00:02, 97.06it/s, loss=12.123/12.005]"
     ]
    },
    {
     "name": "stdout",
     "output_type": "stream",
     "text": [
      "epoch:9\n"
     ]
    },
    {
     "name": "stderr",
     "output_type": "stream",
     "text": [
      "100%|██████████| 250/250 [00:02<00:00, 123.93it/s, loss=11.932/11.142]\n"
     ]
    },
    {
     "name": "stdout",
     "output_type": "stream",
     "text": [
      "11.932037286682132\n"
     ]
    },
    {
     "name": "stderr",
     "output_type": "stream",
     "text": [
      "  4%|▍         | 10/250 [00:00<00:02, 99.29it/s, loss=11.815/12.076]"
     ]
    },
    {
     "name": "stdout",
     "output_type": "stream",
     "text": [
      "epoch:10\n"
     ]
    },
    {
     "name": "stderr",
     "output_type": "stream",
     "text": [
      "100%|██████████| 250/250 [00:02<00:00, 122.17it/s, loss=11.588/11.073]"
     ]
    },
    {
     "name": "stdout",
     "output_type": "stream",
     "text": [
      "11.588364110717773\n"
     ]
    },
    {
     "name": "stderr",
     "output_type": "stream",
     "text": [
      "\n",
      "  4%|▍         | 11/250 [00:00<00:02, 108.25it/s, loss=11.378/10.928]"
     ]
    },
    {
     "name": "stdout",
     "output_type": "stream",
     "text": [
      "epoch:11\n"
     ]
    },
    {
     "name": "stderr",
     "output_type": "stream",
     "text": [
      "100%|██████████| 250/250 [00:02<00:00, 115.60it/s, loss=11.264/11.060]\n"
     ]
    },
    {
     "name": "stdout",
     "output_type": "stream",
     "text": [
      "11.264279318084705\n"
     ]
    },
    {
     "name": "stderr",
     "output_type": "stream",
     "text": [
      "  4%|▍         | 10/250 [00:00<00:02, 96.48it/s, loss=11.083/10.841]"
     ]
    },
    {
     "name": "stdout",
     "output_type": "stream",
     "text": [
      "epoch:12\n"
     ]
    },
    {
     "name": "stderr",
     "output_type": "stream",
     "text": [
      "100%|██████████| 250/250 [00:01<00:00, 125.75it/s, loss=10.962/10.264]"
     ]
    },
    {
     "name": "stdout",
     "output_type": "stream",
     "text": [
      "10.962209168014528\n"
     ]
    },
    {
     "name": "stderr",
     "output_type": "stream",
     "text": [
      "\n",
      "  4%|▍         | 11/250 [00:00<00:02, 107.82it/s, loss=10.718/10.597]"
     ]
    },
    {
     "name": "stdout",
     "output_type": "stream",
     "text": [
      "epoch:13\n"
     ]
    },
    {
     "name": "stderr",
     "output_type": "stream",
     "text": [
      "100%|██████████| 250/250 [00:01<00:00, 125.18it/s, loss=10.677/9.965]"
     ]
    },
    {
     "name": "stdout",
     "output_type": "stream",
     "text": [
      "10.677119106140138\n"
     ]
    },
    {
     "name": "stderr",
     "output_type": "stream",
     "text": [
      "\n",
      "  4%|▎         | 9/250 [00:00<00:02, 87.90it/s, loss=10.585/10.645]"
     ]
    },
    {
     "name": "stdout",
     "output_type": "stream",
     "text": [
      "epoch:14\n"
     ]
    },
    {
     "name": "stderr",
     "output_type": "stream",
     "text": [
      "100%|██████████| 250/250 [00:02<00:00, 122.04it/s, loss=10.407/10.308]"
     ]
    },
    {
     "name": "stdout",
     "output_type": "stream",
     "text": [
      "10.40736568916321\n"
     ]
    },
    {
     "name": "stderr",
     "output_type": "stream",
     "text": [
      "\n",
      "  4%|▎         | 9/250 [00:00<00:02, 89.07it/s, loss=10.320/10.254]"
     ]
    },
    {
     "name": "stdout",
     "output_type": "stream",
     "text": [
      "epoch:15\n"
     ]
    },
    {
     "name": "stderr",
     "output_type": "stream",
     "text": [
      "100%|██████████| 250/250 [00:02<00:00, 124.46it/s, loss=10.152/9.818]"
     ]
    },
    {
     "name": "stdout",
     "output_type": "stream",
     "text": [
      "10.152180160598757\n"
     ]
    },
    {
     "name": "stderr",
     "output_type": "stream",
     "text": [
      "\n",
      "  4%|▎         | 9/250 [00:00<00:02, 87.85it/s, loss=10.006/9.442] "
     ]
    },
    {
     "name": "stdout",
     "output_type": "stream",
     "text": [
      "epoch:16\n"
     ]
    },
    {
     "name": "stderr",
     "output_type": "stream",
     "text": [
      "100%|██████████| 250/250 [00:02<00:00, 119.21it/s, loss=9.912/9.854]"
     ]
    },
    {
     "name": "stdout",
     "output_type": "stream",
     "text": [
      "9.911775660705565\n"
     ]
    },
    {
     "name": "stderr",
     "output_type": "stream",
     "text": [
      "\n",
      "  4%|▍         | 11/250 [00:00<00:02, 105.42it/s, loss=9.819/9.695]"
     ]
    },
    {
     "name": "stdout",
     "output_type": "stream",
     "text": [
      "epoch:17\n"
     ]
    },
    {
     "name": "stderr",
     "output_type": "stream",
     "text": [
      "100%|██████████| 250/250 [00:02<00:00, 124.09it/s, loss=9.686/9.429]\n"
     ]
    },
    {
     "name": "stdout",
     "output_type": "stream",
     "text": [
      "9.686147310333261\n"
     ]
    },
    {
     "name": "stderr",
     "output_type": "stream",
     "text": [
      "  4%|▍         | 11/250 [00:00<00:02, 108.43it/s, loss=9.490/9.036]"
     ]
    },
    {
     "name": "stdout",
     "output_type": "stream",
     "text": [
      "epoch:18\n"
     ]
    },
    {
     "name": "stderr",
     "output_type": "stream",
     "text": [
      "100%|██████████| 250/250 [00:01<00:00, 125.74it/s, loss=9.471/9.548]"
     ]
    },
    {
     "name": "stdout",
     "output_type": "stream",
     "text": [
      "9.471020856246945\n"
     ]
    },
    {
     "name": "stderr",
     "output_type": "stream",
     "text": [
      "\n",
      "  4%|▍         | 11/250 [00:00<00:02, 107.80it/s, loss=9.376/9.722]"
     ]
    },
    {
     "name": "stdout",
     "output_type": "stream",
     "text": [
      "epoch:19\n"
     ]
    },
    {
     "name": "stderr",
     "output_type": "stream",
     "text": [
      "100%|██████████| 250/250 [00:02<00:00, 117.56it/s, loss=9.267/9.332]"
     ]
    },
    {
     "name": "stdout",
     "output_type": "stream",
     "text": [
      "9.267187007369992\n"
     ]
    },
    {
     "name": "stderr",
     "output_type": "stream",
     "text": [
      "\n",
      "  4%|▍         | 10/250 [00:00<00:02, 97.52it/s, loss=9.113/8.707]"
     ]
    },
    {
     "name": "stdout",
     "output_type": "stream",
     "text": [
      "epoch:20\n"
     ]
    },
    {
     "name": "stderr",
     "output_type": "stream",
     "text": [
      "100%|██████████| 250/250 [00:02<00:00, 124.58it/s, loss=9.074/9.159]"
     ]
    },
    {
     "name": "stdout",
     "output_type": "stream",
     "text": [
      "9.07420670124054\n"
     ]
    },
    {
     "name": "stderr",
     "output_type": "stream",
     "text": [
      "\n",
      "  4%|▍         | 10/250 [00:00<00:02, 98.77it/s, loss=8.999/9.593]"
     ]
    },
    {
     "name": "stdout",
     "output_type": "stream",
     "text": [
      "epoch:21\n"
     ]
    },
    {
     "name": "stderr",
     "output_type": "stream",
     "text": [
      "100%|██████████| 250/250 [00:01<00:00, 125.85it/s, loss=8.891/8.568]\n"
     ]
    },
    {
     "name": "stdout",
     "output_type": "stream",
     "text": [
      "8.890999304885868\n"
     ]
    },
    {
     "name": "stderr",
     "output_type": "stream",
     "text": [
      "  4%|▎         | 9/250 [00:00<00:02, 88.02it/s, loss=8.833/8.464]"
     ]
    },
    {
     "name": "stdout",
     "output_type": "stream",
     "text": [
      "epoch:22\n"
     ]
    },
    {
     "name": "stderr",
     "output_type": "stream",
     "text": [
      "100%|██████████| 250/250 [00:02<00:00, 122.33it/s, loss=8.719/8.996]\n"
     ]
    },
    {
     "name": "stdout",
     "output_type": "stream",
     "text": [
      "8.718575936126708\n"
     ]
    },
    {
     "name": "stderr",
     "output_type": "stream",
     "text": [
      "  4%|▍         | 10/250 [00:00<00:02, 97.46it/s, loss=8.664/8.993]"
     ]
    },
    {
     "name": "stdout",
     "output_type": "stream",
     "text": [
      "epoch:23\n"
     ]
    },
    {
     "name": "stderr",
     "output_type": "stream",
     "text": [
      "100%|██████████| 250/250 [00:02<00:00, 119.91it/s, loss=8.554/8.189]\n"
     ]
    },
    {
     "name": "stdout",
     "output_type": "stream",
     "text": [
      "8.55384531528473\n"
     ]
    },
    {
     "name": "stderr",
     "output_type": "stream",
     "text": [
      "  4%|▍         | 11/250 [00:00<00:02, 107.46it/s, loss=8.670/8.790]"
     ]
    },
    {
     "name": "stdout",
     "output_type": "stream",
     "text": [
      "epoch:24\n"
     ]
    },
    {
     "name": "stderr",
     "output_type": "stream",
     "text": [
      "100%|██████████| 250/250 [00:02<00:00, 122.15it/s, loss=8.397/8.337]\n"
     ]
    },
    {
     "name": "stdout",
     "output_type": "stream",
     "text": [
      "8.396745621376043\n"
     ]
    },
    {
     "name": "stderr",
     "output_type": "stream",
     "text": [
      "100%|██████████| 50/50 [00:00<00:00, 119.16it/s]"
     ]
    },
    {
     "name": "stdout",
     "output_type": "stream",
     "text": [
      "lr:0.01; reg:1; acc:0.35\n"
     ]
    },
    {
     "name": "stderr",
     "output_type": "stream",
     "text": [
      "\n",
      "  4%|▍         | 10/250 [00:00<00:02, 85.62it/s, loss=19.644/19.481]"
     ]
    },
    {
     "name": "stdout",
     "output_type": "stream",
     "text": [
      "epoch:0\n"
     ]
    },
    {
     "name": "stderr",
     "output_type": "stream",
     "text": [
      "100%|██████████| 250/250 [00:02<00:00, 121.84it/s, loss=17.969/16.801]"
     ]
    },
    {
     "name": "stdout",
     "output_type": "stream",
     "text": [
      "17.969020517578123\n"
     ]
    },
    {
     "name": "stderr",
     "output_type": "stream",
     "text": [
      "\n",
      "  5%|▍         | 12/250 [00:00<00:02, 118.74it/s, loss=16.873/16.700]"
     ]
    },
    {
     "name": "stdout",
     "output_type": "stream",
     "text": [
      "epoch:1\n"
     ]
    },
    {
     "name": "stderr",
     "output_type": "stream",
     "text": [
      "100%|██████████| 250/250 [00:01<00:00, 129.32it/s, loss=16.377/15.570]"
     ]
    },
    {
     "name": "stdout",
     "output_type": "stream",
     "text": [
      "16.377091684265135\n"
     ]
    },
    {
     "name": "stderr",
     "output_type": "stream",
     "text": [
      "\n",
      "  4%|▎         | 9/250 [00:00<00:02, 85.24it/s, loss=15.896/15.870]"
     ]
    },
    {
     "name": "stdout",
     "output_type": "stream",
     "text": [
      "epoch:2\n"
     ]
    },
    {
     "name": "stderr",
     "output_type": "stream",
     "text": [
      "100%|██████████| 250/250 [00:02<00:00, 121.99it/s, loss=15.439/14.289]\n"
     ]
    },
    {
     "name": "stdout",
     "output_type": "stream",
     "text": [
      "15.439497570953368\n"
     ]
    },
    {
     "name": "stderr",
     "output_type": "stream",
     "text": [
      "  4%|▍         | 10/250 [00:00<00:02, 98.39it/s, loss=15.102/14.895]"
     ]
    },
    {
     "name": "stdout",
     "output_type": "stream",
     "text": [
      "epoch:3\n"
     ]
    },
    {
     "name": "stderr",
     "output_type": "stream",
     "text": [
      "100%|██████████| 250/250 [00:01<00:00, 125.89it/s, loss=14.744/14.114]"
     ]
    },
    {
     "name": "stdout",
     "output_type": "stream",
     "text": [
      "14.744209224548337\n"
     ]
    },
    {
     "name": "stderr",
     "output_type": "stream",
     "text": [
      "\n",
      "  4%|▍         | 10/250 [00:00<00:02, 94.22it/s, loss=14.399/14.042]"
     ]
    },
    {
     "name": "stdout",
     "output_type": "stream",
     "text": [
      "epoch:4\n"
     ]
    },
    {
     "name": "stderr",
     "output_type": "stream",
     "text": [
      "100%|██████████| 250/250 [00:02<00:00, 127.99it/s, loss=14.160/14.170]\n"
     ]
    },
    {
     "name": "stdout",
     "output_type": "stream",
     "text": [
      "14.160371120529177\n"
     ]
    },
    {
     "name": "stderr",
     "output_type": "stream",
     "text": [
      "  4%|▍         | 10/250 [00:00<00:02, 96.87it/s, loss=13.837/13.768]"
     ]
    },
    {
     "name": "stdout",
     "output_type": "stream",
     "text": [
      "epoch:5\n"
     ]
    },
    {
     "name": "stderr",
     "output_type": "stream",
     "text": [
      "100%|██████████| 250/250 [00:02<00:00, 121.74it/s, loss=13.643/13.413]"
     ]
    },
    {
     "name": "stdout",
     "output_type": "stream",
     "text": [
      "13.643439978256223\n"
     ]
    },
    {
     "name": "stderr",
     "output_type": "stream",
     "text": [
      "\n",
      "  4%|▍         | 10/250 [00:00<00:02, 95.82it/s, loss=13.408/13.001]"
     ]
    },
    {
     "name": "stdout",
     "output_type": "stream",
     "text": [
      "epoch:6\n"
     ]
    },
    {
     "name": "stderr",
     "output_type": "stream",
     "text": [
      "100%|██████████| 250/250 [00:01<00:00, 126.54it/s, loss=13.176/12.886]"
     ]
    },
    {
     "name": "stdout",
     "output_type": "stream",
     "text": [
      "13.176308521728513\n"
     ]
    },
    {
     "name": "stderr",
     "output_type": "stream",
     "text": [
      "\n",
      "  4%|▍         | 10/250 [00:00<00:02, 96.69it/s, loss=13.035/12.776]"
     ]
    },
    {
     "name": "stdout",
     "output_type": "stream",
     "text": [
      "epoch:7\n"
     ]
    },
    {
     "name": "stderr",
     "output_type": "stream",
     "text": [
      "100%|██████████| 250/250 [00:02<00:00, 120.91it/s, loss=12.747/12.281]"
     ]
    },
    {
     "name": "stdout",
     "output_type": "stream",
     "text": [
      "12.74721038528442\n"
     ]
    },
    {
     "name": "stderr",
     "output_type": "stream",
     "text": [
      "\n",
      "  4%|▍         | 11/250 [00:00<00:02, 108.55it/s, loss=12.527/12.777]"
     ]
    },
    {
     "name": "stdout",
     "output_type": "stream",
     "text": [
      "epoch:8\n"
     ]
    },
    {
     "name": "stderr",
     "output_type": "stream",
     "text": [
      "100%|██████████| 250/250 [00:02<00:00, 124.65it/s, loss=12.349/12.204]"
     ]
    },
    {
     "name": "stdout",
     "output_type": "stream",
     "text": [
      "12.348974196624752\n"
     ]
    },
    {
     "name": "stderr",
     "output_type": "stream",
     "text": [
      "\n",
      "  4%|▍         | 11/250 [00:00<00:02, 105.74it/s, loss=12.121/12.077]"
     ]
    },
    {
     "name": "stdout",
     "output_type": "stream",
     "text": [
      "epoch:9\n"
     ]
    },
    {
     "name": "stderr",
     "output_type": "stream",
     "text": [
      "100%|██████████| 250/250 [00:01<00:00, 127.33it/s, loss=11.979/12.211]"
     ]
    },
    {
     "name": "stdout",
     "output_type": "stream",
     "text": [
      "11.979202127990714\n"
     ]
    },
    {
     "name": "stderr",
     "output_type": "stream",
     "text": [
      "\n",
      "  4%|▎         | 9/250 [00:00<00:02, 86.73it/s, loss=11.855/11.696]"
     ]
    },
    {
     "name": "stdout",
     "output_type": "stream",
     "text": [
      "epoch:10\n"
     ]
    },
    {
     "name": "stderr",
     "output_type": "stream",
     "text": [
      "100%|██████████| 250/250 [00:01<00:00, 125.35it/s, loss=11.632/11.460]\n"
     ]
    },
    {
     "name": "stdout",
     "output_type": "stream",
     "text": [
      "11.63214548751831\n"
     ]
    },
    {
     "name": "stderr",
     "output_type": "stream",
     "text": [
      "  4%|▍         | 10/250 [00:00<00:02, 96.61it/s, loss=11.533/11.678]"
     ]
    },
    {
     "name": "stdout",
     "output_type": "stream",
     "text": [
      "epoch:11\n"
     ]
    },
    {
     "name": "stderr",
     "output_type": "stream",
     "text": [
      "100%|██████████| 250/250 [00:02<00:00, 120.53it/s, loss=11.307/11.119]\n"
     ]
    },
    {
     "name": "stdout",
     "output_type": "stream",
     "text": [
      "11.307030237045288\n"
     ]
    },
    {
     "name": "stderr",
     "output_type": "stream",
     "text": [
      "  4%|▎         | 9/250 [00:00<00:02, 89.05it/s, loss=11.115/11.101]"
     ]
    },
    {
     "name": "stdout",
     "output_type": "stream",
     "text": [
      "epoch:12\n"
     ]
    },
    {
     "name": "stderr",
     "output_type": "stream",
     "text": [
      "100%|██████████| 250/250 [00:01<00:00, 132.81it/s, loss=11.002/11.101]"
     ]
    },
    {
     "name": "stdout",
     "output_type": "stream",
     "text": [
      "11.001533670196528\n"
     ]
    },
    {
     "name": "stderr",
     "output_type": "stream",
     "text": [
      "\n",
      "  4%|▎         | 9/250 [00:00<00:02, 89.03it/s, loss=10.900/10.879]"
     ]
    },
    {
     "name": "stdout",
     "output_type": "stream",
     "text": [
      "epoch:13\n"
     ]
    },
    {
     "name": "stderr",
     "output_type": "stream",
     "text": [
      "100%|██████████| 250/250 [00:02<00:00, 121.09it/s, loss=10.715/10.523]"
     ]
    },
    {
     "name": "stdout",
     "output_type": "stream",
     "text": [
      "10.71457227821351\n"
     ]
    },
    {
     "name": "stderr",
     "output_type": "stream",
     "text": [
      "\n",
      "  4%|▍         | 10/250 [00:00<00:02, 96.61it/s, loss=10.630/10.252]"
     ]
    },
    {
     "name": "stdout",
     "output_type": "stream",
     "text": [
      "epoch:14\n"
     ]
    },
    {
     "name": "stderr",
     "output_type": "stream",
     "text": [
      "100%|██████████| 250/250 [00:02<00:00, 124.07it/s, loss=10.442/10.351]\n"
     ]
    },
    {
     "name": "stdout",
     "output_type": "stream",
     "text": [
      "10.442303704071035\n"
     ]
    },
    {
     "name": "stderr",
     "output_type": "stream",
     "text": [
      "  4%|▎         | 9/250 [00:00<00:02, 89.36it/s, loss=10.242/10.240]"
     ]
    },
    {
     "name": "stdout",
     "output_type": "stream",
     "text": [
      "epoch:15\n"
     ]
    },
    {
     "name": "stderr",
     "output_type": "stream",
     "text": [
      "100%|██████████| 250/250 [00:02<00:00, 121.41it/s, loss=10.187/10.199]"
     ]
    },
    {
     "name": "stdout",
     "output_type": "stream",
     "text": [
      "10.18744029663086\n"
     ]
    },
    {
     "name": "stderr",
     "output_type": "stream",
     "text": [
      "\n",
      "  4%|▍         | 10/250 [00:00<00:02, 96.44it/s, loss=10.111/10.343]"
     ]
    },
    {
     "name": "stdout",
     "output_type": "stream",
     "text": [
      "epoch:16\n"
     ]
    },
    {
     "name": "stderr",
     "output_type": "stream",
     "text": [
      "100%|██████████| 250/250 [00:01<00:00, 125.81it/s, loss=9.944/9.997]"
     ]
    },
    {
     "name": "stdout",
     "output_type": "stream",
     "text": [
      "9.94431532180786\n"
     ]
    },
    {
     "name": "stderr",
     "output_type": "stream",
     "text": [
      "\n",
      "  4%|▍         | 10/250 [00:00<00:02, 96.37it/s, loss=9.745/9.650]"
     ]
    },
    {
     "name": "stdout",
     "output_type": "stream",
     "text": [
      "epoch:17\n"
     ]
    },
    {
     "name": "stderr",
     "output_type": "stream",
     "text": [
      "100%|██████████| 250/250 [00:02<00:00, 123.91it/s, loss=9.716/9.661]\n"
     ]
    },
    {
     "name": "stdout",
     "output_type": "stream",
     "text": [
      "9.715758679504392\n"
     ]
    },
    {
     "name": "stderr",
     "output_type": "stream",
     "text": [
      "  4%|▎         | 9/250 [00:00<00:02, 85.95it/s, loss=9.567/9.770]"
     ]
    },
    {
     "name": "stdout",
     "output_type": "stream",
     "text": [
      "epoch:18\n"
     ]
    },
    {
     "name": "stderr",
     "output_type": "stream",
     "text": [
      "100%|██████████| 250/250 [00:02<00:00, 120.07it/s, loss=9.499/9.556]"
     ]
    },
    {
     "name": "stdout",
     "output_type": "stream",
     "text": [
      "9.49941695266724\n"
     ]
    },
    {
     "name": "stderr",
     "output_type": "stream",
     "text": [
      "\n",
      "  4%|▍         | 10/250 [00:00<00:02, 99.72it/s, loss=9.302/9.030]"
     ]
    },
    {
     "name": "stdout",
     "output_type": "stream",
     "text": [
      "epoch:19\n"
     ]
    },
    {
     "name": "stderr",
     "output_type": "stream",
     "text": [
      "100%|██████████| 250/250 [00:02<00:00, 124.29it/s, loss=9.295/9.145]"
     ]
    },
    {
     "name": "stdout",
     "output_type": "stream",
     "text": [
      "9.294908153419486\n"
     ]
    },
    {
     "name": "stderr",
     "output_type": "stream",
     "text": [
      "\n",
      "  4%|▎         | 9/250 [00:00<00:02, 87.74it/s, loss=9.241/9.125]"
     ]
    },
    {
     "name": "stdout",
     "output_type": "stream",
     "text": [
      "epoch:20\n"
     ]
    },
    {
     "name": "stderr",
     "output_type": "stream",
     "text": [
      "100%|██████████| 250/250 [00:02<00:00, 118.68it/s, loss=9.100/9.518]"
     ]
    },
    {
     "name": "stdout",
     "output_type": "stream",
     "text": [
      "9.09957903896332\n"
     ]
    },
    {
     "name": "stderr",
     "output_type": "stream",
     "text": [
      "\n",
      "  4%|▎         | 9/250 [00:00<00:02, 89.87it/s, loss=8.921/8.912]"
     ]
    },
    {
     "name": "stdout",
     "output_type": "stream",
     "text": [
      "epoch:21\n"
     ]
    },
    {
     "name": "stderr",
     "output_type": "stream",
     "text": [
      "100%|██████████| 250/250 [00:02<00:00, 123.19it/s, loss=8.916/9.140]\n"
     ]
    },
    {
     "name": "stdout",
     "output_type": "stream",
     "text": [
      "8.916270267791747\n"
     ]
    },
    {
     "name": "stderr",
     "output_type": "stream",
     "text": [
      "  4%|▍         | 10/250 [00:00<00:02, 91.27it/s, loss=8.849/9.194]"
     ]
    },
    {
     "name": "stdout",
     "output_type": "stream",
     "text": [
      "epoch:22\n"
     ]
    },
    {
     "name": "stderr",
     "output_type": "stream",
     "text": [
      "100%|██████████| 250/250 [00:02<00:00, 122.42it/s, loss=8.742/9.105]\n"
     ]
    },
    {
     "name": "stdout",
     "output_type": "stream",
     "text": [
      "8.741738113861084\n"
     ]
    },
    {
     "name": "stderr",
     "output_type": "stream",
     "text": [
      "  4%|▍         | 11/250 [00:00<00:02, 106.59it/s, loss=8.637/8.619]"
     ]
    },
    {
     "name": "stdout",
     "output_type": "stream",
     "text": [
      "epoch:23\n"
     ]
    },
    {
     "name": "stderr",
     "output_type": "stream",
     "text": [
      "100%|██████████| 250/250 [00:02<00:00, 123.04it/s, loss=8.576/8.549]\n"
     ]
    },
    {
     "name": "stdout",
     "output_type": "stream",
     "text": [
      "8.576164241523744\n"
     ]
    },
    {
     "name": "stderr",
     "output_type": "stream",
     "text": [
      "  4%|▍         | 10/250 [00:00<00:02, 96.82it/s, loss=8.518/8.272]"
     ]
    },
    {
     "name": "stdout",
     "output_type": "stream",
     "text": [
      "epoch:24\n"
     ]
    },
    {
     "name": "stderr",
     "output_type": "stream",
     "text": [
      "100%|██████████| 250/250 [00:02<00:00, 124.48it/s, loss=8.418/8.312]\n"
     ]
    },
    {
     "name": "stdout",
     "output_type": "stream",
     "text": [
      "8.418285245666505\n"
     ]
    },
    {
     "name": "stderr",
     "output_type": "stream",
     "text": [
      "100%|██████████| 50/50 [00:00<00:00, 112.47it/s]"
     ]
    },
    {
     "name": "stdout",
     "output_type": "stream",
     "text": [
      "lr:0.01; reg:10; acc:0.3487\n"
     ]
    },
    {
     "name": "stderr",
     "output_type": "stream",
     "text": [
      "\n",
      "  4%|▎         | 9/250 [00:00<00:03, 77.26it/s, loss=19.302/19.268]"
     ]
    },
    {
     "name": "stdout",
     "output_type": "stream",
     "text": [
      "epoch:0\n"
     ]
    },
    {
     "name": "stderr",
     "output_type": "stream",
     "text": [
      "100%|██████████| 250/250 [00:02<00:00, 119.83it/s, loss=17.923/16.761]\n"
     ]
    },
    {
     "name": "stdout",
     "output_type": "stream",
     "text": [
      "17.9230865510559\n"
     ]
    },
    {
     "name": "stderr",
     "output_type": "stream",
     "text": [
      "  4%|▍         | 11/250 [00:00<00:02, 103.54it/s, loss=16.955/16.633]"
     ]
    },
    {
     "name": "stdout",
     "output_type": "stream",
     "text": [
      "epoch:1\n"
     ]
    },
    {
     "name": "stderr",
     "output_type": "stream",
     "text": [
      "100%|██████████| 250/250 [00:02<00:00, 120.77it/s, loss=16.266/15.695]"
     ]
    },
    {
     "name": "stdout",
     "output_type": "stream",
     "text": [
      "16.26553041168214\n"
     ]
    },
    {
     "name": "stderr",
     "output_type": "stream",
     "text": [
      "\n",
      "  4%|▎         | 9/250 [00:00<00:02, 84.98it/s, loss=15.698/15.638]"
     ]
    },
    {
     "name": "stdout",
     "output_type": "stream",
     "text": [
      "epoch:2\n"
     ]
    },
    {
     "name": "stderr",
     "output_type": "stream",
     "text": [
      "100%|██████████| 250/250 [00:02<00:00, 124.84it/s, loss=15.270/14.888]"
     ]
    },
    {
     "name": "stdout",
     "output_type": "stream",
     "text": [
      "15.26991767105103\n"
     ]
    },
    {
     "name": "stderr",
     "output_type": "stream",
     "text": [
      "\n",
      "  4%|▍         | 10/250 [00:00<00:02, 97.16it/s, loss=14.875/14.897]"
     ]
    },
    {
     "name": "stdout",
     "output_type": "stream",
     "text": [
      "epoch:3\n"
     ]
    },
    {
     "name": "stderr",
     "output_type": "stream",
     "text": [
      "100%|██████████| 250/250 [00:02<00:00, 121.12it/s, loss=14.561/14.336]"
     ]
    },
    {
     "name": "stdout",
     "output_type": "stream",
     "text": [
      "14.560876787719728\n"
     ]
    },
    {
     "name": "stderr",
     "output_type": "stream",
     "text": [
      "\n",
      "  5%|▍         | 12/250 [00:00<00:02, 114.49it/s, loss=14.302/13.822]"
     ]
    },
    {
     "name": "stdout",
     "output_type": "stream",
     "text": [
      "epoch:4\n"
     ]
    },
    {
     "name": "stderr",
     "output_type": "stream",
     "text": [
      "100%|██████████| 250/250 [00:02<00:00, 123.37it/s, loss=13.983/14.085]"
     ]
    },
    {
     "name": "stdout",
     "output_type": "stream",
     "text": [
      "13.983393429260252\n"
     ]
    },
    {
     "name": "stderr",
     "output_type": "stream",
     "text": [
      "\n",
      "  4%|▎         | 9/250 [00:00<00:02, 88.95it/s, loss=13.793/14.011]"
     ]
    },
    {
     "name": "stdout",
     "output_type": "stream",
     "text": [
      "epoch:5\n"
     ]
    },
    {
     "name": "stderr",
     "output_type": "stream",
     "text": [
      "100%|██████████| 250/250 [00:02<00:00, 119.59it/s, loss=13.476/12.644]"
     ]
    },
    {
     "name": "stdout",
     "output_type": "stream",
     "text": [
      "13.475838845596313\n"
     ]
    },
    {
     "name": "stderr",
     "output_type": "stream",
     "text": [
      "\n",
      "  4%|▍         | 10/250 [00:00<00:02, 97.71it/s, loss=13.312/12.845]"
     ]
    },
    {
     "name": "stdout",
     "output_type": "stream",
     "text": [
      "epoch:6\n"
     ]
    },
    {
     "name": "stderr",
     "output_type": "stream",
     "text": [
      "100%|██████████| 250/250 [00:02<00:00, 121.88it/s, loss=13.018/12.764]"
     ]
    },
    {
     "name": "stdout",
     "output_type": "stream",
     "text": [
      "13.01848428672791\n"
     ]
    },
    {
     "name": "stderr",
     "output_type": "stream",
     "text": [
      "\n",
      "  4%|▍         | 10/250 [00:00<00:02, 98.85it/s, loss=12.899/13.073]"
     ]
    },
    {
     "name": "stdout",
     "output_type": "stream",
     "text": [
      "epoch:7\n"
     ]
    },
    {
     "name": "stderr",
     "output_type": "stream",
     "text": [
      "100%|██████████| 250/250 [00:02<00:00, 123.17it/s, loss=12.600/12.540]"
     ]
    },
    {
     "name": "stdout",
     "output_type": "stream",
     "text": [
      "12.600032804183966\n"
     ]
    },
    {
     "name": "stderr",
     "output_type": "stream",
     "text": [
      "\n",
      "  4%|▍         | 11/250 [00:00<00:02, 108.53it/s, loss=12.229/11.619]"
     ]
    },
    {
     "name": "stdout",
     "output_type": "stream",
     "text": [
      "epoch:8\n"
     ]
    },
    {
     "name": "stderr",
     "output_type": "stream",
     "text": [
      "100%|██████████| 250/250 [00:01<00:00, 129.02it/s, loss=12.211/12.060]"
     ]
    },
    {
     "name": "stdout",
     "output_type": "stream",
     "text": [
      "12.210707184753415\n"
     ]
    },
    {
     "name": "stderr",
     "output_type": "stream",
     "text": [
      "\n",
      "  4%|▎         | 9/250 [00:00<00:02, 89.15it/s, loss=12.062/11.653]"
     ]
    },
    {
     "name": "stdout",
     "output_type": "stream",
     "text": [
      "epoch:9\n"
     ]
    },
    {
     "name": "stderr",
     "output_type": "stream",
     "text": [
      "100%|██████████| 250/250 [00:02<00:00, 118.54it/s, loss=11.849/11.391]\n"
     ]
    },
    {
     "name": "stdout",
     "output_type": "stream",
     "text": [
      "11.849416738967893\n"
     ]
    },
    {
     "name": "stderr",
     "output_type": "stream",
     "text": [
      "  4%|▎         | 9/250 [00:00<00:02, 89.84it/s, loss=11.661/11.352]"
     ]
    },
    {
     "name": "stdout",
     "output_type": "stream",
     "text": [
      "epoch:10\n"
     ]
    },
    {
     "name": "stderr",
     "output_type": "stream",
     "text": [
      "100%|██████████| 250/250 [00:02<00:00, 121.90it/s, loss=11.510/11.834]\n"
     ]
    },
    {
     "name": "stdout",
     "output_type": "stream",
     "text": [
      "11.510071171951296\n"
     ]
    },
    {
     "name": "stderr",
     "output_type": "stream",
     "text": [
      "  4%|▎         | 9/250 [00:00<00:02, 87.56it/s, loss=11.242/11.149]"
     ]
    },
    {
     "name": "stdout",
     "output_type": "stream",
     "text": [
      "epoch:11\n"
     ]
    },
    {
     "name": "stderr",
     "output_type": "stream",
     "text": [
      "100%|██████████| 250/250 [00:02<00:00, 123.05it/s, loss=11.192/10.933]"
     ]
    },
    {
     "name": "stdout",
     "output_type": "stream",
     "text": [
      "11.191961520156848\n"
     ]
    },
    {
     "name": "stderr",
     "output_type": "stream",
     "text": [
      "\n",
      "  4%|▍         | 11/250 [00:00<00:02, 103.76it/s, loss=11.112/10.635]"
     ]
    },
    {
     "name": "stdout",
     "output_type": "stream",
     "text": [
      "epoch:12\n"
     ]
    },
    {
     "name": "stderr",
     "output_type": "stream",
     "text": [
      "100%|██████████| 250/250 [00:01<00:00, 127.51it/s, loss=10.893/10.760]"
     ]
    },
    {
     "name": "stdout",
     "output_type": "stream",
     "text": [
      "10.89263427009582\n"
     ]
    },
    {
     "name": "stderr",
     "output_type": "stream",
     "text": [
      "\n",
      "  4%|▍         | 11/250 [00:00<00:02, 105.09it/s, loss=10.730/10.923]"
     ]
    },
    {
     "name": "stdout",
     "output_type": "stream",
     "text": [
      "epoch:13\n"
     ]
    },
    {
     "name": "stderr",
     "output_type": "stream",
     "text": [
      "100%|██████████| 250/250 [00:02<00:00, 120.36it/s, loss=10.611/10.633]"
     ]
    },
    {
     "name": "stdout",
     "output_type": "stream",
     "text": [
      "10.611241938858035\n"
     ]
    },
    {
     "name": "stderr",
     "output_type": "stream",
     "text": [
      "\n",
      "  4%|▍         | 10/250 [00:00<00:02, 99.36it/s, loss=10.394/10.013]"
     ]
    },
    {
     "name": "stdout",
     "output_type": "stream",
     "text": [
      "epoch:14\n"
     ]
    },
    {
     "name": "stderr",
     "output_type": "stream",
     "text": [
      "100%|██████████| 250/250 [00:02<00:00, 122.96it/s, loss=10.345/9.885]\n"
     ]
    },
    {
     "name": "stdout",
     "output_type": "stream",
     "text": [
      "10.345049800415048\n"
     ]
    },
    {
     "name": "stderr",
     "output_type": "stream",
     "text": [
      "  4%|▍         | 10/250 [00:00<00:02, 96.45it/s, loss=10.291/10.523]"
     ]
    },
    {
     "name": "stdout",
     "output_type": "stream",
     "text": [
      "epoch:15\n"
     ]
    },
    {
     "name": "stderr",
     "output_type": "stream",
     "text": [
      "100%|██████████| 250/250 [00:01<00:00, 126.68it/s, loss=10.093/10.497]\n"
     ]
    },
    {
     "name": "stdout",
     "output_type": "stream",
     "text": [
      "10.09336397888183\n"
     ]
    },
    {
     "name": "stderr",
     "output_type": "stream",
     "text": [
      "  4%|▍         | 11/250 [00:00<00:02, 104.98it/s, loss=10.012/9.880] "
     ]
    },
    {
     "name": "stdout",
     "output_type": "stream",
     "text": [
      "epoch:16\n"
     ]
    },
    {
     "name": "stderr",
     "output_type": "stream",
     "text": [
      "100%|██████████| 250/250 [00:01<00:00, 126.04it/s, loss=9.857/10.084]"
     ]
    },
    {
     "name": "stdout",
     "output_type": "stream",
     "text": [
      "9.856569747695923\n"
     ]
    },
    {
     "name": "stderr",
     "output_type": "stream",
     "text": [
      "\n",
      "  2%|▏         | 5/250 [00:00<00:04, 49.49it/s, loss=9.785/9.889]"
     ]
    },
    {
     "name": "stdout",
     "output_type": "stream",
     "text": [
      "epoch:17\n"
     ]
    },
    {
     "name": "stderr",
     "output_type": "stream",
     "text": [
      "100%|██████████| 250/250 [00:02<00:00, 122.06it/s, loss=9.631/9.345]"
     ]
    },
    {
     "name": "stdout",
     "output_type": "stream",
     "text": [
      "9.630577645111076\n"
     ]
    },
    {
     "name": "stderr",
     "output_type": "stream",
     "text": [
      "\n",
      "  5%|▍         | 12/250 [00:00<00:02, 115.90it/s, loss=9.492/9.859]"
     ]
    },
    {
     "name": "stdout",
     "output_type": "stream",
     "text": [
      "epoch:18\n"
     ]
    },
    {
     "name": "stderr",
     "output_type": "stream",
     "text": [
      "100%|██████████| 250/250 [00:02<00:00, 121.46it/s, loss=9.418/9.419]"
     ]
    },
    {
     "name": "stdout",
     "output_type": "stream",
     "text": [
      "9.418150564422604\n"
     ]
    },
    {
     "name": "stderr",
     "output_type": "stream",
     "text": [
      "\n",
      "  4%|▍         | 10/250 [00:00<00:02, 95.19it/s, loss=9.308/9.041]"
     ]
    },
    {
     "name": "stdout",
     "output_type": "stream",
     "text": [
      "epoch:19\n"
     ]
    },
    {
     "name": "stderr",
     "output_type": "stream",
     "text": [
      "100%|██████████| 250/250 [00:02<00:00, 124.91it/s, loss=9.218/8.928]\n"
     ]
    },
    {
     "name": "stdout",
     "output_type": "stream",
     "text": [
      "9.218057455062864\n"
     ]
    },
    {
     "name": "stderr",
     "output_type": "stream",
     "text": [
      "  5%|▍         | 12/250 [00:00<00:02, 116.57it/s, loss=9.178/9.533]"
     ]
    },
    {
     "name": "stdout",
     "output_type": "stream",
     "text": [
      "epoch:20\n"
     ]
    },
    {
     "name": "stderr",
     "output_type": "stream",
     "text": [
      "100%|██████████| 250/250 [00:01<00:00, 129.54it/s, loss=9.027/9.196]"
     ]
    },
    {
     "name": "stdout",
     "output_type": "stream",
     "text": [
      "9.02686303646087\n"
     ]
    },
    {
     "name": "stderr",
     "output_type": "stream",
     "text": [
      "\n",
      "  4%|▎         | 9/250 [00:00<00:02, 83.84it/s, loss=8.884/8.916]"
     ]
    },
    {
     "name": "stdout",
     "output_type": "stream",
     "text": [
      "epoch:21\n"
     ]
    },
    {
     "name": "stderr",
     "output_type": "stream",
     "text": [
      "100%|██████████| 250/250 [00:01<00:00, 126.73it/s, loss=8.844/8.819]\n"
     ]
    },
    {
     "name": "stdout",
     "output_type": "stream",
     "text": [
      "8.844129444732669\n"
     ]
    },
    {
     "name": "stderr",
     "output_type": "stream",
     "text": [
      "  4%|▎         | 9/250 [00:00<00:02, 85.91it/s, loss=8.888/8.930]"
     ]
    },
    {
     "name": "stdout",
     "output_type": "stream",
     "text": [
      "epoch:22\n"
     ]
    },
    {
     "name": "stderr",
     "output_type": "stream",
     "text": [
      "100%|██████████| 250/250 [00:02<00:00, 123.89it/s, loss=8.675/8.219]"
     ]
    },
    {
     "name": "stdout",
     "output_type": "stream",
     "text": [
      "8.674747849121092\n"
     ]
    },
    {
     "name": "stderr",
     "output_type": "stream",
     "text": [
      "\n",
      "  4%|▍         | 10/250 [00:00<00:02, 98.19it/s, loss=8.694/8.937]"
     ]
    },
    {
     "name": "stdout",
     "output_type": "stream",
     "text": [
      "epoch:23\n"
     ]
    },
    {
     "name": "stderr",
     "output_type": "stream",
     "text": [
      "100%|██████████| 250/250 [00:02<00:00, 126.29it/s, loss=8.512/8.383]"
     ]
    },
    {
     "name": "stdout",
     "output_type": "stream",
     "text": [
      "8.511701023139956\n"
     ]
    },
    {
     "name": "stderr",
     "output_type": "stream",
     "text": [
      "\n",
      "  4%|▎         | 9/250 [00:00<00:02, 87.11it/s, loss=8.439/8.794]"
     ]
    },
    {
     "name": "stdout",
     "output_type": "stream",
     "text": [
      "epoch:24\n"
     ]
    },
    {
     "name": "stderr",
     "output_type": "stream",
     "text": [
      "100%|██████████| 250/250 [00:02<00:00, 120.65it/s, loss=8.358/8.555]\n"
     ]
    },
    {
     "name": "stdout",
     "output_type": "stream",
     "text": [
      "8.357806935462953\n"
     ]
    },
    {
     "name": "stderr",
     "output_type": "stream",
     "text": [
      "100%|██████████| 50/50 [00:00<00:00, 115.40it/s]"
     ]
    },
    {
     "name": "stdout",
     "output_type": "stream",
     "text": [
      "lr:0.01; reg:100; acc:0.3522\n"
     ]
    },
    {
     "name": "stderr",
     "output_type": "stream",
     "text": [
      "\n",
      "  4%|▎         | 9/250 [00:00<00:02, 84.99it/s, loss=19.236/18.851]"
     ]
    },
    {
     "name": "stdout",
     "output_type": "stream",
     "text": [
      "epoch:0\n"
     ]
    },
    {
     "name": "stderr",
     "output_type": "stream",
     "text": [
      "100%|██████████| 250/250 [00:01<00:00, 125.20it/s, loss=17.468/16.591]"
     ]
    },
    {
     "name": "stdout",
     "output_type": "stream",
     "text": [
      "17.468252722473146\n"
     ]
    },
    {
     "name": "stderr",
     "output_type": "stream",
     "text": [
      "\n",
      "  4%|▍         | 10/250 [00:00<00:02, 96.71it/s, loss=16.500/16.337]"
     ]
    },
    {
     "name": "stdout",
     "output_type": "stream",
     "text": [
      "epoch:1\n"
     ]
    },
    {
     "name": "stderr",
     "output_type": "stream",
     "text": [
      "100%|██████████| 250/250 [00:01<00:00, 126.10it/s, loss=16.083/15.550]\n"
     ]
    },
    {
     "name": "stdout",
     "output_type": "stream",
     "text": [
      "16.083373804321287\n"
     ]
    },
    {
     "name": "stderr",
     "output_type": "stream",
     "text": [
      "  4%|▎         | 9/250 [00:00<00:02, 87.45it/s, loss=15.639/15.621]"
     ]
    },
    {
     "name": "stdout",
     "output_type": "stream",
     "text": [
      "epoch:2\n"
     ]
    },
    {
     "name": "stderr",
     "output_type": "stream",
     "text": [
      "100%|██████████| 250/250 [00:02<00:00, 123.63it/s, loss=15.239/15.074]"
     ]
    },
    {
     "name": "stdout",
     "output_type": "stream",
     "text": [
      "15.239159704742429\n"
     ]
    },
    {
     "name": "stderr",
     "output_type": "stream",
     "text": [
      "\n",
      "  4%|▍         | 10/250 [00:00<00:02, 96.66it/s, loss=14.844/14.681]"
     ]
    },
    {
     "name": "stdout",
     "output_type": "stream",
     "text": [
      "epoch:3\n"
     ]
    },
    {
     "name": "stderr",
     "output_type": "stream",
     "text": [
      "100%|██████████| 250/250 [00:02<00:00, 122.76it/s, loss=14.578/13.791]"
     ]
    },
    {
     "name": "stdout",
     "output_type": "stream",
     "text": [
      "14.577643055725096\n"
     ]
    },
    {
     "name": "stderr",
     "output_type": "stream",
     "text": [
      "\n",
      "  4%|▍         | 10/250 [00:00<00:02, 97.81it/s, loss=14.250/14.285]"
     ]
    },
    {
     "name": "stdout",
     "output_type": "stream",
     "text": [
      "epoch:4\n"
     ]
    },
    {
     "name": "stderr",
     "output_type": "stream",
     "text": [
      "100%|██████████| 250/250 [00:01<00:00, 127.44it/s, loss=14.015/13.621]\n"
     ]
    },
    {
     "name": "stdout",
     "output_type": "stream",
     "text": [
      "14.015341282730104\n"
     ]
    },
    {
     "name": "stderr",
     "output_type": "stream",
     "text": [
      "  4%|▍         | 10/250 [00:00<00:02, 94.54it/s, loss=13.735/13.505]"
     ]
    },
    {
     "name": "stdout",
     "output_type": "stream",
     "text": [
      "epoch:5\n"
     ]
    },
    {
     "name": "stderr",
     "output_type": "stream",
     "text": [
      "100%|██████████| 250/250 [00:01<00:00, 126.39it/s, loss=13.515/14.041]\n"
     ]
    },
    {
     "name": "stdout",
     "output_type": "stream",
     "text": [
      "13.514606290130615\n"
     ]
    },
    {
     "name": "stderr",
     "output_type": "stream",
     "text": [
      "  4%|▍         | 11/250 [00:00<00:02, 105.09it/s, loss=13.236/13.397]"
     ]
    },
    {
     "name": "stdout",
     "output_type": "stream",
     "text": [
      "epoch:6\n"
     ]
    },
    {
     "name": "stderr",
     "output_type": "stream",
     "text": [
      "100%|██████████| 250/250 [00:02<00:00, 123.64it/s, loss=13.058/12.444]"
     ]
    },
    {
     "name": "stdout",
     "output_type": "stream",
     "text": [
      "13.058060020141607\n"
     ]
    },
    {
     "name": "stderr",
     "output_type": "stream",
     "text": [
      "\n",
      "  4%|▍         | 11/250 [00:00<00:02, 109.25it/s, loss=12.855/13.048]"
     ]
    },
    {
     "name": "stdout",
     "output_type": "stream",
     "text": [
      "epoch:7\n"
     ]
    },
    {
     "name": "stderr",
     "output_type": "stream",
     "text": [
      "100%|██████████| 250/250 [00:02<00:00, 125.94it/s, loss=12.638/12.182]"
     ]
    },
    {
     "name": "stdout",
     "output_type": "stream",
     "text": [
      "12.638117534713752\n"
     ]
    },
    {
     "name": "stderr",
     "output_type": "stream",
     "text": [
      "\n",
      "  5%|▍         | 12/250 [00:00<00:02, 114.44it/s, loss=12.476/12.318]"
     ]
    },
    {
     "name": "stdout",
     "output_type": "stream",
     "text": [
      "epoch:8\n"
     ]
    },
    {
     "name": "stderr",
     "output_type": "stream",
     "text": [
      "100%|██████████| 250/250 [00:01<00:00, 127.22it/s, loss=12.248/11.980]"
     ]
    },
    {
     "name": "stdout",
     "output_type": "stream",
     "text": [
      "12.247604243240362\n"
     ]
    },
    {
     "name": "stderr",
     "output_type": "stream",
     "text": [
      "\n",
      "  4%|▍         | 11/250 [00:00<00:02, 102.91it/s, loss=12.055/11.969]"
     ]
    },
    {
     "name": "stdout",
     "output_type": "stream",
     "text": [
      "epoch:9\n"
     ]
    },
    {
     "name": "stderr",
     "output_type": "stream",
     "text": [
      "100%|██████████| 250/250 [00:02<00:00, 120.61it/s, loss=11.885/11.468]"
     ]
    },
    {
     "name": "stdout",
     "output_type": "stream",
     "text": [
      "11.885130422210695\n"
     ]
    },
    {
     "name": "stderr",
     "output_type": "stream",
     "text": [
      "\n",
      "  4%|▍         | 10/250 [00:00<00:02, 96.57it/s, loss=11.657/11.919]"
     ]
    },
    {
     "name": "stdout",
     "output_type": "stream",
     "text": [
      "epoch:10\n"
     ]
    },
    {
     "name": "stderr",
     "output_type": "stream",
     "text": [
      "100%|██████████| 250/250 [00:01<00:00, 125.42it/s, loss=11.544/11.411]"
     ]
    },
    {
     "name": "stdout",
     "output_type": "stream",
     "text": [
      "11.543612541275026\n"
     ]
    },
    {
     "name": "stderr",
     "output_type": "stream",
     "text": [
      "\n",
      "  4%|▎         | 9/250 [00:00<00:02, 88.69it/s, loss=11.282/11.029]"
     ]
    },
    {
     "name": "stdout",
     "output_type": "stream",
     "text": [
      "epoch:11\n"
     ]
    },
    {
     "name": "stderr",
     "output_type": "stream",
     "text": [
      "100%|██████████| 250/250 [00:02<00:00, 121.20it/s, loss=11.224/11.546]\n"
     ]
    },
    {
     "name": "stdout",
     "output_type": "stream",
     "text": [
      "11.22448576576233\n"
     ]
    },
    {
     "name": "stderr",
     "output_type": "stream",
     "text": [
      "  4%|▎         | 9/250 [00:00<00:02, 88.08it/s, loss=11.008/10.582]"
     ]
    },
    {
     "name": "stdout",
     "output_type": "stream",
     "text": [
      "epoch:12\n"
     ]
    },
    {
     "name": "stderr",
     "output_type": "stream",
     "text": [
      "100%|██████████| 250/250 [00:02<00:00, 121.41it/s, loss=10.925/10.292]\n"
     ]
    },
    {
     "name": "stdout",
     "output_type": "stream",
     "text": [
      "10.925404503478996\n"
     ]
    },
    {
     "name": "stderr",
     "output_type": "stream",
     "text": [
      "  4%|▍         | 10/250 [00:00<00:02, 97.54it/s, loss=10.873/11.459]"
     ]
    },
    {
     "name": "stdout",
     "output_type": "stream",
     "text": [
      "epoch:13\n"
     ]
    },
    {
     "name": "stderr",
     "output_type": "stream",
     "text": [
      "100%|██████████| 250/250 [00:01<00:00, 125.14it/s, loss=10.641/10.268]\n"
     ]
    },
    {
     "name": "stdout",
     "output_type": "stream",
     "text": [
      "10.641123804855342\n"
     ]
    },
    {
     "name": "stderr",
     "output_type": "stream",
     "text": [
      "  4%|▍         | 10/250 [00:00<00:02, 96.74it/s, loss=10.448/10.863]"
     ]
    },
    {
     "name": "stdout",
     "output_type": "stream",
     "text": [
      "epoch:14\n"
     ]
    },
    {
     "name": "stderr",
     "output_type": "stream",
     "text": [
      "100%|██████████| 250/250 [00:01<00:00, 126.37it/s, loss=10.373/10.602]"
     ]
    },
    {
     "name": "stdout",
     "output_type": "stream",
     "text": [
      "10.373445298538208\n"
     ]
    },
    {
     "name": "stderr",
     "output_type": "stream",
     "text": [
      "\n",
      "  4%|▎         | 9/250 [00:00<00:02, 85.44it/s, loss=10.282/10.354]"
     ]
    },
    {
     "name": "stdout",
     "output_type": "stream",
     "text": [
      "epoch:15\n"
     ]
    },
    {
     "name": "stderr",
     "output_type": "stream",
     "text": [
      "100%|██████████| 250/250 [00:02<00:00, 123.08it/s, loss=10.122/10.390]"
     ]
    },
    {
     "name": "stdout",
     "output_type": "stream",
     "text": [
      "10.12238635894775\n"
     ]
    },
    {
     "name": "stderr",
     "output_type": "stream",
     "text": [
      "\n",
      "  4%|▍         | 11/250 [00:00<00:02, 108.42it/s, loss=10.022/10.226]"
     ]
    },
    {
     "name": "stdout",
     "output_type": "stream",
     "text": [
      "epoch:16\n"
     ]
    },
    {
     "name": "stderr",
     "output_type": "stream",
     "text": [
      "100%|██████████| 250/250 [00:02<00:00, 118.69it/s, loss=9.884/10.016]"
     ]
    },
    {
     "name": "stdout",
     "output_type": "stream",
     "text": [
      "9.88352467338562\n"
     ]
    },
    {
     "name": "stderr",
     "output_type": "stream",
     "text": [
      "\n",
      "  4%|▎         | 9/250 [00:00<00:02, 87.30it/s, loss=9.768/10.001]"
     ]
    },
    {
     "name": "stdout",
     "output_type": "stream",
     "text": [
      "epoch:17\n"
     ]
    },
    {
     "name": "stderr",
     "output_type": "stream",
     "text": [
      "100%|██████████| 250/250 [00:02<00:00, 118.63it/s, loss=9.658/9.824]"
     ]
    },
    {
     "name": "stdout",
     "output_type": "stream",
     "text": [
      "9.65782411117553\n"
     ]
    },
    {
     "name": "stderr",
     "output_type": "stream",
     "text": [
      "\n",
      "  4%|▍         | 11/250 [00:00<00:02, 109.10it/s, loss=9.438/9.021]"
     ]
    },
    {
     "name": "stdout",
     "output_type": "stream",
     "text": [
      "epoch:18\n"
     ]
    },
    {
     "name": "stderr",
     "output_type": "stream",
     "text": [
      "100%|██████████| 250/250 [00:02<00:00, 123.91it/s, loss=9.444/9.556]"
     ]
    },
    {
     "name": "stdout",
     "output_type": "stream",
     "text": [
      "9.443991833953858\n"
     ]
    },
    {
     "name": "stderr",
     "output_type": "stream",
     "text": [
      "\n",
      "  4%|▍         | 11/250 [00:00<00:02, 109.14it/s, loss=9.333/9.178]"
     ]
    },
    {
     "name": "stdout",
     "output_type": "stream",
     "text": [
      "epoch:19\n"
     ]
    },
    {
     "name": "stderr",
     "output_type": "stream",
     "text": [
      "100%|██████████| 250/250 [00:02<00:00, 121.90it/s, loss=9.243/9.073]"
     ]
    },
    {
     "name": "stdout",
     "output_type": "stream",
     "text": [
      "9.242528081741336\n"
     ]
    },
    {
     "name": "stderr",
     "output_type": "stream",
     "text": [
      "\n",
      "  5%|▍         | 12/250 [00:00<00:02, 116.64it/s, loss=9.116/9.115]"
     ]
    },
    {
     "name": "stdout",
     "output_type": "stream",
     "text": [
      "epoch:20\n"
     ]
    },
    {
     "name": "stderr",
     "output_type": "stream",
     "text": [
      "100%|██████████| 250/250 [00:01<00:00, 127.31it/s, loss=9.050/8.620]"
     ]
    },
    {
     "name": "stdout",
     "output_type": "stream",
     "text": [
      "9.049820881271362\n"
     ]
    },
    {
     "name": "stderr",
     "output_type": "stream",
     "text": [
      "\n",
      "  4%|▍         | 11/250 [00:00<00:02, 104.55it/s, loss=8.982/8.931]"
     ]
    },
    {
     "name": "stdout",
     "output_type": "stream",
     "text": [
      "epoch:21\n"
     ]
    },
    {
     "name": "stderr",
     "output_type": "stream",
     "text": [
      "100%|██████████| 250/250 [00:02<00:00, 123.67it/s, loss=8.869/8.055]"
     ]
    },
    {
     "name": "stdout",
     "output_type": "stream",
     "text": [
      "8.869377263755792\n"
     ]
    },
    {
     "name": "stderr",
     "output_type": "stream",
     "text": [
      "\n",
      "  4%|▎         | 9/250 [00:00<00:02, 84.33it/s, loss=8.673/8.389]"
     ]
    },
    {
     "name": "stdout",
     "output_type": "stream",
     "text": [
      "epoch:22\n"
     ]
    },
    {
     "name": "stderr",
     "output_type": "stream",
     "text": [
      "100%|██████████| 250/250 [00:01<00:00, 126.07it/s, loss=8.696/8.521]"
     ]
    },
    {
     "name": "stdout",
     "output_type": "stream",
     "text": [
      "8.69579874507904\n"
     ]
    },
    {
     "name": "stderr",
     "output_type": "stream",
     "text": [
      "\n",
      "  4%|▎         | 9/250 [00:00<00:02, 83.70it/s, loss=8.700/8.785]"
     ]
    },
    {
     "name": "stdout",
     "output_type": "stream",
     "text": [
      "epoch:23\n"
     ]
    },
    {
     "name": "stderr",
     "output_type": "stream",
     "text": [
      "100%|██████████| 250/250 [00:01<00:00, 127.60it/s, loss=8.533/8.338]\n"
     ]
    },
    {
     "name": "stdout",
     "output_type": "stream",
     "text": [
      "8.532903923301694\n"
     ]
    },
    {
     "name": "stderr",
     "output_type": "stream",
     "text": [
      "  4%|▎         | 9/250 [00:00<00:02, 88.37it/s, loss=8.589/8.596]"
     ]
    },
    {
     "name": "stdout",
     "output_type": "stream",
     "text": [
      "epoch:24\n"
     ]
    },
    {
     "name": "stderr",
     "output_type": "stream",
     "text": [
      "100%|██████████| 250/250 [00:01<00:00, 127.47it/s, loss=8.378/8.445]\n"
     ]
    },
    {
     "name": "stdout",
     "output_type": "stream",
     "text": [
      "8.37849558074951\n"
     ]
    },
    {
     "name": "stderr",
     "output_type": "stream",
     "text": [
      "100%|██████████| 50/50 [00:00<00:00, 129.35it/s]"
     ]
    },
    {
     "name": "stdout",
     "output_type": "stream",
     "text": [
      "lr:0.01; reg:1000; acc:0.3475\n"
     ]
    },
    {
     "name": "stderr",
     "output_type": "stream",
     "text": [
      "\n",
      "  4%|▎         | 9/250 [00:00<00:02, 88.71it/s, loss=19.567/19.562]"
     ]
    },
    {
     "name": "stdout",
     "output_type": "stream",
     "text": [
      "epoch:0\n"
     ]
    },
    {
     "name": "stderr",
     "output_type": "stream",
     "text": [
      "100%|██████████| 250/250 [00:02<00:00, 124.07it/s, loss=18.065/17.181]"
     ]
    },
    {
     "name": "stdout",
     "output_type": "stream",
     "text": [
      "18.065440831756597\n"
     ]
    },
    {
     "name": "stderr",
     "output_type": "stream",
     "text": [
      "\n",
      "  5%|▍         | 12/250 [00:00<00:02, 117.21it/s, loss=17.088/17.040]"
     ]
    },
    {
     "name": "stdout",
     "output_type": "stream",
     "text": [
      "epoch:1\n"
     ]
    },
    {
     "name": "stderr",
     "output_type": "stream",
     "text": [
      "100%|██████████| 250/250 [00:02<00:00, 120.51it/s, loss=16.425/15.664]"
     ]
    },
    {
     "name": "stdout",
     "output_type": "stream",
     "text": [
      "16.42518378341675\n"
     ]
    },
    {
     "name": "stderr",
     "output_type": "stream",
     "text": [
      "\n",
      "  4%|▎         | 9/250 [00:00<00:03, 76.56it/s, loss=15.864/15.898]"
     ]
    },
    {
     "name": "stdout",
     "output_type": "stream",
     "text": [
      "epoch:2\n"
     ]
    },
    {
     "name": "stderr",
     "output_type": "stream",
     "text": [
      "100%|██████████| 250/250 [00:02<00:00, 121.87it/s, loss=15.456/15.496]\n"
     ]
    },
    {
     "name": "stdout",
     "output_type": "stream",
     "text": [
      "15.456286075592045\n"
     ]
    },
    {
     "name": "stderr",
     "output_type": "stream",
     "text": [
      "  4%|▍         | 10/250 [00:00<00:02, 98.29it/s, loss=15.029/14.582]"
     ]
    },
    {
     "name": "stdout",
     "output_type": "stream",
     "text": [
      "epoch:3\n"
     ]
    },
    {
     "name": "stderr",
     "output_type": "stream",
     "text": [
      "100%|██████████| 250/250 [00:02<00:00, 124.08it/s, loss=14.752/14.521]\n"
     ]
    },
    {
     "name": "stdout",
     "output_type": "stream",
     "text": [
      "14.752382411041259\n"
     ]
    },
    {
     "name": "stderr",
     "output_type": "stream",
     "text": [
      "  4%|▍         | 11/250 [00:00<00:02, 107.73it/s, loss=14.549/14.482]"
     ]
    },
    {
     "name": "stdout",
     "output_type": "stream",
     "text": [
      "epoch:4\n"
     ]
    },
    {
     "name": "stderr",
     "output_type": "stream",
     "text": [
      "100%|██████████| 250/250 [00:02<00:00, 123.82it/s, loss=14.165/13.835]"
     ]
    },
    {
     "name": "stdout",
     "output_type": "stream",
     "text": [
      "14.164590626068115\n"
     ]
    },
    {
     "name": "stderr",
     "output_type": "stream",
     "text": [
      "\n",
      "  4%|▎         | 9/250 [00:00<00:02, 88.69it/s, loss=13.920/13.515]"
     ]
    },
    {
     "name": "stdout",
     "output_type": "stream",
     "text": [
      "epoch:5\n"
     ]
    },
    {
     "name": "stderr",
     "output_type": "stream",
     "text": [
      "100%|██████████| 250/250 [00:01<00:00, 126.83it/s, loss=13.646/13.564]"
     ]
    },
    {
     "name": "stdout",
     "output_type": "stream",
     "text": [
      "13.646297334213262\n"
     ]
    },
    {
     "name": "stderr",
     "output_type": "stream",
     "text": [
      "\n",
      "  4%|▍         | 10/250 [00:00<00:02, 97.98it/s, loss=13.436/13.498]"
     ]
    },
    {
     "name": "stdout",
     "output_type": "stream",
     "text": [
      "epoch:6\n"
     ]
    },
    {
     "name": "stderr",
     "output_type": "stream",
     "text": [
      "100%|██████████| 250/250 [00:02<00:00, 124.20it/s, loss=13.179/13.036]\n"
     ]
    },
    {
     "name": "stdout",
     "output_type": "stream",
     "text": [
      "13.178773640670775\n"
     ]
    },
    {
     "name": "stderr",
     "output_type": "stream",
     "text": [
      "  4%|▍         | 10/250 [00:00<00:02, 100.00it/s, loss=12.999/12.613]"
     ]
    },
    {
     "name": "stdout",
     "output_type": "stream",
     "text": [
      "epoch:7\n"
     ]
    },
    {
     "name": "stderr",
     "output_type": "stream",
     "text": [
      "100%|██████████| 250/250 [00:01<00:00, 128.52it/s, loss=12.750/12.648]"
     ]
    },
    {
     "name": "stdout",
     "output_type": "stream",
     "text": [
      "12.749676422195439\n"
     ]
    },
    {
     "name": "stderr",
     "output_type": "stream",
     "text": [
      "\n",
      "  4%|▍         | 11/250 [00:00<00:02, 102.10it/s, loss=12.429/12.402]"
     ]
    },
    {
     "name": "stdout",
     "output_type": "stream",
     "text": [
      "epoch:8\n"
     ]
    },
    {
     "name": "stderr",
     "output_type": "stream",
     "text": [
      "100%|██████████| 250/250 [00:02<00:00, 122.07it/s, loss=12.351/12.496]"
     ]
    },
    {
     "name": "stdout",
     "output_type": "stream",
     "text": [
      "12.350718756408687\n"
     ]
    },
    {
     "name": "stderr",
     "output_type": "stream",
     "text": [
      "\n",
      "  4%|▍         | 10/250 [00:00<00:02, 99.80it/s, loss=12.119/11.887]"
     ]
    },
    {
     "name": "stdout",
     "output_type": "stream",
     "text": [
      "epoch:9\n"
     ]
    },
    {
     "name": "stderr",
     "output_type": "stream",
     "text": [
      "100%|██████████| 250/250 [00:02<00:00, 124.60it/s, loss=11.980/12.255]"
     ]
    },
    {
     "name": "stdout",
     "output_type": "stream",
     "text": [
      "11.980370386810305\n"
     ]
    },
    {
     "name": "stderr",
     "output_type": "stream",
     "text": [
      "\n",
      "  4%|▍         | 11/250 [00:00<00:02, 104.09it/s, loss=11.809/12.035]"
     ]
    },
    {
     "name": "stdout",
     "output_type": "stream",
     "text": [
      "epoch:10\n"
     ]
    },
    {
     "name": "stderr",
     "output_type": "stream",
     "text": [
      "100%|██████████| 250/250 [00:02<00:00, 124.74it/s, loss=11.634/11.531]"
     ]
    },
    {
     "name": "stdout",
     "output_type": "stream",
     "text": [
      "11.63373385154725\n"
     ]
    },
    {
     "name": "stderr",
     "output_type": "stream",
     "text": [
      "\n",
      "  4%|▍         | 10/250 [00:00<00:02, 95.83it/s, loss=11.359/11.429]"
     ]
    },
    {
     "name": "stdout",
     "output_type": "stream",
     "text": [
      "epoch:11\n"
     ]
    },
    {
     "name": "stderr",
     "output_type": "stream",
     "text": [
      "100%|██████████| 250/250 [00:02<00:00, 123.76it/s, loss=11.308/11.089]"
     ]
    },
    {
     "name": "stdout",
     "output_type": "stream",
     "text": [
      "11.307634508590697\n"
     ]
    },
    {
     "name": "stderr",
     "output_type": "stream",
     "text": [
      "\n",
      "  4%|▍         | 10/250 [00:00<00:02, 96.69it/s, loss=11.079/10.694]"
     ]
    },
    {
     "name": "stdout",
     "output_type": "stream",
     "text": [
      "epoch:12\n"
     ]
    },
    {
     "name": "stderr",
     "output_type": "stream",
     "text": [
      "100%|██████████| 250/250 [00:02<00:00, 122.01it/s, loss=11.003/10.600]"
     ]
    },
    {
     "name": "stdout",
     "output_type": "stream",
     "text": [
      "11.00273172706604\n"
     ]
    },
    {
     "name": "stderr",
     "output_type": "stream",
     "text": [
      "\n",
      "  4%|▎         | 9/250 [00:00<00:02, 88.38it/s, loss=10.958/10.756]"
     ]
    },
    {
     "name": "stdout",
     "output_type": "stream",
     "text": [
      "epoch:13\n"
     ]
    },
    {
     "name": "stderr",
     "output_type": "stream",
     "text": [
      "100%|██████████| 250/250 [00:02<00:00, 118.93it/s, loss=10.714/10.592]\n"
     ]
    },
    {
     "name": "stdout",
     "output_type": "stream",
     "text": [
      "10.713924961776744\n"
     ]
    },
    {
     "name": "stderr",
     "output_type": "stream",
     "text": [
      "  4%|▎         | 9/250 [00:00<00:02, 81.64it/s, loss=10.573/10.637]"
     ]
    },
    {
     "name": "stdout",
     "output_type": "stream",
     "text": [
      "epoch:14\n"
     ]
    },
    {
     "name": "stderr",
     "output_type": "stream",
     "text": [
      "100%|██████████| 250/250 [00:02<00:00, 124.93it/s, loss=10.442/10.124]"
     ]
    },
    {
     "name": "stdout",
     "output_type": "stream",
     "text": [
      "10.442297568588257\n"
     ]
    },
    {
     "name": "stderr",
     "output_type": "stream",
     "text": [
      "\n",
      "  4%|▍         | 10/250 [00:00<00:02, 99.20it/s, loss=10.446/10.534]"
     ]
    },
    {
     "name": "stdout",
     "output_type": "stream",
     "text": [
      "epoch:15\n"
     ]
    },
    {
     "name": "stderr",
     "output_type": "stream",
     "text": [
      "100%|██████████| 250/250 [00:01<00:00, 128.71it/s, loss=10.185/9.831]\n"
     ]
    },
    {
     "name": "stdout",
     "output_type": "stream",
     "text": [
      "10.184775684585569\n"
     ]
    },
    {
     "name": "stderr",
     "output_type": "stream",
     "text": [
      "  4%|▎         | 9/250 [00:00<00:02, 89.47it/s, loss=10.111/9.990] "
     ]
    },
    {
     "name": "stdout",
     "output_type": "stream",
     "text": [
      "epoch:16\n"
     ]
    },
    {
     "name": "stderr",
     "output_type": "stream",
     "text": [
      "100%|██████████| 250/250 [00:02<00:00, 122.53it/s, loss=9.944/9.944]"
     ]
    },
    {
     "name": "stdout",
     "output_type": "stream",
     "text": [
      "9.943885758209229\n"
     ]
    },
    {
     "name": "stderr",
     "output_type": "stream",
     "text": [
      "\n",
      "  4%|▍         | 10/250 [00:00<00:02, 96.50it/s, loss=9.654/9.540]"
     ]
    },
    {
     "name": "stdout",
     "output_type": "stream",
     "text": [
      "epoch:17\n"
     ]
    },
    {
     "name": "stderr",
     "output_type": "stream",
     "text": [
      "100%|██████████| 250/250 [00:02<00:00, 122.47it/s, loss=9.716/10.406]"
     ]
    },
    {
     "name": "stdout",
     "output_type": "stream",
     "text": [
      "9.715616761322023\n"
     ]
    },
    {
     "name": "stderr",
     "output_type": "stream",
     "text": [
      "\n",
      "  4%|▍         | 10/250 [00:00<00:02, 96.77it/s, loss=9.718/9.633]"
     ]
    },
    {
     "name": "stdout",
     "output_type": "stream",
     "text": [
      "epoch:18\n"
     ]
    },
    {
     "name": "stderr",
     "output_type": "stream",
     "text": [
      "100%|██████████| 250/250 [00:02<00:00, 129.28it/s, loss=9.499/9.093]\n"
     ]
    },
    {
     "name": "stdout",
     "output_type": "stream",
     "text": [
      "9.498930023040769\n"
     ]
    },
    {
     "name": "stderr",
     "output_type": "stream",
     "text": [
      "  4%|▍         | 10/250 [00:00<00:02, 96.51it/s, loss=9.386/9.264]"
     ]
    },
    {
     "name": "stdout",
     "output_type": "stream",
     "text": [
      "epoch:19\n"
     ]
    },
    {
     "name": "stderr",
     "output_type": "stream",
     "text": [
      "100%|██████████| 250/250 [00:02<00:00, 121.04it/s, loss=9.293/9.107]"
     ]
    },
    {
     "name": "stdout",
     "output_type": "stream",
     "text": [
      "9.293206131553653\n"
     ]
    },
    {
     "name": "stderr",
     "output_type": "stream",
     "text": [
      "\n",
      "  5%|▍         | 12/250 [00:00<00:02, 113.44it/s, loss=9.241/9.941]"
     ]
    },
    {
     "name": "stdout",
     "output_type": "stream",
     "text": [
      "epoch:20\n"
     ]
    },
    {
     "name": "stderr",
     "output_type": "stream",
     "text": [
      "100%|██████████| 250/250 [00:02<00:00, 124.80it/s, loss=9.098/8.978]\n"
     ]
    },
    {
     "name": "stdout",
     "output_type": "stream",
     "text": [
      "9.097881811218265\n"
     ]
    },
    {
     "name": "stderr",
     "output_type": "stream",
     "text": [
      "  4%|▎         | 9/250 [00:00<00:02, 87.77it/s, loss=8.942/8.792]"
     ]
    },
    {
     "name": "stdout",
     "output_type": "stream",
     "text": [
      "epoch:21\n"
     ]
    },
    {
     "name": "stderr",
     "output_type": "stream",
     "text": [
      "100%|██████████| 250/250 [00:02<00:00, 118.94it/s, loss=8.915/9.348]"
     ]
    },
    {
     "name": "stdout",
     "output_type": "stream",
     "text": [
      "8.914557628631597\n"
     ]
    },
    {
     "name": "stderr",
     "output_type": "stream",
     "text": [
      "\n",
      "  5%|▍         | 12/250 [00:00<00:01, 119.21it/s, loss=8.760/8.699]"
     ]
    },
    {
     "name": "stdout",
     "output_type": "stream",
     "text": [
      "epoch:22\n"
     ]
    },
    {
     "name": "stderr",
     "output_type": "stream",
     "text": [
      "100%|██████████| 250/250 [00:02<00:00, 124.82it/s, loss=8.740/9.115]\n"
     ]
    },
    {
     "name": "stdout",
     "output_type": "stream",
     "text": [
      "8.740255799903867\n"
     ]
    },
    {
     "name": "stderr",
     "output_type": "stream",
     "text": [
      "  5%|▍         | 12/250 [00:00<00:02, 117.99it/s, loss=8.721/8.665]"
     ]
    },
    {
     "name": "stdout",
     "output_type": "stream",
     "text": [
      "epoch:23\n"
     ]
    },
    {
     "name": "stderr",
     "output_type": "stream",
     "text": [
      "100%|██████████| 250/250 [00:01<00:00, 128.88it/s, loss=8.573/8.085]"
     ]
    },
    {
     "name": "stdout",
     "output_type": "stream",
     "text": [
      "8.57292573589325\n"
     ]
    },
    {
     "name": "stderr",
     "output_type": "stream",
     "text": [
      "\n",
      "  4%|▍         | 10/250 [00:00<00:02, 96.67it/s, loss=8.428/8.704]"
     ]
    },
    {
     "name": "stdout",
     "output_type": "stream",
     "text": [
      "epoch:24\n"
     ]
    },
    {
     "name": "stderr",
     "output_type": "stream",
     "text": [
      "100%|██████████| 250/250 [00:02<00:00, 120.76it/s, loss=8.417/8.392]\n"
     ]
    },
    {
     "name": "stdout",
     "output_type": "stream",
     "text": [
      "8.416777057037352\n"
     ]
    },
    {
     "name": "stderr",
     "output_type": "stream",
     "text": [
      "100%|██████████| 50/50 [00:00<00:00, 121.33it/s]\n"
     ]
    },
    {
     "name": "stdout",
     "output_type": "stream",
     "text": [
      "lr:0.001; reg:0; acc:0.3501\n"
     ]
    },
    {
     "name": "stderr",
     "output_type": "stream",
     "text": [
      "  4%|▎         | 9/250 [00:00<00:02, 84.94it/s, loss=18.988/18.893]"
     ]
    },
    {
     "name": "stdout",
     "output_type": "stream",
     "text": [
      "epoch:0\n"
     ]
    },
    {
     "name": "stderr",
     "output_type": "stream",
     "text": [
      "100%|██████████| 250/250 [00:02<00:00, 117.27it/s, loss=17.775/17.542]"
     ]
    },
    {
     "name": "stdout",
     "output_type": "stream",
     "text": [
      "17.775390431213378\n"
     ]
    },
    {
     "name": "stderr",
     "output_type": "stream",
     "text": [
      "\n",
      "  4%|▎         | 9/250 [00:00<00:02, 85.96it/s, loss=16.622/16.472]"
     ]
    },
    {
     "name": "stdout",
     "output_type": "stream",
     "text": [
      "epoch:1\n"
     ]
    },
    {
     "name": "stderr",
     "output_type": "stream",
     "text": [
      "100%|██████████| 250/250 [00:02<00:00, 118.30it/s, loss=16.190/15.924]\n"
     ]
    },
    {
     "name": "stdout",
     "output_type": "stream",
     "text": [
      "16.19020367370605\n"
     ]
    },
    {
     "name": "stderr",
     "output_type": "stream",
     "text": [
      "  4%|▍         | 11/250 [00:00<00:02, 106.08it/s, loss=15.618/15.936]"
     ]
    },
    {
     "name": "stdout",
     "output_type": "stream",
     "text": [
      "epoch:2\n"
     ]
    },
    {
     "name": "stderr",
     "output_type": "stream",
     "text": [
      "100%|██████████| 250/250 [00:02<00:00, 123.71it/s, loss=15.262/15.129]"
     ]
    },
    {
     "name": "stdout",
     "output_type": "stream",
     "text": [
      "15.26187125106812\n"
     ]
    },
    {
     "name": "stderr",
     "output_type": "stream",
     "text": [
      "\n",
      "  4%|▍         | 11/250 [00:00<00:02, 107.87it/s, loss=14.828/14.494]"
     ]
    },
    {
     "name": "stdout",
     "output_type": "stream",
     "text": [
      "epoch:3\n"
     ]
    },
    {
     "name": "stderr",
     "output_type": "stream",
     "text": [
      "100%|██████████| 250/250 [00:01<00:00, 127.16it/s, loss=14.572/14.235]"
     ]
    },
    {
     "name": "stdout",
     "output_type": "stream",
     "text": [
      "14.572403966064465\n"
     ]
    },
    {
     "name": "stderr",
     "output_type": "stream",
     "text": [
      "\n",
      "  4%|▍         | 10/250 [00:00<00:02, 96.81it/s, loss=14.243/14.082]"
     ]
    },
    {
     "name": "stdout",
     "output_type": "stream",
     "text": [
      "epoch:4\n"
     ]
    },
    {
     "name": "stderr",
     "output_type": "stream",
     "text": [
      "100%|██████████| 250/250 [00:02<00:00, 116.12it/s, loss=13.995/13.657]"
     ]
    },
    {
     "name": "stdout",
     "output_type": "stream",
     "text": [
      "13.995466187973019\n"
     ]
    },
    {
     "name": "stderr",
     "output_type": "stream",
     "text": [
      "\n",
      "  4%|▍         | 10/250 [00:00<00:02, 99.62it/s, loss=13.804/13.883]"
     ]
    },
    {
     "name": "stdout",
     "output_type": "stream",
     "text": [
      "epoch:5\n"
     ]
    },
    {
     "name": "stderr",
     "output_type": "stream",
     "text": [
      "100%|██████████| 250/250 [00:02<00:00, 127.29it/s, loss=13.488/13.384]\n"
     ]
    },
    {
     "name": "stdout",
     "output_type": "stream",
     "text": [
      "13.487838833770759\n"
     ]
    },
    {
     "name": "stderr",
     "output_type": "stream",
     "text": [
      "  4%|▎         | 9/250 [00:00<00:02, 88.85it/s, loss=13.183/13.052]"
     ]
    },
    {
     "name": "stdout",
     "output_type": "stream",
     "text": [
      "epoch:6\n"
     ]
    },
    {
     "name": "stderr",
     "output_type": "stream",
     "text": [
      "100%|██████████| 250/250 [00:02<00:00, 122.85it/s, loss=13.028/12.996]\n"
     ]
    },
    {
     "name": "stdout",
     "output_type": "stream",
     "text": [
      "13.028180516281113\n"
     ]
    },
    {
     "name": "stderr",
     "output_type": "stream",
     "text": [
      "  5%|▍         | 12/250 [00:00<00:02, 116.85it/s, loss=12.787/12.774]"
     ]
    },
    {
     "name": "stdout",
     "output_type": "stream",
     "text": [
      "epoch:7\n"
     ]
    },
    {
     "name": "stderr",
     "output_type": "stream",
     "text": [
      "100%|██████████| 250/250 [00:01<00:00, 125.20it/s, loss=12.606/12.134]"
     ]
    },
    {
     "name": "stdout",
     "output_type": "stream",
     "text": [
      "12.6064019708252\n"
     ]
    },
    {
     "name": "stderr",
     "output_type": "stream",
     "text": [
      "\n",
      "  4%|▍         | 10/250 [00:00<00:02, 96.90it/s, loss=12.404/11.927]"
     ]
    },
    {
     "name": "stdout",
     "output_type": "stream",
     "text": [
      "epoch:8\n"
     ]
    },
    {
     "name": "stderr",
     "output_type": "stream",
     "text": [
      "100%|██████████| 250/250 [00:01<00:00, 126.26it/s, loss=12.216/11.938]"
     ]
    },
    {
     "name": "stdout",
     "output_type": "stream",
     "text": [
      "12.215849483184806\n"
     ]
    },
    {
     "name": "stderr",
     "output_type": "stream",
     "text": [
      "\n",
      "  4%|▍         | 10/250 [00:00<00:02, 98.63it/s, loss=11.977/12.128]"
     ]
    },
    {
     "name": "stdout",
     "output_type": "stream",
     "text": [
      "epoch:9\n"
     ]
    },
    {
     "name": "stderr",
     "output_type": "stream",
     "text": [
      "100%|██████████| 250/250 [00:02<00:00, 121.49it/s, loss=11.853/11.238]"
     ]
    },
    {
     "name": "stdout",
     "output_type": "stream",
     "text": [
      "11.852835023651112\n"
     ]
    },
    {
     "name": "stderr",
     "output_type": "stream",
     "text": [
      "\n",
      "  4%|▍         | 10/250 [00:00<00:02, 94.47it/s, loss=11.711/11.513]"
     ]
    },
    {
     "name": "stdout",
     "output_type": "stream",
     "text": [
      "epoch:10\n"
     ]
    },
    {
     "name": "stderr",
     "output_type": "stream",
     "text": [
      "100%|██████████| 250/250 [00:02<00:00, 121.52it/s, loss=11.511/11.363]"
     ]
    },
    {
     "name": "stdout",
     "output_type": "stream",
     "text": [
      "11.51145655311584\n"
     ]
    },
    {
     "name": "stderr",
     "output_type": "stream",
     "text": [
      "\n",
      "  4%|▍         | 10/250 [00:00<00:02, 96.40it/s, loss=11.231/11.116]"
     ]
    },
    {
     "name": "stdout",
     "output_type": "stream",
     "text": [
      "epoch:11\n"
     ]
    },
    {
     "name": "stderr",
     "output_type": "stream",
     "text": [
      "100%|██████████| 250/250 [00:02<00:00, 123.14it/s, loss=11.195/11.005]"
     ]
    },
    {
     "name": "stdout",
     "output_type": "stream",
     "text": [
      "11.194531906051637\n"
     ]
    },
    {
     "name": "stderr",
     "output_type": "stream",
     "text": [
      "\n",
      "  4%|▍         | 10/250 [00:00<00:02, 95.89it/s, loss=11.069/10.912]"
     ]
    },
    {
     "name": "stdout",
     "output_type": "stream",
     "text": [
      "epoch:12\n"
     ]
    },
    {
     "name": "stderr",
     "output_type": "stream",
     "text": [
      "100%|██████████| 250/250 [00:02<00:00, 122.63it/s, loss=10.893/10.532]"
     ]
    },
    {
     "name": "stdout",
     "output_type": "stream",
     "text": [
      "10.893212919616692\n"
     ]
    },
    {
     "name": "stderr",
     "output_type": "stream",
     "text": [
      "\n",
      "  4%|▍         | 11/250 [00:00<00:02, 108.80it/s, loss=10.721/10.951]"
     ]
    },
    {
     "name": "stdout",
     "output_type": "stream",
     "text": [
      "epoch:13\n"
     ]
    },
    {
     "name": "stderr",
     "output_type": "stream",
     "text": [
      "100%|██████████| 250/250 [00:02<00:00, 123.11it/s, loss=10.611/10.821]"
     ]
    },
    {
     "name": "stdout",
     "output_type": "stream",
     "text": [
      "10.611330493316649\n"
     ]
    },
    {
     "name": "stderr",
     "output_type": "stream",
     "text": [
      "\n",
      "  4%|▎         | 9/250 [00:00<00:03, 78.83it/s, loss=10.360/10.229]"
     ]
    },
    {
     "name": "stdout",
     "output_type": "stream",
     "text": [
      "epoch:14\n"
     ]
    },
    {
     "name": "stderr",
     "output_type": "stream",
     "text": [
      "100%|██████████| 250/250 [00:01<00:00, 126.20it/s, loss=10.346/10.335]"
     ]
    },
    {
     "name": "stdout",
     "output_type": "stream",
     "text": [
      "10.346473124008172\n"
     ]
    },
    {
     "name": "stderr",
     "output_type": "stream",
     "text": [
      "\n",
      "  4%|▎         | 9/250 [00:00<00:02, 86.98it/s, loss=10.150/9.543]"
     ]
    },
    {
     "name": "stdout",
     "output_type": "stream",
     "text": [
      "epoch:15\n"
     ]
    },
    {
     "name": "stderr",
     "output_type": "stream",
     "text": [
      "100%|██████████| 250/250 [00:02<00:00, 121.42it/s, loss=10.094/9.529]"
     ]
    },
    {
     "name": "stdout",
     "output_type": "stream",
     "text": [
      "10.093899289093015\n"
     ]
    },
    {
     "name": "stderr",
     "output_type": "stream",
     "text": [
      "\n",
      "  4%|▍         | 10/250 [00:00<00:02, 97.12it/s, loss=9.934/9.832]"
     ]
    },
    {
     "name": "stdout",
     "output_type": "stream",
     "text": [
      "epoch:16\n"
     ]
    },
    {
     "name": "stderr",
     "output_type": "stream",
     "text": [
      "100%|██████████| 250/250 [00:01<00:00, 128.44it/s, loss=9.857/9.205]"
     ]
    },
    {
     "name": "stdout",
     "output_type": "stream",
     "text": [
      "9.857076516113285\n"
     ]
    },
    {
     "name": "stderr",
     "output_type": "stream",
     "text": [
      "\n",
      "  4%|▎         | 9/250 [00:00<00:02, 89.93it/s, loss=9.711/9.640]"
     ]
    },
    {
     "name": "stdout",
     "output_type": "stream",
     "text": [
      "epoch:17\n"
     ]
    },
    {
     "name": "stderr",
     "output_type": "stream",
     "text": [
      "100%|██████████| 250/250 [00:02<00:00, 118.07it/s, loss=9.633/9.845]\n"
     ]
    },
    {
     "name": "stdout",
     "output_type": "stream",
     "text": [
      "9.632610725097651\n"
     ]
    },
    {
     "name": "stderr",
     "output_type": "stream",
     "text": [
      "  4%|▍         | 10/250 [00:00<00:02, 98.46it/s, loss=9.568/9.662]"
     ]
    },
    {
     "name": "stdout",
     "output_type": "stream",
     "text": [
      "epoch:18\n"
     ]
    },
    {
     "name": "stderr",
     "output_type": "stream",
     "text": [
      "100%|██████████| 250/250 [00:01<00:00, 126.45it/s, loss=9.419/9.160]\n"
     ]
    },
    {
     "name": "stdout",
     "output_type": "stream",
     "text": [
      "9.419052073593136\n"
     ]
    },
    {
     "name": "stderr",
     "output_type": "stream",
     "text": [
      "  4%|▎         | 9/250 [00:00<00:02, 85.72it/s, loss=9.244/8.998]"
     ]
    },
    {
     "name": "stdout",
     "output_type": "stream",
     "text": [
      "epoch:19\n"
     ]
    },
    {
     "name": "stderr",
     "output_type": "stream",
     "text": [
      "100%|██████████| 250/250 [00:02<00:00, 122.21it/s, loss=9.220/9.038]"
     ]
    },
    {
     "name": "stdout",
     "output_type": "stream",
     "text": [
      "9.219737656555177\n"
     ]
    },
    {
     "name": "stderr",
     "output_type": "stream",
     "text": [
      "\n",
      "  4%|▍         | 11/250 [00:00<00:02, 109.72it/s, loss=9.215/9.364]"
     ]
    },
    {
     "name": "stdout",
     "output_type": "stream",
     "text": [
      "epoch:20\n"
     ]
    },
    {
     "name": "stderr",
     "output_type": "stream",
     "text": [
      "100%|██████████| 250/250 [00:02<00:00, 118.49it/s, loss=9.029/8.866]"
     ]
    },
    {
     "name": "stdout",
     "output_type": "stream",
     "text": [
      "9.028549888343811\n"
     ]
    },
    {
     "name": "stderr",
     "output_type": "stream",
     "text": [
      "\n",
      "  4%|▎         | 9/250 [00:00<00:02, 87.94it/s, loss=8.994/9.299]"
     ]
    },
    {
     "name": "stdout",
     "output_type": "stream",
     "text": [
      "epoch:21\n"
     ]
    },
    {
     "name": "stderr",
     "output_type": "stream",
     "text": [
      "100%|██████████| 250/250 [00:02<00:00, 129.85it/s, loss=8.846/9.032]"
     ]
    },
    {
     "name": "stdout",
     "output_type": "stream",
     "text": [
      "8.845897173004156\n"
     ]
    },
    {
     "name": "stderr",
     "output_type": "stream",
     "text": [
      "\n",
      "  4%|▎         | 9/250 [00:00<00:02, 88.22it/s, loss=8.788/8.798]"
     ]
    },
    {
     "name": "stdout",
     "output_type": "stream",
     "text": [
      "epoch:22\n"
     ]
    },
    {
     "name": "stderr",
     "output_type": "stream",
     "text": [
      "100%|██████████| 250/250 [00:02<00:00, 124.37it/s, loss=8.677/8.831]"
     ]
    },
    {
     "name": "stdout",
     "output_type": "stream",
     "text": [
      "8.676664601898196\n"
     ]
    },
    {
     "name": "stderr",
     "output_type": "stream",
     "text": [
      "\n",
      "  4%|▍         | 10/250 [00:00<00:02, 95.03it/s, loss=8.576/8.659]"
     ]
    },
    {
     "name": "stdout",
     "output_type": "stream",
     "text": [
      "epoch:23\n"
     ]
    },
    {
     "name": "stderr",
     "output_type": "stream",
     "text": [
      "100%|██████████| 250/250 [00:02<00:00, 120.08it/s, loss=8.514/8.421]"
     ]
    },
    {
     "name": "stdout",
     "output_type": "stream",
     "text": [
      "8.513885996475215\n"
     ]
    },
    {
     "name": "stderr",
     "output_type": "stream",
     "text": [
      "\n",
      "  4%|▎         | 9/250 [00:00<00:02, 89.79it/s, loss=8.455/8.146]"
     ]
    },
    {
     "name": "stdout",
     "output_type": "stream",
     "text": [
      "epoch:24\n"
     ]
    },
    {
     "name": "stderr",
     "output_type": "stream",
     "text": [
      "100%|██████████| 250/250 [00:01<00:00, 127.09it/s, loss=8.360/8.338]\n"
     ]
    },
    {
     "name": "stdout",
     "output_type": "stream",
     "text": [
      "8.35952166179657\n"
     ]
    },
    {
     "name": "stderr",
     "output_type": "stream",
     "text": [
      "100%|██████████| 50/50 [00:00<00:00, 108.54it/s]"
     ]
    },
    {
     "name": "stdout",
     "output_type": "stream",
     "text": [
      "lr:0.001; reg:1; acc:0.3514\n"
     ]
    },
    {
     "name": "stderr",
     "output_type": "stream",
     "text": [
      "\n",
      "  4%|▍         | 10/250 [00:00<00:02, 97.76it/s, loss=20.168/19.552]"
     ]
    },
    {
     "name": "stdout",
     "output_type": "stream",
     "text": [
      "epoch:0\n"
     ]
    },
    {
     "name": "stderr",
     "output_type": "stream",
     "text": [
      "100%|██████████| 250/250 [00:01<00:00, 125.14it/s, loss=18.034/17.202]\n"
     ]
    },
    {
     "name": "stdout",
     "output_type": "stream",
     "text": [
      "18.033984776916498\n"
     ]
    },
    {
     "name": "stderr",
     "output_type": "stream",
     "text": [
      "  5%|▍         | 12/250 [00:00<00:02, 116.06it/s, loss=16.988/17.194]"
     ]
    },
    {
     "name": "stdout",
     "output_type": "stream",
     "text": [
      "epoch:1\n"
     ]
    },
    {
     "name": "stderr",
     "output_type": "stream",
     "text": [
      "100%|██████████| 250/250 [00:02<00:00, 117.16it/s, loss=16.352/15.624]"
     ]
    },
    {
     "name": "stdout",
     "output_type": "stream",
     "text": [
      "16.352124181213384\n"
     ]
    },
    {
     "name": "stderr",
     "output_type": "stream",
     "text": [
      "\n",
      "  4%|▍         | 10/250 [00:00<00:02, 94.93it/s, loss=15.827/15.890]"
     ]
    },
    {
     "name": "stdout",
     "output_type": "stream",
     "text": [
      "epoch:2\n"
     ]
    },
    {
     "name": "stderr",
     "output_type": "stream",
     "text": [
      "100%|██████████| 250/250 [00:02<00:00, 119.29it/s, loss=15.384/15.362]"
     ]
    },
    {
     "name": "stdout",
     "output_type": "stream",
     "text": [
      "15.384278295898437\n"
     ]
    },
    {
     "name": "stderr",
     "output_type": "stream",
     "text": [
      "\n",
      "  5%|▍         | 12/250 [00:00<00:02, 114.08it/s, loss=14.964/14.986]"
     ]
    },
    {
     "name": "stdout",
     "output_type": "stream",
     "text": [
      "epoch:3\n"
     ]
    },
    {
     "name": "stderr",
     "output_type": "stream",
     "text": [
      "100%|██████████| 250/250 [00:01<00:00, 125.62it/s, loss=14.679/14.644]\n"
     ]
    },
    {
     "name": "stdout",
     "output_type": "stream",
     "text": [
      "14.679037061614984\n"
     ]
    },
    {
     "name": "stderr",
     "output_type": "stream",
     "text": [
      "  4%|▎         | 9/250 [00:00<00:02, 89.46it/s, loss=14.322/13.972]"
     ]
    },
    {
     "name": "stdout",
     "output_type": "stream",
     "text": [
      "epoch:4\n"
     ]
    },
    {
     "name": "stderr",
     "output_type": "stream",
     "text": [
      "100%|██████████| 250/250 [00:02<00:00, 118.33it/s, loss=14.096/13.897]\n"
     ]
    },
    {
     "name": "stdout",
     "output_type": "stream",
     "text": [
      "14.09616523162842\n"
     ]
    },
    {
     "name": "stderr",
     "output_type": "stream",
     "text": [
      "  4%|▍         | 10/250 [00:00<00:02, 98.17it/s, loss=13.791/13.645]"
     ]
    },
    {
     "name": "stdout",
     "output_type": "stream",
     "text": [
      "epoch:5\n"
     ]
    },
    {
     "name": "stderr",
     "output_type": "stream",
     "text": [
      "100%|██████████| 250/250 [00:01<00:00, 125.47it/s, loss=13.581/13.387]"
     ]
    },
    {
     "name": "stdout",
     "output_type": "stream",
     "text": [
      "13.581374652557367\n"
     ]
    },
    {
     "name": "stderr",
     "output_type": "stream",
     "text": [
      "\n",
      "  4%|▎         | 9/250 [00:00<00:02, 85.86it/s, loss=13.383/12.803]"
     ]
    },
    {
     "name": "stdout",
     "output_type": "stream",
     "text": [
      "epoch:6\n"
     ]
    },
    {
     "name": "stderr",
     "output_type": "stream",
     "text": [
      "100%|██████████| 250/250 [00:02<00:00, 122.60it/s, loss=13.118/12.939]"
     ]
    },
    {
     "name": "stdout",
     "output_type": "stream",
     "text": [
      "13.118391951065059\n"
     ]
    },
    {
     "name": "stderr",
     "output_type": "stream",
     "text": [
      "\n",
      "  4%|▎         | 9/250 [00:00<00:02, 89.43it/s, loss=12.818/13.038]"
     ]
    },
    {
     "name": "stdout",
     "output_type": "stream",
     "text": [
      "epoch:7\n"
     ]
    },
    {
     "name": "stderr",
     "output_type": "stream",
     "text": [
      "100%|██████████| 250/250 [00:02<00:00, 124.56it/s, loss=12.695/12.702]\n"
     ]
    },
    {
     "name": "stdout",
     "output_type": "stream",
     "text": [
      "12.694534031677245\n"
     ]
    },
    {
     "name": "stderr",
     "output_type": "stream",
     "text": [
      "  4%|▍         | 11/250 [00:00<00:02, 105.90it/s, loss=12.499/12.539]"
     ]
    },
    {
     "name": "stdout",
     "output_type": "stream",
     "text": [
      "epoch:8\n"
     ]
    },
    {
     "name": "stderr",
     "output_type": "stream",
     "text": [
      "100%|██████████| 250/250 [00:02<00:00, 123.47it/s, loss=12.300/12.305]\n"
     ]
    },
    {
     "name": "stdout",
     "output_type": "stream",
     "text": [
      "12.299558442230227\n"
     ]
    },
    {
     "name": "stderr",
     "output_type": "stream",
     "text": [
      "  4%|▍         | 10/250 [00:00<00:02, 94.58it/s, loss=12.154/11.988]"
     ]
    },
    {
     "name": "stdout",
     "output_type": "stream",
     "text": [
      "epoch:9\n"
     ]
    },
    {
     "name": "stderr",
     "output_type": "stream",
     "text": [
      "100%|██████████| 250/250 [00:02<00:00, 124.85it/s, loss=11.933/11.564]"
     ]
    },
    {
     "name": "stdout",
     "output_type": "stream",
     "text": [
      "11.933209064941408\n"
     ]
    },
    {
     "name": "stderr",
     "output_type": "stream",
     "text": [
      "\n",
      "  4%|▎         | 9/250 [00:00<00:02, 84.38it/s, loss=11.659/11.560]"
     ]
    },
    {
     "name": "stdout",
     "output_type": "stream",
     "text": [
      "epoch:10\n"
     ]
    },
    {
     "name": "stderr",
     "output_type": "stream",
     "text": [
      "100%|██████████| 250/250 [00:02<00:00, 124.86it/s, loss=11.591/11.597]\n"
     ]
    },
    {
     "name": "stdout",
     "output_type": "stream",
     "text": [
      "11.591495243759159\n"
     ]
    },
    {
     "name": "stderr",
     "output_type": "stream",
     "text": [
      "  4%|▍         | 10/250 [00:00<00:02, 88.90it/s, loss=11.410/11.485]"
     ]
    },
    {
     "name": "stdout",
     "output_type": "stream",
     "text": [
      "epoch:11\n"
     ]
    },
    {
     "name": "stderr",
     "output_type": "stream",
     "text": [
      "100%|██████████| 250/250 [00:02<00:00, 124.79it/s, loss=11.269/11.163]"
     ]
    },
    {
     "name": "stdout",
     "output_type": "stream",
     "text": [
      "11.269331640014645\n"
     ]
    },
    {
     "name": "stderr",
     "output_type": "stream",
     "text": [
      "\n",
      "  4%|▍         | 11/250 [00:00<00:02, 109.00it/s, loss=11.185/11.063]"
     ]
    },
    {
     "name": "stdout",
     "output_type": "stream",
     "text": [
      "epoch:12\n"
     ]
    },
    {
     "name": "stderr",
     "output_type": "stream",
     "text": [
      "100%|██████████| 250/250 [00:02<00:00, 121.31it/s, loss=10.968/10.843]"
     ]
    },
    {
     "name": "stdout",
     "output_type": "stream",
     "text": [
      "10.967743962478643\n"
     ]
    },
    {
     "name": "stderr",
     "output_type": "stream",
     "text": [
      "\n",
      "  4%|▎         | 9/250 [00:00<00:02, 88.25it/s, loss=10.708/10.795]"
     ]
    },
    {
     "name": "stdout",
     "output_type": "stream",
     "text": [
      "epoch:13\n"
     ]
    },
    {
     "name": "stderr",
     "output_type": "stream",
     "text": [
      "100%|██████████| 250/250 [00:02<00:00, 120.90it/s, loss=10.682/10.708]"
     ]
    },
    {
     "name": "stdout",
     "output_type": "stream",
     "text": [
      "10.682146774215695\n"
     ]
    },
    {
     "name": "stderr",
     "output_type": "stream",
     "text": [
      "\n",
      "  4%|▎         | 9/250 [00:00<00:02, 86.01it/s, loss=10.567/10.317]"
     ]
    },
    {
     "name": "stdout",
     "output_type": "stream",
     "text": [
      "epoch:14\n"
     ]
    },
    {
     "name": "stderr",
     "output_type": "stream",
     "text": [
      "100%|██████████| 250/250 [00:02<00:00, 121.51it/s, loss=10.414/10.090]\n"
     ]
    },
    {
     "name": "stdout",
     "output_type": "stream",
     "text": [
      "10.413652985076906\n"
     ]
    },
    {
     "name": "stderr",
     "output_type": "stream",
     "text": [
      "  4%|▍         | 10/250 [00:00<00:02, 96.91it/s, loss=10.262/10.626]"
     ]
    },
    {
     "name": "stdout",
     "output_type": "stream",
     "text": [
      "epoch:15\n"
     ]
    },
    {
     "name": "stderr",
     "output_type": "stream",
     "text": [
      "100%|██████████| 250/250 [00:02<00:00, 120.05it/s, loss=10.160/9.763]\n"
     ]
    },
    {
     "name": "stdout",
     "output_type": "stream",
     "text": [
      "10.159738474807734\n"
     ]
    },
    {
     "name": "stderr",
     "output_type": "stream",
     "text": [
      "  4%|▍         | 10/250 [00:00<00:02, 99.35it/s, loss=10.050/9.917] "
     ]
    },
    {
     "name": "stdout",
     "output_type": "stream",
     "text": [
      "epoch:16\n"
     ]
    },
    {
     "name": "stderr",
     "output_type": "stream",
     "text": [
      "100%|██████████| 250/250 [00:02<00:00, 123.59it/s, loss=9.919/9.821]\n"
     ]
    },
    {
     "name": "stdout",
     "output_type": "stream",
     "text": [
      "9.919415574264526\n"
     ]
    },
    {
     "name": "stderr",
     "output_type": "stream",
     "text": [
      "  4%|▎         | 9/250 [00:00<00:02, 87.18it/s, loss=9.891/9.789]"
     ]
    },
    {
     "name": "stdout",
     "output_type": "stream",
     "text": [
      "epoch:17\n"
     ]
    },
    {
     "name": "stderr",
     "output_type": "stream",
     "text": [
      "100%|██████████| 250/250 [00:02<00:00, 124.54it/s, loss=9.693/9.770]"
     ]
    },
    {
     "name": "stdout",
     "output_type": "stream",
     "text": [
      "9.69307523506165\n"
     ]
    },
    {
     "name": "stderr",
     "output_type": "stream",
     "text": [
      "\n",
      "  4%|▍         | 10/250 [00:00<00:02, 97.60it/s, loss=9.626/9.471]"
     ]
    },
    {
     "name": "stdout",
     "output_type": "stream",
     "text": [
      "epoch:18\n"
     ]
    },
    {
     "name": "stderr",
     "output_type": "stream",
     "text": [
      "100%|██████████| 250/250 [00:02<00:00, 121.71it/s, loss=9.478/9.202]"
     ]
    },
    {
     "name": "stdout",
     "output_type": "stream",
     "text": [
      "9.4776422203064\n"
     ]
    },
    {
     "name": "stderr",
     "output_type": "stream",
     "text": [
      "\n",
      "  4%|▎         | 9/250 [00:00<00:02, 85.11it/s, loss=9.198/9.330]"
     ]
    },
    {
     "name": "stdout",
     "output_type": "stream",
     "text": [
      "epoch:19\n"
     ]
    },
    {
     "name": "stderr",
     "output_type": "stream",
     "text": [
      "100%|██████████| 250/250 [00:02<00:00, 122.64it/s, loss=9.275/8.973]"
     ]
    },
    {
     "name": "stdout",
     "output_type": "stream",
     "text": [
      "9.274587596549988\n"
     ]
    },
    {
     "name": "stderr",
     "output_type": "stream",
     "text": [
      "\n",
      "  4%|▎         | 9/250 [00:00<00:02, 89.56it/s, loss=9.239/9.174]"
     ]
    },
    {
     "name": "stdout",
     "output_type": "stream",
     "text": [
      "epoch:20\n"
     ]
    },
    {
     "name": "stderr",
     "output_type": "stream",
     "text": [
      "100%|██████████| 250/250 [00:02<00:00, 124.39it/s, loss=9.082/8.511]"
     ]
    },
    {
     "name": "stdout",
     "output_type": "stream",
     "text": [
      "9.081513558807378\n"
     ]
    },
    {
     "name": "stderr",
     "output_type": "stream",
     "text": [
      "\n",
      "  4%|▎         | 9/250 [00:00<00:02, 88.08it/s, loss=8.936/8.479]"
     ]
    },
    {
     "name": "stdout",
     "output_type": "stream",
     "text": [
      "epoch:21\n"
     ]
    },
    {
     "name": "stderr",
     "output_type": "stream",
     "text": [
      "100%|██████████| 250/250 [00:02<00:00, 121.86it/s, loss=8.897/8.816]\n"
     ]
    },
    {
     "name": "stdout",
     "output_type": "stream",
     "text": [
      "8.89739621234894\n"
     ]
    },
    {
     "name": "stderr",
     "output_type": "stream",
     "text": [
      "  4%|▍         | 11/250 [00:00<00:02, 105.73it/s, loss=8.778/8.477]"
     ]
    },
    {
     "name": "stdout",
     "output_type": "stream",
     "text": [
      "epoch:22\n"
     ]
    },
    {
     "name": "stderr",
     "output_type": "stream",
     "text": [
      "100%|██████████| 250/250 [00:02<00:00, 124.00it/s, loss=8.725/8.764]"
     ]
    },
    {
     "name": "stdout",
     "output_type": "stream",
     "text": [
      "8.724506201362608\n"
     ]
    },
    {
     "name": "stderr",
     "output_type": "stream",
     "text": [
      "\n",
      "  4%|▍         | 10/250 [00:00<00:02, 99.60it/s, loss=8.588/8.832]"
     ]
    },
    {
     "name": "stdout",
     "output_type": "stream",
     "text": [
      "epoch:23\n"
     ]
    },
    {
     "name": "stderr",
     "output_type": "stream",
     "text": [
      "100%|██████████| 250/250 [00:01<00:00, 125.57it/s, loss=8.560/8.416]\n"
     ]
    },
    {
     "name": "stdout",
     "output_type": "stream",
     "text": [
      "8.559902980346685\n"
     ]
    },
    {
     "name": "stderr",
     "output_type": "stream",
     "text": [
      "  4%|▍         | 10/250 [00:00<00:02, 97.98it/s, loss=8.383/7.986]"
     ]
    },
    {
     "name": "stdout",
     "output_type": "stream",
     "text": [
      "epoch:24\n"
     ]
    },
    {
     "name": "stderr",
     "output_type": "stream",
     "text": [
      "100%|██████████| 250/250 [00:02<00:00, 118.94it/s, loss=8.404/8.378]\n"
     ]
    },
    {
     "name": "stdout",
     "output_type": "stream",
     "text": [
      "8.403949065551762\n"
     ]
    },
    {
     "name": "stderr",
     "output_type": "stream",
     "text": [
      "100%|██████████| 50/50 [00:00<00:00, 127.41it/s]"
     ]
    },
    {
     "name": "stdout",
     "output_type": "stream",
     "text": [
      "lr:0.001; reg:10; acc:0.3472\n"
     ]
    },
    {
     "name": "stderr",
     "output_type": "stream",
     "text": [
      "\n",
      "  4%|▍         | 10/250 [00:00<00:02, 94.56it/s, loss=19.242/19.000]"
     ]
    },
    {
     "name": "stdout",
     "output_type": "stream",
     "text": [
      "epoch:0\n"
     ]
    },
    {
     "name": "stderr",
     "output_type": "stream",
     "text": [
      "100%|██████████| 250/250 [00:02<00:00, 122.86it/s, loss=17.817/16.464]"
     ]
    },
    {
     "name": "stdout",
     "output_type": "stream",
     "text": [
      "17.81687296630861\n"
     ]
    },
    {
     "name": "stderr",
     "output_type": "stream",
     "text": [
      "\n",
      "  4%|▍         | 11/250 [00:00<00:02, 108.12it/s, loss=16.753/16.871]"
     ]
    },
    {
     "name": "stdout",
     "output_type": "stream",
     "text": [
      "epoch:1\n"
     ]
    },
    {
     "name": "stderr",
     "output_type": "stream",
     "text": [
      "100%|██████████| 250/250 [00:01<00:00, 125.37it/s, loss=16.298/15.707]\n"
     ]
    },
    {
     "name": "stdout",
     "output_type": "stream",
     "text": [
      "16.298202842559814\n"
     ]
    },
    {
     "name": "stderr",
     "output_type": "stream",
     "text": [
      "  4%|▍         | 11/250 [00:00<00:02, 103.35it/s, loss=15.631/15.561]"
     ]
    },
    {
     "name": "stdout",
     "output_type": "stream",
     "text": [
      "epoch:2\n"
     ]
    },
    {
     "name": "stderr",
     "output_type": "stream",
     "text": [
      "100%|██████████| 250/250 [00:01<00:00, 125.44it/s, loss=15.367/15.091]\n"
     ]
    },
    {
     "name": "stdout",
     "output_type": "stream",
     "text": [
      "15.366793800048828\n"
     ]
    },
    {
     "name": "stderr",
     "output_type": "stream",
     "text": [
      "  5%|▍         | 12/250 [00:00<00:02, 115.97it/s, loss=15.025/15.330]"
     ]
    },
    {
     "name": "stdout",
     "output_type": "stream",
     "text": [
      "epoch:3\n"
     ]
    },
    {
     "name": "stderr",
     "output_type": "stream",
     "text": [
      "100%|██████████| 250/250 [00:02<00:00, 126.16it/s, loss=14.671/14.528]"
     ]
    },
    {
     "name": "stdout",
     "output_type": "stream",
     "text": [
      "14.670603415527346\n"
     ]
    },
    {
     "name": "stderr",
     "output_type": "stream",
     "text": [
      "\n",
      "  4%|▍         | 10/250 [00:00<00:02, 97.36it/s, loss=14.263/14.001]"
     ]
    },
    {
     "name": "stdout",
     "output_type": "stream",
     "text": [
      "epoch:4\n"
     ]
    },
    {
     "name": "stderr",
     "output_type": "stream",
     "text": [
      "100%|██████████| 250/250 [00:02<00:00, 121.91it/s, loss=14.090/13.616]\n"
     ]
    },
    {
     "name": "stdout",
     "output_type": "stream",
     "text": [
      "14.08967500144957\n"
     ]
    },
    {
     "name": "stderr",
     "output_type": "stream",
     "text": [
      "  4%|▍         | 11/250 [00:00<00:02, 105.68it/s, loss=13.832/13.813]"
     ]
    },
    {
     "name": "stdout",
     "output_type": "stream",
     "text": [
      "epoch:5\n"
     ]
    },
    {
     "name": "stderr",
     "output_type": "stream",
     "text": [
      "100%|██████████| 250/250 [00:01<00:00, 125.27it/s, loss=13.579/13.202]\n"
     ]
    },
    {
     "name": "stdout",
     "output_type": "stream",
     "text": [
      "13.579432745590205\n"
     ]
    },
    {
     "name": "stderr",
     "output_type": "stream",
     "text": [
      "  4%|▍         | 11/250 [00:00<00:02, 108.79it/s, loss=13.318/13.385]"
     ]
    },
    {
     "name": "stdout",
     "output_type": "stream",
     "text": [
      "epoch:6\n"
     ]
    },
    {
     "name": "stderr",
     "output_type": "stream",
     "text": [
      "100%|██████████| 250/250 [00:01<00:00, 125.68it/s, loss=13.119/13.290]\n"
     ]
    },
    {
     "name": "stdout",
     "output_type": "stream",
     "text": [
      "13.119154817428582\n"
     ]
    },
    {
     "name": "stderr",
     "output_type": "stream",
     "text": [
      "  4%|▎         | 9/250 [00:00<00:02, 88.69it/s, loss=12.900/13.230]"
     ]
    },
    {
     "name": "stdout",
     "output_type": "stream",
     "text": [
      "epoch:7\n"
     ]
    },
    {
     "name": "stderr",
     "output_type": "stream",
     "text": [
      "100%|██████████| 250/250 [00:02<00:00, 117.39it/s, loss=12.694/12.140]"
     ]
    },
    {
     "name": "stdout",
     "output_type": "stream",
     "text": [
      "12.694115006256094\n"
     ]
    },
    {
     "name": "stderr",
     "output_type": "stream",
     "text": [
      "\n",
      "  4%|▍         | 11/250 [00:00<00:02, 109.05it/s, loss=12.435/12.252]"
     ]
    },
    {
     "name": "stdout",
     "output_type": "stream",
     "text": [
      "epoch:8\n"
     ]
    },
    {
     "name": "stderr",
     "output_type": "stream",
     "text": [
      "100%|██████████| 250/250 [00:02<00:00, 119.89it/s, loss=12.301/12.150]\n"
     ]
    },
    {
     "name": "stdout",
     "output_type": "stream",
     "text": [
      "12.301462850646963\n"
     ]
    },
    {
     "name": "stderr",
     "output_type": "stream",
     "text": [
      "  4%|▍         | 10/250 [00:00<00:02, 99.80it/s, loss=12.048/11.995]"
     ]
    },
    {
     "name": "stdout",
     "output_type": "stream",
     "text": [
      "epoch:9\n"
     ]
    },
    {
     "name": "stderr",
     "output_type": "stream",
     "text": [
      "100%|██████████| 250/250 [00:01<00:00, 126.24it/s, loss=11.935/12.022]\n"
     ]
    },
    {
     "name": "stdout",
     "output_type": "stream",
     "text": [
      "11.934643515930178\n"
     ]
    },
    {
     "name": "stderr",
     "output_type": "stream",
     "text": [
      "  4%|▍         | 10/250 [00:00<00:02, 94.15it/s, loss=11.723/12.205]"
     ]
    },
    {
     "name": "stdout",
     "output_type": "stream",
     "text": [
      "epoch:10\n"
     ]
    },
    {
     "name": "stderr",
     "output_type": "stream",
     "text": [
      "100%|██████████| 250/250 [00:02<00:00, 122.27it/s, loss=11.593/11.623]\n"
     ]
    },
    {
     "name": "stdout",
     "output_type": "stream",
     "text": [
      "11.593101393737799\n"
     ]
    },
    {
     "name": "stderr",
     "output_type": "stream",
     "text": [
      "  4%|▎         | 9/250 [00:00<00:02, 84.79it/s, loss=11.426/11.157]"
     ]
    },
    {
     "name": "stdout",
     "output_type": "stream",
     "text": [
      "epoch:11\n"
     ]
    },
    {
     "name": "stderr",
     "output_type": "stream",
     "text": [
      "100%|██████████| 250/250 [00:02<00:00, 117.94it/s, loss=11.271/11.185]\n"
     ]
    },
    {
     "name": "stdout",
     "output_type": "stream",
     "text": [
      "11.27078248687744\n"
     ]
    },
    {
     "name": "stderr",
     "output_type": "stream",
     "text": [
      "  4%|▍         | 10/250 [00:00<00:02, 99.48it/s, loss=11.188/11.616]"
     ]
    },
    {
     "name": "stdout",
     "output_type": "stream",
     "text": [
      "epoch:12\n"
     ]
    },
    {
     "name": "stderr",
     "output_type": "stream",
     "text": [
      "100%|██████████| 250/250 [00:02<00:00, 121.49it/s, loss=10.968/10.573]"
     ]
    },
    {
     "name": "stdout",
     "output_type": "stream",
     "text": [
      "10.967574376678469\n"
     ]
    },
    {
     "name": "stderr",
     "output_type": "stream",
     "text": [
      "\n",
      "  4%|▍         | 10/250 [00:00<00:02, 95.22it/s, loss=10.697/10.988]"
     ]
    },
    {
     "name": "stdout",
     "output_type": "stream",
     "text": [
      "epoch:13\n"
     ]
    },
    {
     "name": "stderr",
     "output_type": "stream",
     "text": [
      "100%|██████████| 250/250 [00:02<00:00, 119.08it/s, loss=10.683/10.048]"
     ]
    },
    {
     "name": "stdout",
     "output_type": "stream",
     "text": [
      "10.682704357070918\n"
     ]
    },
    {
     "name": "stderr",
     "output_type": "stream",
     "text": [
      "\n",
      "  4%|▎         | 9/250 [00:00<00:02, 89.54it/s, loss=10.572/10.258]"
     ]
    },
    {
     "name": "stdout",
     "output_type": "stream",
     "text": [
      "epoch:14\n"
     ]
    },
    {
     "name": "stderr",
     "output_type": "stream",
     "text": [
      "100%|██████████| 250/250 [00:02<00:00, 122.36it/s, loss=10.413/10.345]"
     ]
    },
    {
     "name": "stdout",
     "output_type": "stream",
     "text": [
      "10.41335864173889\n"
     ]
    },
    {
     "name": "stderr",
     "output_type": "stream",
     "text": [
      "\n",
      "  4%|▍         | 11/250 [00:00<00:02, 108.42it/s, loss=10.345/10.827]"
     ]
    },
    {
     "name": "stdout",
     "output_type": "stream",
     "text": [
      "epoch:15\n"
     ]
    },
    {
     "name": "stderr",
     "output_type": "stream",
     "text": [
      "100%|██████████| 250/250 [00:02<00:00, 122.99it/s, loss=10.160/10.495]"
     ]
    },
    {
     "name": "stdout",
     "output_type": "stream",
     "text": [
      "10.160029200973504\n"
     ]
    },
    {
     "name": "stderr",
     "output_type": "stream",
     "text": [
      "\n",
      "  4%|▍         | 11/250 [00:00<00:02, 107.64it/s, loss=9.992/10.100]"
     ]
    },
    {
     "name": "stdout",
     "output_type": "stream",
     "text": [
      "epoch:16\n"
     ]
    },
    {
     "name": "stderr",
     "output_type": "stream",
     "text": [
      "100%|██████████| 250/250 [00:02<00:00, 123.85it/s, loss=9.920/9.889]"
     ]
    },
    {
     "name": "stdout",
     "output_type": "stream",
     "text": [
      "9.920095159454343\n"
     ]
    },
    {
     "name": "stderr",
     "output_type": "stream",
     "text": [
      "\n",
      "  4%|▍         | 10/250 [00:00<00:02, 99.01it/s, loss=9.790/9.737]"
     ]
    },
    {
     "name": "stdout",
     "output_type": "stream",
     "text": [
      "epoch:17\n"
     ]
    },
    {
     "name": "stderr",
     "output_type": "stream",
     "text": [
      "100%|██████████| 250/250 [00:01<00:00, 129.99it/s, loss=9.692/9.608]"
     ]
    },
    {
     "name": "stdout",
     "output_type": "stream",
     "text": [
      "9.692121521682738\n"
     ]
    },
    {
     "name": "stderr",
     "output_type": "stream",
     "text": [
      "\n",
      "  4%|▍         | 10/250 [00:00<00:02, 98.03it/s, loss=9.627/9.469]"
     ]
    },
    {
     "name": "stdout",
     "output_type": "stream",
     "text": [
      "epoch:18\n"
     ]
    },
    {
     "name": "stderr",
     "output_type": "stream",
     "text": [
      "100%|██████████| 250/250 [00:02<00:00, 128.25it/s, loss=9.476/9.458]"
     ]
    },
    {
     "name": "stdout",
     "output_type": "stream",
     "text": [
      "9.475833778305054\n"
     ]
    },
    {
     "name": "stderr",
     "output_type": "stream",
     "text": [
      "\n",
      "  4%|▍         | 11/250 [00:00<00:02, 104.22it/s, loss=9.383/9.212]"
     ]
    },
    {
     "name": "stdout",
     "output_type": "stream",
     "text": [
      "epoch:19\n"
     ]
    },
    {
     "name": "stderr",
     "output_type": "stream",
     "text": [
      "100%|██████████| 250/250 [00:02<00:00, 120.64it/s, loss=9.273/8.887]"
     ]
    },
    {
     "name": "stdout",
     "output_type": "stream",
     "text": [
      "9.272815906486512\n"
     ]
    },
    {
     "name": "stderr",
     "output_type": "stream",
     "text": [
      "\n",
      "  4%|▍         | 10/250 [00:00<00:02, 96.96it/s, loss=9.182/9.034]"
     ]
    },
    {
     "name": "stdout",
     "output_type": "stream",
     "text": [
      "epoch:20\n"
     ]
    },
    {
     "name": "stderr",
     "output_type": "stream",
     "text": [
      "100%|██████████| 250/250 [00:02<00:00, 123.45it/s, loss=9.079/9.002]\n"
     ]
    },
    {
     "name": "stdout",
     "output_type": "stream",
     "text": [
      "9.078818856201172\n"
     ]
    },
    {
     "name": "stderr",
     "output_type": "stream",
     "text": [
      "  4%|▍         | 11/250 [00:00<00:02, 108.23it/s, loss=8.971/8.613]"
     ]
    },
    {
     "name": "stdout",
     "output_type": "stream",
     "text": [
      "epoch:21\n"
     ]
    },
    {
     "name": "stderr",
     "output_type": "stream",
     "text": [
      "100%|██████████| 250/250 [00:01<00:00, 126.44it/s, loss=8.896/8.167]"
     ]
    },
    {
     "name": "stdout",
     "output_type": "stream",
     "text": [
      "8.896321473464964\n"
     ]
    },
    {
     "name": "stderr",
     "output_type": "stream",
     "text": [
      "\n",
      "  4%|▍         | 10/250 [00:00<00:02, 97.17it/s, loss=8.754/9.008]"
     ]
    },
    {
     "name": "stdout",
     "output_type": "stream",
     "text": [
      "epoch:22\n"
     ]
    },
    {
     "name": "stderr",
     "output_type": "stream",
     "text": [
      "100%|██████████| 250/250 [00:02<00:00, 126.50it/s, loss=8.722/9.003]\n"
     ]
    },
    {
     "name": "stdout",
     "output_type": "stream",
     "text": [
      "8.722133765907289\n"
     ]
    },
    {
     "name": "stderr",
     "output_type": "stream",
     "text": [
      "  4%|▍         | 11/250 [00:00<00:02, 105.96it/s, loss=8.656/8.359]"
     ]
    },
    {
     "name": "stdout",
     "output_type": "stream",
     "text": [
      "epoch:23\n"
     ]
    },
    {
     "name": "stderr",
     "output_type": "stream",
     "text": [
      "100%|██████████| 250/250 [00:02<00:00, 119.41it/s, loss=8.557/8.622]"
     ]
    },
    {
     "name": "stdout",
     "output_type": "stream",
     "text": [
      "8.556841768455508\n"
     ]
    },
    {
     "name": "stderr",
     "output_type": "stream",
     "text": [
      "\n",
      "  5%|▍         | 12/250 [00:00<00:02, 114.24it/s, loss=8.465/8.748]"
     ]
    },
    {
     "name": "stdout",
     "output_type": "stream",
     "text": [
      "epoch:24\n"
     ]
    },
    {
     "name": "stderr",
     "output_type": "stream",
     "text": [
      "100%|██████████| 250/250 [00:01<00:00, 127.62it/s, loss=8.401/8.337]"
     ]
    },
    {
     "name": "stdout",
     "output_type": "stream",
     "text": [
      "8.400782792434693\n"
     ]
    },
    {
     "name": "stderr",
     "output_type": "stream",
     "text": [
      "\n",
      "100%|██████████| 50/50 [00:00<00:00, 131.65it/s]"
     ]
    },
    {
     "name": "stdout",
     "output_type": "stream",
     "text": [
      "lr:0.001; reg:100; acc:0.3473\n"
     ]
    },
    {
     "name": "stderr",
     "output_type": "stream",
     "text": [
      "\n",
      "  4%|▎         | 9/250 [00:00<00:03, 78.06it/s, loss=19.465/19.184]"
     ]
    },
    {
     "name": "stdout",
     "output_type": "stream",
     "text": [
      "epoch:0\n"
     ]
    },
    {
     "name": "stderr",
     "output_type": "stream",
     "text": [
      "100%|██████████| 250/250 [00:02<00:00, 123.02it/s, loss=18.115/17.492]\n"
     ]
    },
    {
     "name": "stdout",
     "output_type": "stream",
     "text": [
      "18.114575650177027\n"
     ]
    },
    {
     "name": "stderr",
     "output_type": "stream",
     "text": [
      "  4%|▎         | 9/250 [00:00<00:02, 85.94it/s, loss=17.101/17.111]"
     ]
    },
    {
     "name": "stdout",
     "output_type": "stream",
     "text": [
      "epoch:1\n"
     ]
    },
    {
     "name": "stderr",
     "output_type": "stream",
     "text": [
      "100%|██████████| 250/250 [00:02<00:00, 120.40it/s, loss=16.470/15.569]"
     ]
    },
    {
     "name": "stdout",
     "output_type": "stream",
     "text": [
      "16.469669286956783\n"
     ]
    },
    {
     "name": "stderr",
     "output_type": "stream",
     "text": [
      "\n",
      "  4%|▍         | 10/250 [00:00<00:02, 98.08it/s, loss=15.710/15.513]"
     ]
    },
    {
     "name": "stdout",
     "output_type": "stream",
     "text": [
      "epoch:2\n"
     ]
    },
    {
     "name": "stderr",
     "output_type": "stream",
     "text": [
      "100%|██████████| 250/250 [00:02<00:00, 122.78it/s, loss=15.458/14.820]"
     ]
    },
    {
     "name": "stdout",
     "output_type": "stream",
     "text": [
      "15.458016494903571\n"
     ]
    },
    {
     "name": "stderr",
     "output_type": "stream",
     "text": [
      "\n",
      "  4%|▍         | 11/250 [00:00<00:02, 107.86it/s, loss=15.108/14.988]"
     ]
    },
    {
     "name": "stdout",
     "output_type": "stream",
     "text": [
      "epoch:3\n"
     ]
    },
    {
     "name": "stderr",
     "output_type": "stream",
     "text": [
      "100%|██████████| 250/250 [00:02<00:00, 120.62it/s, loss=14.725/14.444]"
     ]
    },
    {
     "name": "stdout",
     "output_type": "stream",
     "text": [
      "14.72525070083619\n"
     ]
    },
    {
     "name": "stderr",
     "output_type": "stream",
     "text": [
      "\n",
      "  4%|▍         | 10/250 [00:00<00:02, 95.24it/s, loss=14.445/14.845]"
     ]
    },
    {
     "name": "stdout",
     "output_type": "stream",
     "text": [
      "epoch:4\n"
     ]
    },
    {
     "name": "stderr",
     "output_type": "stream",
     "text": [
      "100%|██████████| 250/250 [00:02<00:00, 124.73it/s, loss=14.128/13.856]"
     ]
    },
    {
     "name": "stdout",
     "output_type": "stream",
     "text": [
      "14.128181697082516\n"
     ]
    },
    {
     "name": "stderr",
     "output_type": "stream",
     "text": [
      "\n",
      "  4%|▍         | 10/250 [00:00<00:02, 95.56it/s, loss=13.815/13.827]"
     ]
    },
    {
     "name": "stdout",
     "output_type": "stream",
     "text": [
      "epoch:5\n"
     ]
    },
    {
     "name": "stderr",
     "output_type": "stream",
     "text": [
      "100%|██████████| 250/250 [00:02<00:00, 117.08it/s, loss=13.607/12.952]\n"
     ]
    },
    {
     "name": "stdout",
     "output_type": "stream",
     "text": [
      "13.606831325836183\n"
     ]
    },
    {
     "name": "stderr",
     "output_type": "stream",
     "text": [
      "  4%|▍         | 11/250 [00:00<00:02, 105.92it/s, loss=13.318/13.381]"
     ]
    },
    {
     "name": "stdout",
     "output_type": "stream",
     "text": [
      "epoch:6\n"
     ]
    },
    {
     "name": "stderr",
     "output_type": "stream",
     "text": [
      "100%|██████████| 250/250 [00:02<00:00, 121.29it/s, loss=13.140/13.219]\n"
     ]
    },
    {
     "name": "stdout",
     "output_type": "stream",
     "text": [
      "13.139517430572502\n"
     ]
    },
    {
     "name": "stderr",
     "output_type": "stream",
     "text": [
      "  4%|▍         | 10/250 [00:00<00:02, 99.37it/s, loss=12.802/13.236]"
     ]
    },
    {
     "name": "stdout",
     "output_type": "stream",
     "text": [
      "epoch:7\n"
     ]
    },
    {
     "name": "stderr",
     "output_type": "stream",
     "text": [
      "100%|██████████| 250/250 [00:02<00:00, 122.81it/s, loss=12.712/12.665]\n"
     ]
    },
    {
     "name": "stdout",
     "output_type": "stream",
     "text": [
      "12.711506335906988\n"
     ]
    },
    {
     "name": "stderr",
     "output_type": "stream",
     "text": [
      "  4%|▍         | 10/250 [00:00<00:02, 96.57it/s, loss=12.449/11.986]"
     ]
    },
    {
     "name": "stdout",
     "output_type": "stream",
     "text": [
      "epoch:8\n"
     ]
    },
    {
     "name": "stderr",
     "output_type": "stream",
     "text": [
      "100%|██████████| 250/250 [00:02<00:00, 124.04it/s, loss=12.316/11.935]"
     ]
    },
    {
     "name": "stdout",
     "output_type": "stream",
     "text": [
      "12.315891173706055\n"
     ]
    },
    {
     "name": "stderr",
     "output_type": "stream",
     "text": [
      "\n",
      "  5%|▍         | 12/250 [00:00<00:02, 116.39it/s, loss=12.066/12.167]"
     ]
    },
    {
     "name": "stdout",
     "output_type": "stream",
     "text": [
      "epoch:9\n"
     ]
    },
    {
     "name": "stderr",
     "output_type": "stream",
     "text": [
      "100%|██████████| 250/250 [00:01<00:00, 125.89it/s, loss=11.948/11.927]"
     ]
    },
    {
     "name": "stdout",
     "output_type": "stream",
     "text": [
      "11.94785441749573\n"
     ]
    },
    {
     "name": "stderr",
     "output_type": "stream",
     "text": [
      "\n",
      "  4%|▍         | 11/250 [00:00<00:02, 106.23it/s, loss=11.821/12.074]"
     ]
    },
    {
     "name": "stdout",
     "output_type": "stream",
     "text": [
      "epoch:10\n"
     ]
    },
    {
     "name": "stderr",
     "output_type": "stream",
     "text": [
      "100%|██████████| 250/250 [00:02<00:00, 124.99it/s, loss=11.605/11.622]\n"
     ]
    },
    {
     "name": "stdout",
     "output_type": "stream",
     "text": [
      "11.60477532211304\n"
     ]
    },
    {
     "name": "stderr",
     "output_type": "stream",
     "text": [
      "  4%|▍         | 10/250 [00:00<00:02, 96.29it/s, loss=11.452/11.975]"
     ]
    },
    {
     "name": "stdout",
     "output_type": "stream",
     "text": [
      "epoch:11\n"
     ]
    },
    {
     "name": "stderr",
     "output_type": "stream",
     "text": [
      "100%|██████████| 250/250 [00:02<00:00, 121.40it/s, loss=11.283/11.474]"
     ]
    },
    {
     "name": "stdout",
     "output_type": "stream",
     "text": [
      "11.282633854141231\n"
     ]
    },
    {
     "name": "stderr",
     "output_type": "stream",
     "text": [
      "\n",
      "  4%|▎         | 9/250 [00:00<00:03, 79.09it/s, loss=11.087/11.241]"
     ]
    },
    {
     "name": "stdout",
     "output_type": "stream",
     "text": [
      "epoch:12\n"
     ]
    },
    {
     "name": "stderr",
     "output_type": "stream",
     "text": [
      "100%|██████████| 250/250 [00:02<00:00, 122.09it/s, loss=10.978/10.895]"
     ]
    },
    {
     "name": "stdout",
     "output_type": "stream",
     "text": [
      "10.97761380020142\n"
     ]
    },
    {
     "name": "stderr",
     "output_type": "stream",
     "text": [
      "\n",
      "  4%|▍         | 10/250 [00:00<00:02, 97.39it/s, loss=10.816/10.595]"
     ]
    },
    {
     "name": "stdout",
     "output_type": "stream",
     "text": [
      "epoch:13\n"
     ]
    },
    {
     "name": "stderr",
     "output_type": "stream",
     "text": [
      "100%|██████████| 250/250 [00:02<00:00, 128.62it/s, loss=10.693/10.288]"
     ]
    },
    {
     "name": "stdout",
     "output_type": "stream",
     "text": [
      "10.692684843139658\n"
     ]
    },
    {
     "name": "stderr",
     "output_type": "stream",
     "text": [
      "\n",
      "  4%|▍         | 10/250 [00:00<00:02, 97.45it/s, loss=10.430/10.529]"
     ]
    },
    {
     "name": "stdout",
     "output_type": "stream",
     "text": [
      "epoch:14\n"
     ]
    },
    {
     "name": "stderr",
     "output_type": "stream",
     "text": [
      "100%|██████████| 250/250 [00:02<00:00, 130.10it/s, loss=10.423/10.350]"
     ]
    },
    {
     "name": "stdout",
     "output_type": "stream",
     "text": [
      "10.42316743003846\n"
     ]
    },
    {
     "name": "stderr",
     "output_type": "stream",
     "text": [
      "\n",
      "  4%|▍         | 10/250 [00:00<00:02, 96.48it/s, loss=10.312/10.440]"
     ]
    },
    {
     "name": "stdout",
     "output_type": "stream",
     "text": [
      "epoch:15\n"
     ]
    },
    {
     "name": "stderr",
     "output_type": "stream",
     "text": [
      "100%|██████████| 250/250 [00:02<00:00, 127.86it/s, loss=10.169/9.752]"
     ]
    },
    {
     "name": "stdout",
     "output_type": "stream",
     "text": [
      "10.168938097534179\n"
     ]
    },
    {
     "name": "stderr",
     "output_type": "stream",
     "text": [
      "\n",
      "  4%|▍         | 11/250 [00:00<00:02, 109.58it/s, loss=10.084/10.888]"
     ]
    },
    {
     "name": "stdout",
     "output_type": "stream",
     "text": [
      "epoch:16\n"
     ]
    },
    {
     "name": "stderr",
     "output_type": "stream",
     "text": [
      "100%|██████████| 250/250 [00:01<00:00, 125.49it/s, loss=9.928/9.791]"
     ]
    },
    {
     "name": "stdout",
     "output_type": "stream",
     "text": [
      "9.927527895355226\n"
     ]
    },
    {
     "name": "stderr",
     "output_type": "stream",
     "text": [
      "\n",
      "  4%|▍         | 10/250 [00:00<00:02, 92.78it/s, loss=9.756/9.710]"
     ]
    },
    {
     "name": "stdout",
     "output_type": "stream",
     "text": [
      "epoch:17\n"
     ]
    },
    {
     "name": "stderr",
     "output_type": "stream",
     "text": [
      "100%|██████████| 250/250 [00:01<00:00, 127.30it/s, loss=9.700/9.322]"
     ]
    },
    {
     "name": "stdout",
     "output_type": "stream",
     "text": [
      "9.700439699630735\n"
     ]
    },
    {
     "name": "stderr",
     "output_type": "stream",
     "text": [
      "\n",
      "  4%|▍         | 10/250 [00:00<00:02, 97.05it/s, loss=9.518/9.714]"
     ]
    },
    {
     "name": "stdout",
     "output_type": "stream",
     "text": [
      "epoch:18\n"
     ]
    },
    {
     "name": "stderr",
     "output_type": "stream",
     "text": [
      "100%|██████████| 250/250 [00:02<00:00, 124.87it/s, loss=9.484/9.283]"
     ]
    },
    {
     "name": "stdout",
     "output_type": "stream",
     "text": [
      "9.483954188613897\n"
     ]
    },
    {
     "name": "stderr",
     "output_type": "stream",
     "text": [
      "\n",
      "  4%|▎         | 9/250 [00:00<00:02, 88.70it/s, loss=9.582/9.186]"
     ]
    },
    {
     "name": "stdout",
     "output_type": "stream",
     "text": [
      "epoch:19\n"
     ]
    },
    {
     "name": "stderr",
     "output_type": "stream",
     "text": [
      "100%|██████████| 250/250 [00:02<00:00, 118.95it/s, loss=9.281/9.144]\n"
     ]
    },
    {
     "name": "stdout",
     "output_type": "stream",
     "text": [
      "9.28097697544097\n"
     ]
    },
    {
     "name": "stderr",
     "output_type": "stream",
     "text": [
      "  4%|▍         | 11/250 [00:00<00:02, 108.86it/s, loss=9.164/9.212]"
     ]
    },
    {
     "name": "stdout",
     "output_type": "stream",
     "text": [
      "epoch:20\n"
     ]
    },
    {
     "name": "stderr",
     "output_type": "stream",
     "text": [
      "100%|██████████| 250/250 [00:01<00:00, 127.52it/s, loss=9.087/9.139]\n"
     ]
    },
    {
     "name": "stdout",
     "output_type": "stream",
     "text": [
      "9.087054932556153\n"
     ]
    },
    {
     "name": "stderr",
     "output_type": "stream",
     "text": [
      "  4%|▍         | 10/250 [00:00<00:02, 98.55it/s, loss=9.028/8.684]"
     ]
    },
    {
     "name": "stdout",
     "output_type": "stream",
     "text": [
      "epoch:21\n"
     ]
    },
    {
     "name": "stderr",
     "output_type": "stream",
     "text": [
      "100%|██████████| 250/250 [00:02<00:00, 124.36it/s, loss=8.905/8.817]"
     ]
    },
    {
     "name": "stdout",
     "output_type": "stream",
     "text": [
      "8.90503146087646\n"
     ]
    },
    {
     "name": "stderr",
     "output_type": "stream",
     "text": [
      "\n",
      "  4%|▍         | 10/250 [00:00<00:02, 95.08it/s, loss=8.796/8.761]"
     ]
    },
    {
     "name": "stdout",
     "output_type": "stream",
     "text": [
      "epoch:22\n"
     ]
    },
    {
     "name": "stderr",
     "output_type": "stream",
     "text": [
      "100%|██████████| 250/250 [00:01<00:00, 126.65it/s, loss=8.731/8.404]"
     ]
    },
    {
     "name": "stdout",
     "output_type": "stream",
     "text": [
      "8.731385725173954\n"
     ]
    },
    {
     "name": "stderr",
     "output_type": "stream",
     "text": [
      "\n",
      "  4%|▍         | 10/250 [00:00<00:02, 98.86it/s, loss=8.661/8.001]"
     ]
    },
    {
     "name": "stdout",
     "output_type": "stream",
     "text": [
      "epoch:23\n"
     ]
    },
    {
     "name": "stderr",
     "output_type": "stream",
     "text": [
      "100%|██████████| 250/250 [00:02<00:00, 120.69it/s, loss=8.567/8.920]"
     ]
    },
    {
     "name": "stdout",
     "output_type": "stream",
     "text": [
      "8.56728227005005\n"
     ]
    },
    {
     "name": "stderr",
     "output_type": "stream",
     "text": [
      "\n",
      "  4%|▎         | 9/250 [00:00<00:02, 88.28it/s, loss=8.438/8.235]"
     ]
    },
    {
     "name": "stdout",
     "output_type": "stream",
     "text": [
      "epoch:24\n"
     ]
    },
    {
     "name": "stderr",
     "output_type": "stream",
     "text": [
      "100%|██████████| 250/250 [00:02<00:00, 123.24it/s, loss=8.410/8.567]\n"
     ]
    },
    {
     "name": "stdout",
     "output_type": "stream",
     "text": [
      "8.410364233436594\n"
     ]
    },
    {
     "name": "stderr",
     "output_type": "stream",
     "text": [
      "100%|██████████| 50/50 [00:00<00:00, 121.86it/s]"
     ]
    },
    {
     "name": "stdout",
     "output_type": "stream",
     "text": [
      "lr:0.001; reg:1000; acc:0.3526\n"
     ]
    },
    {
     "name": "stderr",
     "output_type": "stream",
     "text": [
      "\n",
      "  4%|▍         | 10/250 [00:00<00:02, 94.20it/s, loss=20.108/19.610]"
     ]
    },
    {
     "name": "stdout",
     "output_type": "stream",
     "text": [
      "epoch:0\n"
     ]
    },
    {
     "name": "stderr",
     "output_type": "stream",
     "text": [
      "100%|██████████| 250/250 [00:01<00:00, 126.84it/s, loss=18.337/17.402]"
     ]
    },
    {
     "name": "stdout",
     "output_type": "stream",
     "text": [
      "18.337411482086186\n"
     ]
    },
    {
     "name": "stderr",
     "output_type": "stream",
     "text": [
      "\n",
      "  4%|▍         | 10/250 [00:00<00:02, 97.87it/s, loss=17.348/17.216]"
     ]
    },
    {
     "name": "stdout",
     "output_type": "stream",
     "text": [
      "epoch:1\n"
     ]
    },
    {
     "name": "stderr",
     "output_type": "stream",
     "text": [
      "100%|██████████| 250/250 [00:02<00:00, 124.68it/s, loss=16.621/15.561]\n"
     ]
    },
    {
     "name": "stdout",
     "output_type": "stream",
     "text": [
      "16.620941335754388\n"
     ]
    },
    {
     "name": "stderr",
     "output_type": "stream",
     "text": [
      "  5%|▍         | 12/250 [00:00<00:02, 115.75it/s, loss=15.977/16.140]"
     ]
    },
    {
     "name": "stdout",
     "output_type": "stream",
     "text": [
      "epoch:2\n"
     ]
    },
    {
     "name": "stderr",
     "output_type": "stream",
     "text": [
      "100%|██████████| 250/250 [00:02<00:00, 121.89it/s, loss=15.589/15.095]"
     ]
    },
    {
     "name": "stdout",
     "output_type": "stream",
     "text": [
      "15.588926910705581\n"
     ]
    },
    {
     "name": "stderr",
     "output_type": "stream",
     "text": [
      "\n",
      "  4%|▎         | 9/250 [00:00<00:02, 87.05it/s, loss=15.185/14.837]"
     ]
    },
    {
     "name": "stdout",
     "output_type": "stream",
     "text": [
      "epoch:3\n"
     ]
    },
    {
     "name": "stderr",
     "output_type": "stream",
     "text": [
      "100%|██████████| 250/250 [00:02<00:00, 121.09it/s, loss=14.843/14.489]"
     ]
    },
    {
     "name": "stdout",
     "output_type": "stream",
     "text": [
      "14.843272276763916\n"
     ]
    },
    {
     "name": "stderr",
     "output_type": "stream",
     "text": [
      "\n",
      "  4%|▍         | 11/250 [00:00<00:02, 109.41it/s, loss=14.428/14.646]"
     ]
    },
    {
     "name": "stdout",
     "output_type": "stream",
     "text": [
      "epoch:4\n"
     ]
    },
    {
     "name": "stderr",
     "output_type": "stream",
     "text": [
      "100%|██████████| 250/250 [00:02<00:00, 119.08it/s, loss=14.237/14.240]\n"
     ]
    },
    {
     "name": "stdout",
     "output_type": "stream",
     "text": [
      "14.236511812210079\n"
     ]
    },
    {
     "name": "stderr",
     "output_type": "stream",
     "text": [
      "  4%|▍         | 10/250 [00:00<00:02, 98.09it/s, loss=13.808/13.759]"
     ]
    },
    {
     "name": "stdout",
     "output_type": "stream",
     "text": [
      "epoch:5\n"
     ]
    },
    {
     "name": "stderr",
     "output_type": "stream",
     "text": [
      "100%|██████████| 250/250 [00:02<00:00, 119.60it/s, loss=13.708/13.887]"
     ]
    },
    {
     "name": "stdout",
     "output_type": "stream",
     "text": [
      "13.708221221618656\n"
     ]
    },
    {
     "name": "stderr",
     "output_type": "stream",
     "text": [
      "\n",
      "  5%|▍         | 12/250 [00:00<00:02, 115.23it/s, loss=13.398/13.294]"
     ]
    },
    {
     "name": "stdout",
     "output_type": "stream",
     "text": [
      "epoch:6\n"
     ]
    },
    {
     "name": "stderr",
     "output_type": "stream",
     "text": [
      "100%|██████████| 250/250 [00:01<00:00, 126.30it/s, loss=13.233/12.966]\n"
     ]
    },
    {
     "name": "stdout",
     "output_type": "stream",
     "text": [
      "13.232530675125126\n"
     ]
    },
    {
     "name": "stderr",
     "output_type": "stream",
     "text": [
      "  4%|▍         | 11/250 [00:00<00:02, 105.60it/s, loss=12.883/12.480]"
     ]
    },
    {
     "name": "stdout",
     "output_type": "stream",
     "text": [
      "epoch:7\n"
     ]
    },
    {
     "name": "stderr",
     "output_type": "stream",
     "text": [
      "100%|██████████| 250/250 [00:02<00:00, 122.87it/s, loss=12.797/12.269]\n"
     ]
    },
    {
     "name": "stdout",
     "output_type": "stream",
     "text": [
      "12.797113848190298\n"
     ]
    },
    {
     "name": "stderr",
     "output_type": "stream",
     "text": [
      "  4%|▎         | 9/250 [00:00<00:03, 76.44it/s, loss=12.448/11.992]"
     ]
    },
    {
     "name": "stdout",
     "output_type": "stream",
     "text": [
      "epoch:8\n"
     ]
    },
    {
     "name": "stderr",
     "output_type": "stream",
     "text": [
      "100%|██████████| 250/250 [00:02<00:00, 123.18it/s, loss=12.393/12.453]"
     ]
    },
    {
     "name": "stdout",
     "output_type": "stream",
     "text": [
      "12.392867622680665\n"
     ]
    },
    {
     "name": "stderr",
     "output_type": "stream",
     "text": [
      "\n",
      "  4%|▎         | 9/250 [00:00<00:02, 87.25it/s, loss=12.228/12.010]"
     ]
    },
    {
     "name": "stdout",
     "output_type": "stream",
     "text": [
      "epoch:9\n"
     ]
    },
    {
     "name": "stderr",
     "output_type": "stream",
     "text": [
      "100%|██████████| 250/250 [00:02<00:00, 123.78it/s, loss=12.021/11.682]"
     ]
    },
    {
     "name": "stdout",
     "output_type": "stream",
     "text": [
      "12.021069564895635\n"
     ]
    },
    {
     "name": "stderr",
     "output_type": "stream",
     "text": [
      "\n",
      "  4%|▍         | 10/250 [00:00<00:02, 98.67it/s, loss=11.837/11.639]"
     ]
    },
    {
     "name": "stdout",
     "output_type": "stream",
     "text": [
      "epoch:10\n"
     ]
    },
    {
     "name": "stderr",
     "output_type": "stream",
     "text": [
      "100%|██████████| 250/250 [00:02<00:00, 119.98it/s, loss=11.671/11.727]"
     ]
    },
    {
     "name": "stdout",
     "output_type": "stream",
     "text": [
      "11.670883327560425\n"
     ]
    },
    {
     "name": "stderr",
     "output_type": "stream",
     "text": [
      "\n",
      "  4%|▍         | 11/250 [00:00<00:02, 104.65it/s, loss=11.535/11.689]"
     ]
    },
    {
     "name": "stdout",
     "output_type": "stream",
     "text": [
      "epoch:11\n"
     ]
    },
    {
     "name": "stderr",
     "output_type": "stream",
     "text": [
      "100%|██████████| 250/250 [00:02<00:00, 124.52it/s, loss=11.344/11.114]"
     ]
    },
    {
     "name": "stdout",
     "output_type": "stream",
     "text": [
      "11.344246806869512\n"
     ]
    },
    {
     "name": "stderr",
     "output_type": "stream",
     "text": [
      "\n",
      "  4%|▍         | 10/250 [00:00<00:02, 96.44it/s, loss=11.122/11.203]"
     ]
    },
    {
     "name": "stdout",
     "output_type": "stream",
     "text": [
      "epoch:12\n"
     ]
    },
    {
     "name": "stderr",
     "output_type": "stream",
     "text": [
      "100%|██████████| 250/250 [00:02<00:00, 124.09it/s, loss=11.037/11.032]"
     ]
    },
    {
     "name": "stdout",
     "output_type": "stream",
     "text": [
      "11.036515840377806\n"
     ]
    },
    {
     "name": "stderr",
     "output_type": "stream",
     "text": [
      "\n",
      "  4%|▍         | 11/250 [00:00<00:02, 105.48it/s, loss=10.907/10.949]"
     ]
    },
    {
     "name": "stdout",
     "output_type": "stream",
     "text": [
      "epoch:13\n"
     ]
    },
    {
     "name": "stderr",
     "output_type": "stream",
     "text": [
      "100%|██████████| 250/250 [00:01<00:00, 126.62it/s, loss=10.747/10.441]\n"
     ]
    },
    {
     "name": "stdout",
     "output_type": "stream",
     "text": [
      "10.746897159729002\n"
     ]
    },
    {
     "name": "stderr",
     "output_type": "stream",
     "text": [
      "  4%|▎         | 9/250 [00:00<00:02, 89.30it/s, loss=10.711/10.297]"
     ]
    },
    {
     "name": "stdout",
     "output_type": "stream",
     "text": [
      "epoch:14\n"
     ]
    },
    {
     "name": "stderr",
     "output_type": "stream",
     "text": [
      "100%|██████████| 250/250 [00:02<00:00, 129.16it/s, loss=10.473/10.499]"
     ]
    },
    {
     "name": "stdout",
     "output_type": "stream",
     "text": [
      "10.473347751693726\n"
     ]
    },
    {
     "name": "stderr",
     "output_type": "stream",
     "text": [
      "\n",
      "  4%|▎         | 9/250 [00:00<00:02, 86.27it/s, loss=10.254/9.906] "
     ]
    },
    {
     "name": "stdout",
     "output_type": "stream",
     "text": [
      "epoch:15\n"
     ]
    },
    {
     "name": "stderr",
     "output_type": "stream",
     "text": [
      "100%|██████████| 250/250 [00:02<00:00, 123.74it/s, loss=10.216/9.537]\n"
     ]
    },
    {
     "name": "stdout",
     "output_type": "stream",
     "text": [
      "10.215916007995597\n"
     ]
    },
    {
     "name": "stderr",
     "output_type": "stream",
     "text": [
      "  4%|▍         | 10/250 [00:00<00:02, 93.91it/s, loss=9.998/9.869] "
     ]
    },
    {
     "name": "stdout",
     "output_type": "stream",
     "text": [
      "epoch:16\n"
     ]
    },
    {
     "name": "stderr",
     "output_type": "stream",
     "text": [
      "100%|██████████| 250/250 [00:01<00:00, 125.87it/s, loss=9.972/10.205]\n"
     ]
    },
    {
     "name": "stdout",
     "output_type": "stream",
     "text": [
      "9.971601231613146\n"
     ]
    },
    {
     "name": "stderr",
     "output_type": "stream",
     "text": [
      "  4%|▍         | 11/250 [00:00<00:02, 107.04it/s, loss=9.837/9.731] "
     ]
    },
    {
     "name": "stdout",
     "output_type": "stream",
     "text": [
      "epoch:17\n"
     ]
    },
    {
     "name": "stderr",
     "output_type": "stream",
     "text": [
      "100%|██████████| 250/250 [00:02<00:00, 124.92it/s, loss=9.742/10.022]"
     ]
    },
    {
     "name": "stdout",
     "output_type": "stream",
     "text": [
      "9.741800006866459\n"
     ]
    },
    {
     "name": "stderr",
     "output_type": "stream",
     "text": [
      "\n",
      "  4%|▍         | 10/250 [00:00<00:02, 96.60it/s, loss=9.634/9.892]"
     ]
    },
    {
     "name": "stdout",
     "output_type": "stream",
     "text": [
      "epoch:18\n"
     ]
    },
    {
     "name": "stderr",
     "output_type": "stream",
     "text": [
      "100%|██████████| 250/250 [00:02<00:00, 124.97it/s, loss=9.524/9.145]"
     ]
    },
    {
     "name": "stdout",
     "output_type": "stream",
     "text": [
      "9.523716254730227\n"
     ]
    },
    {
     "name": "stderr",
     "output_type": "stream",
     "text": [
      "\n",
      "  4%|▎         | 9/250 [00:00<00:02, 88.72it/s, loss=9.456/9.727]"
     ]
    },
    {
     "name": "stdout",
     "output_type": "stream",
     "text": [
      "epoch:19\n"
     ]
    },
    {
     "name": "stderr",
     "output_type": "stream",
     "text": [
      "100%|██████████| 250/250 [00:01<00:00, 126.39it/s, loss=9.317/9.236]"
     ]
    },
    {
     "name": "stdout",
     "output_type": "stream",
     "text": [
      "9.317201367492673\n"
     ]
    },
    {
     "name": "stderr",
     "output_type": "stream",
     "text": [
      "\n",
      "  4%|▍         | 10/250 [00:00<00:02, 97.05it/s, loss=9.251/9.435]"
     ]
    },
    {
     "name": "stdout",
     "output_type": "stream",
     "text": [
      "epoch:20\n"
     ]
    },
    {
     "name": "stderr",
     "output_type": "stream",
     "text": [
      "100%|██████████| 250/250 [00:02<00:00, 123.66it/s, loss=9.122/9.008]\n"
     ]
    },
    {
     "name": "stdout",
     "output_type": "stream",
     "text": [
      "9.121964575271605\n"
     ]
    },
    {
     "name": "stderr",
     "output_type": "stream",
     "text": [
      "  4%|▍         | 11/250 [00:00<00:02, 108.22it/s, loss=9.135/9.144]"
     ]
    },
    {
     "name": "stdout",
     "output_type": "stream",
     "text": [
      "epoch:21\n"
     ]
    },
    {
     "name": "stderr",
     "output_type": "stream",
     "text": [
      "100%|██████████| 250/250 [00:02<00:00, 121.40it/s, loss=8.937/8.627]"
     ]
    },
    {
     "name": "stdout",
     "output_type": "stream",
     "text": [
      "8.937366710052487\n"
     ]
    },
    {
     "name": "stderr",
     "output_type": "stream",
     "text": [
      "\n",
      "  4%|▍         | 10/250 [00:00<00:02, 98.79it/s, loss=8.760/8.443]"
     ]
    },
    {
     "name": "stdout",
     "output_type": "stream",
     "text": [
      "epoch:22\n"
     ]
    },
    {
     "name": "stderr",
     "output_type": "stream",
     "text": [
      "100%|██████████| 250/250 [00:02<00:00, 123.20it/s, loss=8.761/8.700]"
     ]
    },
    {
     "name": "stdout",
     "output_type": "stream",
     "text": [
      "8.760698606567379\n"
     ]
    },
    {
     "name": "stderr",
     "output_type": "stream",
     "text": [
      "\n",
      "  4%|▍         | 10/250 [00:00<00:02, 98.47it/s, loss=8.626/8.313]"
     ]
    },
    {
     "name": "stdout",
     "output_type": "stream",
     "text": [
      "epoch:23\n"
     ]
    },
    {
     "name": "stderr",
     "output_type": "stream",
     "text": [
      "100%|██████████| 250/250 [00:02<00:00, 118.44it/s, loss=8.594/8.849]\n"
     ]
    },
    {
     "name": "stdout",
     "output_type": "stream",
     "text": [
      "8.594089012298586\n"
     ]
    },
    {
     "name": "stderr",
     "output_type": "stream",
     "text": [
      "  4%|▎         | 9/250 [00:00<00:02, 86.39it/s, loss=8.454/8.486]"
     ]
    },
    {
     "name": "stdout",
     "output_type": "stream",
     "text": [
      "epoch:24\n"
     ]
    },
    {
     "name": "stderr",
     "output_type": "stream",
     "text": [
      "100%|██████████| 250/250 [00:02<00:00, 124.88it/s, loss=8.436/8.388]\n"
     ]
    },
    {
     "name": "stdout",
     "output_type": "stream",
     "text": [
      "8.435818824882505\n"
     ]
    },
    {
     "name": "stderr",
     "output_type": "stream",
     "text": [
      "100%|██████████| 50/50 [00:00<00:00, 123.03it/s]\n"
     ]
    },
    {
     "name": "stdout",
     "output_type": "stream",
     "text": [
      "lr:0.0001; reg:0; acc:0.3471\n"
     ]
    },
    {
     "name": "stderr",
     "output_type": "stream",
     "text": [
      "  4%|▍         | 10/250 [00:00<00:02, 93.25it/s, loss=19.617/19.156]"
     ]
    },
    {
     "name": "stdout",
     "output_type": "stream",
     "text": [
      "epoch:0\n"
     ]
    },
    {
     "name": "stderr",
     "output_type": "stream",
     "text": [
      "100%|██████████| 250/250 [00:02<00:00, 124.67it/s, loss=17.979/16.972]"
     ]
    },
    {
     "name": "stdout",
     "output_type": "stream",
     "text": [
      "17.9791334576416\n"
     ]
    },
    {
     "name": "stderr",
     "output_type": "stream",
     "text": [
      "\n",
      "  5%|▍         | 12/250 [00:00<00:02, 114.42it/s, loss=16.987/17.130]"
     ]
    },
    {
     "name": "stdout",
     "output_type": "stream",
     "text": [
      "epoch:1\n"
     ]
    },
    {
     "name": "stderr",
     "output_type": "stream",
     "text": [
      "100%|██████████| 250/250 [00:02<00:00, 122.65it/s, loss=16.342/15.441]"
     ]
    },
    {
     "name": "stdout",
     "output_type": "stream",
     "text": [
      "16.341670061492923\n"
     ]
    },
    {
     "name": "stderr",
     "output_type": "stream",
     "text": [
      "\n",
      "  4%|▍         | 10/250 [00:00<00:02, 97.98it/s, loss=15.719/15.520]"
     ]
    },
    {
     "name": "stdout",
     "output_type": "stream",
     "text": [
      "epoch:2\n"
     ]
    },
    {
     "name": "stderr",
     "output_type": "stream",
     "text": [
      "100%|██████████| 250/250 [00:01<00:00, 125.68it/s, loss=15.391/14.870]"
     ]
    },
    {
     "name": "stdout",
     "output_type": "stream",
     "text": [
      "15.39107568099976\n"
     ]
    },
    {
     "name": "stderr",
     "output_type": "stream",
     "text": [
      "\n",
      "  4%|▍         | 10/250 [00:00<00:02, 98.14it/s, loss=14.975/14.658]"
     ]
    },
    {
     "name": "stdout",
     "output_type": "stream",
     "text": [
      "epoch:3\n"
     ]
    },
    {
     "name": "stderr",
     "output_type": "stream",
     "text": [
      "100%|██████████| 250/250 [00:02<00:00, 124.32it/s, loss=14.694/14.105]"
     ]
    },
    {
     "name": "stdout",
     "output_type": "stream",
     "text": [
      "14.694306156921387\n"
     ]
    },
    {
     "name": "stderr",
     "output_type": "stream",
     "text": [
      "\n",
      "  4%|▎         | 9/250 [00:00<00:02, 89.72it/s, loss=14.372/14.740]"
     ]
    },
    {
     "name": "stdout",
     "output_type": "stream",
     "text": [
      "epoch:4\n"
     ]
    },
    {
     "name": "stderr",
     "output_type": "stream",
     "text": [
      "100%|██████████| 250/250 [00:02<00:00, 124.89it/s, loss=14.113/13.807]\n"
     ]
    },
    {
     "name": "stdout",
     "output_type": "stream",
     "text": [
      "14.113131959304816\n"
     ]
    },
    {
     "name": "stderr",
     "output_type": "stream",
     "text": [
      "  4%|▍         | 10/250 [00:00<00:02, 96.42it/s, loss=13.921/14.045]"
     ]
    },
    {
     "name": "stdout",
     "output_type": "stream",
     "text": [
      "epoch:5\n"
     ]
    },
    {
     "name": "stderr",
     "output_type": "stream",
     "text": [
      "100%|██████████| 250/250 [00:02<00:00, 122.34it/s, loss=13.604/13.154]"
     ]
    },
    {
     "name": "stdout",
     "output_type": "stream",
     "text": [
      "13.604191775588989\n"
     ]
    },
    {
     "name": "stderr",
     "output_type": "stream",
     "text": [
      "\n",
      "  4%|▍         | 11/250 [00:00<00:02, 108.48it/s, loss=13.383/13.077]"
     ]
    },
    {
     "name": "stdout",
     "output_type": "stream",
     "text": [
      "epoch:6\n"
     ]
    },
    {
     "name": "stderr",
     "output_type": "stream",
     "text": [
      "100%|██████████| 250/250 [00:02<00:00, 121.34it/s, loss=13.142/13.087]"
     ]
    },
    {
     "name": "stdout",
     "output_type": "stream",
     "text": [
      "13.141692460250837\n"
     ]
    },
    {
     "name": "stderr",
     "output_type": "stream",
     "text": [
      "\n",
      "  5%|▍         | 12/250 [00:00<00:01, 119.05it/s, loss=13.006/13.291]"
     ]
    },
    {
     "name": "stdout",
     "output_type": "stream",
     "text": [
      "epoch:7\n"
     ]
    },
    {
     "name": "stderr",
     "output_type": "stream",
     "text": [
      "100%|██████████| 250/250 [00:01<00:00, 126.34it/s, loss=12.718/12.851]"
     ]
    },
    {
     "name": "stdout",
     "output_type": "stream",
     "text": [
      "12.718229339065555\n"
     ]
    },
    {
     "name": "stderr",
     "output_type": "stream",
     "text": [
      "\n",
      "  4%|▎         | 9/250 [00:00<00:02, 89.21it/s, loss=12.556/12.612]"
     ]
    },
    {
     "name": "stdout",
     "output_type": "stream",
     "text": [
      "epoch:8\n"
     ]
    },
    {
     "name": "stderr",
     "output_type": "stream",
     "text": [
      "100%|██████████| 250/250 [00:01<00:00, 125.52it/s, loss=12.323/12.346]"
     ]
    },
    {
     "name": "stdout",
     "output_type": "stream",
     "text": [
      "12.323397122192388\n"
     ]
    },
    {
     "name": "stderr",
     "output_type": "stream",
     "text": [
      "\n",
      "  4%|▎         | 9/250 [00:00<00:02, 89.49it/s, loss=12.113/12.307]"
     ]
    },
    {
     "name": "stdout",
     "output_type": "stream",
     "text": [
      "epoch:9\n"
     ]
    },
    {
     "name": "stderr",
     "output_type": "stream",
     "text": [
      "100%|██████████| 250/250 [00:02<00:00, 125.94it/s, loss=11.956/12.302]"
     ]
    },
    {
     "name": "stdout",
     "output_type": "stream",
     "text": [
      "11.956430700759899\n"
     ]
    },
    {
     "name": "stderr",
     "output_type": "stream",
     "text": [
      "\n",
      "  5%|▍         | 12/250 [00:00<00:02, 114.62it/s, loss=11.835/12.071]"
     ]
    },
    {
     "name": "stdout",
     "output_type": "stream",
     "text": [
      "epoch:10\n"
     ]
    },
    {
     "name": "stderr",
     "output_type": "stream",
     "text": [
      "100%|██████████| 250/250 [00:02<00:00, 121.69it/s, loss=11.613/11.104]\n"
     ]
    },
    {
     "name": "stdout",
     "output_type": "stream",
     "text": [
      "11.612928320846562\n"
     ]
    },
    {
     "name": "stderr",
     "output_type": "stream",
     "text": [
      "  4%|▍         | 10/250 [00:00<00:02, 99.21it/s, loss=11.394/11.376]"
     ]
    },
    {
     "name": "stdout",
     "output_type": "stream",
     "text": [
      "epoch:11\n"
     ]
    },
    {
     "name": "stderr",
     "output_type": "stream",
     "text": [
      "100%|██████████| 250/250 [00:02<00:00, 121.71it/s, loss=11.291/10.943]"
     ]
    },
    {
     "name": "stdout",
     "output_type": "stream",
     "text": [
      "11.290728893661498\n"
     ]
    },
    {
     "name": "stderr",
     "output_type": "stream",
     "text": [
      "\n",
      "  4%|▎         | 9/250 [00:00<00:02, 86.90it/s, loss=11.237/11.285]"
     ]
    },
    {
     "name": "stdout",
     "output_type": "stream",
     "text": [
      "epoch:12\n"
     ]
    },
    {
     "name": "stderr",
     "output_type": "stream",
     "text": [
      "100%|██████████| 250/250 [00:02<00:00, 122.10it/s, loss=10.987/10.725]\n"
     ]
    },
    {
     "name": "stdout",
     "output_type": "stream",
     "text": [
      "10.98683940368652\n"
     ]
    },
    {
     "name": "stderr",
     "output_type": "stream",
     "text": [
      "  4%|▎         | 9/250 [00:00<00:02, 86.84it/s, loss=10.781/10.862]"
     ]
    },
    {
     "name": "stdout",
     "output_type": "stream",
     "text": [
      "epoch:13\n"
     ]
    },
    {
     "name": "stderr",
     "output_type": "stream",
     "text": [
      "100%|██████████| 250/250 [00:01<00:00, 127.16it/s, loss=10.699/10.614]"
     ]
    },
    {
     "name": "stdout",
     "output_type": "stream",
     "text": [
      "10.699194474792485\n"
     ]
    },
    {
     "name": "stderr",
     "output_type": "stream",
     "text": [
      "\n",
      "  4%|▎         | 9/250 [00:00<00:02, 88.51it/s, loss=10.462/10.578]"
     ]
    },
    {
     "name": "stdout",
     "output_type": "stream",
     "text": [
      "epoch:14\n"
     ]
    },
    {
     "name": "stderr",
     "output_type": "stream",
     "text": [
      "100%|██████████| 250/250 [00:01<00:00, 125.35it/s, loss=10.429/9.938]"
     ]
    },
    {
     "name": "stdout",
     "output_type": "stream",
     "text": [
      "10.428850740432742\n"
     ]
    },
    {
     "name": "stderr",
     "output_type": "stream",
     "text": [
      "\n",
      "  4%|▍         | 11/250 [00:00<00:02, 103.98it/s, loss=10.258/10.422]"
     ]
    },
    {
     "name": "stdout",
     "output_type": "stream",
     "text": [
      "epoch:15\n"
     ]
    },
    {
     "name": "stderr",
     "output_type": "stream",
     "text": [
      "100%|██████████| 250/250 [00:02<00:00, 124.97it/s, loss=10.174/10.087]"
     ]
    },
    {
     "name": "stdout",
     "output_type": "stream",
     "text": [
      "10.173797702102659\n"
     ]
    },
    {
     "name": "stderr",
     "output_type": "stream",
     "text": [
      "\n",
      "  4%|▍         | 10/250 [00:00<00:02, 96.70it/s, loss=10.000/10.484]"
     ]
    },
    {
     "name": "stdout",
     "output_type": "stream",
     "text": [
      "epoch:16\n"
     ]
    },
    {
     "name": "stderr",
     "output_type": "stream",
     "text": [
      "100%|██████████| 250/250 [00:01<00:00, 126.60it/s, loss=9.934/9.582]"
     ]
    },
    {
     "name": "stdout",
     "output_type": "stream",
     "text": [
      "9.934379642257689\n"
     ]
    },
    {
     "name": "stderr",
     "output_type": "stream",
     "text": [
      "\n",
      "  4%|▍         | 11/250 [00:00<00:02, 105.64it/s, loss=9.814/9.623]"
     ]
    },
    {
     "name": "stdout",
     "output_type": "stream",
     "text": [
      "epoch:17\n"
     ]
    },
    {
     "name": "stderr",
     "output_type": "stream",
     "text": [
      "100%|██████████| 250/250 [00:01<00:00, 126.87it/s, loss=9.705/9.131]"
     ]
    },
    {
     "name": "stdout",
     "output_type": "stream",
     "text": [
      "9.704915447845456\n"
     ]
    },
    {
     "name": "stderr",
     "output_type": "stream",
     "text": [
      "\n",
      "  4%|▍         | 10/250 [00:00<00:02, 97.64it/s, loss=9.496/9.222]"
     ]
    },
    {
     "name": "stdout",
     "output_type": "stream",
     "text": [
      "epoch:18\n"
     ]
    },
    {
     "name": "stderr",
     "output_type": "stream",
     "text": [
      "100%|██████████| 250/250 [00:02<00:00, 123.69it/s, loss=9.489/9.718]"
     ]
    },
    {
     "name": "stdout",
     "output_type": "stream",
     "text": [
      "9.489214685974122\n"
     ]
    },
    {
     "name": "stderr",
     "output_type": "stream",
     "text": [
      "\n",
      "  4%|▍         | 11/250 [00:00<00:02, 106.68it/s, loss=9.399/9.574]"
     ]
    },
    {
     "name": "stdout",
     "output_type": "stream",
     "text": [
      "epoch:19\n"
     ]
    },
    {
     "name": "stderr",
     "output_type": "stream",
     "text": [
      "100%|██████████| 250/250 [00:02<00:00, 121.95it/s, loss=9.285/9.274]\n"
     ]
    },
    {
     "name": "stdout",
     "output_type": "stream",
     "text": [
      "9.284805415344243\n"
     ]
    },
    {
     "name": "stderr",
     "output_type": "stream",
     "text": [
      "  4%|▎         | 9/250 [00:00<00:02, 88.31it/s, loss=9.102/8.931]"
     ]
    },
    {
     "name": "stdout",
     "output_type": "stream",
     "text": [
      "epoch:20\n"
     ]
    },
    {
     "name": "stderr",
     "output_type": "stream",
     "text": [
      "100%|██████████| 250/250 [00:02<00:00, 118.52it/s, loss=9.089/8.820]\n"
     ]
    },
    {
     "name": "stdout",
     "output_type": "stream",
     "text": [
      "9.08877033294678\n"
     ]
    },
    {
     "name": "stderr",
     "output_type": "stream",
     "text": [
      "  4%|▍         | 11/250 [00:00<00:02, 104.80it/s, loss=8.974/8.591]"
     ]
    },
    {
     "name": "stdout",
     "output_type": "stream",
     "text": [
      "epoch:21\n"
     ]
    },
    {
     "name": "stderr",
     "output_type": "stream",
     "text": [
      "100%|██████████| 250/250 [00:02<00:00, 122.79it/s, loss=8.907/8.875]"
     ]
    },
    {
     "name": "stdout",
     "output_type": "stream",
     "text": [
      "8.906654767799376\n"
     ]
    },
    {
     "name": "stderr",
     "output_type": "stream",
     "text": [
      "\n",
      "  4%|▍         | 10/250 [00:00<00:02, 96.42it/s, loss=8.784/8.671]"
     ]
    },
    {
     "name": "stdout",
     "output_type": "stream",
     "text": [
      "epoch:22\n"
     ]
    },
    {
     "name": "stderr",
     "output_type": "stream",
     "text": [
      "100%|██████████| 250/250 [00:01<00:00, 128.50it/s, loss=8.733/8.648]"
     ]
    },
    {
     "name": "stdout",
     "output_type": "stream",
     "text": [
      "8.732601161270132\n"
     ]
    },
    {
     "name": "stderr",
     "output_type": "stream",
     "text": [
      "\n",
      "  4%|▎         | 9/250 [00:00<00:02, 83.79it/s, loss=8.766/8.802]"
     ]
    },
    {
     "name": "stdout",
     "output_type": "stream",
     "text": [
      "epoch:23\n"
     ]
    },
    {
     "name": "stderr",
     "output_type": "stream",
     "text": [
      "100%|██████████| 250/250 [00:02<00:00, 123.19it/s, loss=8.567/8.942]\n"
     ]
    },
    {
     "name": "stdout",
     "output_type": "stream",
     "text": [
      "8.567088791236875\n"
     ]
    },
    {
     "name": "stderr",
     "output_type": "stream",
     "text": [
      "  4%|▍         | 10/250 [00:00<00:02, 99.72it/s, loss=8.398/7.862]"
     ]
    },
    {
     "name": "stdout",
     "output_type": "stream",
     "text": [
      "epoch:24\n"
     ]
    },
    {
     "name": "stderr",
     "output_type": "stream",
     "text": [
      "100%|██████████| 250/250 [00:01<00:00, 127.19it/s, loss=8.411/8.514]\n"
     ]
    },
    {
     "name": "stdout",
     "output_type": "stream",
     "text": [
      "8.411409208297728\n"
     ]
    },
    {
     "name": "stderr",
     "output_type": "stream",
     "text": [
      "100%|██████████| 50/50 [00:00<00:00, 115.79it/s]"
     ]
    },
    {
     "name": "stdout",
     "output_type": "stream",
     "text": [
      "lr:0.0001; reg:1; acc:0.3498\n"
     ]
    },
    {
     "name": "stderr",
     "output_type": "stream",
     "text": [
      "\n",
      "  4%|▎         | 9/250 [00:00<00:03, 78.21it/s, loss=19.699/19.130]"
     ]
    },
    {
     "name": "stdout",
     "output_type": "stream",
     "text": [
      "epoch:0\n"
     ]
    },
    {
     "name": "stderr",
     "output_type": "stream",
     "text": [
      "100%|██████████| 250/250 [00:02<00:00, 120.43it/s, loss=17.843/16.336]"
     ]
    },
    {
     "name": "stdout",
     "output_type": "stream",
     "text": [
      "17.843364069061273\n"
     ]
    },
    {
     "name": "stderr",
     "output_type": "stream",
     "text": [
      "\n",
      "  4%|▎         | 9/250 [00:00<00:02, 88.49it/s, loss=16.801/16.907]"
     ]
    },
    {
     "name": "stdout",
     "output_type": "stream",
     "text": [
      "epoch:1\n"
     ]
    },
    {
     "name": "stderr",
     "output_type": "stream",
     "text": [
      "100%|██████████| 250/250 [00:02<00:00, 120.42it/s, loss=16.265/16.056]\n"
     ]
    },
    {
     "name": "stdout",
     "output_type": "stream",
     "text": [
      "16.264874819183344\n"
     ]
    },
    {
     "name": "stderr",
     "output_type": "stream",
     "text": [
      "  4%|▍         | 11/250 [00:00<00:02, 106.76it/s, loss=15.831/16.197]"
     ]
    },
    {
     "name": "stdout",
     "output_type": "stream",
     "text": [
      "epoch:2\n"
     ]
    },
    {
     "name": "stderr",
     "output_type": "stream",
     "text": [
      "100%|██████████| 250/250 [00:02<00:00, 122.37it/s, loss=15.345/15.008]"
     ]
    },
    {
     "name": "stdout",
     "output_type": "stream",
     "text": [
      "15.344906060028077\n"
     ]
    },
    {
     "name": "stderr",
     "output_type": "stream",
     "text": [
      "\n",
      "  4%|▍         | 11/250 [00:00<00:02, 107.55it/s, loss=14.894/14.869]"
     ]
    },
    {
     "name": "stdout",
     "output_type": "stream",
     "text": [
      "epoch:3\n"
     ]
    },
    {
     "name": "stderr",
     "output_type": "stream",
     "text": [
      "100%|██████████| 250/250 [00:02<00:00, 122.46it/s, loss=14.657/14.585]"
     ]
    },
    {
     "name": "stdout",
     "output_type": "stream",
     "text": [
      "14.656910390014644\n"
     ]
    },
    {
     "name": "stderr",
     "output_type": "stream",
     "text": [
      "\n",
      "  4%|▍         | 10/250 [00:00<00:02, 98.10it/s, loss=14.348/14.543]"
     ]
    },
    {
     "name": "stdout",
     "output_type": "stream",
     "text": [
      "epoch:4\n"
     ]
    },
    {
     "name": "stderr",
     "output_type": "stream",
     "text": [
      "100%|██████████| 250/250 [00:02<00:00, 123.05it/s, loss=14.078/13.595]\n"
     ]
    },
    {
     "name": "stdout",
     "output_type": "stream",
     "text": [
      "14.078325708770754\n"
     ]
    },
    {
     "name": "stderr",
     "output_type": "stream",
     "text": [
      "  4%|▍         | 10/250 [00:00<00:02, 97.63it/s, loss=13.747/13.791]"
     ]
    },
    {
     "name": "stdout",
     "output_type": "stream",
     "text": [
      "epoch:5\n"
     ]
    },
    {
     "name": "stderr",
     "output_type": "stream",
     "text": [
      "100%|██████████| 250/250 [00:01<00:00, 125.52it/s, loss=13.568/13.346]"
     ]
    },
    {
     "name": "stdout",
     "output_type": "stream",
     "text": [
      "13.568329654922492\n"
     ]
    },
    {
     "name": "stderr",
     "output_type": "stream",
     "text": [
      "\n",
      "  4%|▎         | 9/250 [00:00<00:03, 71.76it/s, loss=13.257/13.657]"
     ]
    },
    {
     "name": "stdout",
     "output_type": "stream",
     "text": [
      "epoch:6\n"
     ]
    },
    {
     "name": "stderr",
     "output_type": "stream",
     "text": [
      "100%|██████████| 250/250 [00:02<00:00, 116.40it/s, loss=13.107/12.645]"
     ]
    },
    {
     "name": "stdout",
     "output_type": "stream",
     "text": [
      "13.106677808151247\n"
     ]
    },
    {
     "name": "stderr",
     "output_type": "stream",
     "text": [
      "\n",
      "  4%|▍         | 11/250 [00:00<00:02, 93.09it/s, loss=12.981/12.710]"
     ]
    },
    {
     "name": "stdout",
     "output_type": "stream",
     "text": [
      "epoch:7\n"
     ]
    },
    {
     "name": "stderr",
     "output_type": "stream",
     "text": [
      "100%|██████████| 250/250 [00:02<00:00, 124.88it/s, loss=12.681/12.771]"
     ]
    },
    {
     "name": "stdout",
     "output_type": "stream",
     "text": [
      "12.680672839736939\n"
     ]
    },
    {
     "name": "stderr",
     "output_type": "stream",
     "text": [
      "\n",
      "  4%|▎         | 9/250 [00:00<00:02, 86.41it/s, loss=12.438/12.337]"
     ]
    },
    {
     "name": "stdout",
     "output_type": "stream",
     "text": [
      "epoch:8\n"
     ]
    },
    {
     "name": "stderr",
     "output_type": "stream",
     "text": [
      "100%|██████████| 250/250 [00:02<00:00, 110.51it/s, loss=12.288/12.574]"
     ]
    },
    {
     "name": "stdout",
     "output_type": "stream",
     "text": [
      "12.288044298324586\n"
     ]
    },
    {
     "name": "stderr",
     "output_type": "stream",
     "text": [
      "\n",
      "  5%|▍         | 12/250 [00:00<00:02, 113.87it/s, loss=12.208/12.608]"
     ]
    },
    {
     "name": "stdout",
     "output_type": "stream",
     "text": [
      "epoch:9\n"
     ]
    },
    {
     "name": "stderr",
     "output_type": "stream",
     "text": [
      "100%|██████████| 250/250 [00:01<00:00, 131.00it/s, loss=11.921/11.704]"
     ]
    },
    {
     "name": "stdout",
     "output_type": "stream",
     "text": [
      "11.920953945693974\n"
     ]
    },
    {
     "name": "stderr",
     "output_type": "stream",
     "text": [
      "\n",
      "  5%|▍         | 12/250 [00:00<00:02, 117.24it/s, loss=11.755/11.420]"
     ]
    },
    {
     "name": "stdout",
     "output_type": "stream",
     "text": [
      "epoch:10\n"
     ]
    },
    {
     "name": "stderr",
     "output_type": "stream",
     "text": [
      "100%|██████████| 250/250 [00:02<00:00, 121.77it/s, loss=11.577/11.112]\n"
     ]
    },
    {
     "name": "stdout",
     "output_type": "stream",
     "text": [
      "11.57719394111633\n"
     ]
    },
    {
     "name": "stderr",
     "output_type": "stream",
     "text": [
      "  4%|▎         | 9/250 [00:00<00:02, 89.99it/s, loss=11.371/11.632]"
     ]
    },
    {
     "name": "stdout",
     "output_type": "stream",
     "text": [
      "epoch:11\n"
     ]
    },
    {
     "name": "stderr",
     "output_type": "stream",
     "text": [
      "100%|██████████| 250/250 [00:02<00:00, 121.24it/s, loss=11.256/11.013]"
     ]
    },
    {
     "name": "stdout",
     "output_type": "stream",
     "text": [
      "11.256006814804067\n"
     ]
    },
    {
     "name": "stderr",
     "output_type": "stream",
     "text": [
      "\n",
      "  4%|▍         | 11/250 [00:00<00:02, 107.26it/s, loss=11.006/11.073]"
     ]
    },
    {
     "name": "stdout",
     "output_type": "stream",
     "text": [
      "epoch:12\n"
     ]
    },
    {
     "name": "stderr",
     "output_type": "stream",
     "text": [
      "100%|██████████| 250/250 [00:01<00:00, 126.68it/s, loss=10.952/11.114]"
     ]
    },
    {
     "name": "stdout",
     "output_type": "stream",
     "text": [
      "10.95241332939149\n"
     ]
    },
    {
     "name": "stderr",
     "output_type": "stream",
     "text": [
      "\n",
      "  4%|▍         | 11/250 [00:00<00:02, 109.31it/s, loss=10.834/10.944]"
     ]
    },
    {
     "name": "stdout",
     "output_type": "stream",
     "text": [
      "epoch:13\n"
     ]
    },
    {
     "name": "stderr",
     "output_type": "stream",
     "text": [
      "100%|██████████| 250/250 [00:01<00:00, 125.73it/s, loss=10.667/11.019]\n"
     ]
    },
    {
     "name": "stdout",
     "output_type": "stream",
     "text": [
      "10.66747649291992\n"
     ]
    },
    {
     "name": "stderr",
     "output_type": "stream",
     "text": [
      "  4%|▍         | 11/250 [00:00<00:02, 108.94it/s, loss=10.531/10.457]"
     ]
    },
    {
     "name": "stdout",
     "output_type": "stream",
     "text": [
      "epoch:14\n"
     ]
    },
    {
     "name": "stderr",
     "output_type": "stream",
     "text": [
      "100%|██████████| 250/250 [00:01<00:00, 127.37it/s, loss=10.398/10.002]"
     ]
    },
    {
     "name": "stdout",
     "output_type": "stream",
     "text": [
      "10.398258729782105\n"
     ]
    },
    {
     "name": "stderr",
     "output_type": "stream",
     "text": [
      "\n",
      "  4%|▍         | 10/250 [00:00<00:02, 99.77it/s, loss=10.276/10.198]"
     ]
    },
    {
     "name": "stdout",
     "output_type": "stream",
     "text": [
      "epoch:15\n"
     ]
    },
    {
     "name": "stderr",
     "output_type": "stream",
     "text": [
      "100%|██████████| 250/250 [00:01<00:00, 125.42it/s, loss=10.145/10.157]\n"
     ]
    },
    {
     "name": "stdout",
     "output_type": "stream",
     "text": [
      "10.145263962631232\n"
     ]
    },
    {
     "name": "stderr",
     "output_type": "stream",
     "text": [
      "  4%|▍         | 11/250 [00:00<00:02, 107.42it/s, loss=10.026/9.484]"
     ]
    },
    {
     "name": "stdout",
     "output_type": "stream",
     "text": [
      "epoch:16\n"
     ]
    },
    {
     "name": "stderr",
     "output_type": "stream",
     "text": [
      "100%|██████████| 250/250 [00:01<00:00, 126.34it/s, loss=9.905/10.262]"
     ]
    },
    {
     "name": "stdout",
     "output_type": "stream",
     "text": [
      "9.905422025985715\n"
     ]
    },
    {
     "name": "stderr",
     "output_type": "stream",
     "text": [
      "\n",
      "  4%|▍         | 11/250 [00:00<00:02, 108.95it/s, loss=9.745/9.773]"
     ]
    },
    {
     "name": "stdout",
     "output_type": "stream",
     "text": [
      "epoch:17\n"
     ]
    },
    {
     "name": "stderr",
     "output_type": "stream",
     "text": [
      "100%|██████████| 250/250 [00:01<00:00, 126.22it/s, loss=9.678/9.836]"
     ]
    },
    {
     "name": "stdout",
     "output_type": "stream",
     "text": [
      "9.677787039260858\n"
     ]
    },
    {
     "name": "stderr",
     "output_type": "stream",
     "text": [
      "\n",
      "  4%|▎         | 9/250 [00:00<00:02, 87.40it/s, loss=9.536/9.413]"
     ]
    },
    {
     "name": "stdout",
     "output_type": "stream",
     "text": [
      "epoch:18\n"
     ]
    },
    {
     "name": "stderr",
     "output_type": "stream",
     "text": [
      "100%|██████████| 250/250 [00:02<00:00, 122.75it/s, loss=9.463/9.163]"
     ]
    },
    {
     "name": "stdout",
     "output_type": "stream",
     "text": [
      "9.46324236679077\n"
     ]
    },
    {
     "name": "stderr",
     "output_type": "stream",
     "text": [
      "\n",
      "  4%|▍         | 10/250 [00:00<00:02, 96.94it/s, loss=9.258/9.117]"
     ]
    },
    {
     "name": "stdout",
     "output_type": "stream",
     "text": [
      "epoch:19\n"
     ]
    },
    {
     "name": "stderr",
     "output_type": "stream",
     "text": [
      "100%|██████████| 250/250 [00:02<00:00, 119.26it/s, loss=9.261/9.894]\n"
     ]
    },
    {
     "name": "stdout",
     "output_type": "stream",
     "text": [
      "9.261266297454835\n"
     ]
    },
    {
     "name": "stderr",
     "output_type": "stream",
     "text": [
      "  4%|▍         | 11/250 [00:00<00:02, 109.35it/s, loss=9.274/9.618]"
     ]
    },
    {
     "name": "stdout",
     "output_type": "stream",
     "text": [
      "epoch:20\n"
     ]
    },
    {
     "name": "stderr",
     "output_type": "stream",
     "text": [
      "100%|██████████| 250/250 [00:02<00:00, 115.35it/s, loss=9.067/8.923]"
     ]
    },
    {
     "name": "stdout",
     "output_type": "stream",
     "text": [
      "9.066704388237\n"
     ]
    },
    {
     "name": "stderr",
     "output_type": "stream",
     "text": [
      "\n",
      "  4%|▎         | 9/250 [00:00<00:02, 88.56it/s, loss=8.884/8.812]"
     ]
    },
    {
     "name": "stdout",
     "output_type": "stream",
     "text": [
      "epoch:21\n"
     ]
    },
    {
     "name": "stderr",
     "output_type": "stream",
     "text": [
      "100%|██████████| 250/250 [00:02<00:00, 115.36it/s, loss=8.884/8.655]"
     ]
    },
    {
     "name": "stdout",
     "output_type": "stream",
     "text": [
      "8.883668427467347\n"
     ]
    },
    {
     "name": "stderr",
     "output_type": "stream",
     "text": [
      "\n",
      "  2%|▏         | 5/250 [00:00<00:04, 49.02it/s, loss=8.748/8.613]"
     ]
    },
    {
     "name": "stdout",
     "output_type": "stream",
     "text": [
      "epoch:22\n"
     ]
    },
    {
     "name": "stderr",
     "output_type": "stream",
     "text": [
      "100%|██████████| 250/250 [00:02<00:00, 122.14it/s, loss=8.712/8.761]"
     ]
    },
    {
     "name": "stdout",
     "output_type": "stream",
     "text": [
      "8.71202649452209\n"
     ]
    },
    {
     "name": "stderr",
     "output_type": "stream",
     "text": [
      "\n",
      "  4%|▎         | 9/250 [00:00<00:02, 85.56it/s, loss=8.669/8.744]"
     ]
    },
    {
     "name": "stdout",
     "output_type": "stream",
     "text": [
      "epoch:23\n"
     ]
    },
    {
     "name": "stderr",
     "output_type": "stream",
     "text": [
      "100%|██████████| 250/250 [00:02<00:00, 123.62it/s, loss=8.548/8.639]"
     ]
    },
    {
     "name": "stdout",
     "output_type": "stream",
     "text": [
      "8.547614670486448\n"
     ]
    },
    {
     "name": "stderr",
     "output_type": "stream",
     "text": [
      "\n",
      "  4%|▍         | 10/250 [00:00<00:02, 85.56it/s, loss=8.419/8.310]"
     ]
    },
    {
     "name": "stdout",
     "output_type": "stream",
     "text": [
      "epoch:24\n"
     ]
    },
    {
     "name": "stderr",
     "output_type": "stream",
     "text": [
      "100%|██████████| 250/250 [00:01<00:00, 127.59it/s, loss=8.391/8.394]\n"
     ]
    },
    {
     "name": "stdout",
     "output_type": "stream",
     "text": [
      "8.391333829269408\n"
     ]
    },
    {
     "name": "stderr",
     "output_type": "stream",
     "text": [
      "100%|██████████| 50/50 [00:00<00:00, 121.01it/s]"
     ]
    },
    {
     "name": "stdout",
     "output_type": "stream",
     "text": [
      "lr:0.0001; reg:10; acc:0.3482\n"
     ]
    },
    {
     "name": "stderr",
     "output_type": "stream",
     "text": [
      "\n",
      "  4%|▍         | 10/250 [00:00<00:02, 94.76it/s, loss=19.268/19.456]"
     ]
    },
    {
     "name": "stdout",
     "output_type": "stream",
     "text": [
      "epoch:0\n"
     ]
    },
    {
     "name": "stderr",
     "output_type": "stream",
     "text": [
      "100%|██████████| 250/250 [00:02<00:00, 120.07it/s, loss=17.736/16.500]\n"
     ]
    },
    {
     "name": "stdout",
     "output_type": "stream",
     "text": [
      "17.735602826538077\n"
     ]
    },
    {
     "name": "stderr",
     "output_type": "stream",
     "text": [
      "  4%|▎         | 9/250 [00:00<00:02, 87.85it/s, loss=16.710/16.280]"
     ]
    },
    {
     "name": "stdout",
     "output_type": "stream",
     "text": [
      "epoch:1\n"
     ]
    },
    {
     "name": "stderr",
     "output_type": "stream",
     "text": [
      "100%|██████████| 250/250 [00:02<00:00, 118.70it/s, loss=16.193/15.716]"
     ]
    },
    {
     "name": "stdout",
     "output_type": "stream",
     "text": [
      "16.19252333602906\n"
     ]
    },
    {
     "name": "stderr",
     "output_type": "stream",
     "text": [
      "\n",
      "  5%|▍         | 12/250 [00:00<00:02, 116.87it/s, loss=15.617/15.325]"
     ]
    },
    {
     "name": "stdout",
     "output_type": "stream",
     "text": [
      "epoch:2\n"
     ]
    },
    {
     "name": "stderr",
     "output_type": "stream",
     "text": [
      "100%|██████████| 250/250 [00:02<00:00, 119.97it/s, loss=15.272/15.205]"
     ]
    },
    {
     "name": "stdout",
     "output_type": "stream",
     "text": [
      "15.271585215911863\n"
     ]
    },
    {
     "name": "stderr",
     "output_type": "stream",
     "text": [
      "\n",
      "  5%|▍         | 12/250 [00:00<00:02, 116.92it/s, loss=14.963/14.330]"
     ]
    },
    {
     "name": "stdout",
     "output_type": "stream",
     "text": [
      "epoch:3\n"
     ]
    },
    {
     "name": "stderr",
     "output_type": "stream",
     "text": [
      "100%|██████████| 250/250 [00:02<00:00, 127.01it/s, loss=14.581/14.673]\n"
     ]
    },
    {
     "name": "stdout",
     "output_type": "stream",
     "text": [
      "14.580661535339356\n"
     ]
    },
    {
     "name": "stderr",
     "output_type": "stream",
     "text": [
      "  4%|▎         | 9/250 [00:00<00:02, 85.44it/s, loss=14.297/14.252]"
     ]
    },
    {
     "name": "stdout",
     "output_type": "stream",
     "text": [
      "epoch:4\n"
     ]
    },
    {
     "name": "stderr",
     "output_type": "stream",
     "text": [
      "100%|██████████| 250/250 [00:02<00:00, 122.39it/s, loss=14.004/14.368]\n"
     ]
    },
    {
     "name": "stdout",
     "output_type": "stream",
     "text": [
      "14.004395192108145\n"
     ]
    },
    {
     "name": "stderr",
     "output_type": "stream",
     "text": [
      "  4%|▍         | 11/250 [00:00<00:02, 107.62it/s, loss=13.664/13.573]"
     ]
    },
    {
     "name": "stdout",
     "output_type": "stream",
     "text": [
      "epoch:5\n"
     ]
    },
    {
     "name": "stderr",
     "output_type": "stream",
     "text": [
      "100%|██████████| 250/250 [00:02<00:00, 122.02it/s, loss=13.495/13.351]\n"
     ]
    },
    {
     "name": "stdout",
     "output_type": "stream",
     "text": [
      "13.495178897857672\n"
     ]
    },
    {
     "name": "stderr",
     "output_type": "stream",
     "text": [
      "  4%|▍         | 10/250 [00:00<00:02, 98.18it/s, loss=13.199/13.458]"
     ]
    },
    {
     "name": "stdout",
     "output_type": "stream",
     "text": [
      "epoch:6\n"
     ]
    },
    {
     "name": "stderr",
     "output_type": "stream",
     "text": [
      "100%|██████████| 250/250 [00:02<00:00, 119.97it/s, loss=13.036/12.531]\n"
     ]
    },
    {
     "name": "stdout",
     "output_type": "stream",
     "text": [
      "13.036387340011597\n"
     ]
    },
    {
     "name": "stderr",
     "output_type": "stream",
     "text": [
      "  4%|▎         | 9/250 [00:00<00:02, 85.43it/s, loss=12.858/12.910]"
     ]
    },
    {
     "name": "stdout",
     "output_type": "stream",
     "text": [
      "epoch:7\n"
     ]
    },
    {
     "name": "stderr",
     "output_type": "stream",
     "text": [
      "100%|██████████| 250/250 [00:02<00:00, 122.77it/s, loss=12.615/12.425]"
     ]
    },
    {
     "name": "stdout",
     "output_type": "stream",
     "text": [
      "12.615405738449098\n"
     ]
    },
    {
     "name": "stderr",
     "output_type": "stream",
     "text": [
      "\n",
      "  5%|▍         | 12/250 [00:00<00:02, 118.57it/s, loss=12.373/12.470]"
     ]
    },
    {
     "name": "stdout",
     "output_type": "stream",
     "text": [
      "epoch:8\n"
     ]
    },
    {
     "name": "stderr",
     "output_type": "stream",
     "text": [
      "100%|██████████| 250/250 [00:01<00:00, 128.47it/s, loss=12.226/11.837]"
     ]
    },
    {
     "name": "stdout",
     "output_type": "stream",
     "text": [
      "12.225703174285899\n"
     ]
    },
    {
     "name": "stderr",
     "output_type": "stream",
     "text": [
      "\n",
      "  4%|▎         | 9/250 [00:00<00:02, 87.94it/s, loss=11.922/12.030]"
     ]
    },
    {
     "name": "stdout",
     "output_type": "stream",
     "text": [
      "epoch:9\n"
     ]
    },
    {
     "name": "stderr",
     "output_type": "stream",
     "text": [
      "100%|██████████| 250/250 [00:02<00:00, 124.53it/s, loss=11.862/12.350]"
     ]
    },
    {
     "name": "stdout",
     "output_type": "stream",
     "text": [
      "11.862044576797478\n"
     ]
    },
    {
     "name": "stderr",
     "output_type": "stream",
     "text": [
      "\n",
      "  4%|▍         | 10/250 [00:00<00:02, 95.04it/s, loss=11.598/11.568]"
     ]
    },
    {
     "name": "stdout",
     "output_type": "stream",
     "text": [
      "epoch:10\n"
     ]
    },
    {
     "name": "stderr",
     "output_type": "stream",
     "text": [
      "100%|██████████| 250/250 [00:02<00:00, 121.28it/s, loss=11.523/11.413]"
     ]
    },
    {
     "name": "stdout",
     "output_type": "stream",
     "text": [
      "11.523047569885252\n"
     ]
    },
    {
     "name": "stderr",
     "output_type": "stream",
     "text": [
      "\n",
      "  4%|▍         | 11/250 [00:00<00:02, 105.83it/s, loss=11.406/11.052]"
     ]
    },
    {
     "name": "stdout",
     "output_type": "stream",
     "text": [
      "epoch:11\n"
     ]
    },
    {
     "name": "stderr",
     "output_type": "stream",
     "text": [
      "100%|██████████| 250/250 [00:01<00:00, 128.33it/s, loss=11.206/11.053]"
     ]
    },
    {
     "name": "stdout",
     "output_type": "stream",
     "text": [
      "11.205937382659917\n"
     ]
    },
    {
     "name": "stderr",
     "output_type": "stream",
     "text": [
      "\n",
      "  4%|▎         | 9/250 [00:00<00:02, 89.88it/s, loss=11.074/11.312]"
     ]
    },
    {
     "name": "stdout",
     "output_type": "stream",
     "text": [
      "epoch:12\n"
     ]
    },
    {
     "name": "stderr",
     "output_type": "stream",
     "text": [
      "100%|██████████| 250/250 [00:01<00:00, 128.49it/s, loss=10.905/10.555]"
     ]
    },
    {
     "name": "stdout",
     "output_type": "stream",
     "text": [
      "10.90539678237915\n"
     ]
    },
    {
     "name": "stderr",
     "output_type": "stream",
     "text": [
      "\n",
      "  5%|▍         | 12/250 [00:00<00:01, 119.16it/s, loss=10.667/10.868]"
     ]
    },
    {
     "name": "stdout",
     "output_type": "stream",
     "text": [
      "epoch:13\n"
     ]
    },
    {
     "name": "stderr",
     "output_type": "stream",
     "text": [
      "100%|██████████| 250/250 [00:01<00:00, 127.79it/s, loss=10.624/10.932]"
     ]
    },
    {
     "name": "stdout",
     "output_type": "stream",
     "text": [
      "10.623878453445432\n"
     ]
    },
    {
     "name": "stderr",
     "output_type": "stream",
     "text": [
      "\n",
      "  4%|▍         | 11/250 [00:00<00:02, 105.62it/s, loss=10.583/10.111]"
     ]
    },
    {
     "name": "stdout",
     "output_type": "stream",
     "text": [
      "epoch:14\n"
     ]
    },
    {
     "name": "stderr",
     "output_type": "stream",
     "text": [
      "100%|██████████| 250/250 [00:01<00:00, 125.61it/s, loss=10.358/10.212]"
     ]
    },
    {
     "name": "stdout",
     "output_type": "stream",
     "text": [
      "10.35767799278259\n"
     ]
    },
    {
     "name": "stderr",
     "output_type": "stream",
     "text": [
      "\n",
      "  4%|▍         | 10/250 [00:00<00:02, 90.63it/s, loss=10.249/10.728]"
     ]
    },
    {
     "name": "stdout",
     "output_type": "stream",
     "text": [
      "epoch:15\n"
     ]
    },
    {
     "name": "stderr",
     "output_type": "stream",
     "text": [
      "100%|██████████| 250/250 [00:02<00:00, 123.52it/s, loss=10.106/10.406]"
     ]
    },
    {
     "name": "stdout",
     "output_type": "stream",
     "text": [
      "10.106104180831906\n"
     ]
    },
    {
     "name": "stderr",
     "output_type": "stream",
     "text": [
      "\n",
      "  4%|▎         | 9/250 [00:00<00:02, 80.59it/s, loss=9.949/10.417]"
     ]
    },
    {
     "name": "stdout",
     "output_type": "stream",
     "text": [
      "epoch:16\n"
     ]
    },
    {
     "name": "stderr",
     "output_type": "stream",
     "text": [
      "100%|██████████| 250/250 [00:01<00:00, 127.04it/s, loss=9.869/9.804]"
     ]
    },
    {
     "name": "stdout",
     "output_type": "stream",
     "text": [
      "9.869335813140868\n"
     ]
    },
    {
     "name": "stderr",
     "output_type": "stream",
     "text": [
      "\n",
      "  5%|▍         | 12/250 [00:00<00:02, 116.46it/s, loss=9.835/9.632]"
     ]
    },
    {
     "name": "stdout",
     "output_type": "stream",
     "text": [
      "epoch:17\n"
     ]
    },
    {
     "name": "stderr",
     "output_type": "stream",
     "text": [
      "100%|██████████| 250/250 [00:01<00:00, 126.73it/s, loss=9.643/9.106]\n"
     ]
    },
    {
     "name": "stdout",
     "output_type": "stream",
     "text": [
      "9.643426381988531\n"
     ]
    },
    {
     "name": "stderr",
     "output_type": "stream",
     "text": [
      "  4%|▍         | 11/250 [00:00<00:02, 108.10it/s, loss=9.630/9.182]"
     ]
    },
    {
     "name": "stdout",
     "output_type": "stream",
     "text": [
      "epoch:18\n"
     ]
    },
    {
     "name": "stderr",
     "output_type": "stream",
     "text": [
      "100%|██████████| 250/250 [00:02<00:00, 122.51it/s, loss=9.431/9.656]"
     ]
    },
    {
     "name": "stdout",
     "output_type": "stream",
     "text": [
      "9.430701058654781\n"
     ]
    },
    {
     "name": "stderr",
     "output_type": "stream",
     "text": [
      "\n",
      "  4%|▎         | 9/250 [00:00<00:02, 89.67it/s, loss=9.280/8.947]"
     ]
    },
    {
     "name": "stdout",
     "output_type": "stream",
     "text": [
      "epoch:19\n"
     ]
    },
    {
     "name": "stderr",
     "output_type": "stream",
     "text": [
      "100%|██████████| 250/250 [00:02<00:00, 120.09it/s, loss=9.230/9.189]"
     ]
    },
    {
     "name": "stdout",
     "output_type": "stream",
     "text": [
      "9.229888857421871\n"
     ]
    },
    {
     "name": "stderr",
     "output_type": "stream",
     "text": [
      "\n",
      "  4%|▍         | 10/250 [00:00<00:02, 98.01it/s, loss=9.043/9.173]"
     ]
    },
    {
     "name": "stdout",
     "output_type": "stream",
     "text": [
      "epoch:20\n"
     ]
    },
    {
     "name": "stderr",
     "output_type": "stream",
     "text": [
      "100%|██████████| 250/250 [00:02<00:00, 122.80it/s, loss=9.039/8.832]\n"
     ]
    },
    {
     "name": "stdout",
     "output_type": "stream",
     "text": [
      "9.038958686256414\n"
     ]
    },
    {
     "name": "stderr",
     "output_type": "stream",
     "text": [
      "  4%|▍         | 10/250 [00:00<00:02, 99.60it/s, loss=8.960/9.083]"
     ]
    },
    {
     "name": "stdout",
     "output_type": "stream",
     "text": [
      "epoch:21\n"
     ]
    },
    {
     "name": "stderr",
     "output_type": "stream",
     "text": [
      "100%|██████████| 250/250 [00:02<00:00, 120.11it/s, loss=8.858/8.967]"
     ]
    },
    {
     "name": "stdout",
     "output_type": "stream",
     "text": [
      "8.858356977462769\n"
     ]
    },
    {
     "name": "stderr",
     "output_type": "stream",
     "text": [
      "\n",
      "  4%|▍         | 10/250 [00:00<00:02, 98.68it/s, loss=8.659/8.413]"
     ]
    },
    {
     "name": "stdout",
     "output_type": "stream",
     "text": [
      "epoch:22\n"
     ]
    },
    {
     "name": "stderr",
     "output_type": "stream",
     "text": [
      "100%|██████████| 250/250 [00:02<00:00, 120.69it/s, loss=8.686/8.486]"
     ]
    },
    {
     "name": "stdout",
     "output_type": "stream",
     "text": [
      "8.686308937492369\n"
     ]
    },
    {
     "name": "stderr",
     "output_type": "stream",
     "text": [
      "\n",
      "  5%|▍         | 12/250 [00:00<00:02, 116.14it/s, loss=8.556/8.694]"
     ]
    },
    {
     "name": "stdout",
     "output_type": "stream",
     "text": [
      "epoch:23\n"
     ]
    },
    {
     "name": "stderr",
     "output_type": "stream",
     "text": [
      "100%|██████████| 250/250 [00:02<00:00, 124.15it/s, loss=8.523/8.240]\n"
     ]
    },
    {
     "name": "stdout",
     "output_type": "stream",
     "text": [
      "8.523461324348446\n"
     ]
    },
    {
     "name": "stderr",
     "output_type": "stream",
     "text": [
      "  4%|▍         | 10/250 [00:00<00:02, 97.23it/s, loss=8.400/8.431]"
     ]
    },
    {
     "name": "stdout",
     "output_type": "stream",
     "text": [
      "epoch:24\n"
     ]
    },
    {
     "name": "stderr",
     "output_type": "stream",
     "text": [
      "100%|██████████| 250/250 [00:02<00:00, 124.92it/s, loss=8.369/8.124]"
     ]
    },
    {
     "name": "stdout",
     "output_type": "stream",
     "text": [
      "8.368876761970522\n"
     ]
    },
    {
     "name": "stderr",
     "output_type": "stream",
     "text": [
      "\n",
      "100%|██████████| 50/50 [00:00<00:00, 127.89it/s]\n"
     ]
    },
    {
     "name": "stdout",
     "output_type": "stream",
     "text": [
      "lr:0.0001; reg:100; acc:0.347\n"
     ]
    },
    {
     "name": "stderr",
     "output_type": "stream",
     "text": [
      "  4%|▍         | 11/250 [00:00<00:02, 95.60it/s, loss=19.823/19.920]"
     ]
    },
    {
     "name": "stdout",
     "output_type": "stream",
     "text": [
      "epoch:0\n"
     ]
    },
    {
     "name": "stderr",
     "output_type": "stream",
     "text": [
      "100%|██████████| 250/250 [00:01<00:00, 126.32it/s, loss=18.198/16.923]\n"
     ]
    },
    {
     "name": "stdout",
     "output_type": "stream",
     "text": [
      "18.198355251464836\n"
     ]
    },
    {
     "name": "stderr",
     "output_type": "stream",
     "text": [
      "  4%|▎         | 9/250 [00:00<00:02, 86.93it/s, loss=16.989/17.022]"
     ]
    },
    {
     "name": "stdout",
     "output_type": "stream",
     "text": [
      "epoch:1\n"
     ]
    },
    {
     "name": "stderr",
     "output_type": "stream",
     "text": [
      "100%|██████████| 250/250 [00:02<00:00, 121.53it/s, loss=16.326/15.657]\n"
     ]
    },
    {
     "name": "stdout",
     "output_type": "stream",
     "text": [
      "16.32638368881225\n"
     ]
    },
    {
     "name": "stderr",
     "output_type": "stream",
     "text": [
      "  4%|▍         | 11/250 [00:00<00:02, 105.38it/s, loss=15.714/15.622]"
     ]
    },
    {
     "name": "stdout",
     "output_type": "stream",
     "text": [
      "epoch:2\n"
     ]
    },
    {
     "name": "stderr",
     "output_type": "stream",
     "text": [
      "100%|██████████| 250/250 [00:02<00:00, 121.80it/s, loss=15.296/14.840]\n"
     ]
    },
    {
     "name": "stdout",
     "output_type": "stream",
     "text": [
      "15.296421828765867\n"
     ]
    },
    {
     "name": "stderr",
     "output_type": "stream",
     "text": [
      "  4%|▍         | 11/250 [00:00<00:02, 108.19it/s, loss=14.894/14.801]"
     ]
    },
    {
     "name": "stdout",
     "output_type": "stream",
     "text": [
      "epoch:3\n"
     ]
    },
    {
     "name": "stderr",
     "output_type": "stream",
     "text": [
      "100%|██████████| 250/250 [00:02<00:00, 119.96it/s, loss=14.598/14.031]"
     ]
    },
    {
     "name": "stdout",
     "output_type": "stream",
     "text": [
      "14.597937492370608\n"
     ]
    },
    {
     "name": "stderr",
     "output_type": "stream",
     "text": [
      "\n",
      "  5%|▍         | 12/250 [00:00<00:02, 115.42it/s, loss=14.178/13.823]"
     ]
    },
    {
     "name": "stdout",
     "output_type": "stream",
     "text": [
      "epoch:4\n"
     ]
    },
    {
     "name": "stderr",
     "output_type": "stream",
     "text": [
      "100%|██████████| 250/250 [00:02<00:00, 120.99it/s, loss=14.026/13.816]\n"
     ]
    },
    {
     "name": "stdout",
     "output_type": "stream",
     "text": [
      "14.026244374313352\n"
     ]
    },
    {
     "name": "stderr",
     "output_type": "stream",
     "text": [
      "  5%|▍         | 12/250 [00:00<00:02, 115.79it/s, loss=13.733/13.506]"
     ]
    },
    {
     "name": "stdout",
     "output_type": "stream",
     "text": [
      "epoch:5\n"
     ]
    },
    {
     "name": "stderr",
     "output_type": "stream",
     "text": [
      "100%|██████████| 250/250 [00:02<00:00, 122.83it/s, loss=13.524/12.942]"
     ]
    },
    {
     "name": "stdout",
     "output_type": "stream",
     "text": [
      "13.523635454635626\n"
     ]
    },
    {
     "name": "stderr",
     "output_type": "stream",
     "text": [
      "\n",
      "  4%|▍         | 10/250 [00:00<00:02, 99.10it/s, loss=13.247/13.140]"
     ]
    },
    {
     "name": "stdout",
     "output_type": "stream",
     "text": [
      "epoch:6\n"
     ]
    },
    {
     "name": "stderr",
     "output_type": "stream",
     "text": [
      "100%|██████████| 250/250 [00:02<00:00, 118.42it/s, loss=13.068/12.490]"
     ]
    },
    {
     "name": "stdout",
     "output_type": "stream",
     "text": [
      "13.06751558227539\n"
     ]
    },
    {
     "name": "stderr",
     "output_type": "stream",
     "text": [
      "\n",
      "  4%|▍         | 10/250 [00:00<00:02, 95.99it/s, loss=12.775/12.509]"
     ]
    },
    {
     "name": "stdout",
     "output_type": "stream",
     "text": [
      "epoch:7\n"
     ]
    },
    {
     "name": "stderr",
     "output_type": "stream",
     "text": [
      "100%|██████████| 250/250 [00:02<00:00, 121.57it/s, loss=12.651/12.007]"
     ]
    },
    {
     "name": "stdout",
     "output_type": "stream",
     "text": [
      "12.650522898635867\n"
     ]
    },
    {
     "name": "stderr",
     "output_type": "stream",
     "text": [
      "\n",
      "  4%|▎         | 9/250 [00:00<00:02, 88.84it/s, loss=12.424/12.579]"
     ]
    },
    {
     "name": "stdout",
     "output_type": "stream",
     "text": [
      "epoch:8\n"
     ]
    },
    {
     "name": "stderr",
     "output_type": "stream",
     "text": [
      "100%|██████████| 250/250 [00:02<00:00, 123.86it/s, loss=12.261/12.256]\n"
     ]
    },
    {
     "name": "stdout",
     "output_type": "stream",
     "text": [
      "12.261276963195805\n"
     ]
    },
    {
     "name": "stderr",
     "output_type": "stream",
     "text": [
      "  4%|▍         | 11/250 [00:00<00:02, 108.34it/s, loss=12.211/12.348]"
     ]
    },
    {
     "name": "stdout",
     "output_type": "stream",
     "text": [
      "epoch:9\n"
     ]
    },
    {
     "name": "stderr",
     "output_type": "stream",
     "text": [
      "100%|██████████| 250/250 [00:01<00:00, 126.37it/s, loss=11.899/11.304]\n"
     ]
    },
    {
     "name": "stdout",
     "output_type": "stream",
     "text": [
      "11.89887530326843\n"
     ]
    },
    {
     "name": "stderr",
     "output_type": "stream",
     "text": [
      "  4%|▍         | 11/250 [00:00<00:02, 107.53it/s, loss=11.662/11.302]"
     ]
    },
    {
     "name": "stdout",
     "output_type": "stream",
     "text": [
      "epoch:10\n"
     ]
    },
    {
     "name": "stderr",
     "output_type": "stream",
     "text": [
      "100%|██████████| 250/250 [00:02<00:00, 122.31it/s, loss=11.560/11.589]\n"
     ]
    },
    {
     "name": "stdout",
     "output_type": "stream",
     "text": [
      "11.559765959167477\n"
     ]
    },
    {
     "name": "stderr",
     "output_type": "stream",
     "text": [
      "  4%|▍         | 10/250 [00:00<00:02, 97.53it/s, loss=11.314/11.647]"
     ]
    },
    {
     "name": "stdout",
     "output_type": "stream",
     "text": [
      "epoch:11\n"
     ]
    },
    {
     "name": "stderr",
     "output_type": "stream",
     "text": [
      "100%|██████████| 250/250 [00:02<00:00, 132.93it/s, loss=11.241/10.802]"
     ]
    },
    {
     "name": "stdout",
     "output_type": "stream",
     "text": [
      "11.241102325668331\n"
     ]
    },
    {
     "name": "stderr",
     "output_type": "stream",
     "text": [
      "\n",
      "  4%|▍         | 10/250 [00:00<00:02, 99.41it/s, loss=11.180/11.174]"
     ]
    },
    {
     "name": "stdout",
     "output_type": "stream",
     "text": [
      "epoch:12\n"
     ]
    },
    {
     "name": "stderr",
     "output_type": "stream",
     "text": [
      "100%|██████████| 250/250 [00:02<00:00, 115.81it/s, loss=10.941/11.020]"
     ]
    },
    {
     "name": "stdout",
     "output_type": "stream",
     "text": [
      "10.941270544967658\n"
     ]
    },
    {
     "name": "stderr",
     "output_type": "stream",
     "text": [
      "\n",
      "  4%|▍         | 11/250 [00:00<00:02, 108.49it/s, loss=10.785/10.746]"
     ]
    },
    {
     "name": "stdout",
     "output_type": "stream",
     "text": [
      "epoch:13\n"
     ]
    },
    {
     "name": "stderr",
     "output_type": "stream",
     "text": [
      "100%|██████████| 250/250 [00:01<00:00, 125.37it/s, loss=10.658/10.603]"
     ]
    },
    {
     "name": "stdout",
     "output_type": "stream",
     "text": [
      "10.658037485504149\n"
     ]
    },
    {
     "name": "stderr",
     "output_type": "stream",
     "text": [
      "\n",
      "  4%|▍         | 10/250 [00:00<00:02, 98.55it/s, loss=10.555/10.409]"
     ]
    },
    {
     "name": "stdout",
     "output_type": "stream",
     "text": [
      "epoch:14\n"
     ]
    },
    {
     "name": "stderr",
     "output_type": "stream",
     "text": [
      "100%|██████████| 250/250 [00:02<00:00, 123.36it/s, loss=10.390/9.983]\n"
     ]
    },
    {
     "name": "stdout",
     "output_type": "stream",
     "text": [
      "10.39027307785034\n"
     ]
    },
    {
     "name": "stderr",
     "output_type": "stream",
     "text": [
      "  4%|▍         | 10/250 [00:00<00:02, 99.19it/s, loss=10.259/10.094]"
     ]
    },
    {
     "name": "stdout",
     "output_type": "stream",
     "text": [
      "epoch:15\n"
     ]
    },
    {
     "name": "stderr",
     "output_type": "stream",
     "text": [
      "100%|██████████| 250/250 [00:02<00:00, 121.67it/s, loss=10.139/10.453]"
     ]
    },
    {
     "name": "stdout",
     "output_type": "stream",
     "text": [
      "10.138864883041384\n"
     ]
    },
    {
     "name": "stderr",
     "output_type": "stream",
     "text": [
      "\n",
      "  4%|▎         | 9/250 [00:00<00:02, 89.67it/s, loss=9.928/9.519] "
     ]
    },
    {
     "name": "stdout",
     "output_type": "stream",
     "text": [
      "epoch:16\n"
     ]
    },
    {
     "name": "stderr",
     "output_type": "stream",
     "text": [
      "100%|██████████| 250/250 [00:02<00:00, 119.06it/s, loss=9.899/10.383]"
     ]
    },
    {
     "name": "stdout",
     "output_type": "stream",
     "text": [
      "9.89937598014831\n"
     ]
    },
    {
     "name": "stderr",
     "output_type": "stream",
     "text": [
      "\n",
      "  4%|▎         | 9/250 [00:00<00:02, 89.25it/s, loss=9.794/10.088]"
     ]
    },
    {
     "name": "stdout",
     "output_type": "stream",
     "text": [
      "epoch:17\n"
     ]
    },
    {
     "name": "stderr",
     "output_type": "stream",
     "text": [
      "100%|██████████| 250/250 [00:02<00:00, 123.00it/s, loss=9.674/9.322]\n"
     ]
    },
    {
     "name": "stdout",
     "output_type": "stream",
     "text": [
      "9.6736373890686\n"
     ]
    },
    {
     "name": "stderr",
     "output_type": "stream",
     "text": [
      "  4%|▍         | 10/250 [00:00<00:02, 95.61it/s, loss=9.462/9.467]"
     ]
    },
    {
     "name": "stdout",
     "output_type": "stream",
     "text": [
      "epoch:18\n"
     ]
    },
    {
     "name": "stderr",
     "output_type": "stream",
     "text": [
      "100%|██████████| 250/250 [00:02<00:00, 121.16it/s, loss=9.461/9.286]"
     ]
    },
    {
     "name": "stdout",
     "output_type": "stream",
     "text": [
      "9.460572915954582\n"
     ]
    },
    {
     "name": "stderr",
     "output_type": "stream",
     "text": [
      "\n",
      "  5%|▍         | 12/250 [00:00<00:02, 112.75it/s, loss=9.345/9.305]"
     ]
    },
    {
     "name": "stdout",
     "output_type": "stream",
     "text": [
      "epoch:19\n"
     ]
    },
    {
     "name": "stderr",
     "output_type": "stream",
     "text": [
      "100%|██████████| 250/250 [00:02<00:00, 120.72it/s, loss=9.257/9.380]"
     ]
    },
    {
     "name": "stdout",
     "output_type": "stream",
     "text": [
      "9.257415231361383\n"
     ]
    },
    {
     "name": "stderr",
     "output_type": "stream",
     "text": [
      "\n",
      "  4%|▎         | 9/250 [00:00<00:02, 87.36it/s, loss=9.214/9.175]"
     ]
    },
    {
     "name": "stdout",
     "output_type": "stream",
     "text": [
      "epoch:20\n"
     ]
    },
    {
     "name": "stderr",
     "output_type": "stream",
     "text": [
      "100%|██████████| 250/250 [00:02<00:00, 123.21it/s, loss=9.065/9.175]\n"
     ]
    },
    {
     "name": "stdout",
     "output_type": "stream",
     "text": [
      "9.064605998725892\n"
     ]
    },
    {
     "name": "stderr",
     "output_type": "stream",
     "text": [
      "  4%|▍         | 10/250 [00:00<00:02, 93.83it/s, loss=8.992/8.949]"
     ]
    },
    {
     "name": "stdout",
     "output_type": "stream",
     "text": [
      "epoch:21\n"
     ]
    },
    {
     "name": "stderr",
     "output_type": "stream",
     "text": [
      "100%|██████████| 250/250 [00:01<00:00, 125.65it/s, loss=8.884/8.729]\n"
     ]
    },
    {
     "name": "stdout",
     "output_type": "stream",
     "text": [
      "8.883981564712528\n"
     ]
    },
    {
     "name": "stderr",
     "output_type": "stream",
     "text": [
      "  4%|▍         | 11/250 [00:00<00:02, 105.20it/s, loss=8.756/8.894]"
     ]
    },
    {
     "name": "stdout",
     "output_type": "stream",
     "text": [
      "epoch:22\n"
     ]
    },
    {
     "name": "stderr",
     "output_type": "stream",
     "text": [
      "100%|██████████| 250/250 [00:02<00:00, 123.83it/s, loss=8.709/8.510]"
     ]
    },
    {
     "name": "stdout",
     "output_type": "stream",
     "text": [
      "8.709008979644771\n"
     ]
    },
    {
     "name": "stderr",
     "output_type": "stream",
     "text": [
      "\n",
      "  4%|▍         | 10/250 [00:00<00:02, 93.83it/s, loss=8.569/8.926]"
     ]
    },
    {
     "name": "stdout",
     "output_type": "stream",
     "text": [
      "epoch:23\n"
     ]
    },
    {
     "name": "stderr",
     "output_type": "stream",
     "text": [
      "100%|██████████| 250/250 [00:01<00:00, 126.09it/s, loss=8.546/8.408]"
     ]
    },
    {
     "name": "stdout",
     "output_type": "stream",
     "text": [
      "8.546164699440004\n"
     ]
    },
    {
     "name": "stderr",
     "output_type": "stream",
     "text": [
      "\n",
      "  4%|▍         | 10/250 [00:00<00:02, 94.52it/s, loss=8.256/8.418]"
     ]
    },
    {
     "name": "stdout",
     "output_type": "stream",
     "text": [
      "epoch:24\n"
     ]
    },
    {
     "name": "stderr",
     "output_type": "stream",
     "text": [
      "100%|██████████| 250/250 [00:02<00:00, 122.09it/s, loss=8.392/8.306]\n"
     ]
    },
    {
     "name": "stdout",
     "output_type": "stream",
     "text": [
      "8.391663141860963\n"
     ]
    },
    {
     "name": "stderr",
     "output_type": "stream",
     "text": [
      "100%|██████████| 50/50 [00:00<00:00, 121.94it/s]\n"
     ]
    },
    {
     "name": "stdout",
     "output_type": "stream",
     "text": [
      "lr:0.0001; reg:1000; acc:0.3518\n"
     ]
    },
    {
     "name": "stderr",
     "output_type": "stream",
     "text": [
      "  4%|▎         | 9/250 [00:00<00:03, 78.11it/s, loss=19.525/18.908]"
     ]
    },
    {
     "name": "stdout",
     "output_type": "stream",
     "text": [
      "epoch:0\n"
     ]
    },
    {
     "name": "stderr",
     "output_type": "stream",
     "text": [
      "100%|██████████| 250/250 [00:02<00:00, 120.39it/s, loss=17.974/17.004]"
     ]
    },
    {
     "name": "stdout",
     "output_type": "stream",
     "text": [
      "17.974262045135497\n"
     ]
    },
    {
     "name": "stderr",
     "output_type": "stream",
     "text": [
      "\n",
      "  4%|▍         | 10/250 [00:00<00:02, 96.57it/s, loss=16.911/17.401]"
     ]
    },
    {
     "name": "stdout",
     "output_type": "stream",
     "text": [
      "epoch:1\n"
     ]
    },
    {
     "name": "stderr",
     "output_type": "stream",
     "text": [
      "100%|██████████| 250/250 [00:02<00:00, 122.20it/s, loss=16.243/15.909]"
     ]
    },
    {
     "name": "stdout",
     "output_type": "stream",
     "text": [
      "16.2432989012146\n"
     ]
    },
    {
     "name": "stderr",
     "output_type": "stream",
     "text": [
      "\n",
      "  4%|▍         | 10/250 [00:00<00:02, 96.17it/s, loss=15.563/15.574]"
     ]
    },
    {
     "name": "stdout",
     "output_type": "stream",
     "text": [
      "epoch:2\n"
     ]
    },
    {
     "name": "stderr",
     "output_type": "stream",
     "text": [
      "100%|██████████| 250/250 [00:02<00:00, 123.06it/s, loss=15.251/15.326]\n"
     ]
    },
    {
     "name": "stdout",
     "output_type": "stream",
     "text": [
      "15.250792391662587\n"
     ]
    },
    {
     "name": "stderr",
     "output_type": "stream",
     "text": [
      "  4%|▍         | 10/250 [00:00<00:02, 98.95it/s, loss=14.820/14.918]"
     ]
    },
    {
     "name": "stdout",
     "output_type": "stream",
     "text": [
      "epoch:3\n"
     ]
    },
    {
     "name": "stderr",
     "output_type": "stream",
     "text": [
      "100%|██████████| 250/250 [00:02<00:00, 120.96it/s, loss=14.547/14.399]"
     ]
    },
    {
     "name": "stdout",
     "output_type": "stream",
     "text": [
      "14.547077417297356\n"
     ]
    },
    {
     "name": "stderr",
     "output_type": "stream",
     "text": [
      "\n",
      "  4%|▎         | 9/250 [00:00<00:02, 88.50it/s, loss=14.154/13.922]"
     ]
    },
    {
     "name": "stdout",
     "output_type": "stream",
     "text": [
      "epoch:4\n"
     ]
    },
    {
     "name": "stderr",
     "output_type": "stream",
     "text": [
      "100%|██████████| 250/250 [00:02<00:00, 121.41it/s, loss=13.966/13.662]"
     ]
    },
    {
     "name": "stdout",
     "output_type": "stream",
     "text": [
      "13.96606660415649\n"
     ]
    },
    {
     "name": "stderr",
     "output_type": "stream",
     "text": [
      "\n",
      "  4%|▍         | 10/250 [00:00<00:02, 95.92it/s, loss=13.706/13.576]"
     ]
    },
    {
     "name": "stdout",
     "output_type": "stream",
     "text": [
      "epoch:5\n"
     ]
    },
    {
     "name": "stderr",
     "output_type": "stream",
     "text": [
      "100%|██████████| 250/250 [00:02<00:00, 119.01it/s, loss=13.458/12.793]\n"
     ]
    },
    {
     "name": "stdout",
     "output_type": "stream",
     "text": [
      "13.457938981933596\n"
     ]
    },
    {
     "name": "stderr",
     "output_type": "stream",
     "text": [
      "  4%|▎         | 9/250 [00:00<00:02, 85.13it/s, loss=13.108/12.695]"
     ]
    },
    {
     "name": "stdout",
     "output_type": "stream",
     "text": [
      "epoch:6\n"
     ]
    },
    {
     "name": "stderr",
     "output_type": "stream",
     "text": [
      "100%|██████████| 250/250 [00:02<00:00, 121.27it/s, loss=13.000/13.040]"
     ]
    },
    {
     "name": "stdout",
     "output_type": "stream",
     "text": [
      "13.00031515823364\n"
     ]
    },
    {
     "name": "stderr",
     "output_type": "stream",
     "text": [
      "\n",
      "  4%|▎         | 9/250 [00:00<00:02, 89.43it/s, loss=12.625/12.241]"
     ]
    },
    {
     "name": "stdout",
     "output_type": "stream",
     "text": [
      "epoch:7\n"
     ]
    },
    {
     "name": "stderr",
     "output_type": "stream",
     "text": [
      "100%|██████████| 250/250 [00:02<00:00, 122.24it/s, loss=12.579/12.227]"
     ]
    },
    {
     "name": "stdout",
     "output_type": "stream",
     "text": [
      "12.579394332275387\n"
     ]
    },
    {
     "name": "stderr",
     "output_type": "stream",
     "text": [
      "\n",
      "  4%|▎         | 9/250 [00:00<00:02, 88.41it/s, loss=12.310/12.357]"
     ]
    },
    {
     "name": "stdout",
     "output_type": "stream",
     "text": [
      "epoch:8\n"
     ]
    },
    {
     "name": "stderr",
     "output_type": "stream",
     "text": [
      "100%|██████████| 250/250 [00:01<00:00, 127.05it/s, loss=12.190/12.128]"
     ]
    },
    {
     "name": "stdout",
     "output_type": "stream",
     "text": [
      "12.189992380599977\n"
     ]
    },
    {
     "name": "stderr",
     "output_type": "stream",
     "text": [
      "\n",
      "  4%|▍         | 10/250 [00:00<00:02, 99.24it/s, loss=11.957/11.566]"
     ]
    },
    {
     "name": "stdout",
     "output_type": "stream",
     "text": [
      "epoch:9\n"
     ]
    },
    {
     "name": "stderr",
     "output_type": "stream",
     "text": [
      "100%|██████████| 250/250 [00:01<00:00, 125.04it/s, loss=11.827/11.591]"
     ]
    },
    {
     "name": "stdout",
     "output_type": "stream",
     "text": [
      "11.827154280090337\n"
     ]
    },
    {
     "name": "stderr",
     "output_type": "stream",
     "text": [
      "\n",
      "  5%|▍         | 12/250 [00:00<00:02, 116.72it/s, loss=11.585/11.478]"
     ]
    },
    {
     "name": "stdout",
     "output_type": "stream",
     "text": [
      "epoch:10\n"
     ]
    },
    {
     "name": "stderr",
     "output_type": "stream",
     "text": [
      "100%|██████████| 250/250 [00:02<00:00, 122.11it/s, loss=11.489/11.638]"
     ]
    },
    {
     "name": "stdout",
     "output_type": "stream",
     "text": [
      "11.489032966613765\n"
     ]
    },
    {
     "name": "stderr",
     "output_type": "stream",
     "text": [
      "\n",
      "  5%|▍         | 12/250 [00:00<00:02, 111.86it/s, loss=11.318/11.229]"
     ]
    },
    {
     "name": "stdout",
     "output_type": "stream",
     "text": [
      "epoch:11\n"
     ]
    },
    {
     "name": "stderr",
     "output_type": "stream",
     "text": [
      "100%|██████████| 250/250 [00:02<00:00, 122.58it/s, loss=11.172/10.950]"
     ]
    },
    {
     "name": "stdout",
     "output_type": "stream",
     "text": [
      "11.17229689201355\n"
     ]
    },
    {
     "name": "stderr",
     "output_type": "stream",
     "text": [
      "\n",
      "  4%|▍         | 10/250 [00:00<00:02, 98.09it/s, loss=11.103/11.029]"
     ]
    },
    {
     "name": "stdout",
     "output_type": "stream",
     "text": [
      "epoch:12\n"
     ]
    },
    {
     "name": "stderr",
     "output_type": "stream",
     "text": [
      "100%|██████████| 250/250 [00:02<00:00, 122.73it/s, loss=10.874/10.635]\n"
     ]
    },
    {
     "name": "stdout",
     "output_type": "stream",
     "text": [
      "10.874407013778677\n"
     ]
    },
    {
     "name": "stderr",
     "output_type": "stream",
     "text": [
      "  4%|▍         | 11/250 [00:00<00:02, 108.89it/s, loss=10.696/10.773]"
     ]
    },
    {
     "name": "stdout",
     "output_type": "stream",
     "text": [
      "epoch:13\n"
     ]
    },
    {
     "name": "stderr",
     "output_type": "stream",
     "text": [
      "100%|██████████| 250/250 [00:02<00:00, 120.40it/s, loss=10.593/10.578]\n"
     ]
    },
    {
     "name": "stdout",
     "output_type": "stream",
     "text": [
      "10.59329542762757\n"
     ]
    },
    {
     "name": "stderr",
     "output_type": "stream",
     "text": [
      "  4%|▍         | 10/250 [00:00<00:02, 97.64it/s, loss=10.567/10.595]"
     ]
    },
    {
     "name": "stdout",
     "output_type": "stream",
     "text": [
      "epoch:14\n"
     ]
    },
    {
     "name": "stderr",
     "output_type": "stream",
     "text": [
      "100%|██████████| 250/250 [00:02<00:00, 123.86it/s, loss=10.329/10.483]"
     ]
    },
    {
     "name": "stdout",
     "output_type": "stream",
     "text": [
      "10.328595769348153\n"
     ]
    },
    {
     "name": "stderr",
     "output_type": "stream",
     "text": [
      "\n",
      "  4%|▎         | 9/250 [00:00<00:02, 88.94it/s, loss=10.296/10.386]"
     ]
    },
    {
     "name": "stdout",
     "output_type": "stream",
     "text": [
      "epoch:15\n"
     ]
    },
    {
     "name": "stderr",
     "output_type": "stream",
     "text": [
      "100%|██████████| 250/250 [00:01<00:00, 125.15it/s, loss=10.077/9.914]"
     ]
    },
    {
     "name": "stdout",
     "output_type": "stream",
     "text": [
      "10.07739082061768\n"
     ]
    },
    {
     "name": "stderr",
     "output_type": "stream",
     "text": [
      "\n",
      "  4%|▍         | 10/250 [00:00<00:02, 99.27it/s, loss=9.936/9.758]"
     ]
    },
    {
     "name": "stdout",
     "output_type": "stream",
     "text": [
      "epoch:16\n"
     ]
    },
    {
     "name": "stderr",
     "output_type": "stream",
     "text": [
      "100%|██████████| 250/250 [00:01<00:00, 125.17it/s, loss=9.842/9.575]"
     ]
    },
    {
     "name": "stdout",
     "output_type": "stream",
     "text": [
      "9.842236241683965\n"
     ]
    },
    {
     "name": "stderr",
     "output_type": "stream",
     "text": [
      "\n",
      "  4%|▍         | 10/250 [00:00<00:02, 92.86it/s, loss=9.720/9.463]"
     ]
    },
    {
     "name": "stdout",
     "output_type": "stream",
     "text": [
      "epoch:17\n"
     ]
    },
    {
     "name": "stderr",
     "output_type": "stream",
     "text": [
      "100%|██████████| 250/250 [00:02<00:00, 123.78it/s, loss=9.619/9.380]\n"
     ]
    },
    {
     "name": "stdout",
     "output_type": "stream",
     "text": [
      "9.618882181396483\n"
     ]
    },
    {
     "name": "stderr",
     "output_type": "stream",
     "text": [
      "  5%|▍         | 12/250 [00:00<00:02, 114.81it/s, loss=9.437/9.206]"
     ]
    },
    {
     "name": "stdout",
     "output_type": "stream",
     "text": [
      "epoch:18\n"
     ]
    },
    {
     "name": "stderr",
     "output_type": "stream",
     "text": [
      "100%|██████████| 250/250 [00:02<00:00, 124.45it/s, loss=9.406/9.874]"
     ]
    },
    {
     "name": "stdout",
     "output_type": "stream",
     "text": [
      "9.406325123062134\n"
     ]
    },
    {
     "name": "stderr",
     "output_type": "stream",
     "text": [
      "\n",
      "  4%|▍         | 10/250 [00:00<00:02, 96.69it/s, loss=9.244/9.093]"
     ]
    },
    {
     "name": "stdout",
     "output_type": "stream",
     "text": [
      "epoch:19\n"
     ]
    },
    {
     "name": "stderr",
     "output_type": "stream",
     "text": [
      "100%|██████████| 250/250 [00:02<00:00, 120.73it/s, loss=9.206/9.345]\n"
     ]
    },
    {
     "name": "stdout",
     "output_type": "stream",
     "text": [
      "9.20555827823639\n"
     ]
    },
    {
     "name": "stderr",
     "output_type": "stream",
     "text": [
      "  4%|▎         | 9/250 [00:00<00:02, 88.23it/s, loss=9.163/9.453]"
     ]
    },
    {
     "name": "stdout",
     "output_type": "stream",
     "text": [
      "epoch:20\n"
     ]
    },
    {
     "name": "stderr",
     "output_type": "stream",
     "text": [
      "100%|██████████| 250/250 [00:01<00:00, 125.80it/s, loss=9.016/8.919]"
     ]
    },
    {
     "name": "stdout",
     "output_type": "stream",
     "text": [
      "9.015846453056339\n"
     ]
    },
    {
     "name": "stderr",
     "output_type": "stream",
     "text": [
      "\n",
      "  4%|▎         | 9/250 [00:00<00:02, 85.34it/s, loss=9.003/8.751]"
     ]
    },
    {
     "name": "stdout",
     "output_type": "stream",
     "text": [
      "epoch:21\n"
     ]
    },
    {
     "name": "stderr",
     "output_type": "stream",
     "text": [
      "100%|██████████| 250/250 [00:02<00:00, 122.85it/s, loss=8.835/9.079]"
     ]
    },
    {
     "name": "stdout",
     "output_type": "stream",
     "text": [
      "8.835441557998658\n"
     ]
    },
    {
     "name": "stderr",
     "output_type": "stream",
     "text": [
      "\n",
      "  5%|▍         | 12/250 [00:00<00:02, 115.24it/s, loss=8.796/8.846]"
     ]
    },
    {
     "name": "stdout",
     "output_type": "stream",
     "text": [
      "epoch:22\n"
     ]
    },
    {
     "name": "stderr",
     "output_type": "stream",
     "text": [
      "100%|██████████| 250/250 [00:02<00:00, 124.71it/s, loss=8.666/8.393]"
     ]
    },
    {
     "name": "stdout",
     "output_type": "stream",
     "text": [
      "8.665594764442455\n"
     ]
    },
    {
     "name": "stderr",
     "output_type": "stream",
     "text": [
      "\n",
      "  4%|▍         | 11/250 [00:00<00:02, 106.18it/s, loss=8.491/8.489]"
     ]
    },
    {
     "name": "stdout",
     "output_type": "stream",
     "text": [
      "epoch:23\n"
     ]
    },
    {
     "name": "stderr",
     "output_type": "stream",
     "text": [
      "100%|██████████| 250/250 [00:02<00:00, 121.10it/s, loss=8.502/8.268]"
     ]
    },
    {
     "name": "stdout",
     "output_type": "stream",
     "text": [
      "8.501742654533391\n"
     ]
    },
    {
     "name": "stderr",
     "output_type": "stream",
     "text": [
      "\n",
      "  5%|▍         | 12/250 [00:00<00:02, 118.33it/s, loss=8.384/8.640]"
     ]
    },
    {
     "name": "stdout",
     "output_type": "stream",
     "text": [
      "epoch:24\n"
     ]
    },
    {
     "name": "stderr",
     "output_type": "stream",
     "text": [
      "100%|██████████| 250/250 [00:02<00:00, 123.30it/s, loss=8.350/8.399]\n"
     ]
    },
    {
     "name": "stdout",
     "output_type": "stream",
     "text": [
      "8.34988468917847\n"
     ]
    },
    {
     "name": "stderr",
     "output_type": "stream",
     "text": [
      "100%|██████████| 50/50 [00:00<00:00, 113.11it/s]"
     ]
    },
    {
     "name": "stdout",
     "output_type": "stream",
     "text": [
      "lr:1e-05; reg:0; acc:0.3525\n"
     ]
    },
    {
     "name": "stderr",
     "output_type": "stream",
     "text": [
      "\n",
      "  4%|▎         | 9/250 [00:00<00:02, 86.52it/s, loss=19.783/20.194]"
     ]
    },
    {
     "name": "stdout",
     "output_type": "stream",
     "text": [
      "epoch:0\n"
     ]
    },
    {
     "name": "stderr",
     "output_type": "stream",
     "text": [
      "100%|██████████| 250/250 [00:02<00:00, 121.08it/s, loss=18.045/17.428]"
     ]
    },
    {
     "name": "stdout",
     "output_type": "stream",
     "text": [
      "18.045271944122323\n"
     ]
    },
    {
     "name": "stderr",
     "output_type": "stream",
     "text": [
      "\n",
      "  5%|▍         | 12/250 [00:00<00:02, 114.60it/s, loss=17.038/16.737]"
     ]
    },
    {
     "name": "stdout",
     "output_type": "stream",
     "text": [
      "epoch:1\n"
     ]
    },
    {
     "name": "stderr",
     "output_type": "stream",
     "text": [
      "100%|██████████| 250/250 [00:01<00:00, 126.27it/s, loss=16.420/16.377]"
     ]
    },
    {
     "name": "stdout",
     "output_type": "stream",
     "text": [
      "16.420397151489254\n"
     ]
    },
    {
     "name": "stderr",
     "output_type": "stream",
     "text": [
      "\n",
      "  4%|▎         | 9/250 [00:00<00:02, 83.67it/s, loss=15.821/15.735]"
     ]
    },
    {
     "name": "stdout",
     "output_type": "stream",
     "text": [
      "epoch:2\n"
     ]
    },
    {
     "name": "stderr",
     "output_type": "stream",
     "text": [
      "100%|██████████| 250/250 [00:02<00:00, 115.97it/s, loss=15.418/15.172]\n"
     ]
    },
    {
     "name": "stdout",
     "output_type": "stream",
     "text": [
      "15.417640482330313\n"
     ]
    },
    {
     "name": "stderr",
     "output_type": "stream",
     "text": [
      "  4%|▍         | 10/250 [00:00<00:02, 98.36it/s, loss=14.994/14.902]"
     ]
    },
    {
     "name": "stdout",
     "output_type": "stream",
     "text": [
      "epoch:3\n"
     ]
    },
    {
     "name": "stderr",
     "output_type": "stream",
     "text": [
      "100%|██████████| 250/250 [00:01<00:00, 129.22it/s, loss=14.691/14.541]\n"
     ]
    },
    {
     "name": "stdout",
     "output_type": "stream",
     "text": [
      "14.69065386764526\n"
     ]
    },
    {
     "name": "stderr",
     "output_type": "stream",
     "text": [
      "  4%|▎         | 9/250 [00:00<00:02, 84.98it/s, loss=14.193/14.295]"
     ]
    },
    {
     "name": "stdout",
     "output_type": "stream",
     "text": [
      "epoch:4\n"
     ]
    },
    {
     "name": "stderr",
     "output_type": "stream",
     "text": [
      "100%|██████████| 250/250 [00:02<00:00, 122.69it/s, loss=14.094/13.949]"
     ]
    },
    {
     "name": "stdout",
     "output_type": "stream",
     "text": [
      "14.093686509704598\n"
     ]
    },
    {
     "name": "stderr",
     "output_type": "stream",
     "text": [
      "\n",
      "  4%|▍         | 10/250 [00:00<00:02, 94.65it/s, loss=13.814/14.004]"
     ]
    },
    {
     "name": "stdout",
     "output_type": "stream",
     "text": [
      "epoch:5\n"
     ]
    },
    {
     "name": "stderr",
     "output_type": "stream",
     "text": [
      "100%|██████████| 250/250 [00:02<00:00, 122.81it/s, loss=13.575/13.686]"
     ]
    },
    {
     "name": "stdout",
     "output_type": "stream",
     "text": [
      "13.575169991607668\n"
     ]
    },
    {
     "name": "stderr",
     "output_type": "stream",
     "text": [
      "\n",
      "  5%|▍         | 12/250 [00:00<00:02, 116.79it/s, loss=13.466/13.841]"
     ]
    },
    {
     "name": "stdout",
     "output_type": "stream",
     "text": [
      "epoch:6\n"
     ]
    },
    {
     "name": "stderr",
     "output_type": "stream",
     "text": [
      "100%|██████████| 250/250 [00:02<00:00, 119.55it/s, loss=13.107/12.927]"
     ]
    },
    {
     "name": "stdout",
     "output_type": "stream",
     "text": [
      "13.107002156448369\n"
     ]
    },
    {
     "name": "stderr",
     "output_type": "stream",
     "text": [
      "\n",
      "  5%|▍         | 12/250 [00:00<00:02, 112.36it/s, loss=12.948/13.015]"
     ]
    },
    {
     "name": "stdout",
     "output_type": "stream",
     "text": [
      "epoch:7\n"
     ]
    },
    {
     "name": "stderr",
     "output_type": "stream",
     "text": [
      "100%|██████████| 250/250 [00:02<00:00, 120.74it/s, loss=12.682/12.658]"
     ]
    },
    {
     "name": "stdout",
     "output_type": "stream",
     "text": [
      "12.681755866394049\n"
     ]
    },
    {
     "name": "stderr",
     "output_type": "stream",
     "text": [
      "\n",
      "  4%|▍         | 10/250 [00:00<00:02, 99.10it/s, loss=12.363/12.146]"
     ]
    },
    {
     "name": "stdout",
     "output_type": "stream",
     "text": [
      "epoch:8\n"
     ]
    },
    {
     "name": "stderr",
     "output_type": "stream",
     "text": [
      "100%|██████████| 250/250 [00:02<00:00, 121.20it/s, loss=12.286/12.008]"
     ]
    },
    {
     "name": "stdout",
     "output_type": "stream",
     "text": [
      "12.286451157684324\n"
     ]
    },
    {
     "name": "stderr",
     "output_type": "stream",
     "text": [
      "\n",
      "  4%|▍         | 10/250 [00:00<00:02, 99.57it/s, loss=11.895/12.255]"
     ]
    },
    {
     "name": "stdout",
     "output_type": "stream",
     "text": [
      "epoch:9\n"
     ]
    },
    {
     "name": "stderr",
     "output_type": "stream",
     "text": [
      "100%|██████████| 250/250 [00:02<00:00, 124.67it/s, loss=11.919/11.882]"
     ]
    },
    {
     "name": "stdout",
     "output_type": "stream",
     "text": [
      "11.919244855270387\n"
     ]
    },
    {
     "name": "stderr",
     "output_type": "stream",
     "text": [
      "\n",
      "  4%|▍         | 10/250 [00:00<00:02, 96.50it/s, loss=11.665/11.952]"
     ]
    },
    {
     "name": "stdout",
     "output_type": "stream",
     "text": [
      "epoch:10\n"
     ]
    },
    {
     "name": "stderr",
     "output_type": "stream",
     "text": [
      "100%|██████████| 250/250 [00:02<00:00, 121.90it/s, loss=11.575/11.232]\n"
     ]
    },
    {
     "name": "stdout",
     "output_type": "stream",
     "text": [
      "11.575330968399054\n"
     ]
    },
    {
     "name": "stderr",
     "output_type": "stream",
     "text": [
      "  4%|▎         | 9/250 [00:00<00:02, 87.69it/s, loss=11.364/11.080]"
     ]
    },
    {
     "name": "stdout",
     "output_type": "stream",
     "text": [
      "epoch:11\n"
     ]
    },
    {
     "name": "stderr",
     "output_type": "stream",
     "text": [
      "100%|██████████| 250/250 [00:02<00:00, 122.08it/s, loss=11.254/11.030]"
     ]
    },
    {
     "name": "stdout",
     "output_type": "stream",
     "text": [
      "11.25403520645141\n"
     ]
    },
    {
     "name": "stderr",
     "output_type": "stream",
     "text": [
      "\n",
      "  4%|▍         | 11/250 [00:00<00:02, 105.99it/s, loss=11.070/11.079]"
     ]
    },
    {
     "name": "stdout",
     "output_type": "stream",
     "text": [
      "epoch:12\n"
     ]
    },
    {
     "name": "stderr",
     "output_type": "stream",
     "text": [
      "100%|██████████| 250/250 [00:02<00:00, 120.87it/s, loss=10.951/10.818]\n"
     ]
    },
    {
     "name": "stdout",
     "output_type": "stream",
     "text": [
      "10.950599332275383\n"
     ]
    },
    {
     "name": "stderr",
     "output_type": "stream",
     "text": [
      "  5%|▍         | 12/250 [00:00<00:02, 115.87it/s, loss=10.859/11.054]"
     ]
    },
    {
     "name": "stdout",
     "output_type": "stream",
     "text": [
      "epoch:13\n"
     ]
    },
    {
     "name": "stderr",
     "output_type": "stream",
     "text": [
      "100%|██████████| 250/250 [00:01<00:00, 125.61it/s, loss=10.666/10.500]\n"
     ]
    },
    {
     "name": "stdout",
     "output_type": "stream",
     "text": [
      "10.665974283905033\n"
     ]
    },
    {
     "name": "stderr",
     "output_type": "stream",
     "text": [
      "  4%|▍         | 11/250 [00:00<00:02, 108.35it/s, loss=10.497/10.982]"
     ]
    },
    {
     "name": "stdout",
     "output_type": "stream",
     "text": [
      "epoch:14\n"
     ]
    },
    {
     "name": "stderr",
     "output_type": "stream",
     "text": [
      "100%|██████████| 250/250 [00:02<00:00, 126.94it/s, loss=10.398/10.094]\n"
     ]
    },
    {
     "name": "stdout",
     "output_type": "stream",
     "text": [
      "10.39792682792664\n"
     ]
    },
    {
     "name": "stderr",
     "output_type": "stream",
     "text": [
      "  4%|▍         | 10/250 [00:00<00:02, 96.99it/s, loss=10.261/10.405]"
     ]
    },
    {
     "name": "stdout",
     "output_type": "stream",
     "text": [
      "epoch:15\n"
     ]
    },
    {
     "name": "stderr",
     "output_type": "stream",
     "text": [
      "100%|██████████| 250/250 [00:01<00:00, 126.92it/s, loss=10.143/9.855]"
     ]
    },
    {
     "name": "stdout",
     "output_type": "stream",
     "text": [
      "10.1433008946228\n"
     ]
    },
    {
     "name": "stderr",
     "output_type": "stream",
     "text": [
      "\n",
      "  4%|▍         | 11/250 [00:00<00:02, 106.83it/s, loss=9.895/9.879]"
     ]
    },
    {
     "name": "stdout",
     "output_type": "stream",
     "text": [
      "epoch:16\n"
     ]
    },
    {
     "name": "stderr",
     "output_type": "stream",
     "text": [
      "100%|██████████| 250/250 [00:02<00:00, 122.06it/s, loss=9.903/10.135]"
     ]
    },
    {
     "name": "stdout",
     "output_type": "stream",
     "text": [
      "9.903437608413697\n"
     ]
    },
    {
     "name": "stderr",
     "output_type": "stream",
     "text": [
      "\n",
      "  4%|▍         | 11/250 [00:00<00:02, 109.90it/s, loss=9.969/10.008]"
     ]
    },
    {
     "name": "stdout",
     "output_type": "stream",
     "text": [
      "epoch:17\n"
     ]
    },
    {
     "name": "stderr",
     "output_type": "stream",
     "text": [
      "100%|██████████| 250/250 [00:02<00:00, 122.27it/s, loss=9.677/9.363]"
     ]
    },
    {
     "name": "stdout",
     "output_type": "stream",
     "text": [
      "9.676524515838627\n"
     ]
    },
    {
     "name": "stderr",
     "output_type": "stream",
     "text": [
      "\n",
      "  4%|▍         | 11/250 [00:00<00:02, 105.84it/s, loss=9.407/9.244]"
     ]
    },
    {
     "name": "stdout",
     "output_type": "stream",
     "text": [
      "epoch:18\n"
     ]
    },
    {
     "name": "stderr",
     "output_type": "stream",
     "text": [
      "100%|██████████| 250/250 [00:02<00:00, 121.40it/s, loss=9.462/9.030]\n"
     ]
    },
    {
     "name": "stdout",
     "output_type": "stream",
     "text": [
      "9.46193714782715\n"
     ]
    },
    {
     "name": "stderr",
     "output_type": "stream",
     "text": [
      "  4%|▎         | 9/250 [00:00<00:02, 88.73it/s, loss=9.350/9.236]"
     ]
    },
    {
     "name": "stdout",
     "output_type": "stream",
     "text": [
      "epoch:19\n"
     ]
    },
    {
     "name": "stderr",
     "output_type": "stream",
     "text": [
      "100%|██████████| 250/250 [00:01<00:00, 126.57it/s, loss=9.259/9.439]\n"
     ]
    },
    {
     "name": "stdout",
     "output_type": "stream",
     "text": [
      "9.25918408191681\n"
     ]
    },
    {
     "name": "stderr",
     "output_type": "stream",
     "text": [
      "  4%|▍         | 11/250 [00:00<00:02, 105.33it/s, loss=9.121/9.043]"
     ]
    },
    {
     "name": "stdout",
     "output_type": "stream",
     "text": [
      "epoch:20\n"
     ]
    },
    {
     "name": "stderr",
     "output_type": "stream",
     "text": [
      "100%|██████████| 250/250 [00:02<00:00, 117.70it/s, loss=9.064/8.491]"
     ]
    },
    {
     "name": "stdout",
     "output_type": "stream",
     "text": [
      "9.064210722541809\n"
     ]
    },
    {
     "name": "stderr",
     "output_type": "stream",
     "text": [
      "\n",
      "  4%|▍         | 10/250 [00:00<00:02, 99.05it/s, loss=8.984/9.067]"
     ]
    },
    {
     "name": "stdout",
     "output_type": "stream",
     "text": [
      "epoch:21\n"
     ]
    },
    {
     "name": "stderr",
     "output_type": "stream",
     "text": [
      "100%|██████████| 250/250 [00:02<00:00, 120.10it/s, loss=8.884/8.477]\n"
     ]
    },
    {
     "name": "stdout",
     "output_type": "stream",
     "text": [
      "8.88382139232635\n"
     ]
    },
    {
     "name": "stderr",
     "output_type": "stream",
     "text": [
      "  4%|▍         | 11/250 [00:00<00:02, 109.94it/s, loss=8.822/8.719]"
     ]
    },
    {
     "name": "stdout",
     "output_type": "stream",
     "text": [
      "epoch:22\n"
     ]
    },
    {
     "name": "stderr",
     "output_type": "stream",
     "text": [
      "100%|██████████| 250/250 [00:02<00:00, 119.98it/s, loss=8.711/8.227]"
     ]
    },
    {
     "name": "stdout",
     "output_type": "stream",
     "text": [
      "8.710953771667482\n"
     ]
    },
    {
     "name": "stderr",
     "output_type": "stream",
     "text": [
      "\n",
      "  4%|▍         | 10/250 [00:00<00:02, 96.00it/s, loss=8.559/8.231]"
     ]
    },
    {
     "name": "stdout",
     "output_type": "stream",
     "text": [
      "epoch:23\n"
     ]
    },
    {
     "name": "stderr",
     "output_type": "stream",
     "text": [
      "100%|██████████| 250/250 [00:02<00:00, 120.91it/s, loss=8.547/8.569]\n"
     ]
    },
    {
     "name": "stdout",
     "output_type": "stream",
     "text": [
      "8.547316085166932\n"
     ]
    },
    {
     "name": "stderr",
     "output_type": "stream",
     "text": [
      "  4%|▍         | 10/250 [00:00<00:02, 95.55it/s, loss=8.410/8.460]"
     ]
    },
    {
     "name": "stdout",
     "output_type": "stream",
     "text": [
      "epoch:24\n"
     ]
    },
    {
     "name": "stderr",
     "output_type": "stream",
     "text": [
      "100%|██████████| 250/250 [00:01<00:00, 125.79it/s, loss=8.390/8.273]\n"
     ]
    },
    {
     "name": "stdout",
     "output_type": "stream",
     "text": [
      "8.390034563941958\n"
     ]
    },
    {
     "name": "stderr",
     "output_type": "stream",
     "text": [
      "100%|██████████| 50/50 [00:00<00:00, 121.47it/s]\n"
     ]
    },
    {
     "name": "stdout",
     "output_type": "stream",
     "text": [
      "lr:1e-05; reg:1; acc:0.3516\n"
     ]
    },
    {
     "name": "stderr",
     "output_type": "stream",
     "text": [
      "  4%|▎         | 9/250 [00:00<00:02, 86.12it/s, loss=19.765/19.497]"
     ]
    },
    {
     "name": "stdout",
     "output_type": "stream",
     "text": [
      "epoch:0\n"
     ]
    },
    {
     "name": "stderr",
     "output_type": "stream",
     "text": [
      "100%|██████████| 250/250 [00:01<00:00, 128.09it/s, loss=18.137/16.791]"
     ]
    },
    {
     "name": "stdout",
     "output_type": "stream",
     "text": [
      "18.136583413543708\n"
     ]
    },
    {
     "name": "stderr",
     "output_type": "stream",
     "text": [
      "\n",
      "  4%|▍         | 11/250 [00:00<00:02, 107.99it/s, loss=16.962/16.851]"
     ]
    },
    {
     "name": "stdout",
     "output_type": "stream",
     "text": [
      "epoch:1\n"
     ]
    },
    {
     "name": "stderr",
     "output_type": "stream",
     "text": [
      "100%|██████████| 250/250 [00:01<00:00, 125.54it/s, loss=16.432/15.662]"
     ]
    },
    {
     "name": "stdout",
     "output_type": "stream",
     "text": [
      "16.43188051269532\n"
     ]
    },
    {
     "name": "stderr",
     "output_type": "stream",
     "text": [
      "\n",
      "  4%|▎         | 9/250 [00:00<00:02, 89.93it/s, loss=15.854/15.652]"
     ]
    },
    {
     "name": "stdout",
     "output_type": "stream",
     "text": [
      "epoch:2\n"
     ]
    },
    {
     "name": "stderr",
     "output_type": "stream",
     "text": [
      "100%|██████████| 250/250 [00:02<00:00, 122.13it/s, loss=15.434/15.002]\n"
     ]
    },
    {
     "name": "stdout",
     "output_type": "stream",
     "text": [
      "15.433541243896478\n"
     ]
    },
    {
     "name": "stderr",
     "output_type": "stream",
     "text": [
      "  4%|▍         | 11/250 [00:00<00:02, 107.02it/s, loss=15.140/14.770]"
     ]
    },
    {
     "name": "stdout",
     "output_type": "stream",
     "text": [
      "epoch:3\n"
     ]
    },
    {
     "name": "stderr",
     "output_type": "stream",
     "text": [
      "100%|██████████| 250/250 [00:01<00:00, 126.81it/s, loss=14.717/14.609]"
     ]
    },
    {
     "name": "stdout",
     "output_type": "stream",
     "text": [
      "14.716808913726807\n"
     ]
    },
    {
     "name": "stderr",
     "output_type": "stream",
     "text": [
      "\n",
      "  4%|▍         | 10/250 [00:00<00:02, 98.54it/s, loss=14.442/14.433]"
     ]
    },
    {
     "name": "stdout",
     "output_type": "stream",
     "text": [
      "epoch:4\n"
     ]
    },
    {
     "name": "stderr",
     "output_type": "stream",
     "text": [
      "100%|██████████| 250/250 [00:02<00:00, 122.79it/s, loss=14.128/13.995]\n"
     ]
    },
    {
     "name": "stdout",
     "output_type": "stream",
     "text": [
      "14.128223860702507\n"
     ]
    },
    {
     "name": "stderr",
     "output_type": "stream",
     "text": [
      "  4%|▍         | 10/250 [00:00<00:02, 93.62it/s, loss=13.787/14.039]"
     ]
    },
    {
     "name": "stdout",
     "output_type": "stream",
     "text": [
      "epoch:5\n"
     ]
    },
    {
     "name": "stderr",
     "output_type": "stream",
     "text": [
      "100%|██████████| 250/250 [00:02<00:00, 124.75it/s, loss=13.609/13.293]"
     ]
    },
    {
     "name": "stdout",
     "output_type": "stream",
     "text": [
      "13.60905545394897\n"
     ]
    },
    {
     "name": "stderr",
     "output_type": "stream",
     "text": [
      "\n",
      "  4%|▍         | 11/250 [00:00<00:02, 109.29it/s, loss=13.287/13.572]"
     ]
    },
    {
     "name": "stdout",
     "output_type": "stream",
     "text": [
      "epoch:6\n"
     ]
    },
    {
     "name": "stderr",
     "output_type": "stream",
     "text": [
      "100%|██████████| 250/250 [00:02<00:00, 119.55it/s, loss=13.144/13.220]"
     ]
    },
    {
     "name": "stdout",
     "output_type": "stream",
     "text": [
      "13.143519874343882\n"
     ]
    },
    {
     "name": "stderr",
     "output_type": "stream",
     "text": [
      "\n",
      "  4%|▍         | 11/250 [00:00<00:02, 106.54it/s, loss=12.915/13.062]"
     ]
    },
    {
     "name": "stdout",
     "output_type": "stream",
     "text": [
      "epoch:7\n"
     ]
    },
    {
     "name": "stderr",
     "output_type": "stream",
     "text": [
      "100%|██████████| 250/250 [00:02<00:00, 123.04it/s, loss=12.713/12.515]"
     ]
    },
    {
     "name": "stdout",
     "output_type": "stream",
     "text": [
      "12.713452345809932\n"
     ]
    },
    {
     "name": "stderr",
     "output_type": "stream",
     "text": [
      "\n",
      "  4%|▍         | 10/250 [00:00<00:02, 97.91it/s, loss=12.456/12.207]"
     ]
    },
    {
     "name": "stdout",
     "output_type": "stream",
     "text": [
      "epoch:8\n"
     ]
    },
    {
     "name": "stderr",
     "output_type": "stream",
     "text": [
      "100%|██████████| 250/250 [00:02<00:00, 120.58it/s, loss=12.317/11.607]"
     ]
    },
    {
     "name": "stdout",
     "output_type": "stream",
     "text": [
      "12.317277776794437\n"
     ]
    },
    {
     "name": "stderr",
     "output_type": "stream",
     "text": [
      "\n",
      "  4%|▍         | 10/250 [00:00<00:02, 99.86it/s, loss=12.079/11.994]"
     ]
    },
    {
     "name": "stdout",
     "output_type": "stream",
     "text": [
      "epoch:9\n"
     ]
    },
    {
     "name": "stderr",
     "output_type": "stream",
     "text": [
      "100%|██████████| 250/250 [00:02<00:00, 124.36it/s, loss=11.949/12.266]\n"
     ]
    },
    {
     "name": "stdout",
     "output_type": "stream",
     "text": [
      "11.949345539932251\n"
     ]
    },
    {
     "name": "stderr",
     "output_type": "stream",
     "text": [
      "  4%|▍         | 11/250 [00:00<00:02, 107.24it/s, loss=11.832/11.717]"
     ]
    },
    {
     "name": "stdout",
     "output_type": "stream",
     "text": [
      "epoch:10\n"
     ]
    },
    {
     "name": "stderr",
     "output_type": "stream",
     "text": [
      "100%|██████████| 250/250 [00:02<00:00, 124.48it/s, loss=11.604/11.535]\n"
     ]
    },
    {
     "name": "stdout",
     "output_type": "stream",
     "text": [
      "11.60430679260254\n"
     ]
    },
    {
     "name": "stderr",
     "output_type": "stream",
     "text": [
      "  4%|▎         | 9/250 [00:00<00:02, 89.48it/s, loss=11.486/11.243]"
     ]
    },
    {
     "name": "stdout",
     "output_type": "stream",
     "text": [
      "epoch:11\n"
     ]
    },
    {
     "name": "stderr",
     "output_type": "stream",
     "text": [
      "100%|██████████| 250/250 [00:02<00:00, 124.25it/s, loss=11.281/10.915]"
     ]
    },
    {
     "name": "stdout",
     "output_type": "stream",
     "text": [
      "11.28103151245118\n"
     ]
    },
    {
     "name": "stderr",
     "output_type": "stream",
     "text": [
      "\n",
      "  4%|▎         | 9/250 [00:00<00:02, 88.78it/s, loss=11.031/11.292]"
     ]
    },
    {
     "name": "stdout",
     "output_type": "stream",
     "text": [
      "epoch:12\n"
     ]
    },
    {
     "name": "stderr",
     "output_type": "stream",
     "text": [
      "100%|██████████| 250/250 [00:02<00:00, 119.95it/s, loss=10.976/10.676]"
     ]
    },
    {
     "name": "stdout",
     "output_type": "stream",
     "text": [
      "10.976299421463018\n"
     ]
    },
    {
     "name": "stderr",
     "output_type": "stream",
     "text": [
      "\n",
      "  4%|▍         | 10/250 [00:00<00:02, 97.68it/s, loss=10.791/11.459]"
     ]
    },
    {
     "name": "stdout",
     "output_type": "stream",
     "text": [
      "epoch:13\n"
     ]
    },
    {
     "name": "stderr",
     "output_type": "stream",
     "text": [
      "100%|██████████| 250/250 [00:02<00:00, 119.71it/s, loss=10.691/10.924]"
     ]
    },
    {
     "name": "stdout",
     "output_type": "stream",
     "text": [
      "10.691312264633178\n"
     ]
    },
    {
     "name": "stderr",
     "output_type": "stream",
     "text": [
      "\n",
      "  4%|▎         | 9/250 [00:00<00:03, 72.32it/s, loss=10.396/10.476]"
     ]
    },
    {
     "name": "stdout",
     "output_type": "stream",
     "text": [
      "epoch:14\n"
     ]
    },
    {
     "name": "stderr",
     "output_type": "stream",
     "text": [
      "100%|██████████| 250/250 [00:02<00:00, 121.49it/s, loss=10.421/10.206]"
     ]
    },
    {
     "name": "stdout",
     "output_type": "stream",
     "text": [
      "10.421123161773679\n"
     ]
    },
    {
     "name": "stderr",
     "output_type": "stream",
     "text": [
      "\n",
      "  4%|▍         | 10/250 [00:00<00:02, 94.75it/s, loss=10.325/10.139]"
     ]
    },
    {
     "name": "stdout",
     "output_type": "stream",
     "text": [
      "epoch:15\n"
     ]
    },
    {
     "name": "stderr",
     "output_type": "stream",
     "text": [
      "100%|██████████| 250/250 [00:02<00:00, 122.64it/s, loss=10.166/10.095]"
     ]
    },
    {
     "name": "stdout",
     "output_type": "stream",
     "text": [
      "10.166080602416994\n"
     ]
    },
    {
     "name": "stderr",
     "output_type": "stream",
     "text": [
      "\n",
      "  5%|▍         | 12/250 [00:00<00:02, 114.46it/s, loss=10.084/9.800]"
     ]
    },
    {
     "name": "stdout",
     "output_type": "stream",
     "text": [
      "epoch:16\n"
     ]
    },
    {
     "name": "stderr",
     "output_type": "stream",
     "text": [
      "100%|██████████| 250/250 [00:02<00:00, 122.70it/s, loss=9.926/10.476]"
     ]
    },
    {
     "name": "stdout",
     "output_type": "stream",
     "text": [
      "9.925587355270382\n"
     ]
    },
    {
     "name": "stderr",
     "output_type": "stream",
     "text": [
      "\n",
      "  4%|▍         | 10/250 [00:00<00:02, 98.52it/s, loss=9.919/10.065]"
     ]
    },
    {
     "name": "stdout",
     "output_type": "stream",
     "text": [
      "epoch:17\n"
     ]
    },
    {
     "name": "stderr",
     "output_type": "stream",
     "text": [
      "100%|██████████| 250/250 [00:02<00:00, 118.94it/s, loss=9.698/9.307]"
     ]
    },
    {
     "name": "stdout",
     "output_type": "stream",
     "text": [
      "9.698030271987918\n"
     ]
    },
    {
     "name": "stderr",
     "output_type": "stream",
     "text": [
      "\n",
      "  5%|▍         | 12/250 [00:00<00:02, 113.56it/s, loss=9.491/9.207]"
     ]
    },
    {
     "name": "stdout",
     "output_type": "stream",
     "text": [
      "epoch:18\n"
     ]
    },
    {
     "name": "stderr",
     "output_type": "stream",
     "text": [
      "100%|██████████| 250/250 [00:01<00:00, 126.53it/s, loss=9.481/9.536]"
     ]
    },
    {
     "name": "stdout",
     "output_type": "stream",
     "text": [
      "9.48103073791503\n"
     ]
    },
    {
     "name": "stderr",
     "output_type": "stream",
     "text": [
      "\n",
      "  4%|▍         | 10/250 [00:00<00:02, 99.52it/s, loss=9.301/8.991]"
     ]
    },
    {
     "name": "stdout",
     "output_type": "stream",
     "text": [
      "epoch:19\n"
     ]
    },
    {
     "name": "stderr",
     "output_type": "stream",
     "text": [
      "100%|██████████| 250/250 [00:02<00:00, 124.06it/s, loss=9.278/8.916]\n"
     ]
    },
    {
     "name": "stdout",
     "output_type": "stream",
     "text": [
      "9.277792062721254\n"
     ]
    },
    {
     "name": "stderr",
     "output_type": "stream",
     "text": [
      "  4%|▍         | 10/250 [00:00<00:02, 97.75it/s, loss=9.318/9.516]"
     ]
    },
    {
     "name": "stdout",
     "output_type": "stream",
     "text": [
      "epoch:20\n"
     ]
    },
    {
     "name": "stderr",
     "output_type": "stream",
     "text": [
      "100%|██████████| 250/250 [00:02<00:00, 124.56it/s, loss=9.084/9.096]"
     ]
    },
    {
     "name": "stdout",
     "output_type": "stream",
     "text": [
      "9.083751163291936\n"
     ]
    },
    {
     "name": "stderr",
     "output_type": "stream",
     "text": [
      "\n",
      "  4%|▍         | 11/250 [00:00<00:02, 106.75it/s, loss=9.033/8.748]"
     ]
    },
    {
     "name": "stdout",
     "output_type": "stream",
     "text": [
      "epoch:21\n"
     ]
    },
    {
     "name": "stderr",
     "output_type": "stream",
     "text": [
      "100%|██████████| 250/250 [00:01<00:00, 127.22it/s, loss=8.901/8.855]"
     ]
    },
    {
     "name": "stdout",
     "output_type": "stream",
     "text": [
      "8.900637477149964\n"
     ]
    },
    {
     "name": "stderr",
     "output_type": "stream",
     "text": [
      "\n",
      "  4%|▎         | 9/250 [00:00<00:02, 89.53it/s, loss=8.780/8.561]"
     ]
    },
    {
     "name": "stdout",
     "output_type": "stream",
     "text": [
      "epoch:22\n"
     ]
    },
    {
     "name": "stderr",
     "output_type": "stream",
     "text": [
      "100%|██████████| 250/250 [00:02<00:00, 120.69it/s, loss=8.726/8.562]"
     ]
    },
    {
     "name": "stdout",
     "output_type": "stream",
     "text": [
      "8.726460897178649\n"
     ]
    },
    {
     "name": "stderr",
     "output_type": "stream",
     "text": [
      "\n",
      "  4%|▎         | 9/250 [00:00<00:02, 89.37it/s, loss=8.681/9.006]"
     ]
    },
    {
     "name": "stdout",
     "output_type": "stream",
     "text": [
      "epoch:23\n"
     ]
    },
    {
     "name": "stderr",
     "output_type": "stream",
     "text": [
      "100%|██████████| 250/250 [00:01<00:00, 125.93it/s, loss=8.560/8.586]"
     ]
    },
    {
     "name": "stdout",
     "output_type": "stream",
     "text": [
      "8.560233781890874\n"
     ]
    },
    {
     "name": "stderr",
     "output_type": "stream",
     "text": [
      "\n",
      "  4%|▍         | 10/250 [00:00<00:02, 98.47it/s, loss=8.552/8.561]"
     ]
    },
    {
     "name": "stdout",
     "output_type": "stream",
     "text": [
      "epoch:24\n"
     ]
    },
    {
     "name": "stderr",
     "output_type": "stream",
     "text": [
      "100%|██████████| 250/250 [00:01<00:00, 126.65it/s, loss=8.405/8.145]\n"
     ]
    },
    {
     "name": "stdout",
     "output_type": "stream",
     "text": [
      "8.405145533981328\n"
     ]
    },
    {
     "name": "stderr",
     "output_type": "stream",
     "text": [
      "100%|██████████| 50/50 [00:00<00:00, 124.49it/s]"
     ]
    },
    {
     "name": "stdout",
     "output_type": "stream",
     "text": [
      "lr:1e-05; reg:10; acc:0.3458\n"
     ]
    },
    {
     "name": "stderr",
     "output_type": "stream",
     "text": [
      "\n",
      "  4%|▍         | 10/250 [00:00<00:02, 96.58it/s, loss=19.577/19.411]"
     ]
    },
    {
     "name": "stdout",
     "output_type": "stream",
     "text": [
      "epoch:0\n"
     ]
    },
    {
     "name": "stderr",
     "output_type": "stream",
     "text": [
      "100%|██████████| 250/250 [00:01<00:00, 126.84it/s, loss=18.361/17.002]"
     ]
    },
    {
     "name": "stdout",
     "output_type": "stream",
     "text": [
      "18.361432312469468\n"
     ]
    },
    {
     "name": "stderr",
     "output_type": "stream",
     "text": [
      "\n",
      "  4%|▍         | 10/250 [00:00<00:02, 97.29it/s, loss=17.323/17.297]"
     ]
    },
    {
     "name": "stdout",
     "output_type": "stream",
     "text": [
      "epoch:1\n"
     ]
    },
    {
     "name": "stderr",
     "output_type": "stream",
     "text": [
      "100%|██████████| 250/250 [00:02<00:00, 121.95it/s, loss=16.591/15.852]"
     ]
    },
    {
     "name": "stdout",
     "output_type": "stream",
     "text": [
      "16.591093897247312\n"
     ]
    },
    {
     "name": "stderr",
     "output_type": "stream",
     "text": [
      "\n",
      "  4%|▍         | 10/250 [00:00<00:02, 96.09it/s, loss=15.949/15.992]"
     ]
    },
    {
     "name": "stdout",
     "output_type": "stream",
     "text": [
      "epoch:2\n"
     ]
    },
    {
     "name": "stderr",
     "output_type": "stream",
     "text": [
      " 14%|█▍        | 36/250 [00:00<00:01, 109.76it/s, loss=15.934/15.775]"
     ]
    }
   ],
   "source": [
    "lrs = [1e-2, 1e-3, 1e-4, 1e-5]\n",
    "reg_strs = [0, 1, 10, 100, 1000]\n",
    "\n",
    "result = {}\n",
    "\n",
    "best_lr = None\n",
    "best_reg = None\n",
    "best_svm = None\n",
    "best_acc = -1\n",
    "\n",
    "for lr in lrs:\n",
    "    for reg in reg_strs:\n",
    "        svmEr = train(lr, reg, 25)\n",
    "        acc = evaluate(svmEr)\n",
    "        print(\"lr:{}; reg:{}; acc:{}\".format(lr, reg, acc))\n",
    "        if acc > best_acc:\n",
    "            best_lr = lr\n",
    "            best_reg = reg\n",
    "            best_svm = svmEr\n",
    "        result[(lr, reg)] = acc\n",
    "print(\"the best: lr:{}; reg:{}; acc:{}\".format(best_lr, best_reg, best_acc))"
   ]
  },
  {
   "cell_type": "code",
   "execution_count": null,
   "metadata": {},
   "outputs": [],
   "source": []
  }
 ],
 "metadata": {
  "kernelspec": {
   "display_name": "Python 3",
   "language": "python",
   "name": "python3"
  },
  "language_info": {
   "codemirror_mode": {
    "name": "ipython",
    "version": 3
   },
   "file_extension": ".py",
   "mimetype": "text/x-python",
   "name": "python",
   "nbconvert_exporter": "python",
   "pygments_lexer": "ipython3",
   "version": "3.6.8"
  }
 },
 "nbformat": 4,
 "nbformat_minor": 2
}
