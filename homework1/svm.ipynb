{
 "cells": [
  {
   "cell_type": "code",
   "execution_count": 1,
   "metadata": {},
   "outputs": [],
   "source": [
    "import torch\n",
    "from tqdm import trange\n",
    "\n",
    "import utils as ut\n",
    "import evaluate as eva"
   ]
  },
  {
   "cell_type": "code",
   "execution_count": 2,
   "metadata": {},
   "outputs": [],
   "source": [
    "class SVM():\n",
    "    def __init__(self, kwargs):\n",
    "        self.model_name = 'SVM'\n",
    "        self.W = torch.randn(kwargs['feature_dim']+1, kwargs['class_num'])\n",
    "        self.N = kwargs['class_num']\n",
    "        self.init_weight()\n",
    "        \n",
    "    def init_weight(self):\n",
    "        torch.nn.init.xavier_normal_(self.W)\n",
    "        \n",
    "    def train(self, X, Y, alpha=0.01, reg=2.5e4, vec=True):\n",
    "        \"\"\"\n",
    "        功能: 完成训练过程，包括(1)求解损失, 计算梯度. (2) 正则化，计算梯度，(3)更新参数 \n",
    "        输入:\n",
    "            X(Tensor):(N, K:3*32*32+1)\n",
    "            Y(Tensor):(N)\n",
    "            alpha(float):                   # 学习率\n",
    "            reg(float):                     # 正则化系数\n",
    "        输出:\n",
    "            L(int):(1)                      # 损失，范围给主程序以打印显示        \n",
    "        \"\"\"\n",
    "        \n",
    "        # 计算梯度与正则化\n",
    "        if vec:\n",
    "            L, dW = self.cal_dw_with_vec(X, Y, reg)\n",
    "        else:\n",
    "            L, dW = self.cal_dw_with_loop(X, Y, reg)\n",
    "            \n",
    "        # 更新参数\n",
    "        self.W -= alpha * dW\n",
    "        return L\n",
    "    \n",
    "    def cal_dw_with_loop(self, X, Y, reg):\n",
    "        \"\"\"\n",
    "        功能： 计算损失和梯度\n",
    "        输入:\n",
    "            X(Tensor):(N, K:3*32*32+1)\n",
    "            Y(Tensor):(N)\n",
    "            reg(float):                    # 正则化系数\n",
    "        输出:\n",
    "            L(int): 1                      # 损失               \n",
    "            dW(Tensor):(K+1,C)             # 参数梯度       \n",
    "        \"\"\"\n",
    "        L = 0.0\n",
    "        N = X.size(0)\n",
    "        F, C = self.W.size()\n",
    "        dW = torch.zeros(F, C)\n",
    "        \n",
    "        # (1) 求解损失\n",
    "        for idx, Xi in enumerate(X):\n",
    "            yi = Y[idx]\n",
    "            scores = Xi.matmul(self.W)\n",
    "            syi = scores[yi]\n",
    "            for j in range(self.N):\n",
    "                if j == yi:\n",
    "                    continue\n",
    "                sj = scores[j]\n",
    "                if syi - sj - 1 < 0:\n",
    "                    L += (sj - syi + 1).item()\n",
    "                    dW[:,j] += Xi.t()\n",
    "                    dW[:,yi] -= Xi.t()\n",
    "        \n",
    "        # (2) 正则化\n",
    "        L = L / N +  0.5*reg*torch.sum(torch.pow(self.W, 2)).item()\n",
    "        dW = dW / N +  reg*self.W\n",
    "        \n",
    "        return L, dW\n",
    "    \n",
    "    def cal_dw_with_vec(self, X, Y, reg):\n",
    "        \"\"\"\n",
    "        功能： 计算损失和梯度\n",
    "        输入:\n",
    "            X(Tensor):(N, K:3*32*32+1)\n",
    "            Y(Tensor):(N)\n",
    "            reg(float):                    # 正则化系数\n",
    "        输出:\n",
    "            L(int): 1                      # 损失               \n",
    "            dW(Tensor):(K+1,C)             # 参数梯度       \n",
    "        \"\"\"\n",
    "        \n",
    "        N = X.size(0)\n",
    "        F, C = self.W.size()\n",
    "        \n",
    "        score = X.matmul(self.W)                                       # (N, C)\n",
    "        correct = score[range(N), Y.tolist()].unsqueeze(1)             # (N, 1)\n",
    "        score = torch.relu(score-correct+1)                            # (N, C)\n",
    "        score[range(N), Y.tolist()] = 0\n",
    "        \n",
    "        L = torch.sum(score).item()\n",
    "        L = L / N +  0.5*reg*torch.sum(torch.pow(self.W, 2)).item()\n",
    "        \n",
    "        \n",
    "        dW = torch.zeros(F, C)\n",
    "        mask = torch.zeros(N, C)\n",
    "        mask[score>0] = 1                                              # (N,C)\n",
    "        mask[range(N), Y.tolist()] = -torch.sum(mask, 1)               # (N,C)\n",
    "        dW = X.t().matmul(mask)                                        # (F,C)\n",
    "\n",
    "        dW = dW / N + reg*self.W\n",
    "        return L, dW\n",
    "        \n",
    "    def predict(self, X):\n",
    "        \"\"\"\n",
    "        功能: 预测输入数据标签\n",
    "        输入:\n",
    "            X(Tensor): (N, 3*32*32)\n",
    "        输出:\n",
    "            labels(Tensor): (N)\n",
    "        \"\"\"\n",
    "        S = X.matmul(self.W)  # (N, C)\n",
    "        return torch.max(S, 1)[1]\n",
    "        \n",
    "        "
   ]
  },
  {
   "cell_type": "code",
   "execution_count": 3,
   "metadata": {},
   "outputs": [
    {
     "name": "stdout",
     "output_type": "stream",
     "text": [
      "Files already downloaded and verified\n",
      "Files already downloaded and verified\n",
      "Files already downloaded and verified\n",
      "Files already downloaded and verified\n"
     ]
    }
   ],
   "source": [
    "train_set, test_set = ut.data_load('./data')"
   ]
  },
  {
   "cell_type": "code",
   "execution_count": 4,
   "metadata": {},
   "outputs": [],
   "source": [
    "batch_num = 200\n",
    "opt = {\"feature_dim\":3*32*32, \"class_num\":10}\n",
    "train_loader = torch.utils.data.DataLoader(train_set, batch_size=batch_num, shuffle=True, num_workers=4)\n",
    "test_loader = torch.utils.data.DataLoader(test_set, batch_size=batch_num, shuffle=False, num_workers=4)"
   ]
  },
  {
   "cell_type": "code",
   "execution_count": null,
   "metadata": {},
   "outputs": [],
   "source": [
    "def train(alpha, reg, epoches):\n",
    "    \"\"\"\n",
    "    功能：完成训练过程\n",
    "    输入:\n",
    "        alpha(int):(1)     # 学习率\n",
    "        reg(int):(1)       # 正则化系数\n",
    "        epoches(int):(1)   # 迭代次数\n",
    "    输出:\n",
    "        svmEr(class) 训练好的模型\n",
    "        alpha\n",
    "        reg\n",
    "    \"\"\"\n",
    "    svmEr = SVM(opt)\n",
    "    for epoch in range(epoches):\n",
    "        train_data_interator = enumerate(train_loader)\n",
    "        train_steps = test_steps = (len(train_set) + batch_num - 1) // batch_num\n",
    "\n",
    "        t = trange(train_steps)\n",
    "        loss_avg = ut.RunningAverage()\n",
    "        print(\"epoch:{}\".format(epoch))\n",
    "        for i in t:\n",
    "            idx, data = next(train_data_interator)\n",
    "            X_batch, Y_batch = data\n",
    "            X_batch = X_batch.view(X_batch.size(0), -1)\n",
    "            X_batch = torch.cat((torch.ones(X_batch.size(0),1), X_batch), 1)   \n",
    "\n",
    "            loss = svmEr.train(X_batch, Y_batch, alpha=1e-4, reg=1, vec=True)\n",
    "            loss_avg.update(loss)\n",
    "            t.set_postfix(loss='{:05.3f}/{:05.3f}'.format(loss_avg(), loss))\n",
    "        print(loss_avg())\n",
    "    return svmEr\n",
    "\n",
    "def evaluate(svmEr):\n",
    "    \"\"\"\n",
    "    功能：使用训练好的模型进行预测，并评测结果\n",
    "    输入: \n",
    "        svmEr(class) 训练好的模型\n",
    "    输出: \n",
    "        acc(int):(1) 模型准确率\n",
    "    \"\"\"\n",
    "    test_data_interator = enumerate(test_loader)\n",
    "    test_steps = test_steps = (len(test_set) + batch_num - 1) // batch_num\n",
    "\n",
    "    t = trange(test_steps)\n",
    "    Y_predict = []\n",
    "    Y_true = []\n",
    "    for i in t:\n",
    "        idx, data = next(test_data_interator)\n",
    "        X_batch, Y_batch = data\n",
    "        Y_true.extend(Y_batch.tolist())\n",
    "        X_batch = X_batch.view(X_batch.size(0), -1)\n",
    "        X_batch = torch.cat((torch.ones(X_batch.size(0),1), X_batch), 1)   \n",
    "\n",
    "        y = svmEr.predict(X_batch)\n",
    "        Y_predict.extend(y.tolist())\n",
    "        \n",
    "    Y_predict = torch.LongTensor(Y_predict)\n",
    "    Y_true = torch.LongTensor(Y_true)\n",
    "    acc = torch.sum(Y_predict == Y_true).item() /len(Y_predict)\n",
    "    \n",
    "    return acc\n",
    "    "
   ]
  },
  {
   "cell_type": "code",
   "execution_count": null,
   "metadata": {},
   "outputs": [
    {
     "name": "stderr",
     "output_type": "stream",
     "text": [
      "  2%|▏         | 6/250 [00:00<00:04, 59.65it/s, loss=19.626/19.076]"
     ]
    },
    {
     "name": "stdout",
     "output_type": "stream",
     "text": [
      "epoch:0\n"
     ]
    },
    {
     "name": "stderr",
     "output_type": "stream",
     "text": [
      "100%|██████████| 250/250 [00:01<00:00, 128.34it/s, loss=17.916/16.739]"
     ]
    },
    {
     "name": "stdout",
     "output_type": "stream",
     "text": [
      "17.916246122131355\n"
     ]
    },
    {
     "name": "stderr",
     "output_type": "stream",
     "text": [
      "\n",
      "  4%|▎         | 9/250 [00:00<00:02, 87.78it/s, loss=16.962/16.527]"
     ]
    },
    {
     "name": "stdout",
     "output_type": "stream",
     "text": [
      "epoch:1\n"
     ]
    },
    {
     "name": "stderr",
     "output_type": "stream",
     "text": [
      "100%|██████████| 250/250 [00:02<00:00, 121.80it/s, loss=16.359/15.812]"
     ]
    },
    {
     "name": "stdout",
     "output_type": "stream",
     "text": [
      "16.35899254180909\n"
     ]
    },
    {
     "name": "stderr",
     "output_type": "stream",
     "text": [
      "\n",
      "  4%|▍         | 11/250 [00:00<00:02, 107.86it/s, loss=15.887/15.926]"
     ]
    },
    {
     "name": "stdout",
     "output_type": "stream",
     "text": [
      "epoch:2\n"
     ]
    },
    {
     "name": "stderr",
     "output_type": "stream",
     "text": [
      "100%|██████████| 250/250 [00:02<00:00, 122.62it/s, loss=15.422/14.556]"
     ]
    },
    {
     "name": "stdout",
     "output_type": "stream",
     "text": [
      "15.422245274658213\n"
     ]
    },
    {
     "name": "stderr",
     "output_type": "stream",
     "text": [
      "\n",
      "  4%|▍         | 11/250 [00:00<00:02, 107.69it/s, loss=15.068/14.713]"
     ]
    },
    {
     "name": "stdout",
     "output_type": "stream",
     "text": [
      "epoch:3\n"
     ]
    },
    {
     "name": "stderr",
     "output_type": "stream",
     "text": [
      "100%|██████████| 250/250 [00:01<00:00, 126.77it/s, loss=14.724/14.656]\n"
     ]
    },
    {
     "name": "stdout",
     "output_type": "stream",
     "text": [
      "14.72368852920533\n"
     ]
    },
    {
     "name": "stderr",
     "output_type": "stream",
     "text": [
      "  4%|▎         | 9/250 [00:00<00:02, 85.51it/s, loss=14.483/14.247]"
     ]
    },
    {
     "name": "stdout",
     "output_type": "stream",
     "text": [
      "epoch:4\n"
     ]
    },
    {
     "name": "stderr",
     "output_type": "stream",
     "text": [
      "100%|██████████| 250/250 [00:02<00:00, 124.18it/s, loss=14.140/13.464]"
     ]
    },
    {
     "name": "stdout",
     "output_type": "stream",
     "text": [
      "14.140059371109006\n"
     ]
    },
    {
     "name": "stderr",
     "output_type": "stream",
     "text": [
      "\n",
      "  4%|▍         | 11/250 [00:00<00:02, 104.50it/s, loss=13.871/14.231]"
     ]
    },
    {
     "name": "stdout",
     "output_type": "stream",
     "text": [
      "epoch:5\n"
     ]
    },
    {
     "name": "stderr",
     "output_type": "stream",
     "text": [
      "100%|██████████| 250/250 [00:01<00:00, 126.94it/s, loss=13.625/12.891]"
     ]
    },
    {
     "name": "stdout",
     "output_type": "stream",
     "text": [
      "13.62452166725158\n"
     ]
    },
    {
     "name": "stderr",
     "output_type": "stream",
     "text": [
      "\n",
      "  4%|▍         | 11/250 [00:00<00:02, 108.54it/s, loss=13.250/13.248]"
     ]
    },
    {
     "name": "stdout",
     "output_type": "stream",
     "text": [
      "epoch:6\n"
     ]
    },
    {
     "name": "stderr",
     "output_type": "stream",
     "text": [
      "100%|██████████| 250/250 [00:02<00:00, 121.78it/s, loss=13.159/13.136]\n"
     ]
    },
    {
     "name": "stdout",
     "output_type": "stream",
     "text": [
      "13.159336671218869\n"
     ]
    },
    {
     "name": "stderr",
     "output_type": "stream",
     "text": [
      "  4%|▎         | 9/250 [00:00<00:02, 87.76it/s, loss=12.820/12.731]"
     ]
    },
    {
     "name": "stdout",
     "output_type": "stream",
     "text": [
      "epoch:7\n"
     ]
    },
    {
     "name": "stderr",
     "output_type": "stream",
     "text": [
      "100%|██████████| 250/250 [00:02<00:00, 118.04it/s, loss=12.731/12.259]\n"
     ]
    },
    {
     "name": "stdout",
     "output_type": "stream",
     "text": [
      "12.731060939178466\n"
     ]
    },
    {
     "name": "stderr",
     "output_type": "stream",
     "text": [
      "  4%|▍         | 10/250 [00:00<00:02, 99.92it/s, loss=12.546/12.278]"
     ]
    },
    {
     "name": "stdout",
     "output_type": "stream",
     "text": [
      "epoch:8\n"
     ]
    },
    {
     "name": "stderr",
     "output_type": "stream",
     "text": [
      "100%|██████████| 250/250 [00:01<00:00, 126.49it/s, loss=12.335/12.217]\n"
     ]
    },
    {
     "name": "stdout",
     "output_type": "stream",
     "text": [
      "12.335066028442393\n"
     ]
    },
    {
     "name": "stderr",
     "output_type": "stream",
     "text": [
      "  4%|▎         | 9/250 [00:00<00:02, 84.67it/s, loss=12.044/12.404]"
     ]
    },
    {
     "name": "stdout",
     "output_type": "stream",
     "text": [
      "epoch:9\n"
     ]
    },
    {
     "name": "stderr",
     "output_type": "stream",
     "text": [
      "100%|██████████| 250/250 [00:02<00:00, 124.61it/s, loss=11.966/11.266]"
     ]
    },
    {
     "name": "stdout",
     "output_type": "stream",
     "text": [
      "11.965536507186881\n"
     ]
    },
    {
     "name": "stderr",
     "output_type": "stream",
     "text": [
      "\n",
      "  4%|▍         | 10/250 [00:00<00:02, 98.35it/s, loss=11.786/12.106]"
     ]
    },
    {
     "name": "stdout",
     "output_type": "stream",
     "text": [
      "epoch:10\n"
     ]
    },
    {
     "name": "stderr",
     "output_type": "stream",
     "text": [
      "100%|██████████| 250/250 [00:02<00:00, 119.00it/s, loss=11.621/11.060]"
     ]
    },
    {
     "name": "stdout",
     "output_type": "stream",
     "text": [
      "11.62132484992981\n"
     ]
    },
    {
     "name": "stderr",
     "output_type": "stream",
     "text": [
      "\n",
      "  4%|▍         | 10/250 [00:00<00:02, 98.08it/s, loss=11.517/11.710]"
     ]
    },
    {
     "name": "stdout",
     "output_type": "stream",
     "text": [
      "epoch:11\n"
     ]
    },
    {
     "name": "stderr",
     "output_type": "stream",
     "text": [
      "100%|██████████| 250/250 [00:02<00:00, 124.29it/s, loss=11.296/11.574]"
     ]
    },
    {
     "name": "stdout",
     "output_type": "stream",
     "text": [
      "11.296423723754872\n"
     ]
    },
    {
     "name": "stderr",
     "output_type": "stream",
     "text": [
      "\n",
      "  4%|▍         | 10/250 [00:00<00:02, 96.99it/s, loss=11.003/11.242]"
     ]
    },
    {
     "name": "stdout",
     "output_type": "stream",
     "text": [
      "epoch:12\n"
     ]
    },
    {
     "name": "stderr",
     "output_type": "stream",
     "text": [
      "100%|██████████| 250/250 [00:02<00:00, 122.79it/s, loss=10.993/11.024]\n"
     ]
    },
    {
     "name": "stdout",
     "output_type": "stream",
     "text": [
      "10.992526661071778\n"
     ]
    },
    {
     "name": "stderr",
     "output_type": "stream",
     "text": [
      "  4%|▎         | 9/250 [00:00<00:02, 83.33it/s, loss=10.799/10.465]"
     ]
    },
    {
     "name": "stdout",
     "output_type": "stream",
     "text": [
      "epoch:13\n"
     ]
    },
    {
     "name": "stderr",
     "output_type": "stream",
     "text": [
      "100%|██████████| 250/250 [00:01<00:00, 126.51it/s, loss=10.705/11.083]"
     ]
    },
    {
     "name": "stdout",
     "output_type": "stream",
     "text": [
      "10.705010594329833\n"
     ]
    },
    {
     "name": "stderr",
     "output_type": "stream",
     "text": [
      "\n",
      "  4%|▎         | 9/250 [00:00<00:02, 83.94it/s, loss=10.579/10.664]"
     ]
    },
    {
     "name": "stdout",
     "output_type": "stream",
     "text": [
      "epoch:14\n"
     ]
    },
    {
     "name": "stderr",
     "output_type": "stream",
     "text": [
      "100%|██████████| 250/250 [00:01<00:00, 125.87it/s, loss=10.436/9.917]"
     ]
    },
    {
     "name": "stdout",
     "output_type": "stream",
     "text": [
      "10.435513696746824\n"
     ]
    },
    {
     "name": "stderr",
     "output_type": "stream",
     "text": [
      "\n",
      "  4%|▎         | 9/250 [00:00<00:02, 89.82it/s, loss=10.275/10.178]"
     ]
    },
    {
     "name": "stdout",
     "output_type": "stream",
     "text": [
      "epoch:15\n"
     ]
    },
    {
     "name": "stderr",
     "output_type": "stream",
     "text": [
      "100%|██████████| 250/250 [00:02<00:00, 125.10it/s, loss=10.178/10.164]"
     ]
    },
    {
     "name": "stdout",
     "output_type": "stream",
     "text": [
      "10.17831240562439\n"
     ]
    },
    {
     "name": "stderr",
     "output_type": "stream",
     "text": [
      "\n",
      "  4%|▍         | 11/250 [00:00<00:02, 106.64it/s, loss=10.062/10.335]"
     ]
    },
    {
     "name": "stdout",
     "output_type": "stream",
     "text": [
      "epoch:16\n"
     ]
    },
    {
     "name": "stderr",
     "output_type": "stream",
     "text": [
      "100%|██████████| 250/250 [00:02<00:00, 123.30it/s, loss=9.938/9.928]"
     ]
    },
    {
     "name": "stdout",
     "output_type": "stream",
     "text": [
      "9.938086416778564\n"
     ]
    },
    {
     "name": "stderr",
     "output_type": "stream",
     "text": [
      "\n",
      "  4%|▎         | 9/250 [00:00<00:02, 88.91it/s, loss=9.653/9.865]"
     ]
    },
    {
     "name": "stdout",
     "output_type": "stream",
     "text": [
      "epoch:17\n"
     ]
    },
    {
     "name": "stderr",
     "output_type": "stream",
     "text": [
      "100%|██████████| 250/250 [00:02<00:00, 120.55it/s, loss=9.710/9.548]"
     ]
    },
    {
     "name": "stdout",
     "output_type": "stream",
     "text": [
      "9.709956866836546\n"
     ]
    },
    {
     "name": "stderr",
     "output_type": "stream",
     "text": [
      "\n",
      "  4%|▎         | 9/250 [00:00<00:02, 89.13it/s, loss=9.561/10.212]"
     ]
    },
    {
     "name": "stdout",
     "output_type": "stream",
     "text": [
      "epoch:18\n"
     ]
    },
    {
     "name": "stderr",
     "output_type": "stream",
     "text": [
      "100%|██████████| 250/250 [00:02<00:00, 123.01it/s, loss=9.493/9.535]\n"
     ]
    },
    {
     "name": "stdout",
     "output_type": "stream",
     "text": [
      "9.493302478179936\n"
     ]
    },
    {
     "name": "stderr",
     "output_type": "stream",
     "text": [
      "  4%|▍         | 10/250 [00:00<00:02, 98.41it/s, loss=9.395/9.489] "
     ]
    },
    {
     "name": "stdout",
     "output_type": "stream",
     "text": [
      "epoch:19\n"
     ]
    },
    {
     "name": "stderr",
     "output_type": "stream",
     "text": [
      "100%|██████████| 250/250 [00:02<00:00, 123.30it/s, loss=9.288/9.249]"
     ]
    },
    {
     "name": "stdout",
     "output_type": "stream",
     "text": [
      "9.288450702667237\n"
     ]
    },
    {
     "name": "stderr",
     "output_type": "stream",
     "text": [
      "\n",
      "  4%|▍         | 10/250 [00:00<00:02, 86.46it/s, loss=9.192/8.905]"
     ]
    },
    {
     "name": "stdout",
     "output_type": "stream",
     "text": [
      "epoch:20\n"
     ]
    },
    {
     "name": "stderr",
     "output_type": "stream",
     "text": [
      "100%|██████████| 250/250 [00:02<00:00, 123.49it/s, loss=9.095/9.419]\n"
     ]
    },
    {
     "name": "stdout",
     "output_type": "stream",
     "text": [
      "9.094563897895812\n"
     ]
    },
    {
     "name": "stderr",
     "output_type": "stream",
     "text": [
      "  4%|▍         | 11/250 [00:00<00:02, 106.33it/s, loss=9.048/8.729]"
     ]
    },
    {
     "name": "stdout",
     "output_type": "stream",
     "text": [
      "epoch:21\n"
     ]
    },
    {
     "name": "stderr",
     "output_type": "stream",
     "text": [
      "100%|██████████| 250/250 [00:02<00:00, 121.40it/s, loss=8.911/9.272]"
     ]
    },
    {
     "name": "stdout",
     "output_type": "stream",
     "text": [
      "8.910736973114023\n"
     ]
    },
    {
     "name": "stderr",
     "output_type": "stream",
     "text": [
      "\n",
      "  4%|▍         | 10/250 [00:00<00:02, 94.11it/s, loss=8.760/8.737]"
     ]
    },
    {
     "name": "stdout",
     "output_type": "stream",
     "text": [
      "epoch:22\n"
     ]
    },
    {
     "name": "stderr",
     "output_type": "stream",
     "text": [
      "100%|██████████| 250/250 [00:02<00:00, 119.10it/s, loss=8.737/8.125]"
     ]
    },
    {
     "name": "stdout",
     "output_type": "stream",
     "text": [
      "8.73744777889252\n"
     ]
    },
    {
     "name": "stderr",
     "output_type": "stream",
     "text": [
      "\n",
      "  4%|▎         | 9/250 [00:00<00:02, 88.94it/s, loss=8.669/9.182]"
     ]
    },
    {
     "name": "stdout",
     "output_type": "stream",
     "text": [
      "epoch:23\n"
     ]
    },
    {
     "name": "stderr",
     "output_type": "stream",
     "text": [
      "100%|██████████| 250/250 [00:01<00:00, 127.56it/s, loss=8.570/8.196]"
     ]
    },
    {
     "name": "stdout",
     "output_type": "stream",
     "text": [
      "8.570184391937254\n"
     ]
    },
    {
     "name": "stderr",
     "output_type": "stream",
     "text": [
      "\n",
      "  4%|▍         | 10/250 [00:00<00:02, 97.92it/s, loss=8.413/8.295]"
     ]
    },
    {
     "name": "stdout",
     "output_type": "stream",
     "text": [
      "epoch:24\n"
     ]
    },
    {
     "name": "stderr",
     "output_type": "stream",
     "text": [
      "100%|██████████| 250/250 [00:01<00:00, 125.77it/s, loss=8.415/8.484]\n"
     ]
    },
    {
     "name": "stdout",
     "output_type": "stream",
     "text": [
      "8.414628829498287\n"
     ]
    },
    {
     "name": "stderr",
     "output_type": "stream",
     "text": [
      "100%|██████████| 50/50 [00:00<00:00, 124.10it/s]\n"
     ]
    },
    {
     "name": "stdout",
     "output_type": "stream",
     "text": [
      "lr:0.01; reg:0; acc:0.35\n"
     ]
    },
    {
     "name": "stderr",
     "output_type": "stream",
     "text": [
      "  2%|▏         | 6/250 [00:00<00:04, 59.96it/s, loss=19.167/18.455]"
     ]
    },
    {
     "name": "stdout",
     "output_type": "stream",
     "text": [
      "epoch:0\n"
     ]
    },
    {
     "name": "stderr",
     "output_type": "stream",
     "text": [
      "100%|██████████| 250/250 [00:02<00:00, 117.74it/s, loss=17.816/17.050]\n"
     ]
    },
    {
     "name": "stdout",
     "output_type": "stream",
     "text": [
      "17.815554900207513\n"
     ]
    },
    {
     "name": "stderr",
     "output_type": "stream",
     "text": [
      "  5%|▌         | 13/250 [00:00<00:02, 116.09it/s, loss=16.875/16.814]"
     ]
    },
    {
     "name": "stdout",
     "output_type": "stream",
     "text": [
      "epoch:1\n"
     ]
    },
    {
     "name": "stderr",
     "output_type": "stream",
     "text": [
      "100%|██████████| 250/250 [00:02<00:00, 124.62it/s, loss=16.267/15.873]"
     ]
    },
    {
     "name": "stdout",
     "output_type": "stream",
     "text": [
      "16.2671507395935\n"
     ]
    },
    {
     "name": "stderr",
     "output_type": "stream",
     "text": [
      "\n",
      "  4%|▍         | 10/250 [00:00<00:02, 99.22it/s, loss=15.679/15.545]"
     ]
    },
    {
     "name": "stdout",
     "output_type": "stream",
     "text": [
      "epoch:2\n"
     ]
    },
    {
     "name": "stderr",
     "output_type": "stream",
     "text": [
      "100%|██████████| 250/250 [00:02<00:00, 123.49it/s, loss=15.352/14.546]"
     ]
    },
    {
     "name": "stdout",
     "output_type": "stream",
     "text": [
      "15.351803334198003\n"
     ]
    },
    {
     "name": "stderr",
     "output_type": "stream",
     "text": [
      "\n",
      "  4%|▍         | 10/250 [00:00<00:02, 98.55it/s, loss=15.034/14.419]"
     ]
    },
    {
     "name": "stdout",
     "output_type": "stream",
     "text": [
      "epoch:3\n"
     ]
    },
    {
     "name": "stderr",
     "output_type": "stream",
     "text": [
      "100%|██████████| 250/250 [00:02<00:00, 120.65it/s, loss=14.670/14.062]"
     ]
    },
    {
     "name": "stdout",
     "output_type": "stream",
     "text": [
      "14.669615088043209\n"
     ]
    },
    {
     "name": "stderr",
     "output_type": "stream",
     "text": [
      "\n",
      "  5%|▍         | 12/250 [00:00<00:02, 114.68it/s, loss=14.444/14.898]"
     ]
    },
    {
     "name": "stdout",
     "output_type": "stream",
     "text": [
      "epoch:4\n"
     ]
    },
    {
     "name": "stderr",
     "output_type": "stream",
     "text": [
      "100%|██████████| 250/250 [00:02<00:00, 123.14it/s, loss=14.096/13.548]\n"
     ]
    },
    {
     "name": "stdout",
     "output_type": "stream",
     "text": [
      "14.095687815322872\n"
     ]
    },
    {
     "name": "stderr",
     "output_type": "stream",
     "text": [
      "  4%|▍         | 10/250 [00:00<00:02, 97.94it/s, loss=13.866/14.251]"
     ]
    },
    {
     "name": "stdout",
     "output_type": "stream",
     "text": [
      "epoch:5\n"
     ]
    },
    {
     "name": "stderr",
     "output_type": "stream",
     "text": [
      "100%|██████████| 250/250 [00:02<00:00, 121.20it/s, loss=13.585/13.280]"
     ]
    },
    {
     "name": "stdout",
     "output_type": "stream",
     "text": [
      "13.584698061141962\n"
     ]
    },
    {
     "name": "stderr",
     "output_type": "stream",
     "text": [
      "\n",
      "  4%|▎         | 9/250 [00:00<00:02, 88.82it/s, loss=13.429/13.204]"
     ]
    },
    {
     "name": "stdout",
     "output_type": "stream",
     "text": [
      "epoch:6\n"
     ]
    },
    {
     "name": "stderr",
     "output_type": "stream",
     "text": [
      "100%|██████████| 250/250 [00:02<00:00, 122.64it/s, loss=13.121/12.958]"
     ]
    },
    {
     "name": "stdout",
     "output_type": "stream",
     "text": [
      "13.120814876632693\n"
     ]
    },
    {
     "name": "stderr",
     "output_type": "stream",
     "text": [
      "\n",
      "  3%|▎         | 8/250 [00:00<00:03, 78.73it/s, loss=12.975/13.468]"
     ]
    },
    {
     "name": "stdout",
     "output_type": "stream",
     "text": [
      "epoch:7\n"
     ]
    },
    {
     "name": "stderr",
     "output_type": "stream",
     "text": [
      "100%|██████████| 250/250 [00:02<00:00, 124.36it/s, loss=12.695/12.388]\n"
     ]
    },
    {
     "name": "stdout",
     "output_type": "stream",
     "text": [
      "12.695199081573483\n"
     ]
    },
    {
     "name": "stderr",
     "output_type": "stream",
     "text": [
      "  4%|▍         | 11/250 [00:00<00:02, 109.21it/s, loss=12.410/12.669]"
     ]
    },
    {
     "name": "stdout",
     "output_type": "stream",
     "text": [
      "epoch:8\n"
     ]
    },
    {
     "name": "stderr",
     "output_type": "stream",
     "text": [
      "100%|██████████| 250/250 [00:02<00:00, 122.15it/s, loss=12.299/12.102]\n"
     ]
    },
    {
     "name": "stdout",
     "output_type": "stream",
     "text": [
      "12.299339632110602\n"
     ]
    },
    {
     "name": "stderr",
     "output_type": "stream",
     "text": [
      "  4%|▍         | 10/250 [00:00<00:02, 97.06it/s, loss=12.123/12.005]"
     ]
    },
    {
     "name": "stdout",
     "output_type": "stream",
     "text": [
      "epoch:9\n"
     ]
    },
    {
     "name": "stderr",
     "output_type": "stream",
     "text": [
      "100%|██████████| 250/250 [00:02<00:00, 123.93it/s, loss=11.932/11.142]\n"
     ]
    },
    {
     "name": "stdout",
     "output_type": "stream",
     "text": [
      "11.932037286682132\n"
     ]
    },
    {
     "name": "stderr",
     "output_type": "stream",
     "text": [
      "  4%|▍         | 10/250 [00:00<00:02, 99.29it/s, loss=11.815/12.076]"
     ]
    },
    {
     "name": "stdout",
     "output_type": "stream",
     "text": [
      "epoch:10\n"
     ]
    },
    {
     "name": "stderr",
     "output_type": "stream",
     "text": [
      "100%|██████████| 250/250 [00:02<00:00, 122.17it/s, loss=11.588/11.073]"
     ]
    },
    {
     "name": "stdout",
     "output_type": "stream",
     "text": [
      "11.588364110717773\n"
     ]
    },
    {
     "name": "stderr",
     "output_type": "stream",
     "text": [
      "\n",
      "  4%|▍         | 11/250 [00:00<00:02, 108.25it/s, loss=11.378/10.928]"
     ]
    },
    {
     "name": "stdout",
     "output_type": "stream",
     "text": [
      "epoch:11\n"
     ]
    },
    {
     "name": "stderr",
     "output_type": "stream",
     "text": [
      "100%|██████████| 250/250 [00:02<00:00, 115.60it/s, loss=11.264/11.060]\n"
     ]
    },
    {
     "name": "stdout",
     "output_type": "stream",
     "text": [
      "11.264279318084705\n"
     ]
    },
    {
     "name": "stderr",
     "output_type": "stream",
     "text": [
      "  4%|▍         | 10/250 [00:00<00:02, 96.48it/s, loss=11.083/10.841]"
     ]
    },
    {
     "name": "stdout",
     "output_type": "stream",
     "text": [
      "epoch:12\n"
     ]
    },
    {
     "name": "stderr",
     "output_type": "stream",
     "text": [
      "100%|██████████| 250/250 [00:01<00:00, 125.75it/s, loss=10.962/10.264]"
     ]
    },
    {
     "name": "stdout",
     "output_type": "stream",
     "text": [
      "10.962209168014528\n"
     ]
    },
    {
     "name": "stderr",
     "output_type": "stream",
     "text": [
      "\n",
      "  4%|▍         | 11/250 [00:00<00:02, 107.82it/s, loss=10.718/10.597]"
     ]
    },
    {
     "name": "stdout",
     "output_type": "stream",
     "text": [
      "epoch:13\n"
     ]
    },
    {
     "name": "stderr",
     "output_type": "stream",
     "text": [
      "100%|██████████| 250/250 [00:01<00:00, 125.18it/s, loss=10.677/9.965]"
     ]
    },
    {
     "name": "stdout",
     "output_type": "stream",
     "text": [
      "10.677119106140138\n"
     ]
    },
    {
     "name": "stderr",
     "output_type": "stream",
     "text": [
      "\n",
      "  4%|▎         | 9/250 [00:00<00:02, 87.90it/s, loss=10.585/10.645]"
     ]
    },
    {
     "name": "stdout",
     "output_type": "stream",
     "text": [
      "epoch:14\n"
     ]
    },
    {
     "name": "stderr",
     "output_type": "stream",
     "text": [
      "100%|██████████| 250/250 [00:02<00:00, 122.04it/s, loss=10.407/10.308]"
     ]
    },
    {
     "name": "stdout",
     "output_type": "stream",
     "text": [
      "10.40736568916321\n"
     ]
    },
    {
     "name": "stderr",
     "output_type": "stream",
     "text": [
      "\n",
      "  4%|▎         | 9/250 [00:00<00:02, 89.07it/s, loss=10.320/10.254]"
     ]
    },
    {
     "name": "stdout",
     "output_type": "stream",
     "text": [
      "epoch:15\n"
     ]
    },
    {
     "name": "stderr",
     "output_type": "stream",
     "text": [
      "100%|██████████| 250/250 [00:02<00:00, 124.46it/s, loss=10.152/9.818]"
     ]
    },
    {
     "name": "stdout",
     "output_type": "stream",
     "text": [
      "10.152180160598757\n"
     ]
    },
    {
     "name": "stderr",
     "output_type": "stream",
     "text": [
      "\n",
      "  4%|▎         | 9/250 [00:00<00:02, 87.85it/s, loss=10.006/9.442] "
     ]
    },
    {
     "name": "stdout",
     "output_type": "stream",
     "text": [
      "epoch:16\n"
     ]
    },
    {
     "name": "stderr",
     "output_type": "stream",
     "text": [
      "100%|██████████| 250/250 [00:02<00:00, 119.21it/s, loss=9.912/9.854]"
     ]
    },
    {
     "name": "stdout",
     "output_type": "stream",
     "text": [
      "9.911775660705565\n"
     ]
    },
    {
     "name": "stderr",
     "output_type": "stream",
     "text": [
      "\n",
      "  4%|▍         | 11/250 [00:00<00:02, 105.42it/s, loss=9.819/9.695]"
     ]
    },
    {
     "name": "stdout",
     "output_type": "stream",
     "text": [
      "epoch:17\n"
     ]
    },
    {
     "name": "stderr",
     "output_type": "stream",
     "text": [
      "100%|██████████| 250/250 [00:02<00:00, 124.09it/s, loss=9.686/9.429]\n"
     ]
    },
    {
     "name": "stdout",
     "output_type": "stream",
     "text": [
      "9.686147310333261\n"
     ]
    },
    {
     "name": "stderr",
     "output_type": "stream",
     "text": [
      "  4%|▍         | 11/250 [00:00<00:02, 108.43it/s, loss=9.490/9.036]"
     ]
    },
    {
     "name": "stdout",
     "output_type": "stream",
     "text": [
      "epoch:18\n"
     ]
    },
    {
     "name": "stderr",
     "output_type": "stream",
     "text": [
      "100%|██████████| 250/250 [00:01<00:00, 125.74it/s, loss=9.471/9.548]"
     ]
    },
    {
     "name": "stdout",
     "output_type": "stream",
     "text": [
      "9.471020856246945\n"
     ]
    },
    {
     "name": "stderr",
     "output_type": "stream",
     "text": [
      "\n",
      "  4%|▍         | 11/250 [00:00<00:02, 107.80it/s, loss=9.376/9.722]"
     ]
    },
    {
     "name": "stdout",
     "output_type": "stream",
     "text": [
      "epoch:19\n"
     ]
    },
    {
     "name": "stderr",
     "output_type": "stream",
     "text": [
      "100%|██████████| 250/250 [00:02<00:00, 117.56it/s, loss=9.267/9.332]"
     ]
    },
    {
     "name": "stdout",
     "output_type": "stream",
     "text": [
      "9.267187007369992\n"
     ]
    },
    {
     "name": "stderr",
     "output_type": "stream",
     "text": [
      "\n",
      "  4%|▍         | 10/250 [00:00<00:02, 97.52it/s, loss=9.113/8.707]"
     ]
    },
    {
     "name": "stdout",
     "output_type": "stream",
     "text": [
      "epoch:20\n"
     ]
    },
    {
     "name": "stderr",
     "output_type": "stream",
     "text": [
      "100%|██████████| 250/250 [00:02<00:00, 124.58it/s, loss=9.074/9.159]"
     ]
    },
    {
     "name": "stdout",
     "output_type": "stream",
     "text": [
      "9.07420670124054\n"
     ]
    },
    {
     "name": "stderr",
     "output_type": "stream",
     "text": [
      "\n",
      "  4%|▍         | 10/250 [00:00<00:02, 98.77it/s, loss=8.999/9.593]"
     ]
    },
    {
     "name": "stdout",
     "output_type": "stream",
     "text": [
      "epoch:21\n"
     ]
    },
    {
     "name": "stderr",
     "output_type": "stream",
     "text": [
      "100%|██████████| 250/250 [00:01<00:00, 125.85it/s, loss=8.891/8.568]\n"
     ]
    },
    {
     "name": "stdout",
     "output_type": "stream",
     "text": [
      "8.890999304885868\n"
     ]
    },
    {
     "name": "stderr",
     "output_type": "stream",
     "text": [
      "  4%|▎         | 9/250 [00:00<00:02, 88.02it/s, loss=8.833/8.464]"
     ]
    },
    {
     "name": "stdout",
     "output_type": "stream",
     "text": [
      "epoch:22\n"
     ]
    },
    {
     "name": "stderr",
     "output_type": "stream",
     "text": [
      "100%|██████████| 250/250 [00:02<00:00, 122.33it/s, loss=8.719/8.996]\n"
     ]
    },
    {
     "name": "stdout",
     "output_type": "stream",
     "text": [
      "8.718575936126708\n"
     ]
    },
    {
     "name": "stderr",
     "output_type": "stream",
     "text": [
      "  4%|▍         | 10/250 [00:00<00:02, 97.46it/s, loss=8.664/8.993]"
     ]
    },
    {
     "name": "stdout",
     "output_type": "stream",
     "text": [
      "epoch:23\n"
     ]
    },
    {
     "name": "stderr",
     "output_type": "stream",
     "text": [
      "100%|██████████| 250/250 [00:02<00:00, 119.91it/s, loss=8.554/8.189]\n"
     ]
    },
    {
     "name": "stdout",
     "output_type": "stream",
     "text": [
      "8.55384531528473\n"
     ]
    },
    {
     "name": "stderr",
     "output_type": "stream",
     "text": [
      "  4%|▍         | 11/250 [00:00<00:02, 107.46it/s, loss=8.670/8.790]"
     ]
    },
    {
     "name": "stdout",
     "output_type": "stream",
     "text": [
      "epoch:24\n"
     ]
    },
    {
     "name": "stderr",
     "output_type": "stream",
     "text": [
      "100%|██████████| 250/250 [00:02<00:00, 122.15it/s, loss=8.397/8.337]\n"
     ]
    },
    {
     "name": "stdout",
     "output_type": "stream",
     "text": [
      "8.396745621376043\n"
     ]
    },
    {
     "name": "stderr",
     "output_type": "stream",
     "text": [
      "100%|██████████| 50/50 [00:00<00:00, 119.16it/s]"
     ]
    },
    {
     "name": "stdout",
     "output_type": "stream",
     "text": [
      "lr:0.01; reg:1; acc:0.35\n"
     ]
    },
    {
     "name": "stderr",
     "output_type": "stream",
     "text": [
      "\n",
      "  4%|▍         | 10/250 [00:00<00:02, 85.62it/s, loss=19.644/19.481]"
     ]
    },
    {
     "name": "stdout",
     "output_type": "stream",
     "text": [
      "epoch:0\n"
     ]
    },
    {
     "name": "stderr",
     "output_type": "stream",
     "text": [
      "100%|██████████| 250/250 [00:02<00:00, 121.84it/s, loss=17.969/16.801]"
     ]
    },
    {
     "name": "stdout",
     "output_type": "stream",
     "text": [
      "17.969020517578123\n"
     ]
    },
    {
     "name": "stderr",
     "output_type": "stream",
     "text": [
      "\n",
      "  5%|▍         | 12/250 [00:00<00:02, 118.74it/s, loss=16.873/16.700]"
     ]
    },
    {
     "name": "stdout",
     "output_type": "stream",
     "text": [
      "epoch:1\n"
     ]
    },
    {
     "name": "stderr",
     "output_type": "stream",
     "text": [
      "100%|██████████| 250/250 [00:01<00:00, 129.32it/s, loss=16.377/15.570]"
     ]
    },
    {
     "name": "stdout",
     "output_type": "stream",
     "text": [
      "16.377091684265135\n"
     ]
    },
    {
     "name": "stderr",
     "output_type": "stream",
     "text": [
      "\n",
      "  4%|▎         | 9/250 [00:00<00:02, 85.24it/s, loss=15.896/15.870]"
     ]
    },
    {
     "name": "stdout",
     "output_type": "stream",
     "text": [
      "epoch:2\n"
     ]
    },
    {
     "name": "stderr",
     "output_type": "stream",
     "text": [
      "100%|██████████| 250/250 [00:02<00:00, 121.99it/s, loss=15.439/14.289]\n"
     ]
    },
    {
     "name": "stdout",
     "output_type": "stream",
     "text": [
      "15.439497570953368\n"
     ]
    },
    {
     "name": "stderr",
     "output_type": "stream",
     "text": [
      "  4%|▍         | 10/250 [00:00<00:02, 98.39it/s, loss=15.102/14.895]"
     ]
    },
    {
     "name": "stdout",
     "output_type": "stream",
     "text": [
      "epoch:3\n"
     ]
    },
    {
     "name": "stderr",
     "output_type": "stream",
     "text": [
      "100%|██████████| 250/250 [00:01<00:00, 125.89it/s, loss=14.744/14.114]"
     ]
    },
    {
     "name": "stdout",
     "output_type": "stream",
     "text": [
      "14.744209224548337\n"
     ]
    },
    {
     "name": "stderr",
     "output_type": "stream",
     "text": [
      "\n",
      "  4%|▍         | 10/250 [00:00<00:02, 94.22it/s, loss=14.399/14.042]"
     ]
    },
    {
     "name": "stdout",
     "output_type": "stream",
     "text": [
      "epoch:4\n"
     ]
    },
    {
     "name": "stderr",
     "output_type": "stream",
     "text": [
      "100%|██████████| 250/250 [00:02<00:00, 127.99it/s, loss=14.160/14.170]\n"
     ]
    },
    {
     "name": "stdout",
     "output_type": "stream",
     "text": [
      "14.160371120529177\n"
     ]
    },
    {
     "name": "stderr",
     "output_type": "stream",
     "text": [
      "  4%|▍         | 10/250 [00:00<00:02, 96.87it/s, loss=13.837/13.768]"
     ]
    },
    {
     "name": "stdout",
     "output_type": "stream",
     "text": [
      "epoch:5\n"
     ]
    },
    {
     "name": "stderr",
     "output_type": "stream",
     "text": [
      "100%|██████████| 250/250 [00:02<00:00, 121.74it/s, loss=13.643/13.413]"
     ]
    },
    {
     "name": "stdout",
     "output_type": "stream",
     "text": [
      "13.643439978256223\n"
     ]
    },
    {
     "name": "stderr",
     "output_type": "stream",
     "text": [
      "\n",
      "  4%|▍         | 10/250 [00:00<00:02, 95.82it/s, loss=13.408/13.001]"
     ]
    },
    {
     "name": "stdout",
     "output_type": "stream",
     "text": [
      "epoch:6\n"
     ]
    },
    {
     "name": "stderr",
     "output_type": "stream",
     "text": [
      "100%|██████████| 250/250 [00:01<00:00, 126.54it/s, loss=13.176/12.886]"
     ]
    },
    {
     "name": "stdout",
     "output_type": "stream",
     "text": [
      "13.176308521728513\n"
     ]
    },
    {
     "name": "stderr",
     "output_type": "stream",
     "text": [
      "\n",
      "  4%|▍         | 10/250 [00:00<00:02, 96.69it/s, loss=13.035/12.776]"
     ]
    },
    {
     "name": "stdout",
     "output_type": "stream",
     "text": [
      "epoch:7\n"
     ]
    },
    {
     "name": "stderr",
     "output_type": "stream",
     "text": [
      "100%|██████████| 250/250 [00:02<00:00, 120.91it/s, loss=12.747/12.281]"
     ]
    },
    {
     "name": "stdout",
     "output_type": "stream",
     "text": [
      "12.74721038528442\n"
     ]
    },
    {
     "name": "stderr",
     "output_type": "stream",
     "text": [
      "\n",
      "  4%|▍         | 11/250 [00:00<00:02, 108.55it/s, loss=12.527/12.777]"
     ]
    },
    {
     "name": "stdout",
     "output_type": "stream",
     "text": [
      "epoch:8\n"
     ]
    },
    {
     "name": "stderr",
     "output_type": "stream",
     "text": [
      "100%|██████████| 250/250 [00:02<00:00, 124.65it/s, loss=12.349/12.204]"
     ]
    },
    {
     "name": "stdout",
     "output_type": "stream",
     "text": [
      "12.348974196624752\n"
     ]
    },
    {
     "name": "stderr",
     "output_type": "stream",
     "text": [
      "\n",
      "  4%|▍         | 11/250 [00:00<00:02, 105.74it/s, loss=12.121/12.077]"
     ]
    },
    {
     "name": "stdout",
     "output_type": "stream",
     "text": [
      "epoch:9\n"
     ]
    },
    {
     "name": "stderr",
     "output_type": "stream",
     "text": [
      "100%|██████████| 250/250 [00:01<00:00, 127.33it/s, loss=11.979/12.211]"
     ]
    },
    {
     "name": "stdout",
     "output_type": "stream",
     "text": [
      "11.979202127990714\n"
     ]
    },
    {
     "name": "stderr",
     "output_type": "stream",
     "text": [
      "\n",
      "  4%|▎         | 9/250 [00:00<00:02, 86.73it/s, loss=11.855/11.696]"
     ]
    },
    {
     "name": "stdout",
     "output_type": "stream",
     "text": [
      "epoch:10\n"
     ]
    },
    {
     "name": "stderr",
     "output_type": "stream",
     "text": [
      "100%|██████████| 250/250 [00:01<00:00, 125.35it/s, loss=11.632/11.460]\n"
     ]
    },
    {
     "name": "stdout",
     "output_type": "stream",
     "text": [
      "11.63214548751831\n"
     ]
    },
    {
     "name": "stderr",
     "output_type": "stream",
     "text": [
      "  4%|▍         | 10/250 [00:00<00:02, 96.61it/s, loss=11.533/11.678]"
     ]
    },
    {
     "name": "stdout",
     "output_type": "stream",
     "text": [
      "epoch:11\n"
     ]
    },
    {
     "name": "stderr",
     "output_type": "stream",
     "text": [
      "100%|██████████| 250/250 [00:02<00:00, 120.53it/s, loss=11.307/11.119]\n"
     ]
    },
    {
     "name": "stdout",
     "output_type": "stream",
     "text": [
      "11.307030237045288\n"
     ]
    },
    {
     "name": "stderr",
     "output_type": "stream",
     "text": [
      "  4%|▎         | 9/250 [00:00<00:02, 89.05it/s, loss=11.115/11.101]"
     ]
    },
    {
     "name": "stdout",
     "output_type": "stream",
     "text": [
      "epoch:12\n"
     ]
    },
    {
     "name": "stderr",
     "output_type": "stream",
     "text": [
      "100%|██████████| 250/250 [00:01<00:00, 132.81it/s, loss=11.002/11.101]"
     ]
    },
    {
     "name": "stdout",
     "output_type": "stream",
     "text": [
      "11.001533670196528\n"
     ]
    },
    {
     "name": "stderr",
     "output_type": "stream",
     "text": [
      "\n",
      "  4%|▎         | 9/250 [00:00<00:02, 89.03it/s, loss=10.900/10.879]"
     ]
    },
    {
     "name": "stdout",
     "output_type": "stream",
     "text": [
      "epoch:13\n"
     ]
    },
    {
     "name": "stderr",
     "output_type": "stream",
     "text": [
      "100%|██████████| 250/250 [00:02<00:00, 121.09it/s, loss=10.715/10.523]"
     ]
    },
    {
     "name": "stdout",
     "output_type": "stream",
     "text": [
      "10.71457227821351\n"
     ]
    },
    {
     "name": "stderr",
     "output_type": "stream",
     "text": [
      "\n",
      "  4%|▍         | 10/250 [00:00<00:02, 96.61it/s, loss=10.630/10.252]"
     ]
    },
    {
     "name": "stdout",
     "output_type": "stream",
     "text": [
      "epoch:14\n"
     ]
    },
    {
     "name": "stderr",
     "output_type": "stream",
     "text": [
      "100%|██████████| 250/250 [00:02<00:00, 124.07it/s, loss=10.442/10.351]\n"
     ]
    },
    {
     "name": "stdout",
     "output_type": "stream",
     "text": [
      "10.442303704071035\n"
     ]
    },
    {
     "name": "stderr",
     "output_type": "stream",
     "text": [
      "  4%|▎         | 9/250 [00:00<00:02, 89.36it/s, loss=10.242/10.240]"
     ]
    },
    {
     "name": "stdout",
     "output_type": "stream",
     "text": [
      "epoch:15\n"
     ]
    },
    {
     "name": "stderr",
     "output_type": "stream",
     "text": [
      "100%|██████████| 250/250 [00:02<00:00, 121.41it/s, loss=10.187/10.199]"
     ]
    },
    {
     "name": "stdout",
     "output_type": "stream",
     "text": [
      "10.18744029663086\n"
     ]
    },
    {
     "name": "stderr",
     "output_type": "stream",
     "text": [
      "\n",
      "  4%|▍         | 10/250 [00:00<00:02, 96.44it/s, loss=10.111/10.343]"
     ]
    },
    {
     "name": "stdout",
     "output_type": "stream",
     "text": [
      "epoch:16\n"
     ]
    },
    {
     "name": "stderr",
     "output_type": "stream",
     "text": [
      "100%|██████████| 250/250 [00:01<00:00, 125.81it/s, loss=9.944/9.997]"
     ]
    },
    {
     "name": "stdout",
     "output_type": "stream",
     "text": [
      "9.94431532180786\n"
     ]
    },
    {
     "name": "stderr",
     "output_type": "stream",
     "text": [
      "\n",
      "  4%|▍         | 10/250 [00:00<00:02, 96.37it/s, loss=9.745/9.650]"
     ]
    },
    {
     "name": "stdout",
     "output_type": "stream",
     "text": [
      "epoch:17\n"
     ]
    },
    {
     "name": "stderr",
     "output_type": "stream",
     "text": [
      "100%|██████████| 250/250 [00:02<00:00, 123.91it/s, loss=9.716/9.661]\n"
     ]
    },
    {
     "name": "stdout",
     "output_type": "stream",
     "text": [
      "9.715758679504392\n"
     ]
    },
    {
     "name": "stderr",
     "output_type": "stream",
     "text": [
      "  4%|▎         | 9/250 [00:00<00:02, 85.95it/s, loss=9.567/9.770]"
     ]
    },
    {
     "name": "stdout",
     "output_type": "stream",
     "text": [
      "epoch:18\n"
     ]
    },
    {
     "name": "stderr",
     "output_type": "stream",
     "text": [
      "100%|██████████| 250/250 [00:02<00:00, 120.07it/s, loss=9.499/9.556]"
     ]
    },
    {
     "name": "stdout",
     "output_type": "stream",
     "text": [
      "9.49941695266724\n"
     ]
    },
    {
     "name": "stderr",
     "output_type": "stream",
     "text": [
      "\n",
      "  4%|▍         | 10/250 [00:00<00:02, 99.72it/s, loss=9.302/9.030]"
     ]
    },
    {
     "name": "stdout",
     "output_type": "stream",
     "text": [
      "epoch:19\n"
     ]
    },
    {
     "name": "stderr",
     "output_type": "stream",
     "text": [
      "100%|██████████| 250/250 [00:02<00:00, 124.29it/s, loss=9.295/9.145]"
     ]
    },
    {
     "name": "stdout",
     "output_type": "stream",
     "text": [
      "9.294908153419486\n"
     ]
    },
    {
     "name": "stderr",
     "output_type": "stream",
     "text": [
      "\n",
      "  4%|▎         | 9/250 [00:00<00:02, 87.74it/s, loss=9.241/9.125]"
     ]
    },
    {
     "name": "stdout",
     "output_type": "stream",
     "text": [
      "epoch:20\n"
     ]
    },
    {
     "name": "stderr",
     "output_type": "stream",
     "text": [
      "100%|██████████| 250/250 [00:02<00:00, 118.68it/s, loss=9.100/9.518]"
     ]
    },
    {
     "name": "stdout",
     "output_type": "stream",
     "text": [
      "9.09957903896332\n"
     ]
    },
    {
     "name": "stderr",
     "output_type": "stream",
     "text": [
      "\n",
      "  4%|▎         | 9/250 [00:00<00:02, 89.87it/s, loss=8.921/8.912]"
     ]
    },
    {
     "name": "stdout",
     "output_type": "stream",
     "text": [
      "epoch:21\n"
     ]
    },
    {
     "name": "stderr",
     "output_type": "stream",
     "text": [
      "100%|██████████| 250/250 [00:02<00:00, 123.19it/s, loss=8.916/9.140]\n"
     ]
    },
    {
     "name": "stdout",
     "output_type": "stream",
     "text": [
      "8.916270267791747\n"
     ]
    },
    {
     "name": "stderr",
     "output_type": "stream",
     "text": [
      "  4%|▍         | 10/250 [00:00<00:02, 91.27it/s, loss=8.849/9.194]"
     ]
    },
    {
     "name": "stdout",
     "output_type": "stream",
     "text": [
      "epoch:22\n"
     ]
    },
    {
     "name": "stderr",
     "output_type": "stream",
     "text": [
      "100%|██████████| 250/250 [00:02<00:00, 122.42it/s, loss=8.742/9.105]\n"
     ]
    },
    {
     "name": "stdout",
     "output_type": "stream",
     "text": [
      "8.741738113861084\n"
     ]
    },
    {
     "name": "stderr",
     "output_type": "stream",
     "text": [
      "  4%|▍         | 11/250 [00:00<00:02, 106.59it/s, loss=8.637/8.619]"
     ]
    },
    {
     "name": "stdout",
     "output_type": "stream",
     "text": [
      "epoch:23\n"
     ]
    },
    {
     "name": "stderr",
     "output_type": "stream",
     "text": [
      "100%|██████████| 250/250 [00:02<00:00, 123.04it/s, loss=8.576/8.549]\n"
     ]
    },
    {
     "name": "stdout",
     "output_type": "stream",
     "text": [
      "8.576164241523744\n"
     ]
    },
    {
     "name": "stderr",
     "output_type": "stream",
     "text": [
      "  4%|▍         | 10/250 [00:00<00:02, 96.82it/s, loss=8.518/8.272]"
     ]
    },
    {
     "name": "stdout",
     "output_type": "stream",
     "text": [
      "epoch:24\n"
     ]
    },
    {
     "name": "stderr",
     "output_type": "stream",
     "text": [
      "100%|██████████| 250/250 [00:02<00:00, 124.48it/s, loss=8.418/8.312]\n"
     ]
    },
    {
     "name": "stdout",
     "output_type": "stream",
     "text": [
      "8.418285245666505\n"
     ]
    },
    {
     "name": "stderr",
     "output_type": "stream",
     "text": [
      "100%|██████████| 50/50 [00:00<00:00, 112.47it/s]"
     ]
    },
    {
     "name": "stdout",
     "output_type": "stream",
     "text": [
      "lr:0.01; reg:10; acc:0.3487\n"
     ]
    },
    {
     "name": "stderr",
     "output_type": "stream",
     "text": [
      "\n",
      "  4%|▎         | 9/250 [00:00<00:03, 77.26it/s, loss=19.302/19.268]"
     ]
    },
    {
     "name": "stdout",
     "output_type": "stream",
     "text": [
      "epoch:0\n"
     ]
    },
    {
     "name": "stderr",
     "output_type": "stream",
     "text": [
      "100%|██████████| 250/250 [00:02<00:00, 119.83it/s, loss=17.923/16.761]\n"
     ]
    },
    {
     "name": "stdout",
     "output_type": "stream",
     "text": [
      "17.9230865510559\n"
     ]
    },
    {
     "name": "stderr",
     "output_type": "stream",
     "text": [
      "  4%|▍         | 11/250 [00:00<00:02, 103.54it/s, loss=16.955/16.633]"
     ]
    },
    {
     "name": "stdout",
     "output_type": "stream",
     "text": [
      "epoch:1\n"
     ]
    },
    {
     "name": "stderr",
     "output_type": "stream",
     "text": [
      "100%|██████████| 250/250 [00:02<00:00, 120.77it/s, loss=16.266/15.695]"
     ]
    },
    {
     "name": "stdout",
     "output_type": "stream",
     "text": [
      "16.26553041168214\n"
     ]
    },
    {
     "name": "stderr",
     "output_type": "stream",
     "text": [
      "\n",
      "  4%|▎         | 9/250 [00:00<00:02, 84.98it/s, loss=15.698/15.638]"
     ]
    },
    {
     "name": "stdout",
     "output_type": "stream",
     "text": [
      "epoch:2\n"
     ]
    },
    {
     "name": "stderr",
     "output_type": "stream",
     "text": [
      "100%|██████████| 250/250 [00:02<00:00, 124.84it/s, loss=15.270/14.888]"
     ]
    },
    {
     "name": "stdout",
     "output_type": "stream",
     "text": [
      "15.26991767105103\n"
     ]
    },
    {
     "name": "stderr",
     "output_type": "stream",
     "text": [
      "\n",
      "  4%|▍         | 10/250 [00:00<00:02, 97.16it/s, loss=14.875/14.897]"
     ]
    },
    {
     "name": "stdout",
     "output_type": "stream",
     "text": [
      "epoch:3\n"
     ]
    },
    {
     "name": "stderr",
     "output_type": "stream",
     "text": [
      "100%|██████████| 250/250 [00:02<00:00, 121.12it/s, loss=14.561/14.336]"
     ]
    },
    {
     "name": "stdout",
     "output_type": "stream",
     "text": [
      "14.560876787719728\n"
     ]
    },
    {
     "name": "stderr",
     "output_type": "stream",
     "text": [
      "\n",
      "  5%|▍         | 12/250 [00:00<00:02, 114.49it/s, loss=14.302/13.822]"
     ]
    },
    {
     "name": "stdout",
     "output_type": "stream",
     "text": [
      "epoch:4\n"
     ]
    },
    {
     "name": "stderr",
     "output_type": "stream",
     "text": [
      "100%|██████████| 250/250 [00:02<00:00, 123.37it/s, loss=13.983/14.085]"
     ]
    },
    {
     "name": "stdout",
     "output_type": "stream",
     "text": [
      "13.983393429260252\n"
     ]
    },
    {
     "name": "stderr",
     "output_type": "stream",
     "text": [
      "\n",
      "  4%|▎         | 9/250 [00:00<00:02, 88.95it/s, loss=13.793/14.011]"
     ]
    },
    {
     "name": "stdout",
     "output_type": "stream",
     "text": [
      "epoch:5\n"
     ]
    },
    {
     "name": "stderr",
     "output_type": "stream",
     "text": [
      "100%|██████████| 250/250 [00:02<00:00, 119.59it/s, loss=13.476/12.644]"
     ]
    },
    {
     "name": "stdout",
     "output_type": "stream",
     "text": [
      "13.475838845596313\n"
     ]
    },
    {
     "name": "stderr",
     "output_type": "stream",
     "text": [
      "\n",
      "  4%|▍         | 10/250 [00:00<00:02, 97.71it/s, loss=13.312/12.845]"
     ]
    },
    {
     "name": "stdout",
     "output_type": "stream",
     "text": [
      "epoch:6\n"
     ]
    },
    {
     "name": "stderr",
     "output_type": "stream",
     "text": [
      "100%|██████████| 250/250 [00:02<00:00, 121.88it/s, loss=13.018/12.764]"
     ]
    },
    {
     "name": "stdout",
     "output_type": "stream",
     "text": [
      "13.01848428672791\n"
     ]
    },
    {
     "name": "stderr",
     "output_type": "stream",
     "text": [
      "\n",
      "  4%|▍         | 10/250 [00:00<00:02, 98.85it/s, loss=12.899/13.073]"
     ]
    },
    {
     "name": "stdout",
     "output_type": "stream",
     "text": [
      "epoch:7\n"
     ]
    },
    {
     "name": "stderr",
     "output_type": "stream",
     "text": [
      "100%|██████████| 250/250 [00:02<00:00, 123.17it/s, loss=12.600/12.540]"
     ]
    },
    {
     "name": "stdout",
     "output_type": "stream",
     "text": [
      "12.600032804183966\n"
     ]
    },
    {
     "name": "stderr",
     "output_type": "stream",
     "text": [
      "\n",
      "  4%|▍         | 11/250 [00:00<00:02, 108.53it/s, loss=12.229/11.619]"
     ]
    },
    {
     "name": "stdout",
     "output_type": "stream",
     "text": [
      "epoch:8\n"
     ]
    },
    {
     "name": "stderr",
     "output_type": "stream",
     "text": [
      "100%|██████████| 250/250 [00:01<00:00, 129.02it/s, loss=12.211/12.060]"
     ]
    },
    {
     "name": "stdout",
     "output_type": "stream",
     "text": [
      "12.210707184753415\n"
     ]
    },
    {
     "name": "stderr",
     "output_type": "stream",
     "text": [
      "\n",
      "  4%|▎         | 9/250 [00:00<00:02, 89.15it/s, loss=12.062/11.653]"
     ]
    },
    {
     "name": "stdout",
     "output_type": "stream",
     "text": [
      "epoch:9\n"
     ]
    },
    {
     "name": "stderr",
     "output_type": "stream",
     "text": [
      "100%|██████████| 250/250 [00:02<00:00, 118.54it/s, loss=11.849/11.391]\n"
     ]
    },
    {
     "name": "stdout",
     "output_type": "stream",
     "text": [
      "11.849416738967893\n"
     ]
    },
    {
     "name": "stderr",
     "output_type": "stream",
     "text": [
      "  4%|▎         | 9/250 [00:00<00:02, 89.84it/s, loss=11.661/11.352]"
     ]
    },
    {
     "name": "stdout",
     "output_type": "stream",
     "text": [
      "epoch:10\n"
     ]
    },
    {
     "name": "stderr",
     "output_type": "stream",
     "text": [
      "100%|██████████| 250/250 [00:02<00:00, 121.90it/s, loss=11.510/11.834]\n"
     ]
    },
    {
     "name": "stdout",
     "output_type": "stream",
     "text": [
      "11.510071171951296\n"
     ]
    },
    {
     "name": "stderr",
     "output_type": "stream",
     "text": [
      "  4%|▎         | 9/250 [00:00<00:02, 87.56it/s, loss=11.242/11.149]"
     ]
    },
    {
     "name": "stdout",
     "output_type": "stream",
     "text": [
      "epoch:11\n"
     ]
    },
    {
     "name": "stderr",
     "output_type": "stream",
     "text": [
      "100%|██████████| 250/250 [00:02<00:00, 123.05it/s, loss=11.192/10.933]"
     ]
    },
    {
     "name": "stdout",
     "output_type": "stream",
     "text": [
      "11.191961520156848\n"
     ]
    },
    {
     "name": "stderr",
     "output_type": "stream",
     "text": [
      "\n",
      "  4%|▍         | 11/250 [00:00<00:02, 103.76it/s, loss=11.112/10.635]"
     ]
    },
    {
     "name": "stdout",
     "output_type": "stream",
     "text": [
      "epoch:12\n"
     ]
    },
    {
     "name": "stderr",
     "output_type": "stream",
     "text": [
      "100%|██████████| 250/250 [00:01<00:00, 127.51it/s, loss=10.893/10.760]"
     ]
    },
    {
     "name": "stdout",
     "output_type": "stream",
     "text": [
      "10.89263427009582\n"
     ]
    },
    {
     "name": "stderr",
     "output_type": "stream",
     "text": [
      "\n",
      "  4%|▍         | 11/250 [00:00<00:02, 105.09it/s, loss=10.730/10.923]"
     ]
    },
    {
     "name": "stdout",
     "output_type": "stream",
     "text": [
      "epoch:13\n"
     ]
    },
    {
     "name": "stderr",
     "output_type": "stream",
     "text": [
      "100%|██████████| 250/250 [00:02<00:00, 120.36it/s, loss=10.611/10.633]"
     ]
    },
    {
     "name": "stdout",
     "output_type": "stream",
     "text": [
      "10.611241938858035\n"
     ]
    },
    {
     "name": "stderr",
     "output_type": "stream",
     "text": [
      "\n",
      "  4%|▍         | 10/250 [00:00<00:02, 99.36it/s, loss=10.394/10.013]"
     ]
    },
    {
     "name": "stdout",
     "output_type": "stream",
     "text": [
      "epoch:14\n"
     ]
    },
    {
     "name": "stderr",
     "output_type": "stream",
     "text": [
      "100%|██████████| 250/250 [00:02<00:00, 122.96it/s, loss=10.345/9.885]\n"
     ]
    },
    {
     "name": "stdout",
     "output_type": "stream",
     "text": [
      "10.345049800415048\n"
     ]
    },
    {
     "name": "stderr",
     "output_type": "stream",
     "text": [
      "  4%|▍         | 10/250 [00:00<00:02, 96.45it/s, loss=10.291/10.523]"
     ]
    },
    {
     "name": "stdout",
     "output_type": "stream",
     "text": [
      "epoch:15\n"
     ]
    },
    {
     "name": "stderr",
     "output_type": "stream",
     "text": [
      "100%|██████████| 250/250 [00:01<00:00, 126.68it/s, loss=10.093/10.497]\n"
     ]
    },
    {
     "name": "stdout",
     "output_type": "stream",
     "text": [
      "10.09336397888183\n"
     ]
    },
    {
     "name": "stderr",
     "output_type": "stream",
     "text": [
      "  4%|▍         | 11/250 [00:00<00:02, 104.98it/s, loss=10.012/9.880] "
     ]
    },
    {
     "name": "stdout",
     "output_type": "stream",
     "text": [
      "epoch:16\n"
     ]
    },
    {
     "name": "stderr",
     "output_type": "stream",
     "text": [
      "100%|██████████| 250/250 [00:01<00:00, 126.04it/s, loss=9.857/10.084]"
     ]
    },
    {
     "name": "stdout",
     "output_type": "stream",
     "text": [
      "9.856569747695923\n"
     ]
    },
    {
     "name": "stderr",
     "output_type": "stream",
     "text": [
      "\n",
      "  2%|▏         | 5/250 [00:00<00:04, 49.49it/s, loss=9.785/9.889]"
     ]
    },
    {
     "name": "stdout",
     "output_type": "stream",
     "text": [
      "epoch:17\n"
     ]
    },
    {
     "name": "stderr",
     "output_type": "stream",
     "text": [
      "100%|██████████| 250/250 [00:02<00:00, 122.06it/s, loss=9.631/9.345]"
     ]
    },
    {
     "name": "stdout",
     "output_type": "stream",
     "text": [
      "9.630577645111076\n"
     ]
    },
    {
     "name": "stderr",
     "output_type": "stream",
     "text": [
      "\n",
      "  5%|▍         | 12/250 [00:00<00:02, 115.90it/s, loss=9.492/9.859]"
     ]
    },
    {
     "name": "stdout",
     "output_type": "stream",
     "text": [
      "epoch:18\n"
     ]
    },
    {
     "name": "stderr",
     "output_type": "stream",
     "text": [
      "100%|██████████| 250/250 [00:02<00:00, 121.46it/s, loss=9.418/9.419]"
     ]
    },
    {
     "name": "stdout",
     "output_type": "stream",
     "text": [
      "9.418150564422604\n"
     ]
    },
    {
     "name": "stderr",
     "output_type": "stream",
     "text": [
      "\n",
      "  4%|▍         | 10/250 [00:00<00:02, 95.19it/s, loss=9.308/9.041]"
     ]
    },
    {
     "name": "stdout",
     "output_type": "stream",
     "text": [
      "epoch:19\n"
     ]
    },
    {
     "name": "stderr",
     "output_type": "stream",
     "text": [
      "100%|██████████| 250/250 [00:02<00:00, 124.91it/s, loss=9.218/8.928]\n"
     ]
    },
    {
     "name": "stdout",
     "output_type": "stream",
     "text": [
      "9.218057455062864\n"
     ]
    },
    {
     "name": "stderr",
     "output_type": "stream",
     "text": [
      "  5%|▍         | 12/250 [00:00<00:02, 116.57it/s, loss=9.178/9.533]"
     ]
    },
    {
     "name": "stdout",
     "output_type": "stream",
     "text": [
      "epoch:20\n"
     ]
    },
    {
     "name": "stderr",
     "output_type": "stream",
     "text": [
      "100%|██████████| 250/250 [00:01<00:00, 129.54it/s, loss=9.027/9.196]"
     ]
    },
    {
     "name": "stdout",
     "output_type": "stream",
     "text": [
      "9.02686303646087\n"
     ]
    },
    {
     "name": "stderr",
     "output_type": "stream",
     "text": [
      "\n",
      "  4%|▎         | 9/250 [00:00<00:02, 83.84it/s, loss=8.884/8.916]"
     ]
    },
    {
     "name": "stdout",
     "output_type": "stream",
     "text": [
      "epoch:21\n"
     ]
    },
    {
     "name": "stderr",
     "output_type": "stream",
     "text": [
      "100%|██████████| 250/250 [00:01<00:00, 126.73it/s, loss=8.844/8.819]\n"
     ]
    },
    {
     "name": "stdout",
     "output_type": "stream",
     "text": [
      "8.844129444732669\n"
     ]
    },
    {
     "name": "stderr",
     "output_type": "stream",
     "text": [
      "  4%|▎         | 9/250 [00:00<00:02, 85.91it/s, loss=8.888/8.930]"
     ]
    },
    {
     "name": "stdout",
     "output_type": "stream",
     "text": [
      "epoch:22\n"
     ]
    },
    {
     "name": "stderr",
     "output_type": "stream",
     "text": [
      "100%|██████████| 250/250 [00:02<00:00, 123.89it/s, loss=8.675/8.219]"
     ]
    },
    {
     "name": "stdout",
     "output_type": "stream",
     "text": [
      "8.674747849121092\n"
     ]
    },
    {
     "name": "stderr",
     "output_type": "stream",
     "text": [
      "\n",
      "  4%|▍         | 10/250 [00:00<00:02, 98.19it/s, loss=8.694/8.937]"
     ]
    },
    {
     "name": "stdout",
     "output_type": "stream",
     "text": [
      "epoch:23\n"
     ]
    },
    {
     "name": "stderr",
     "output_type": "stream",
     "text": [
      "100%|██████████| 250/250 [00:02<00:00, 126.29it/s, loss=8.512/8.383]"
     ]
    },
    {
     "name": "stdout",
     "output_type": "stream",
     "text": [
      "8.511701023139956\n"
     ]
    },
    {
     "name": "stderr",
     "output_type": "stream",
     "text": [
      "\n",
      "  4%|▎         | 9/250 [00:00<00:02, 87.11it/s, loss=8.439/8.794]"
     ]
    },
    {
     "name": "stdout",
     "output_type": "stream",
     "text": [
      "epoch:24\n"
     ]
    },
    {
     "name": "stderr",
     "output_type": "stream",
     "text": [
      "100%|██████████| 250/250 [00:02<00:00, 120.65it/s, loss=8.358/8.555]\n"
     ]
    },
    {
     "name": "stdout",
     "output_type": "stream",
     "text": [
      "8.357806935462953\n"
     ]
    },
    {
     "name": "stderr",
     "output_type": "stream",
     "text": [
      "100%|██████████| 50/50 [00:00<00:00, 115.40it/s]"
     ]
    },
    {
     "name": "stdout",
     "output_type": "stream",
     "text": [
      "lr:0.01; reg:100; acc:0.3522\n"
     ]
    },
    {
     "name": "stderr",
     "output_type": "stream",
     "text": [
      "\n",
      "  4%|▎         | 9/250 [00:00<00:02, 84.99it/s, loss=19.236/18.851]"
     ]
    },
    {
     "name": "stdout",
     "output_type": "stream",
     "text": [
      "epoch:0\n"
     ]
    },
    {
     "name": "stderr",
     "output_type": "stream",
     "text": [
      "100%|██████████| 250/250 [00:01<00:00, 125.20it/s, loss=17.468/16.591]"
     ]
    },
    {
     "name": "stdout",
     "output_type": "stream",
     "text": [
      "17.468252722473146\n"
     ]
    },
    {
     "name": "stderr",
     "output_type": "stream",
     "text": [
      "\n",
      "  4%|▍         | 10/250 [00:00<00:02, 96.71it/s, loss=16.500/16.337]"
     ]
    },
    {
     "name": "stdout",
     "output_type": "stream",
     "text": [
      "epoch:1\n"
     ]
    },
    {
     "name": "stderr",
     "output_type": "stream",
     "text": [
      "100%|██████████| 250/250 [00:01<00:00, 126.10it/s, loss=16.083/15.550]\n"
     ]
    },
    {
     "name": "stdout",
     "output_type": "stream",
     "text": [
      "16.083373804321287\n"
     ]
    },
    {
     "name": "stderr",
     "output_type": "stream",
     "text": [
      "  4%|▎         | 9/250 [00:00<00:02, 87.45it/s, loss=15.639/15.621]"
     ]
    },
    {
     "name": "stdout",
     "output_type": "stream",
     "text": [
      "epoch:2\n"
     ]
    },
    {
     "name": "stderr",
     "output_type": "stream",
     "text": [
      "100%|██████████| 250/250 [00:02<00:00, 123.63it/s, loss=15.239/15.074]"
     ]
    },
    {
     "name": "stdout",
     "output_type": "stream",
     "text": [
      "15.239159704742429\n"
     ]
    },
    {
     "name": "stderr",
     "output_type": "stream",
     "text": [
      "\n",
      "  4%|▍         | 10/250 [00:00<00:02, 96.66it/s, loss=14.844/14.681]"
     ]
    },
    {
     "name": "stdout",
     "output_type": "stream",
     "text": [
      "epoch:3\n"
     ]
    },
    {
     "name": "stderr",
     "output_type": "stream",
     "text": [
      "100%|██████████| 250/250 [00:02<00:00, 122.76it/s, loss=14.578/13.791]"
     ]
    },
    {
     "name": "stdout",
     "output_type": "stream",
     "text": [
      "14.577643055725096\n"
     ]
    },
    {
     "name": "stderr",
     "output_type": "stream",
     "text": [
      "\n",
      "  4%|▍         | 10/250 [00:00<00:02, 97.81it/s, loss=14.250/14.285]"
     ]
    },
    {
     "name": "stdout",
     "output_type": "stream",
     "text": [
      "epoch:4\n"
     ]
    },
    {
     "name": "stderr",
     "output_type": "stream",
     "text": [
      "100%|██████████| 250/250 [00:01<00:00, 127.44it/s, loss=14.015/13.621]\n"
     ]
    },
    {
     "name": "stdout",
     "output_type": "stream",
     "text": [
      "14.015341282730104\n"
     ]
    },
    {
     "name": "stderr",
     "output_type": "stream",
     "text": [
      "  4%|▍         | 10/250 [00:00<00:02, 94.54it/s, loss=13.735/13.505]"
     ]
    },
    {
     "name": "stdout",
     "output_type": "stream",
     "text": [
      "epoch:5\n"
     ]
    },
    {
     "name": "stderr",
     "output_type": "stream",
     "text": [
      "100%|██████████| 250/250 [00:01<00:00, 126.39it/s, loss=13.515/14.041]\n"
     ]
    },
    {
     "name": "stdout",
     "output_type": "stream",
     "text": [
      "13.514606290130615\n"
     ]
    },
    {
     "name": "stderr",
     "output_type": "stream",
     "text": [
      "  4%|▍         | 11/250 [00:00<00:02, 105.09it/s, loss=13.236/13.397]"
     ]
    },
    {
     "name": "stdout",
     "output_type": "stream",
     "text": [
      "epoch:6\n"
     ]
    },
    {
     "name": "stderr",
     "output_type": "stream",
     "text": [
      "100%|██████████| 250/250 [00:02<00:00, 123.64it/s, loss=13.058/12.444]"
     ]
    },
    {
     "name": "stdout",
     "output_type": "stream",
     "text": [
      "13.058060020141607\n"
     ]
    },
    {
     "name": "stderr",
     "output_type": "stream",
     "text": [
      "\n",
      "  4%|▍         | 11/250 [00:00<00:02, 109.25it/s, loss=12.855/13.048]"
     ]
    },
    {
     "name": "stdout",
     "output_type": "stream",
     "text": [
      "epoch:7\n"
     ]
    },
    {
     "name": "stderr",
     "output_type": "stream",
     "text": [
      "100%|██████████| 250/250 [00:02<00:00, 125.94it/s, loss=12.638/12.182]"
     ]
    },
    {
     "name": "stdout",
     "output_type": "stream",
     "text": [
      "12.638117534713752\n"
     ]
    },
    {
     "name": "stderr",
     "output_type": "stream",
     "text": [
      "\n",
      "  5%|▍         | 12/250 [00:00<00:02, 114.44it/s, loss=12.476/12.318]"
     ]
    },
    {
     "name": "stdout",
     "output_type": "stream",
     "text": [
      "epoch:8\n"
     ]
    },
    {
     "name": "stderr",
     "output_type": "stream",
     "text": [
      "100%|██████████| 250/250 [00:01<00:00, 127.22it/s, loss=12.248/11.980]"
     ]
    },
    {
     "name": "stdout",
     "output_type": "stream",
     "text": [
      "12.247604243240362\n"
     ]
    },
    {
     "name": "stderr",
     "output_type": "stream",
     "text": [
      "\n",
      "  4%|▍         | 11/250 [00:00<00:02, 102.91it/s, loss=12.055/11.969]"
     ]
    },
    {
     "name": "stdout",
     "output_type": "stream",
     "text": [
      "epoch:9\n"
     ]
    },
    {
     "name": "stderr",
     "output_type": "stream",
     "text": [
      "100%|██████████| 250/250 [00:02<00:00, 120.61it/s, loss=11.885/11.468]"
     ]
    },
    {
     "name": "stdout",
     "output_type": "stream",
     "text": [
      "11.885130422210695\n"
     ]
    },
    {
     "name": "stderr",
     "output_type": "stream",
     "text": [
      "\n",
      "  4%|▍         | 10/250 [00:00<00:02, 96.57it/s, loss=11.657/11.919]"
     ]
    },
    {
     "name": "stdout",
     "output_type": "stream",
     "text": [
      "epoch:10\n"
     ]
    },
    {
     "name": "stderr",
     "output_type": "stream",
     "text": [
      "100%|██████████| 250/250 [00:01<00:00, 125.42it/s, loss=11.544/11.411]"
     ]
    },
    {
     "name": "stdout",
     "output_type": "stream",
     "text": [
      "11.543612541275026\n"
     ]
    },
    {
     "name": "stderr",
     "output_type": "stream",
     "text": [
      "\n",
      "  4%|▎         | 9/250 [00:00<00:02, 88.69it/s, loss=11.282/11.029]"
     ]
    },
    {
     "name": "stdout",
     "output_type": "stream",
     "text": [
      "epoch:11\n"
     ]
    },
    {
     "name": "stderr",
     "output_type": "stream",
     "text": [
      "100%|██████████| 250/250 [00:02<00:00, 121.20it/s, loss=11.224/11.546]\n"
     ]
    },
    {
     "name": "stdout",
     "output_type": "stream",
     "text": [
      "11.22448576576233\n"
     ]
    },
    {
     "name": "stderr",
     "output_type": "stream",
     "text": [
      "  4%|▎         | 9/250 [00:00<00:02, 88.08it/s, loss=11.008/10.582]"
     ]
    },
    {
     "name": "stdout",
     "output_type": "stream",
     "text": [
      "epoch:12\n"
     ]
    },
    {
     "name": "stderr",
     "output_type": "stream",
     "text": [
      "100%|██████████| 250/250 [00:02<00:00, 121.41it/s, loss=10.925/10.292]\n"
     ]
    },
    {
     "name": "stdout",
     "output_type": "stream",
     "text": [
      "10.925404503478996\n"
     ]
    },
    {
     "name": "stderr",
     "output_type": "stream",
     "text": [
      "  4%|▍         | 10/250 [00:00<00:02, 97.54it/s, loss=10.873/11.459]"
     ]
    },
    {
     "name": "stdout",
     "output_type": "stream",
     "text": [
      "epoch:13\n"
     ]
    },
    {
     "name": "stderr",
     "output_type": "stream",
     "text": [
      "100%|██████████| 250/250 [00:01<00:00, 125.14it/s, loss=10.641/10.268]\n"
     ]
    },
    {
     "name": "stdout",
     "output_type": "stream",
     "text": [
      "10.641123804855342\n"
     ]
    },
    {
     "name": "stderr",
     "output_type": "stream",
     "text": [
      "  4%|▍         | 10/250 [00:00<00:02, 96.74it/s, loss=10.448/10.863]"
     ]
    },
    {
     "name": "stdout",
     "output_type": "stream",
     "text": [
      "epoch:14\n"
     ]
    },
    {
     "name": "stderr",
     "output_type": "stream",
     "text": [
      "100%|██████████| 250/250 [00:01<00:00, 126.37it/s, loss=10.373/10.602]"
     ]
    },
    {
     "name": "stdout",
     "output_type": "stream",
     "text": [
      "10.373445298538208\n"
     ]
    },
    {
     "name": "stderr",
     "output_type": "stream",
     "text": [
      "\n",
      "  4%|▎         | 9/250 [00:00<00:02, 85.44it/s, loss=10.282/10.354]"
     ]
    },
    {
     "name": "stdout",
     "output_type": "stream",
     "text": [
      "epoch:15\n"
     ]
    },
    {
     "name": "stderr",
     "output_type": "stream",
     "text": [
      "100%|██████████| 250/250 [00:02<00:00, 123.08it/s, loss=10.122/10.390]"
     ]
    },
    {
     "name": "stdout",
     "output_type": "stream",
     "text": [
      "10.12238635894775\n"
     ]
    },
    {
     "name": "stderr",
     "output_type": "stream",
     "text": [
      "\n",
      "  4%|▍         | 11/250 [00:00<00:02, 108.42it/s, loss=10.022/10.226]"
     ]
    },
    {
     "name": "stdout",
     "output_type": "stream",
     "text": [
      "epoch:16\n"
     ]
    },
    {
     "name": "stderr",
     "output_type": "stream",
     "text": [
      "100%|██████████| 250/250 [00:02<00:00, 118.69it/s, loss=9.884/10.016]"
     ]
    },
    {
     "name": "stdout",
     "output_type": "stream",
     "text": [
      "9.88352467338562\n"
     ]
    },
    {
     "name": "stderr",
     "output_type": "stream",
     "text": [
      "\n",
      "  4%|▎         | 9/250 [00:00<00:02, 87.30it/s, loss=9.768/10.001]"
     ]
    },
    {
     "name": "stdout",
     "output_type": "stream",
     "text": [
      "epoch:17\n"
     ]
    },
    {
     "name": "stderr",
     "output_type": "stream",
     "text": [
      "100%|██████████| 250/250 [00:02<00:00, 118.63it/s, loss=9.658/9.824]"
     ]
    },
    {
     "name": "stdout",
     "output_type": "stream",
     "text": [
      "9.65782411117553\n"
     ]
    },
    {
     "name": "stderr",
     "output_type": "stream",
     "text": [
      "\n",
      "  4%|▍         | 11/250 [00:00<00:02, 109.10it/s, loss=9.438/9.021]"
     ]
    },
    {
     "name": "stdout",
     "output_type": "stream",
     "text": [
      "epoch:18\n"
     ]
    },
    {
     "name": "stderr",
     "output_type": "stream",
     "text": [
      "100%|██████████| 250/250 [00:02<00:00, 123.91it/s, loss=9.444/9.556]"
     ]
    },
    {
     "name": "stdout",
     "output_type": "stream",
     "text": [
      "9.443991833953858\n"
     ]
    },
    {
     "name": "stderr",
     "output_type": "stream",
     "text": [
      "\n",
      "  4%|▍         | 11/250 [00:00<00:02, 109.14it/s, loss=9.333/9.178]"
     ]
    },
    {
     "name": "stdout",
     "output_type": "stream",
     "text": [
      "epoch:19\n"
     ]
    },
    {
     "name": "stderr",
     "output_type": "stream",
     "text": [
      "100%|██████████| 250/250 [00:02<00:00, 121.90it/s, loss=9.243/9.073]"
     ]
    },
    {
     "name": "stdout",
     "output_type": "stream",
     "text": [
      "9.242528081741336\n"
     ]
    },
    {
     "name": "stderr",
     "output_type": "stream",
     "text": [
      "\n",
      "  5%|▍         | 12/250 [00:00<00:02, 116.64it/s, loss=9.116/9.115]"
     ]
    },
    {
     "name": "stdout",
     "output_type": "stream",
     "text": [
      "epoch:20\n"
     ]
    },
    {
     "name": "stderr",
     "output_type": "stream",
     "text": [
      "100%|██████████| 250/250 [00:01<00:00, 127.31it/s, loss=9.050/8.620]"
     ]
    },
    {
     "name": "stdout",
     "output_type": "stream",
     "text": [
      "9.049820881271362\n"
     ]
    },
    {
     "name": "stderr",
     "output_type": "stream",
     "text": [
      "\n",
      "  4%|▍         | 11/250 [00:00<00:02, 104.55it/s, loss=8.982/8.931]"
     ]
    },
    {
     "name": "stdout",
     "output_type": "stream",
     "text": [
      "epoch:21\n"
     ]
    },
    {
     "name": "stderr",
     "output_type": "stream",
     "text": [
      "100%|██████████| 250/250 [00:02<00:00, 123.67it/s, loss=8.869/8.055]"
     ]
    },
    {
     "name": "stdout",
     "output_type": "stream",
     "text": [
      "8.869377263755792\n"
     ]
    },
    {
     "name": "stderr",
     "output_type": "stream",
     "text": [
      "\n",
      "  4%|▎         | 9/250 [00:00<00:02, 84.33it/s, loss=8.673/8.389]"
     ]
    },
    {
     "name": "stdout",
     "output_type": "stream",
     "text": [
      "epoch:22\n"
     ]
    },
    {
     "name": "stderr",
     "output_type": "stream",
     "text": [
      "100%|██████████| 250/250 [00:01<00:00, 126.07it/s, loss=8.696/8.521]"
     ]
    },
    {
     "name": "stdout",
     "output_type": "stream",
     "text": [
      "8.69579874507904\n"
     ]
    },
    {
     "name": "stderr",
     "output_type": "stream",
     "text": [
      "\n",
      "  4%|▎         | 9/250 [00:00<00:02, 83.70it/s, loss=8.700/8.785]"
     ]
    },
    {
     "name": "stdout",
     "output_type": "stream",
     "text": [
      "epoch:23\n"
     ]
    },
    {
     "name": "stderr",
     "output_type": "stream",
     "text": [
      "100%|██████████| 250/250 [00:01<00:00, 127.60it/s, loss=8.533/8.338]\n"
     ]
    },
    {
     "name": "stdout",
     "output_type": "stream",
     "text": [
      "8.532903923301694\n"
     ]
    },
    {
     "name": "stderr",
     "output_type": "stream",
     "text": [
      "  4%|▎         | 9/250 [00:00<00:02, 88.37it/s, loss=8.589/8.596]"
     ]
    },
    {
     "name": "stdout",
     "output_type": "stream",
     "text": [
      "epoch:24\n"
     ]
    },
    {
     "name": "stderr",
     "output_type": "stream",
     "text": [
      "100%|██████████| 250/250 [00:01<00:00, 127.47it/s, loss=8.378/8.445]\n"
     ]
    },
    {
     "name": "stdout",
     "output_type": "stream",
     "text": [
      "8.37849558074951\n"
     ]
    },
    {
     "name": "stderr",
     "output_type": "stream",
     "text": [
      "100%|██████████| 50/50 [00:00<00:00, 129.35it/s]"
     ]
    },
    {
     "name": "stdout",
     "output_type": "stream",
     "text": [
      "lr:0.01; reg:1000; acc:0.3475\n"
     ]
    },
    {
     "name": "stderr",
     "output_type": "stream",
     "text": [
      "\n",
      "  4%|▎         | 9/250 [00:00<00:02, 88.71it/s, loss=19.567/19.562]"
     ]
    },
    {
     "name": "stdout",
     "output_type": "stream",
     "text": [
      "epoch:0\n"
     ]
    },
    {
     "name": "stderr",
     "output_type": "stream",
     "text": [
      "100%|██████████| 250/250 [00:02<00:00, 124.07it/s, loss=18.065/17.181]"
     ]
    },
    {
     "name": "stdout",
     "output_type": "stream",
     "text": [
      "18.065440831756597\n"
     ]
    },
    {
     "name": "stderr",
     "output_type": "stream",
     "text": [
      "\n",
      "  5%|▍         | 12/250 [00:00<00:02, 117.21it/s, loss=17.088/17.040]"
     ]
    },
    {
     "name": "stdout",
     "output_type": "stream",
     "text": [
      "epoch:1\n"
     ]
    },
    {
     "name": "stderr",
     "output_type": "stream",
     "text": [
      "100%|██████████| 250/250 [00:02<00:00, 120.51it/s, loss=16.425/15.664]"
     ]
    },
    {
     "name": "stdout",
     "output_type": "stream",
     "text": [
      "16.42518378341675\n"
     ]
    },
    {
     "name": "stderr",
     "output_type": "stream",
     "text": [
      "\n",
      "  4%|▎         | 9/250 [00:00<00:03, 76.56it/s, loss=15.864/15.898]"
     ]
    },
    {
     "name": "stdout",
     "output_type": "stream",
     "text": [
      "epoch:2\n"
     ]
    },
    {
     "name": "stderr",
     "output_type": "stream",
     "text": [
      "100%|██████████| 250/250 [00:02<00:00, 121.87it/s, loss=15.456/15.496]\n"
     ]
    },
    {
     "name": "stdout",
     "output_type": "stream",
     "text": [
      "15.456286075592045\n"
     ]
    },
    {
     "name": "stderr",
     "output_type": "stream",
     "text": [
      "  4%|▍         | 10/250 [00:00<00:02, 98.29it/s, loss=15.029/14.582]"
     ]
    },
    {
     "name": "stdout",
     "output_type": "stream",
     "text": [
      "epoch:3\n"
     ]
    },
    {
     "name": "stderr",
     "output_type": "stream",
     "text": [
      "100%|██████████| 250/250 [00:02<00:00, 124.08it/s, loss=14.752/14.521]\n"
     ]
    },
    {
     "name": "stdout",
     "output_type": "stream",
     "text": [
      "14.752382411041259\n"
     ]
    },
    {
     "name": "stderr",
     "output_type": "stream",
     "text": [
      "  4%|▍         | 11/250 [00:00<00:02, 107.73it/s, loss=14.549/14.482]"
     ]
    },
    {
     "name": "stdout",
     "output_type": "stream",
     "text": [
      "epoch:4\n"
     ]
    },
    {
     "name": "stderr",
     "output_type": "stream",
     "text": [
      "100%|██████████| 250/250 [00:02<00:00, 123.82it/s, loss=14.165/13.835]"
     ]
    },
    {
     "name": "stdout",
     "output_type": "stream",
     "text": [
      "14.164590626068115\n"
     ]
    },
    {
     "name": "stderr",
     "output_type": "stream",
     "text": [
      "\n",
      "  4%|▎         | 9/250 [00:00<00:02, 88.69it/s, loss=13.920/13.515]"
     ]
    },
    {
     "name": "stdout",
     "output_type": "stream",
     "text": [
      "epoch:5\n"
     ]
    },
    {
     "name": "stderr",
     "output_type": "stream",
     "text": [
      "100%|██████████| 250/250 [00:01<00:00, 126.83it/s, loss=13.646/13.564]"
     ]
    },
    {
     "name": "stdout",
     "output_type": "stream",
     "text": [
      "13.646297334213262\n"
     ]
    },
    {
     "name": "stderr",
     "output_type": "stream",
     "text": [
      "\n",
      "  4%|▍         | 10/250 [00:00<00:02, 97.98it/s, loss=13.436/13.498]"
     ]
    },
    {
     "name": "stdout",
     "output_type": "stream",
     "text": [
      "epoch:6\n"
     ]
    },
    {
     "name": "stderr",
     "output_type": "stream",
     "text": [
      "100%|██████████| 250/250 [00:02<00:00, 124.20it/s, loss=13.179/13.036]\n"
     ]
    },
    {
     "name": "stdout",
     "output_type": "stream",
     "text": [
      "13.178773640670775\n"
     ]
    },
    {
     "name": "stderr",
     "output_type": "stream",
     "text": [
      "  4%|▍         | 10/250 [00:00<00:02, 100.00it/s, loss=12.999/12.613]"
     ]
    },
    {
     "name": "stdout",
     "output_type": "stream",
     "text": [
      "epoch:7\n"
     ]
    },
    {
     "name": "stderr",
     "output_type": "stream",
     "text": [
      "100%|██████████| 250/250 [00:01<00:00, 128.52it/s, loss=12.750/12.648]"
     ]
    },
    {
     "name": "stdout",
     "output_type": "stream",
     "text": [
      "12.749676422195439\n"
     ]
    },
    {
     "name": "stderr",
     "output_type": "stream",
     "text": [
      "\n",
      "  4%|▍         | 11/250 [00:00<00:02, 102.10it/s, loss=12.429/12.402]"
     ]
    },
    {
     "name": "stdout",
     "output_type": "stream",
     "text": [
      "epoch:8\n"
     ]
    },
    {
     "name": "stderr",
     "output_type": "stream",
     "text": [
      "100%|██████████| 250/250 [00:02<00:00, 122.07it/s, loss=12.351/12.496]"
     ]
    },
    {
     "name": "stdout",
     "output_type": "stream",
     "text": [
      "12.350718756408687\n"
     ]
    },
    {
     "name": "stderr",
     "output_type": "stream",
     "text": [
      "\n",
      "  4%|▍         | 10/250 [00:00<00:02, 99.80it/s, loss=12.119/11.887]"
     ]
    },
    {
     "name": "stdout",
     "output_type": "stream",
     "text": [
      "epoch:9\n"
     ]
    },
    {
     "name": "stderr",
     "output_type": "stream",
     "text": [
      "100%|██████████| 250/250 [00:02<00:00, 124.60it/s, loss=11.980/12.255]"
     ]
    },
    {
     "name": "stdout",
     "output_type": "stream",
     "text": [
      "11.980370386810305\n"
     ]
    },
    {
     "name": "stderr",
     "output_type": "stream",
     "text": [
      "\n",
      "  4%|▍         | 11/250 [00:00<00:02, 104.09it/s, loss=11.809/12.035]"
     ]
    },
    {
     "name": "stdout",
     "output_type": "stream",
     "text": [
      "epoch:10\n"
     ]
    },
    {
     "name": "stderr",
     "output_type": "stream",
     "text": [
      "100%|██████████| 250/250 [00:02<00:00, 124.74it/s, loss=11.634/11.531]"
     ]
    },
    {
     "name": "stdout",
     "output_type": "stream",
     "text": [
      "11.63373385154725\n"
     ]
    },
    {
     "name": "stderr",
     "output_type": "stream",
     "text": [
      "\n",
      "  4%|▍         | 10/250 [00:00<00:02, 95.83it/s, loss=11.359/11.429]"
     ]
    },
    {
     "name": "stdout",
     "output_type": "stream",
     "text": [
      "epoch:11\n"
     ]
    },
    {
     "name": "stderr",
     "output_type": "stream",
     "text": [
      "100%|██████████| 250/250 [00:02<00:00, 123.76it/s, loss=11.308/11.089]"
     ]
    },
    {
     "name": "stdout",
     "output_type": "stream",
     "text": [
      "11.307634508590697\n"
     ]
    },
    {
     "name": "stderr",
     "output_type": "stream",
     "text": [
      "\n",
      "  4%|▍         | 10/250 [00:00<00:02, 96.69it/s, loss=11.079/10.694]"
     ]
    },
    {
     "name": "stdout",
     "output_type": "stream",
     "text": [
      "epoch:12\n"
     ]
    },
    {
     "name": "stderr",
     "output_type": "stream",
     "text": [
      "100%|██████████| 250/250 [00:02<00:00, 122.01it/s, loss=11.003/10.600]"
     ]
    },
    {
     "name": "stdout",
     "output_type": "stream",
     "text": [
      "11.00273172706604\n"
     ]
    },
    {
     "name": "stderr",
     "output_type": "stream",
     "text": [
      "\n",
      "  4%|▎         | 9/250 [00:00<00:02, 88.38it/s, loss=10.958/10.756]"
     ]
    },
    {
     "name": "stdout",
     "output_type": "stream",
     "text": [
      "epoch:13\n"
     ]
    },
    {
     "name": "stderr",
     "output_type": "stream",
     "text": [
      "100%|██████████| 250/250 [00:02<00:00, 118.93it/s, loss=10.714/10.592]\n"
     ]
    },
    {
     "name": "stdout",
     "output_type": "stream",
     "text": [
      "10.713924961776744\n"
     ]
    },
    {
     "name": "stderr",
     "output_type": "stream",
     "text": [
      "  4%|▎         | 9/250 [00:00<00:02, 81.64it/s, loss=10.573/10.637]"
     ]
    },
    {
     "name": "stdout",
     "output_type": "stream",
     "text": [
      "epoch:14\n"
     ]
    },
    {
     "name": "stderr",
     "output_type": "stream",
     "text": [
      "100%|██████████| 250/250 [00:02<00:00, 124.93it/s, loss=10.442/10.124]"
     ]
    },
    {
     "name": "stdout",
     "output_type": "stream",
     "text": [
      "10.442297568588257\n"
     ]
    },
    {
     "name": "stderr",
     "output_type": "stream",
     "text": [
      "\n",
      "  4%|▍         | 10/250 [00:00<00:02, 99.20it/s, loss=10.446/10.534]"
     ]
    },
    {
     "name": "stdout",
     "output_type": "stream",
     "text": [
      "epoch:15\n"
     ]
    },
    {
     "name": "stderr",
     "output_type": "stream",
     "text": [
      "100%|██████████| 250/250 [00:01<00:00, 128.71it/s, loss=10.185/9.831]\n"
     ]
    },
    {
     "name": "stdout",
     "output_type": "stream",
     "text": [
      "10.184775684585569\n"
     ]
    },
    {
     "name": "stderr",
     "output_type": "stream",
     "text": [
      "  4%|▎         | 9/250 [00:00<00:02, 89.47it/s, loss=10.111/9.990] "
     ]
    },
    {
     "name": "stdout",
     "output_type": "stream",
     "text": [
      "epoch:16\n"
     ]
    },
    {
     "name": "stderr",
     "output_type": "stream",
     "text": [
      "100%|██████████| 250/250 [00:02<00:00, 122.53it/s, loss=9.944/9.944]"
     ]
    },
    {
     "name": "stdout",
     "output_type": "stream",
     "text": [
      "9.943885758209229\n"
     ]
    },
    {
     "name": "stderr",
     "output_type": "stream",
     "text": [
      "\n",
      "  4%|▍         | 10/250 [00:00<00:02, 96.50it/s, loss=9.654/9.540]"
     ]
    },
    {
     "name": "stdout",
     "output_type": "stream",
     "text": [
      "epoch:17\n"
     ]
    },
    {
     "name": "stderr",
     "output_type": "stream",
     "text": [
      "100%|██████████| 250/250 [00:02<00:00, 122.47it/s, loss=9.716/10.406]"
     ]
    },
    {
     "name": "stdout",
     "output_type": "stream",
     "text": [
      "9.715616761322023\n"
     ]
    },
    {
     "name": "stderr",
     "output_type": "stream",
     "text": [
      "\n",
      "  4%|▍         | 10/250 [00:00<00:02, 96.77it/s, loss=9.718/9.633]"
     ]
    },
    {
     "name": "stdout",
     "output_type": "stream",
     "text": [
      "epoch:18\n"
     ]
    },
    {
     "name": "stderr",
     "output_type": "stream",
     "text": [
      "100%|██████████| 250/250 [00:02<00:00, 129.28it/s, loss=9.499/9.093]\n"
     ]
    },
    {
     "name": "stdout",
     "output_type": "stream",
     "text": [
      "9.498930023040769\n"
     ]
    },
    {
     "name": "stderr",
     "output_type": "stream",
     "text": [
      "  4%|▍         | 10/250 [00:00<00:02, 96.51it/s, loss=9.386/9.264]"
     ]
    },
    {
     "name": "stdout",
     "output_type": "stream",
     "text": [
      "epoch:19\n"
     ]
    },
    {
     "name": "stderr",
     "output_type": "stream",
     "text": [
      "100%|██████████| 250/250 [00:02<00:00, 121.04it/s, loss=9.293/9.107]"
     ]
    },
    {
     "name": "stdout",
     "output_type": "stream",
     "text": [
      "9.293206131553653\n"
     ]
    },
    {
     "name": "stderr",
     "output_type": "stream",
     "text": [
      "\n",
      "  5%|▍         | 12/250 [00:00<00:02, 113.44it/s, loss=9.241/9.941]"
     ]
    },
    {
     "name": "stdout",
     "output_type": "stream",
     "text": [
      "epoch:20\n"
     ]
    },
    {
     "name": "stderr",
     "output_type": "stream",
     "text": [
      "100%|██████████| 250/250 [00:02<00:00, 124.80it/s, loss=9.098/8.978]\n"
     ]
    },
    {
     "name": "stdout",
     "output_type": "stream",
     "text": [
      "9.097881811218265\n"
     ]
    },
    {
     "name": "stderr",
     "output_type": "stream",
     "text": [
      "  4%|▎         | 9/250 [00:00<00:02, 87.77it/s, loss=8.942/8.792]"
     ]
    },
    {
     "name": "stdout",
     "output_type": "stream",
     "text": [
      "epoch:21\n"
     ]
    },
    {
     "name": "stderr",
     "output_type": "stream",
     "text": [
      "100%|██████████| 250/250 [00:02<00:00, 118.94it/s, loss=8.915/9.348]"
     ]
    },
    {
     "name": "stdout",
     "output_type": "stream",
     "text": [
      "8.914557628631597\n"
     ]
    },
    {
     "name": "stderr",
     "output_type": "stream",
     "text": [
      "\n",
      "  5%|▍         | 12/250 [00:00<00:01, 119.21it/s, loss=8.760/8.699]"
     ]
    },
    {
     "name": "stdout",
     "output_type": "stream",
     "text": [
      "epoch:22\n"
     ]
    },
    {
     "name": "stderr",
     "output_type": "stream",
     "text": [
      "100%|██████████| 250/250 [00:02<00:00, 124.82it/s, loss=8.740/9.115]\n"
     ]
    },
    {
     "name": "stdout",
     "output_type": "stream",
     "text": [
      "8.740255799903867\n"
     ]
    },
    {
     "name": "stderr",
     "output_type": "stream",
     "text": [
      "  5%|▍         | 12/250 [00:00<00:02, 117.99it/s, loss=8.721/8.665]"
     ]
    },
    {
     "name": "stdout",
     "output_type": "stream",
     "text": [
      "epoch:23\n"
     ]
    },
    {
     "name": "stderr",
     "output_type": "stream",
     "text": [
      "100%|██████████| 250/250 [00:01<00:00, 128.88it/s, loss=8.573/8.085]"
     ]
    },
    {
     "name": "stdout",
     "output_type": "stream",
     "text": [
      "8.57292573589325\n"
     ]
    },
    {
     "name": "stderr",
     "output_type": "stream",
     "text": [
      "\n",
      "  4%|▍         | 10/250 [00:00<00:02, 96.67it/s, loss=8.428/8.704]"
     ]
    },
    {
     "name": "stdout",
     "output_type": "stream",
     "text": [
      "epoch:24\n"
     ]
    },
    {
     "name": "stderr",
     "output_type": "stream",
     "text": [
      "100%|██████████| 250/250 [00:02<00:00, 120.76it/s, loss=8.417/8.392]\n"
     ]
    },
    {
     "name": "stdout",
     "output_type": "stream",
     "text": [
      "8.416777057037352\n"
     ]
    },
    {
     "name": "stderr",
     "output_type": "stream",
     "text": [
      "100%|██████████| 50/50 [00:00<00:00, 121.33it/s]\n"
     ]
    },
    {
     "name": "stdout",
     "output_type": "stream",
     "text": [
      "lr:0.001; reg:0; acc:0.3501\n"
     ]
    },
    {
     "name": "stderr",
     "output_type": "stream",
     "text": [
      "  4%|▎         | 9/250 [00:00<00:02, 84.94it/s, loss=18.988/18.893]"
     ]
    },
    {
     "name": "stdout",
     "output_type": "stream",
     "text": [
      "epoch:0\n"
     ]
    },
    {
     "name": "stderr",
     "output_type": "stream",
     "text": [
      "100%|██████████| 250/250 [00:02<00:00, 117.27it/s, loss=17.775/17.542]"
     ]
    },
    {
     "name": "stdout",
     "output_type": "stream",
     "text": [
      "17.775390431213378\n"
     ]
    },
    {
     "name": "stderr",
     "output_type": "stream",
     "text": [
      "\n",
      "  4%|▎         | 9/250 [00:00<00:02, 85.96it/s, loss=16.622/16.472]"
     ]
    },
    {
     "name": "stdout",
     "output_type": "stream",
     "text": [
      "epoch:1\n"
     ]
    },
    {
     "name": "stderr",
     "output_type": "stream",
     "text": [
      "100%|██████████| 250/250 [00:02<00:00, 118.30it/s, loss=16.190/15.924]\n"
     ]
    },
    {
     "name": "stdout",
     "output_type": "stream",
     "text": [
      "16.19020367370605\n"
     ]
    },
    {
     "name": "stderr",
     "output_type": "stream",
     "text": [
      "  4%|▍         | 11/250 [00:00<00:02, 106.08it/s, loss=15.618/15.936]"
     ]
    },
    {
     "name": "stdout",
     "output_type": "stream",
     "text": [
      "epoch:2\n"
     ]
    },
    {
     "name": "stderr",
     "output_type": "stream",
     "text": [
      "100%|██████████| 250/250 [00:02<00:00, 123.71it/s, loss=15.262/15.129]"
     ]
    },
    {
     "name": "stdout",
     "output_type": "stream",
     "text": [
      "15.26187125106812\n"
     ]
    },
    {
     "name": "stderr",
     "output_type": "stream",
     "text": [
      "\n",
      "  4%|▍         | 11/250 [00:00<00:02, 107.87it/s, loss=14.828/14.494]"
     ]
    },
    {
     "name": "stdout",
     "output_type": "stream",
     "text": [
      "epoch:3\n"
     ]
    },
    {
     "name": "stderr",
     "output_type": "stream",
     "text": [
      "100%|██████████| 250/250 [00:01<00:00, 127.16it/s, loss=14.572/14.235]"
     ]
    },
    {
     "name": "stdout",
     "output_type": "stream",
     "text": [
      "14.572403966064465\n"
     ]
    },
    {
     "name": "stderr",
     "output_type": "stream",
     "text": [
      "\n",
      "  4%|▍         | 10/250 [00:00<00:02, 96.81it/s, loss=14.243/14.082]"
     ]
    },
    {
     "name": "stdout",
     "output_type": "stream",
     "text": [
      "epoch:4\n"
     ]
    },
    {
     "name": "stderr",
     "output_type": "stream",
     "text": [
      "100%|██████████| 250/250 [00:02<00:00, 116.12it/s, loss=13.995/13.657]"
     ]
    },
    {
     "name": "stdout",
     "output_type": "stream",
     "text": [
      "13.995466187973019\n"
     ]
    },
    {
     "name": "stderr",
     "output_type": "stream",
     "text": [
      "\n",
      "  4%|▍         | 10/250 [00:00<00:02, 99.62it/s, loss=13.804/13.883]"
     ]
    },
    {
     "name": "stdout",
     "output_type": "stream",
     "text": [
      "epoch:5\n"
     ]
    },
    {
     "name": "stderr",
     "output_type": "stream",
     "text": [
      "100%|██████████| 250/250 [00:02<00:00, 127.29it/s, loss=13.488/13.384]\n"
     ]
    },
    {
     "name": "stdout",
     "output_type": "stream",
     "text": [
      "13.487838833770759\n"
     ]
    },
    {
     "name": "stderr",
     "output_type": "stream",
     "text": [
      "  4%|▎         | 9/250 [00:00<00:02, 88.85it/s, loss=13.183/13.052]"
     ]
    },
    {
     "name": "stdout",
     "output_type": "stream",
     "text": [
      "epoch:6\n"
     ]
    },
    {
     "name": "stderr",
     "output_type": "stream",
     "text": [
      "100%|██████████| 250/250 [00:02<00:00, 122.85it/s, loss=13.028/12.996]\n"
     ]
    },
    {
     "name": "stdout",
     "output_type": "stream",
     "text": [
      "13.028180516281113\n"
     ]
    },
    {
     "name": "stderr",
     "output_type": "stream",
     "text": [
      "  5%|▍         | 12/250 [00:00<00:02, 116.85it/s, loss=12.787/12.774]"
     ]
    },
    {
     "name": "stdout",
     "output_type": "stream",
     "text": [
      "epoch:7\n"
     ]
    },
    {
     "name": "stderr",
     "output_type": "stream",
     "text": [
      "100%|██████████| 250/250 [00:01<00:00, 125.20it/s, loss=12.606/12.134]"
     ]
    },
    {
     "name": "stdout",
     "output_type": "stream",
     "text": [
      "12.6064019708252\n"
     ]
    },
    {
     "name": "stderr",
     "output_type": "stream",
     "text": [
      "\n",
      "  4%|▍         | 10/250 [00:00<00:02, 96.90it/s, loss=12.404/11.927]"
     ]
    },
    {
     "name": "stdout",
     "output_type": "stream",
     "text": [
      "epoch:8\n"
     ]
    },
    {
     "name": "stderr",
     "output_type": "stream",
     "text": [
      "100%|██████████| 250/250 [00:01<00:00, 126.26it/s, loss=12.216/11.938]"
     ]
    },
    {
     "name": "stdout",
     "output_type": "stream",
     "text": [
      "12.215849483184806\n"
     ]
    },
    {
     "name": "stderr",
     "output_type": "stream",
     "text": [
      "\n",
      "  4%|▍         | 10/250 [00:00<00:02, 98.63it/s, loss=11.977/12.128]"
     ]
    },
    {
     "name": "stdout",
     "output_type": "stream",
     "text": [
      "epoch:9\n"
     ]
    },
    {
     "name": "stderr",
     "output_type": "stream",
     "text": [
      "100%|██████████| 250/250 [00:02<00:00, 121.49it/s, loss=11.853/11.238]"
     ]
    },
    {
     "name": "stdout",
     "output_type": "stream",
     "text": [
      "11.852835023651112\n"
     ]
    },
    {
     "name": "stderr",
     "output_type": "stream",
     "text": [
      "\n",
      "  4%|▍         | 10/250 [00:00<00:02, 94.47it/s, loss=11.711/11.513]"
     ]
    },
    {
     "name": "stdout",
     "output_type": "stream",
     "text": [
      "epoch:10\n"
     ]
    },
    {
     "name": "stderr",
     "output_type": "stream",
     "text": [
      "100%|██████████| 250/250 [00:02<00:00, 121.52it/s, loss=11.511/11.363]"
     ]
    },
    {
     "name": "stdout",
     "output_type": "stream",
     "text": [
      "11.51145655311584\n"
     ]
    },
    {
     "name": "stderr",
     "output_type": "stream",
     "text": [
      "\n",
      "  4%|▍         | 10/250 [00:00<00:02, 96.40it/s, loss=11.231/11.116]"
     ]
    },
    {
     "name": "stdout",
     "output_type": "stream",
     "text": [
      "epoch:11\n"
     ]
    },
    {
     "name": "stderr",
     "output_type": "stream",
     "text": [
      "100%|██████████| 250/250 [00:02<00:00, 123.14it/s, loss=11.195/11.005]"
     ]
    },
    {
     "name": "stdout",
     "output_type": "stream",
     "text": [
      "11.194531906051637\n"
     ]
    },
    {
     "name": "stderr",
     "output_type": "stream",
     "text": [
      "\n",
      "  4%|▍         | 10/250 [00:00<00:02, 95.89it/s, loss=11.069/10.912]"
     ]
    },
    {
     "name": "stdout",
     "output_type": "stream",
     "text": [
      "epoch:12\n"
     ]
    },
    {
     "name": "stderr",
     "output_type": "stream",
     "text": [
      "100%|██████████| 250/250 [00:02<00:00, 122.63it/s, loss=10.893/10.532]"
     ]
    },
    {
     "name": "stdout",
     "output_type": "stream",
     "text": [
      "10.893212919616692\n"
     ]
    },
    {
     "name": "stderr",
     "output_type": "stream",
     "text": [
      "\n",
      "  4%|▍         | 11/250 [00:00<00:02, 108.80it/s, loss=10.721/10.951]"
     ]
    },
    {
     "name": "stdout",
     "output_type": "stream",
     "text": [
      "epoch:13\n"
     ]
    },
    {
     "name": "stderr",
     "output_type": "stream",
     "text": [
      "100%|██████████| 250/250 [00:02<00:00, 123.11it/s, loss=10.611/10.821]"
     ]
    },
    {
     "name": "stdout",
     "output_type": "stream",
     "text": [
      "10.611330493316649\n"
     ]
    },
    {
     "name": "stderr",
     "output_type": "stream",
     "text": [
      "\n",
      "  4%|▎         | 9/250 [00:00<00:03, 78.83it/s, loss=10.360/10.229]"
     ]
    },
    {
     "name": "stdout",
     "output_type": "stream",
     "text": [
      "epoch:14\n"
     ]
    },
    {
     "name": "stderr",
     "output_type": "stream",
     "text": [
      " 14%|█▎        | 34/250 [00:00<00:02, 95.30it/s, loss=10.378/10.665]"
     ]
    }
   ],
   "source": [
    "lrs = [1e-2, 1e-3, 1e-4, 1e-5]\n",
    "reg_strs = [0, 1, 10, 100, 1000]\n",
    "\n",
    "result = {}\n",
    "\n",
    "best_lr = None\n",
    "best_reg = None\n",
    "best_svm = None\n",
    "best_acc = -1\n",
    "\n",
    "for lr in lrs:\n",
    "    for reg in reg_strs:\n",
    "        svmEr = train(lr, reg, 25)\n",
    "        acc = evaluate(svmEr)\n",
    "        print(\"lr:{}; reg:{}; acc:{}\".format(lr, reg, acc))\n",
    "        if acc > best_acc:\n",
    "            best_lr = lr\n",
    "            best_reg = reg\n",
    "            best_svm = svmEr\n",
    "        result[(lr, reg)] = acc\n",
    "print(\"the best: lr:{}; reg:{}; acc:{}\".format(best_lr, best_reg, best_acc))"
   ]
  },
  {
   "cell_type": "code",
   "execution_count": null,
   "metadata": {},
   "outputs": [],
   "source": []
  }
 ],
 "metadata": {
  "kernelspec": {
   "display_name": "Python 3",
   "language": "python",
   "name": "python3"
  },
  "language_info": {
   "codemirror_mode": {
    "name": "ipython",
    "version": 3
   },
   "file_extension": ".py",
   "mimetype": "text/x-python",
   "name": "python",
   "nbconvert_exporter": "python",
   "pygments_lexer": "ipython3",
   "version": "3.6.8"
  }
 },
 "nbformat": 4,
 "nbformat_minor": 2
}
